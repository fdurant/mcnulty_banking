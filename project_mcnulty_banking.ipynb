{
 "metadata": {
  "name": "",
  "signature": "sha256:d0d063caef53323fc9990fa5de4367c2b5fd8a8bbd36486912d431030fb3c6f5"
 },
 "nbformat": 3,
 "nbformat_minor": 0,
 "worksheets": [
  {
   "cells": [
    {
     "cell_type": "heading",
     "level": 1,
     "metadata": {},
     "source": [
      "Project McNulty - Banking"
     ]
    },
    {
     "cell_type": "heading",
     "level": 2,
     "metadata": {},
     "source": [
      "Business goals"
     ]
    },
    {
     "cell_type": "markdown",
     "metadata": {},
     "source": [
      "From a database containing 41K records representing customer calls, build a model capable of:\n",
      "\n",
      "- predicting which customer will buy a term deposit product, and which will not\n",
      "\n",
      "- rank customers according to their propensity to buy the product\n",
      "\n",
      "To evaluate performance, we aim at producing, for each method employed:\n",
      "\n",
      "- an ROC curve\n",
      "\n",
      "- a LIFT curve\n",
      "\n",
      "This will allow for a maximum comparison with the results published by previous researchers on the same data:\n",
      "\n",
      "- Chakarin Vajiramedhin and Anirut Suebsing: [Feature Selection with Data Balancing for Prediction of Bank Telemarketing](http://www.m-hikari.com/ams/ams-2014/ams-113-116-2014/vajiramedhinAMS113-116-2014.pdf)\n",
      "\n",
      "- S&eacute;rgio Moro, Paulo Cortez and Paulo Rita: [A Data-Driven Approach to Predict the Success of Bank Telemarketing](http://repositorium.sdum.uminho.pt/xmlui/bitstream/handle/1822/30994/dss-v3.pdf?sequence=1)"
     ]
    },
    {
     "cell_type": "heading",
     "level": 2,
     "metadata": {},
     "source": [
      "Additional learning goals"
     ]
    },
    {
     "cell_type": "markdown",
     "metadata": {},
     "source": [
      "- maximally use D3.js and interactive visualizations\n",
      "\n",
      "- use a shared MySQL database as the data source"
     ]
    },
    {
     "cell_type": "heading",
     "level": 2,
     "metadata": {},
     "source": [
      "Data and reference material"
     ]
    },
    {
     "cell_type": "markdown",
     "metadata": {},
     "source": [
      "[Bank Marketing data set](https://archive.ics.uci.edu/ml/datasets/Bank+Marketing)"
     ]
    },
    {
     "cell_type": "heading",
     "level": 2,
     "metadata": {},
     "source": [
      "Code"
     ]
    },
    {
     "cell_type": "markdown",
     "metadata": {},
     "source": [
      "[Project mcnulty_banking at GitHub](https://github.com/fdurant/mcnulty_banking)"
     ]
    },
    {
     "cell_type": "heading",
     "level": 1,
     "metadata": {},
     "source": [
      "Phase 1: Data preparation & loading"
     ]
    },
    {
     "cell_type": "markdown",
     "metadata": {},
     "source": [
      "We use the [bank-additional.zip](https://archive.ics.uci.edu/ml/machine-learning-databases/00222/bank-additional.zip) data set, unchanged. For pedagogical reasons, we were asked to first load the data in a MySQL database running on a virtual server at [DigitalOcean](https://www.digitalocean.com). This involved writing a [DB schema](https://github.com/fdurant/mcnulty_banking/blob/master/data/bank-additional/bank-additional-schema.sql) as well as a [load command](https://github.com/fdurant/mcnulty_banking/blob/master/data/bank-additional/bank-additional-load-data.sql) in SQL.\n",
      "\n",
      "Let's check if the data are readable from there:"
     ]
    },
    {
     "cell_type": "code",
     "collapsed": false,
     "input": [
      "import pymysql\n",
      "import credentials\n",
      "\n",
      "db = pymysql.connect(host=credentials.host,\n",
      "                     user=credentials.user,\n",
      "                     passwd=credentials.password,\n",
      "                     db='bank')\n",
      "\n",
      "cursor = db.cursor()\n",
      "\n",
      "cursor.execute(\"SELECT * FROM bank_full LIMIT 3\")\n",
      "for i in cursor.fetchall():\n",
      "    print i\n",
      "\n",
      "cursor.close()\n",
      "db.close()"
     ],
     "language": "python",
     "metadata": {},
     "outputs": [
      {
       "output_type": "stream",
       "stream": "stdout",
       "text": [
        "(56, 'housemaid', 'married', 'basic.4y', 'no', 'no', 'no', 'telephone', 'may', 'mon', 261, 1, 999, 0, 'nonexistent', 1.1, 93.994, -36.4, 4.857, 5191.0, 'no')\n",
        "(57, 'services', 'married', 'high.school', 'unknown', 'no', 'no', 'telephone', 'may', 'mon', 149, 1, 999, 0, 'nonexistent', 1.1, 93.994, -36.4, 4.857, 5191.0, 'no')\n",
        "(37, 'services', 'married', 'high.school', 'no', 'yes', 'no', 'telephone', 'may', 'mon', 226, 1, 999, 0, 'nonexistent', 1.1, 93.994, -36.4, 4.857, 5191.0, 'no')\n"
       ]
      }
     ],
     "prompt_number": 1
    },
    {
     "cell_type": "raw",
     "metadata": {},
     "source": [
      "Now that we know the database connection is up and running, let's read our data directly into a DataFrame:"
     ]
    },
    {
     "cell_type": "code",
     "collapsed": false,
     "input": [
      "import pandas.io.sql as psql\n",
      "db = pymysql.connect(host=credentials.host,\n",
      "                     user=credentials.user,\n",
      "                     passwd=credentials.password,\n",
      "                     db='bank')\n",
      "query = \"SELECT * FROM bank_full;\"\n",
      "bankDF = psql.read_sql(query, con=db)\n",
      "db.close()\n",
      "print \"Number of database records read: %d\" % len(bankDF)\n",
      "print bankDF.columns\n",
      "bankDF.head()"
     ],
     "language": "python",
     "metadata": {},
     "outputs": [
      {
       "output_type": "stream",
       "stream": "stdout",
       "text": [
        "Number of database records read: 41188\n",
        "Index([u'age', u'job', u'marital', u'education', u'bank_def', u'housing', u'loan', u'contact', u'contact_month', u'day_of_week', u'duration', u'campaign', u'pdays', u'previous', u'poutcome', u'emp_var_rate', u'cons_price_idx', u'cons_conf_idx', u'euribor3m', u'nr_employed', u'y'], dtype='object')\n"
       ]
      },
      {
       "html": [
        "<div style=\"max-height:1000px;max-width:1500px;overflow:auto;\">\n",
        "<table border=\"1\" class=\"dataframe\">\n",
        "  <thead>\n",
        "    <tr style=\"text-align: right;\">\n",
        "      <th></th>\n",
        "      <th>age</th>\n",
        "      <th>job</th>\n",
        "      <th>marital</th>\n",
        "      <th>education</th>\n",
        "      <th>bank_def</th>\n",
        "      <th>housing</th>\n",
        "      <th>loan</th>\n",
        "      <th>contact</th>\n",
        "      <th>contact_month</th>\n",
        "      <th>day_of_week</th>\n",
        "      <th>...</th>\n",
        "      <th>campaign</th>\n",
        "      <th>pdays</th>\n",
        "      <th>previous</th>\n",
        "      <th>poutcome</th>\n",
        "      <th>emp_var_rate</th>\n",
        "      <th>cons_price_idx</th>\n",
        "      <th>cons_conf_idx</th>\n",
        "      <th>euribor3m</th>\n",
        "      <th>nr_employed</th>\n",
        "      <th>y</th>\n",
        "    </tr>\n",
        "  </thead>\n",
        "  <tbody>\n",
        "    <tr>\n",
        "      <th>0</th>\n",
        "      <td> 56</td>\n",
        "      <td> housemaid</td>\n",
        "      <td> married</td>\n",
        "      <td>    basic.4y</td>\n",
        "      <td>      no</td>\n",
        "      <td>  no</td>\n",
        "      <td>  no</td>\n",
        "      <td> telephone</td>\n",
        "      <td> may</td>\n",
        "      <td> mon</td>\n",
        "      <td>...</td>\n",
        "      <td> 1</td>\n",
        "      <td> 999</td>\n",
        "      <td> 0</td>\n",
        "      <td> nonexistent</td>\n",
        "      <td> 1.1</td>\n",
        "      <td> 93.994</td>\n",
        "      <td>-36.4</td>\n",
        "      <td> 4.857</td>\n",
        "      <td> 5191</td>\n",
        "      <td> no</td>\n",
        "    </tr>\n",
        "    <tr>\n",
        "      <th>1</th>\n",
        "      <td> 57</td>\n",
        "      <td>  services</td>\n",
        "      <td> married</td>\n",
        "      <td> high.school</td>\n",
        "      <td> unknown</td>\n",
        "      <td>  no</td>\n",
        "      <td>  no</td>\n",
        "      <td> telephone</td>\n",
        "      <td> may</td>\n",
        "      <td> mon</td>\n",
        "      <td>...</td>\n",
        "      <td> 1</td>\n",
        "      <td> 999</td>\n",
        "      <td> 0</td>\n",
        "      <td> nonexistent</td>\n",
        "      <td> 1.1</td>\n",
        "      <td> 93.994</td>\n",
        "      <td>-36.4</td>\n",
        "      <td> 4.857</td>\n",
        "      <td> 5191</td>\n",
        "      <td> no</td>\n",
        "    </tr>\n",
        "    <tr>\n",
        "      <th>2</th>\n",
        "      <td> 37</td>\n",
        "      <td>  services</td>\n",
        "      <td> married</td>\n",
        "      <td> high.school</td>\n",
        "      <td>      no</td>\n",
        "      <td> yes</td>\n",
        "      <td>  no</td>\n",
        "      <td> telephone</td>\n",
        "      <td> may</td>\n",
        "      <td> mon</td>\n",
        "      <td>...</td>\n",
        "      <td> 1</td>\n",
        "      <td> 999</td>\n",
        "      <td> 0</td>\n",
        "      <td> nonexistent</td>\n",
        "      <td> 1.1</td>\n",
        "      <td> 93.994</td>\n",
        "      <td>-36.4</td>\n",
        "      <td> 4.857</td>\n",
        "      <td> 5191</td>\n",
        "      <td> no</td>\n",
        "    </tr>\n",
        "    <tr>\n",
        "      <th>3</th>\n",
        "      <td> 40</td>\n",
        "      <td>    admin.</td>\n",
        "      <td> married</td>\n",
        "      <td>    basic.6y</td>\n",
        "      <td>      no</td>\n",
        "      <td>  no</td>\n",
        "      <td>  no</td>\n",
        "      <td> telephone</td>\n",
        "      <td> may</td>\n",
        "      <td> mon</td>\n",
        "      <td>...</td>\n",
        "      <td> 1</td>\n",
        "      <td> 999</td>\n",
        "      <td> 0</td>\n",
        "      <td> nonexistent</td>\n",
        "      <td> 1.1</td>\n",
        "      <td> 93.994</td>\n",
        "      <td>-36.4</td>\n",
        "      <td> 4.857</td>\n",
        "      <td> 5191</td>\n",
        "      <td> no</td>\n",
        "    </tr>\n",
        "    <tr>\n",
        "      <th>4</th>\n",
        "      <td> 56</td>\n",
        "      <td>  services</td>\n",
        "      <td> married</td>\n",
        "      <td> high.school</td>\n",
        "      <td>      no</td>\n",
        "      <td>  no</td>\n",
        "      <td> yes</td>\n",
        "      <td> telephone</td>\n",
        "      <td> may</td>\n",
        "      <td> mon</td>\n",
        "      <td>...</td>\n",
        "      <td> 1</td>\n",
        "      <td> 999</td>\n",
        "      <td> 0</td>\n",
        "      <td> nonexistent</td>\n",
        "      <td> 1.1</td>\n",
        "      <td> 93.994</td>\n",
        "      <td>-36.4</td>\n",
        "      <td> 4.857</td>\n",
        "      <td> 5191</td>\n",
        "      <td> no</td>\n",
        "    </tr>\n",
        "  </tbody>\n",
        "</table>\n",
        "<p>5 rows \u00d7 21 columns</p>\n",
        "</div>"
       ],
       "metadata": {},
       "output_type": "pyout",
       "prompt_number": 2,
       "text": [
        "   age        job  marital    education bank_def housing loan    contact  \\\n",
        "0   56  housemaid  married     basic.4y       no      no   no  telephone   \n",
        "1   57   services  married  high.school  unknown      no   no  telephone   \n",
        "2   37   services  married  high.school       no     yes   no  telephone   \n",
        "3   40     admin.  married     basic.6y       no      no   no  telephone   \n",
        "4   56   services  married  high.school       no      no  yes  telephone   \n",
        "\n",
        "  contact_month day_of_week ...  campaign  pdays  previous     poutcome  \\\n",
        "0           may         mon ...         1    999         0  nonexistent   \n",
        "1           may         mon ...         1    999         0  nonexistent   \n",
        "2           may         mon ...         1    999         0  nonexistent   \n",
        "3           may         mon ...         1    999         0  nonexistent   \n",
        "4           may         mon ...         1    999         0  nonexistent   \n",
        "\n",
        "  emp_var_rate  cons_price_idx  cons_conf_idx  euribor3m  nr_employed   y  \n",
        "0          1.1          93.994          -36.4      4.857         5191  no  \n",
        "1          1.1          93.994          -36.4      4.857         5191  no  \n",
        "2          1.1          93.994          -36.4      4.857         5191  no  \n",
        "3          1.1          93.994          -36.4      4.857         5191  no  \n",
        "4          1.1          93.994          -36.4      4.857         5191  no  \n",
        "\n",
        "[5 rows x 21 columns]"
       ]
      }
     ],
     "prompt_number": 2
    },
    {
     "cell_type": "markdown",
     "metadata": {},
     "source": [
      "Most of our models can't handle the categorical fields, so our next step is to convert them to dummy numerical variables."
     ]
    },
    {
     "cell_type": "code",
     "collapsed": false,
     "input": [
      "import pandas as pd\n",
      "import numpy as np\n",
      "tmpDF = bankDF.copy()\n",
      "tmpDF.y.replace(to_replace=['yes','no'], value=[1,0], inplace=True)\n",
      "categoricalField2prefix = {'job':'job',\n",
      "                           'marital':'mar',\n",
      "                           'education':'ed',\n",
      "                           'bank_def':'def',\n",
      "                           'housing':'h',\n",
      "                           'loan':'loan',\n",
      "                           'contact':'cntct',\n",
      "                           'contact_month':'cntct',\n",
      "                           'day_of_week':'cntct',\n",
      "                           'poutcome':'pout',\n",
      "                           }\n",
      "# Convert all categorical fields in dummy numerical ones\n",
      "for (categoricalField, prefix) in categoricalField2prefix.iteritems():\n",
      "    tmpDF = pd.concat([tmpDF, pd.get_dummies(tmpDF[categoricalField], prefix=prefix)], axis=1)\n",
      "\n",
      "# and delete the categorical fields\n",
      "for (categoricalField,_) in categoricalField2prefix.iteritems():\n",
      "    tmpDF.drop(categoricalField, axis=1, inplace=True)\n",
      "bankDF2 = tmpDF.copy()\n",
      "print bankDF2.columns\n",
      "bankDF2.head()"
     ],
     "language": "python",
     "metadata": {},
     "outputs": [
      {
       "output_type": "stream",
       "stream": "stdout",
       "text": [
        "Index([u'age', u'duration', u'campaign', u'pdays', u'previous', u'emp_var_rate', u'cons_price_idx', u'cons_conf_idx', u'euribor3m', u'nr_employed', u'y', u'job_admin.', u'job_blue-collar', u'job_entrepreneur', u'job_housemaid', u'job_management', u'job_retired', u'job_self-employed', u'job_services', u'job_student', u'job_technician', u'job_unemployed', u'job_unknown', u'cntct_cellular', u'cntct_telephone', u'pout_failure', u'pout_nonexistent', u'pout_success', u'cntct_fri', u'cntct_mon', u'cntct_thu', u'cntct_tue', u'cntct_wed', u'cntct_apr', u'cntct_aug', u'cntct_dec', u'cntct_jul', u'cntct_jun', u'cntct_mar', u'cntct_may', u'cntct_nov', u'cntct_oct', u'cntct_sep', u'h_no', u'h_unknown', u'h_yes', u'ed_basic.4y', u'ed_basic.6y', u'ed_basic.9y', u'ed_high.school', u'ed_illiterate', u'ed_professional.course', u'ed_university.degree', u'ed_unknown', u'loan_no', u'loan_unknown', u'loan_yes', u'def_no', u'def_unknown', u'def_yes', u'mar_divorced', u'mar_married', u'mar_single', u'mar_unknown'], dtype='object')\n"
       ]
      },
      {
       "html": [
        "<div style=\"max-height:1000px;max-width:1500px;overflow:auto;\">\n",
        "<table border=\"1\" class=\"dataframe\">\n",
        "  <thead>\n",
        "    <tr style=\"text-align: right;\">\n",
        "      <th></th>\n",
        "      <th>age</th>\n",
        "      <th>duration</th>\n",
        "      <th>campaign</th>\n",
        "      <th>pdays</th>\n",
        "      <th>previous</th>\n",
        "      <th>emp_var_rate</th>\n",
        "      <th>cons_price_idx</th>\n",
        "      <th>cons_conf_idx</th>\n",
        "      <th>euribor3m</th>\n",
        "      <th>nr_employed</th>\n",
        "      <th>...</th>\n",
        "      <th>loan_no</th>\n",
        "      <th>loan_unknown</th>\n",
        "      <th>loan_yes</th>\n",
        "      <th>def_no</th>\n",
        "      <th>def_unknown</th>\n",
        "      <th>def_yes</th>\n",
        "      <th>mar_divorced</th>\n",
        "      <th>mar_married</th>\n",
        "      <th>mar_single</th>\n",
        "      <th>mar_unknown</th>\n",
        "    </tr>\n",
        "  </thead>\n",
        "  <tbody>\n",
        "    <tr>\n",
        "      <th>0</th>\n",
        "      <td> 56</td>\n",
        "      <td> 261</td>\n",
        "      <td> 1</td>\n",
        "      <td> 999</td>\n",
        "      <td> 0</td>\n",
        "      <td> 1.1</td>\n",
        "      <td> 93.994</td>\n",
        "      <td>-36.4</td>\n",
        "      <td> 4.857</td>\n",
        "      <td> 5191</td>\n",
        "      <td>...</td>\n",
        "      <td> 1</td>\n",
        "      <td> 0</td>\n",
        "      <td> 0</td>\n",
        "      <td> 1</td>\n",
        "      <td> 0</td>\n",
        "      <td> 0</td>\n",
        "      <td> 0</td>\n",
        "      <td> 1</td>\n",
        "      <td> 0</td>\n",
        "      <td> 0</td>\n",
        "    </tr>\n",
        "    <tr>\n",
        "      <th>1</th>\n",
        "      <td> 57</td>\n",
        "      <td> 149</td>\n",
        "      <td> 1</td>\n",
        "      <td> 999</td>\n",
        "      <td> 0</td>\n",
        "      <td> 1.1</td>\n",
        "      <td> 93.994</td>\n",
        "      <td>-36.4</td>\n",
        "      <td> 4.857</td>\n",
        "      <td> 5191</td>\n",
        "      <td>...</td>\n",
        "      <td> 1</td>\n",
        "      <td> 0</td>\n",
        "      <td> 0</td>\n",
        "      <td> 0</td>\n",
        "      <td> 1</td>\n",
        "      <td> 0</td>\n",
        "      <td> 0</td>\n",
        "      <td> 1</td>\n",
        "      <td> 0</td>\n",
        "      <td> 0</td>\n",
        "    </tr>\n",
        "    <tr>\n",
        "      <th>2</th>\n",
        "      <td> 37</td>\n",
        "      <td> 226</td>\n",
        "      <td> 1</td>\n",
        "      <td> 999</td>\n",
        "      <td> 0</td>\n",
        "      <td> 1.1</td>\n",
        "      <td> 93.994</td>\n",
        "      <td>-36.4</td>\n",
        "      <td> 4.857</td>\n",
        "      <td> 5191</td>\n",
        "      <td>...</td>\n",
        "      <td> 1</td>\n",
        "      <td> 0</td>\n",
        "      <td> 0</td>\n",
        "      <td> 1</td>\n",
        "      <td> 0</td>\n",
        "      <td> 0</td>\n",
        "      <td> 0</td>\n",
        "      <td> 1</td>\n",
        "      <td> 0</td>\n",
        "      <td> 0</td>\n",
        "    </tr>\n",
        "    <tr>\n",
        "      <th>3</th>\n",
        "      <td> 40</td>\n",
        "      <td> 151</td>\n",
        "      <td> 1</td>\n",
        "      <td> 999</td>\n",
        "      <td> 0</td>\n",
        "      <td> 1.1</td>\n",
        "      <td> 93.994</td>\n",
        "      <td>-36.4</td>\n",
        "      <td> 4.857</td>\n",
        "      <td> 5191</td>\n",
        "      <td>...</td>\n",
        "      <td> 1</td>\n",
        "      <td> 0</td>\n",
        "      <td> 0</td>\n",
        "      <td> 1</td>\n",
        "      <td> 0</td>\n",
        "      <td> 0</td>\n",
        "      <td> 0</td>\n",
        "      <td> 1</td>\n",
        "      <td> 0</td>\n",
        "      <td> 0</td>\n",
        "    </tr>\n",
        "    <tr>\n",
        "      <th>4</th>\n",
        "      <td> 56</td>\n",
        "      <td> 307</td>\n",
        "      <td> 1</td>\n",
        "      <td> 999</td>\n",
        "      <td> 0</td>\n",
        "      <td> 1.1</td>\n",
        "      <td> 93.994</td>\n",
        "      <td>-36.4</td>\n",
        "      <td> 4.857</td>\n",
        "      <td> 5191</td>\n",
        "      <td>...</td>\n",
        "      <td> 0</td>\n",
        "      <td> 0</td>\n",
        "      <td> 1</td>\n",
        "      <td> 1</td>\n",
        "      <td> 0</td>\n",
        "      <td> 0</td>\n",
        "      <td> 0</td>\n",
        "      <td> 1</td>\n",
        "      <td> 0</td>\n",
        "      <td> 0</td>\n",
        "    </tr>\n",
        "  </tbody>\n",
        "</table>\n",
        "<p>5 rows \u00d7 64 columns</p>\n",
        "</div>"
       ],
       "metadata": {},
       "output_type": "pyout",
       "prompt_number": 3,
       "text": [
        "   age  duration  campaign  pdays  previous  emp_var_rate  cons_price_idx  \\\n",
        "0   56       261         1    999         0           1.1          93.994   \n",
        "1   57       149         1    999         0           1.1          93.994   \n",
        "2   37       226         1    999         0           1.1          93.994   \n",
        "3   40       151         1    999         0           1.1          93.994   \n",
        "4   56       307         1    999         0           1.1          93.994   \n",
        "\n",
        "   cons_conf_idx  euribor3m  nr_employed     ...       loan_no  loan_unknown  \\\n",
        "0          -36.4      4.857         5191     ...             1             0   \n",
        "1          -36.4      4.857         5191     ...             1             0   \n",
        "2          -36.4      4.857         5191     ...             1             0   \n",
        "3          -36.4      4.857         5191     ...             1             0   \n",
        "4          -36.4      4.857         5191     ...             0             0   \n",
        "\n",
        "   loan_yes  def_no  def_unknown  def_yes  mar_divorced  mar_married  \\\n",
        "0         0       1            0        0             0            1   \n",
        "1         0       0            1        0             0            1   \n",
        "2         0       1            0        0             0            1   \n",
        "3         0       1            0        0             0            1   \n",
        "4         1       1            0        0             0            1   \n",
        "\n",
        "   mar_single  mar_unknown  \n",
        "0           0            0  \n",
        "1           0            0  \n",
        "2           0            0  \n",
        "3           0            0  \n",
        "4           0            0  \n",
        "\n",
        "[5 rows x 64 columns]"
       ]
      }
     ],
     "prompt_number": 3
    },
    {
     "cell_type": "code",
     "collapsed": false,
     "input": [
      "%matplotlib inline\n",
      "import sys\n",
      "from sklearn.linear_model import LogisticRegression\n",
      "from sklearn.cross_validation import cross_val_score\n",
      "from sklearn.metrics import accuracy_score\n",
      "from sklearn.metrics import roc_auc_score\n",
      "from matplotlib import pyplot as plt\n",
      "from math import log10\n",
      "from time import sleep\n",
      "\n",
      "X_values = bankDF2.copy()\n",
      "X_values.drop('y', axis=1, inplace=True)\n",
      "y_values = bankDF2['y']\n",
      "\n",
      "cValues = [pow(10,(x-15)) for x in range(30)]\n",
      "#print \"cValues = \", cValues \n",
      "\n",
      "# selects weights inversely proportional to class frequencies in the training set\n",
      "# See http://scikit-learn.org/stable/modules/generated/sklearn.linear_model.LogisticRegression.html\n",
      "#classWeight = 'auto'\n",
      "classWeight = None\n",
      "nrCrossValidationFolds=10\n",
      "\n",
      "estimators = []\n",
      "scoreList = []\n",
      "scorerType = 'roc_auc'\n",
      "for i in range(len(cValues)):\n",
      "    c = cValues[i]\n",
      "    print >> sys.stderr, \"(%d/%d) Building logres model for C value %1.15f ...\" % (i+1,len(cValues),c),\n",
      "    estimator = LogisticRegression(C=c,class_weight=classWeight)\n",
      "    print >> sys.stderr, \"applying it ...\",\n",
      "    scores = cross_val_score(estimator, X_values, y=y_values, scoring=scorerType, cv=nrCrossValidationFolds, n_jobs=1)\n",
      "    estimators.append(estimator)\n",
      "    scoreList.append((scores.mean(),scores.std()))\n",
      "    print >> sys.stderr, \"done\"\n",
      "sleep(1)\n",
      "\n",
      "print \"scoreList = \", scoreList\n",
      "meanScores = [x[0] for x in scoreList]\n",
      "\n",
      "bestModelIndex = meanScores.index(max(meanScores))\n",
      "print \"best logres model has:\"\n",
      "print \"%s score: %2.2f%% (+/- %2.2f%%)\" % (scorerType, scoreList[bestModelIndex][0] * 100, scoreList[bestModelIndex][1] * 100)\n",
      "print \"C value: %1.10f\" % cValues[bestModelIndex]\n",
      "\n",
      "fig = plt.figure()\n",
      "plt.plot([log10(c) for c in cValues],[x[0] for x in scoreList], 'o-'\u001c",
      ", color='g', label='mean')\n",
      "plt.fill_between([log10(c) for c in cValues], [x[0]-x[1] for x in scoreList],\n",
      "                 [x[0]+x[1] for x in scoreList], alpha=0.1,\n",
      "                 color=\"g\", label='standard deviation')\n",
      "plt.title(\"Classification score on subscription prediction\\nwith logres model using various C values\")\n",
      "plt.xlabel(\"log10(C)\")\n",
      "plt.ylabel(scorerType)\n",
      "plt.legend(loc='best')\n",
      "plt.show()"
     ],
     "language": "python",
     "metadata": {},
     "outputs": [
      {
       "output_type": "stream",
       "stream": "stderr",
       "text": [
        "(1/30) Building logres model for C value 0.000000000000001 ... applying it ... "
       ]
      },
      {
       "output_type": "stream",
       "stream": "stderr",
       "text": [
        "done\n",
        "(2/30) Building logres model for C value 0.000000000000010 ... applying it ... "
       ]
      },
      {
       "output_type": "stream",
       "stream": "stderr",
       "text": [
        "done\n",
        "(3/30) Building logres model for C value 0.000000000000100 ... applying it ... "
       ]
      },
      {
       "output_type": "stream",
       "stream": "stderr",
       "text": [
        "done\n",
        "(4/30) Building logres model for C value 0.000000000001000 ... applying it ... "
       ]
      },
      {
       "output_type": "stream",
       "stream": "stderr",
       "text": [
        "done\n",
        "(5/30) Building logres model for C value 0.000000000010000 ... applying it ... "
       ]
      },
      {
       "output_type": "stream",
       "stream": "stderr",
       "text": [
        "done\n",
        "(6/30) Building logres model for C value 0.000000000100000 ... applying it ... "
       ]
      },
      {
       "output_type": "stream",
       "stream": "stderr",
       "text": [
        "done\n",
        "(7/30) Building logres model for C value 0.000000001000000 ... applying it ... "
       ]
      },
      {
       "output_type": "stream",
       "stream": "stderr",
       "text": [
        "done\n",
        "(8/30) Building logres model for C value 0.000000010000000 ... applying it ... "
       ]
      },
      {
       "output_type": "stream",
       "stream": "stderr",
       "text": [
        "done\n",
        "(9/30) Building logres model for C value 0.000000100000000 ... applying it ... "
       ]
      },
      {
       "output_type": "stream",
       "stream": "stderr",
       "text": [
        "done\n",
        "(10/30) Building logres model for C value 0.000001000000000 ... applying it ... "
       ]
      },
      {
       "output_type": "stream",
       "stream": "stderr",
       "text": [
        "done\n",
        "(11/30) Building logres model for C value 0.000010000000000 ... applying it ... "
       ]
      },
      {
       "output_type": "stream",
       "stream": "stderr",
       "text": [
        "done\n",
        "(12/30) Building logres model for C value 0.000100000000000 ... applying it ... "
       ]
      },
      {
       "output_type": "stream",
       "stream": "stderr",
       "text": [
        "done\n",
        "(13/30) Building logres model for C value 0.001000000000000 ... applying it ... "
       ]
      },
      {
       "output_type": "stream",
       "stream": "stderr",
       "text": [
        "done\n",
        "(14/30) Building logres model for C value 0.010000000000000 ... applying it ... "
       ]
      },
      {
       "output_type": "stream",
       "stream": "stderr",
       "text": [
        "done\n",
        "(15/30) Building logres model for C value 0.100000000000000 ... applying it ... "
       ]
      },
      {
       "output_type": "stream",
       "stream": "stderr",
       "text": [
        "done\n",
        "(16/30) Building logres model for C value 1.000000000000000 ... applying it ... "
       ]
      },
      {
       "output_type": "stream",
       "stream": "stderr",
       "text": [
        "done\n",
        "(17/30) Building logres model for C value 10.000000000000000 ... applying it ... "
       ]
      },
      {
       "output_type": "stream",
       "stream": "stderr",
       "text": [
        "done\n",
        "(18/30) Building logres model for C value 100.000000000000000 ... applying it ... "
       ]
      },
      {
       "output_type": "stream",
       "stream": "stderr",
       "text": [
        "done\n",
        "(19/30) Building logres model for C value 1000.000000000000000 ... applying it ... "
       ]
      },
      {
       "output_type": "stream",
       "stream": "stderr",
       "text": [
        "done\n",
        "(20/30) Building logres model for C value 10000.000000000000000 ... applying it ... "
       ]
      },
      {
       "output_type": "stream",
       "stream": "stderr",
       "text": [
        "done\n",
        "(21/30) Building logres model for C value 100000.000000000000000 ... applying it ... "
       ]
      },
      {
       "output_type": "stream",
       "stream": "stderr",
       "text": [
        "done\n",
        "(22/30) Building logres model for C value 1000000.000000000000000 ... applying it ... "
       ]
      },
      {
       "output_type": "stream",
       "stream": "stderr",
       "text": [
        "done\n",
        "(23/30) Building logres model for C value 10000000.000000000000000 ... applying it ... "
       ]
      },
      {
       "output_type": "stream",
       "stream": "stderr",
       "text": [
        "done\n",
        "(24/30) Building logres model for C value 100000000.000000000000000 ... applying it ... "
       ]
      },
      {
       "output_type": "stream",
       "stream": "stderr",
       "text": [
        "done\n",
        "(25/30) Building logres model for C value 1000000000.000000000000000 ... applying it ... "
       ]
      },
      {
       "output_type": "stream",
       "stream": "stderr",
       "text": [
        "done\n",
        "(26/30) Building logres model for C value 10000000000.000000000000000 ... applying it ... "
       ]
      },
      {
       "output_type": "stream",
       "stream": "stderr",
       "text": [
        "done\n",
        "(27/30) Building logres model for C value 100000000000.000000000000000 ... applying it ... "
       ]
      },
      {
       "output_type": "stream",
       "stream": "stderr",
       "text": [
        "done\n",
        "(28/30) Building logres model for C value 1000000000000.000000000000000 ... applying it ... "
       ]
      },
      {
       "output_type": "stream",
       "stream": "stderr",
       "text": [
        "done\n",
        "(29/30) Building logres model for C value 10000000000000.000000000000000 ... applying it ... "
       ]
      },
      {
       "output_type": "stream",
       "stream": "stderr",
       "text": [
        "done\n",
        "(30/30) Building logres model for C value 100000000000000.000000000000000 ... applying it ... "
       ]
      },
      {
       "output_type": "stream",
       "stream": "stdout",
       "text": [
        "scoreList =  [(0.75073191105060599, 0.38486671650679627), (0.74386034112508481, 0.39051189139130643), (0.74403606035760173, 0.39044042868308326), (0.74558256964723957, 0.38981823687066386), (0.82786691912129728, 0.32093882272454249), (0.95719171333006103, 0.024827591957427144), (0.89186521333546998, 0.049143224351503208), (0.87350900208086257, 0.062707189336771441), (0.87103965916021941, 0.064522601840737562), (0.87150995134063736, 0.063790984023242001), (0.879218648388574, 0.0595241761062104), (0.91396968216814134, 0.055595733184225074), (0.91612174989639317, 0.069606358741252414), (0.87113377853975982, 0.11327406251252049), (0.90255618615234534, 0.050981348017167555), (0.863263545022946, 0.11526568134992715), (0.86273521810211784, 0.13573978052396657), (0.85496196649672596, 0.14770930239571498), (0.85985664868035894, 0.111859380448407), (0.86321647581227379, 0.11177229103311233), (0.84847363144485366, 0.14414850915732075), (0.84398511492135686, 0.14492792425049131), (0.84597689740479698, 0.14578247872321973), (0.8607054583855499, 0.10640211703758083), (0.86568767547022851, 0.09131277517139072), (0.85963897519667465, 0.14013722147296848), (0.85269028610808317, 0.14511468613944978), (0.86850629238366805, 0.097529864344881492), (0.846819464383473, 0.10335391175280607), (0.86843746342521189, 0.10229526066175687)]\n",
        "best logres model has:\n",
        "roc_auc score: 95.72% (+/- 2.48%)\n",
        "C value: 0.0000000001\n"
       ]
      },
      {
       "output_type": "stream",
       "stream": "stderr",
       "text": [
        "done\n"
       ]
      },
      {
       "metadata": {},
       "output_type": "display_data",
       "png": "[encoded data removed]",
       "text": [
        "<matplotlib.figure.Figure at 0x10db49c10>"
       ]
      }
     ],
     "prompt_number": 4
    },
    {
     "cell_type": "code",
     "collapsed": false,
     "input": [
      "from sklearn.neighbors import KNeighborsClassifier\n",
      "from sklearn.naive_bayes import GaussianNB\n",
      "from sklearn.svm import SVC\n",
      "from sklearn.tree import DecisionTreeClassifier\n",
      "from sklearn.ensemble import RandomForestClassifier\n",
      "\n",
      "models = {}\n",
      "models = {'logres': LogisticRegression(C=pow(10,-10)),\n",
      "          'knn': KNeighborsClassifier(n_neighbors=10),\n",
      "#          'gaussianNB': GaussianNB(),\n",
      "#          'svc': SVC(probability=False),\n",
      "          'decisiontree': DecisionTreeClassifier(),\n",
      "          'randomforest': RandomForestClassifier()\n",
      "          }\n",
      "\n",
      "nrCrossValidationFolds=10\n",
      "scorerType = 'roc_auc'\n",
      "\n",
      "fig = plt.figure(15,(15,10))\n",
      "plt.title(\"%d-fold cross-validation %s scores for various model types\" % (nrCrossValidationFolds, scorerType))\n",
      "plt.xlabel(\"Fold #\")\n",
      "plt.ylabel(scorerType)\n",
      "plt.grid()\n",
      "\n",
      "for modelName, model in models.items():\n",
      "    print >> sys.stderr, \"Building %s model ...\" % modelName,\n",
      "    print >> sys.stderr, \"applying it ...\",\n",
      "    scores = cross_val_score(model, X_values, y=y_values, scoring=scorerType, cv=nrCrossValidationFolds, n_jobs=1, verbose=20)\n",
      "    print >> sys.stderr, \"done\"\n",
      "    plt.plot(range(1,nrCrossValidationFolds+1), scores, 'o-', label=\"%s (%2.2f%% +/- %2.2f%%)\" % (modelName, scores.mean() * 100, scores.std() * 100))\n",
      "    \n",
      "plt.legend(loc='best')\n",
      "plt.show()"
     ],
     "language": "python",
     "metadata": {},
     "outputs": [
      {
       "output_type": "stream",
       "stream": "stdout",
       "text": [
        "[CV] no parameters to be set .........................................\n",
        "[CV] ................ no parameters to be set, score=0.893472 -   3.0s"
       ]
      },
      {
       "output_type": "stream",
       "stream": "stderr",
       "text": [
        "Building knn model ... applying it ...[Parallel(n_jobs=1)]: Done   1 jobs       | elapsed:    3.0s\n"
       ]
      },
      {
       "output_type": "stream",
       "stream": "stdout",
       "text": [
        "\n",
        "[CV] no parameters to be set .........................................\n",
        "[CV] ................ no parameters to be set, score=0.875975 -   1.8s"
       ]
      },
      {
       "output_type": "stream",
       "stream": "stdout",
       "text": [
        "\n",
        "[CV] no parameters to be set .........................................\n",
        "[CV] ................ no parameters to be set, score=0.783822 -   1.8s"
       ]
      },
      {
       "output_type": "stream",
       "stream": "stderr",
       "text": [
        "[Parallel(n_jobs=1)]: Done   2 jobs       | elapsed:    4.8s\n",
        "[Parallel(n_jobs=1)]: Done   3 jobs       | elapsed:    6.6s\n"
       ]
      },
      {
       "output_type": "stream",
       "stream": "stdout",
       "text": [
        "\n",
        "[CV] no parameters to be set .........................................\n",
        "[CV] ................ no parameters to be set, score=0.732594 -   1.8s"
       ]
      },
      {
       "output_type": "stream",
       "stream": "stdout",
       "text": [
        "\n",
        "[CV] no parameters to be set .........................................\n",
        "[CV] ................ no parameters to be set, score=0.846770 -   1.7s"
       ]
      },
      {
       "output_type": "stream",
       "stream": "stderr",
       "text": [
        "[Parallel(n_jobs=1)]: Done   4 jobs       | elapsed:    8.5s\n",
        "[Parallel(n_jobs=1)]: Done   5 jobs       | elapsed:   10.2s\n"
       ]
      },
      {
       "output_type": "stream",
       "stream": "stdout",
       "text": [
        "\n",
        "[CV] no parameters to be set .........................................\n",
        "[CV] ................ no parameters to be set, score=0.792372 -   1.9s"
       ]
      },
      {
       "output_type": "stream",
       "stream": "stdout",
       "text": [
        "\n",
        "[CV] no parameters to be set .........................................\n",
        "[CV] ................ no parameters to be set, score=0.876317 -   2.2s"
       ]
      },
      {
       "output_type": "stream",
       "stream": "stderr",
       "text": [
        "[Parallel(n_jobs=1)]: Done   6 jobs       | elapsed:   12.2s\n",
        "[Parallel(n_jobs=1)]: Done   7 jobs       | elapsed:   14.4s\n"
       ]
      },
      {
       "output_type": "stream",
       "stream": "stdout",
       "text": [
        "\n",
        "[CV] no parameters to be set .........................................\n",
        "[CV] ................ no parameters to be set, score=0.859574 -   1.8s"
       ]
      },
      {
       "output_type": "stream",
       "stream": "stdout",
       "text": [
        "\n",
        "[CV] no parameters to be set .........................................\n",
        "[CV] ................ no parameters to be set, score=0.910403 -   1.7s"
       ]
      },
      {
       "output_type": "stream",
       "stream": "stderr",
       "text": [
        "[Parallel(n_jobs=1)]: Done   8 jobs       | elapsed:   16.1s\n",
        "[Parallel(n_jobs=1)]: Done   9 jobs       | elapsed:   17.8s\n"
       ]
      },
      {
       "output_type": "stream",
       "stream": "stdout",
       "text": [
        "\n",
        "[CV] no parameters to be set .........................................\n",
        "[CV] ................ no parameters to be set, score=0.647281 -   1.6s"
       ]
      },
      {
       "output_type": "stream",
       "stream": "stdout",
       "text": [
        "\n",
        "[CV] no parameters to be set .........................................\n",
        "[CV] ................ no parameters to be set, score=0.945753 -   0.1s"
       ]
      },
      {
       "output_type": "stream",
       "stream": "stderr",
       "text": [
        "[Parallel(n_jobs=1)]: Done  10 jobs       | elapsed:   19.4s\n",
        "[Parallel(n_jobs=1)]: Done  10 out of  10 | elapsed:   19.4s finished\n",
        " done\n",
        "Building logres model ... applying it ...[Parallel(n_jobs=1)]: Done   1 jobs       | elapsed:    0.2s\n"
       ]
      },
      {
       "output_type": "stream",
       "stream": "stdout",
       "text": [
        "\n",
        "[CV] no parameters to be set .........................................\n",
        "[CV] ................ no parameters to be set, score=0.920681 -   0.1s"
       ]
      },
      {
       "output_type": "stream",
       "stream": "stdout",
       "text": [
        "\n",
        "[CV] no parameters to be set .........................................\n",
        "[CV] ................ no parameters to be set, score=0.939329 -   0.2s"
       ]
      },
      {
       "output_type": "stream",
       "stream": "stderr",
       "text": [
        "[Parallel(n_jobs=1)]: Done   2 jobs       | elapsed:    0.3s\n",
        "[Parallel(n_jobs=1)]: Done   3 jobs       | elapsed:    0.5s\n"
       ]
      },
      {
       "output_type": "stream",
       "stream": "stdout",
       "text": [
        "\n",
        "[CV] no parameters to be set .........................................\n",
        "[CV] ................ no parameters to be set, score=0.970651 -   0.1s"
       ]
      },
      {
       "output_type": "stream",
       "stream": "stdout",
       "text": [
        "\n",
        "[CV] no parameters to be set .........................................\n",
        "[CV] ................ no parameters to be set, score=0.990311 -   0.1s"
       ]
      },
      {
       "output_type": "stream",
       "stream": "stderr",
       "text": [
        "[Parallel(n_jobs=1)]: Done   4 jobs       | elapsed:    0.6s\n",
        "[Parallel(n_jobs=1)]: Done   5 jobs       | elapsed:    0.6s\n"
       ]
      },
      {
       "output_type": "stream",
       "stream": "stdout",
       "text": [
        "\n",
        "[CV] no parameters to be set .........................................\n",
        "[CV] ................ no parameters to be set, score=0.984016 -   0.1s"
       ]
      },
      {
       "output_type": "stream",
       "stream": "stdout",
       "text": [
        "\n",
        "[CV] no parameters to be set .........................................\n",
        "[CV] ................ no parameters to be set, score=0.979016 -   0.1s"
       ]
      },
      {
       "output_type": "stream",
       "stream": "stderr",
       "text": [
        "[Parallel(n_jobs=1)]: Done   6 jobs       | elapsed:    0.7s\n",
        "[Parallel(n_jobs=1)]: Done   7 jobs       | elapsed:    0.8s\n"
       ]
      },
      {
       "output_type": "stream",
       "stream": "stdout",
       "text": [
        "\n",
        "[CV] no parameters to be set .........................................\n",
        "[CV] ................ no parameters to be set, score=0.950555 -   0.1s"
       ]
      },
      {
       "output_type": "stream",
       "stream": "stdout",
       "text": [
        "\n",
        "[CV] no parameters to be set .........................................\n",
        "[CV] ................ no parameters to be set, score=0.974121 -   0.1s"
       ]
      },
      {
       "output_type": "stream",
       "stream": "stderr",
       "text": [
        "[Parallel(n_jobs=1)]: Done   8 jobs       | elapsed:    0.9s\n",
        "[Parallel(n_jobs=1)]: Done   9 jobs       | elapsed:    1.0s\n"
       ]
      },
      {
       "output_type": "stream",
       "stream": "stdout",
       "text": [
        "\n",
        "[CV] no parameters to be set .........................................\n",
        "[CV] ................ no parameters to be set, score=0.917484 -   0.1s"
       ]
      },
      {
       "output_type": "stream",
       "stream": "stdout",
       "text": [
        "\n",
        "[CV] no parameters to be set .........................................\n",
        "[CV] ................ no parameters to be set, score=0.508621 -   1.1s"
       ]
      },
      {
       "output_type": "stream",
       "stream": "stderr",
       "text": [
        "[Parallel(n_jobs=1)]: Done  10 jobs       | elapsed:    1.0s\n",
        "[Parallel(n_jobs=1)]: Done  10 out of  10 | elapsed:    1.0s finished\n",
        " done\n",
        "Building decisiontree model ... applying it ...[Parallel(n_jobs=1)]: Done   1 jobs       | elapsed:    1.1s\n"
       ]
      },
      {
       "output_type": "stream",
       "stream": "stdout",
       "text": [
        "\n",
        "[CV] no parameters to be set .........................................\n",
        "[CV] ................ no parameters to be set, score=0.513349 -   0.5s"
       ]
      },
      {
       "output_type": "stream",
       "stream": "stdout",
       "text": [
        "\n",
        "[CV] no parameters to be set .........................................\n",
        "[CV] ................ no parameters to be set, score=0.436705 -   0.6s"
       ]
      },
      {
       "output_type": "stream",
       "stream": "stderr",
       "text": [
        "[Parallel(n_jobs=1)]: Done   2 jobs       | elapsed:    1.6s\n",
        "[Parallel(n_jobs=1)]: Done   3 jobs       | elapsed:    2.2s\n"
       ]
      },
      {
       "output_type": "stream",
       "stream": "stdout",
       "text": [
        "\n",
        "[CV] no parameters to be set .........................................\n",
        "[CV] ................ no parameters to be set, score=0.533259 -   0.5s"
       ]
      },
      {
       "output_type": "stream",
       "stream": "stdout",
       "text": [
        "\n",
        "[CV] no parameters to be set .........................................\n",
        "[CV] ................ no parameters to be set, score=0.521014 -   0.5s"
       ]
      },
      {
       "output_type": "stream",
       "stream": "stderr",
       "text": [
        "[Parallel(n_jobs=1)]: Done   4 jobs       | elapsed:    2.7s\n",
        "[Parallel(n_jobs=1)]: Done   5 jobs       | elapsed:    3.3s\n"
       ]
      },
      {
       "output_type": "stream",
       "stream": "stdout",
       "text": [
        "\n",
        "[CV] no parameters to be set .........................................\n",
        "[CV] ................ no parameters to be set, score=0.496357 -   0.5s"
       ]
      },
      {
       "output_type": "stream",
       "stream": "stdout",
       "text": [
        "\n",
        "[CV] no parameters to be set .........................................\n",
        "[CV] ................ no parameters to be set, score=0.221055 -   0.5s"
       ]
      },
      {
       "output_type": "stream",
       "stream": "stderr",
       "text": [
        "[Parallel(n_jobs=1)]: Done   6 jobs       | elapsed:    3.8s\n",
        "[Parallel(n_jobs=1)]: Done   7 jobs       | elapsed:    4.2s\n"
       ]
      },
      {
       "output_type": "stream",
       "stream": "stdout",
       "text": [
        "\n",
        "[CV] no parameters to be set .........................................\n",
        "[CV] ................ no parameters to be set, score=0.209585 -   0.5s"
       ]
      },
      {
       "output_type": "stream",
       "stream": "stdout",
       "text": [
        "\n",
        "[CV] no parameters to be set .........................................\n",
        "[CV] ................ no parameters to be set, score=0.412288 -   0.7s"
       ]
      },
      {
       "output_type": "stream",
       "stream": "stderr",
       "text": [
        "[Parallel(n_jobs=1)]: Done   8 jobs       | elapsed:    4.7s\n",
        "[Parallel(n_jobs=1)]: Done   9 jobs       | elapsed:    5.5s\n"
       ]
      },
      {
       "output_type": "stream",
       "stream": "stdout",
       "text": [
        "\n",
        "[CV] no parameters to be set .........................................\n",
        "[CV] ................ no parameters to be set, score=0.534072 -   1.2s"
       ]
      },
      {
       "output_type": "stream",
       "stream": "stdout",
       "text": [
        "\n",
        "[CV] no parameters to be set .........................................\n",
        "[CV] ................ no parameters to be set, score=0.532197 -   0.7s"
       ]
      },
      {
       "output_type": "stream",
       "stream": "stderr",
       "text": [
        "[Parallel(n_jobs=1)]: Done  10 jobs       | elapsed:    6.6s\n",
        "[Parallel(n_jobs=1)]: Done  10 out of  10 | elapsed:    6.6s finished\n",
        " done\n",
        "Building randomforest model ... applying it ...[Parallel(n_jobs=1)]: Done   1 jobs       | elapsed:    0.7s\n"
       ]
      },
      {
       "output_type": "stream",
       "stream": "stdout",
       "text": [
        "\n",
        "[CV] no parameters to be set .........................................\n",
        "[CV] ................ no parameters to be set, score=0.600842 -   0.5s"
       ]
      },
      {
       "output_type": "stream",
       "stream": "stdout",
       "text": [
        "\n",
        "[CV] no parameters to be set .........................................\n",
        "[CV] ................ no parameters to be set, score=0.300646 -   0.5s"
       ]
      },
      {
       "output_type": "stream",
       "stream": "stderr",
       "text": [
        "[Parallel(n_jobs=1)]: Done   2 jobs       | elapsed:    1.2s\n",
        "[Parallel(n_jobs=1)]: Done   3 jobs       | elapsed:    1.7s\n"
       ]
      },
      {
       "output_type": "stream",
       "stream": "stdout",
       "text": [
        "\n",
        "[CV] no parameters to be set .........................................\n",
        "[CV] ................ no parameters to be set, score=0.435502 -   0.5s"
       ]
      },
      {
       "output_type": "stream",
       "stream": "stdout",
       "text": [
        "\n",
        "[CV] no parameters to be set .........................................\n",
        "[CV] ................ no parameters to be set, score=0.406757 -   0.5s"
       ]
      },
      {
       "output_type": "stream",
       "stream": "stderr",
       "text": [
        "[Parallel(n_jobs=1)]: Done   4 jobs       | elapsed:    2.2s\n",
        "[Parallel(n_jobs=1)]: Done   5 jobs       | elapsed:    2.7s\n"
       ]
      },
      {
       "output_type": "stream",
       "stream": "stdout",
       "text": [
        "\n",
        "[CV] no parameters to be set .........................................\n",
        "[CV] ................ no parameters to be set, score=0.292049 -   0.8s"
       ]
      },
      {
       "output_type": "stream",
       "stream": "stdout",
       "text": [
        "\n",
        "[CV] no parameters to be set .........................................\n",
        "[CV] ................ no parameters to be set, score=0.204615 -   0.5s"
       ]
      },
      {
       "output_type": "stream",
       "stream": "stderr",
       "text": [
        "[Parallel(n_jobs=1)]: Done   6 jobs       | elapsed:    3.5s\n",
        "[Parallel(n_jobs=1)]: Done   7 jobs       | elapsed:    4.0s\n"
       ]
      },
      {
       "output_type": "stream",
       "stream": "stdout",
       "text": [
        "\n",
        "[CV] no parameters to be set .........................................\n",
        "[CV] ................ no parameters to be set, score=0.060606 -   0.9s"
       ]
      },
      {
       "output_type": "stream",
       "stream": "stdout",
       "text": [
        "\n",
        "[CV] no parameters to be set .........................................\n",
        "[CV] ................ no parameters to be set, score=0.400847 -   0.5s"
       ]
      },
      {
       "output_type": "stream",
       "stream": "stderr",
       "text": [
        "[Parallel(n_jobs=1)]: Done   8 jobs       | elapsed:    4.9s\n",
        "[Parallel(n_jobs=1)]: Done   9 jobs       | elapsed:    5.4s\n"
       ]
      },
      {
       "output_type": "stream",
       "stream": "stdout",
       "text": [
        "\n",
        "[CV] no parameters to be set .........................................\n",
        "[CV] ................ no parameters to be set, score=0.549392 -   0.8s"
       ]
      },
      {
       "output_type": "stream",
       "stream": "stdout",
       "text": [
        "\n"
       ]
      },
      {
       "output_type": "stream",
       "stream": "stderr",
       "text": [
        "[Parallel(n_jobs=1)]: Done  10 jobs       | elapsed:    6.2s\n",
        "[Parallel(n_jobs=1)]: Done  10 out of  10 | elapsed:    6.2s finished\n",
        " done\n"
       ]
      },
      {
       "metadata": {},
       "output_type": "display_data",
       "png": "[encoded data removed]",
       "text": [
        "<matplotlib.figure.Figure at 0x10ac42a90>"
       ]
      }
     ],
     "prompt_number": 5
    }
   ],
   "metadata": {}
  }
 ]
}