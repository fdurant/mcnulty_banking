{
 "metadata": {
  "name": "",
  "signature": "sha256:268b07adbbd8143a881dd35c3309c971e1760284425a76a188bdb500d01fb707"
 },
 "nbformat": 3,
 "nbformat_minor": 0,
 "worksheets": [
  {
   "cells": [
    {
     "cell_type": "heading",
     "level": 1,
     "metadata": {},
     "source": [
      "Project McNulty - Banking"
     ]
    },
    {
     "cell_type": "heading",
     "level": 2,
     "metadata": {},
     "source": [
      "Business goals"
     ]
    },
    {
     "cell_type": "markdown",
     "metadata": {},
     "source": [
      "From a database containing 41K records representing customer calls, build a model capable of:\n",
      "\n",
      "- predicting which customer will buy a term deposit product, and which will not\n",
      "\n",
      "- rank customers according to their propensity to buy the product\n",
      "\n",
      "To evaluate performance, we aim at producing, for each method employed:\n",
      "\n",
      "- an ROC curve\n",
      "\n",
      "- a LIFT curve\n",
      "\n",
      "This will allow for a maximum comparison with the results published by previous researchers on the same data:\n",
      "\n",
      "- Chakarin Vajiramedhin and Anirut Suebsing: [Feature Selection with Data Balancing for Prediction of Bank Telemarketing](http://www.m-hikari.com/ams/ams-2014/ams-113-116-2014/vajiramedhinAMS113-116-2014.pdf)\n",
      "\n",
      "- S&eacute;rgio Moro, Paulo Cortez and Paulo Rita: [A Data-Driven Approach to Predict the Success of Bank Telemarketing](http://repositorium.sdum.uminho.pt/xmlui/bitstream/handle/1822/30994/dss-v3.pdf?sequence=1)"
     ]
    },
    {
     "cell_type": "heading",
     "level": 2,
     "metadata": {},
     "source": [
      "Additional learning goals"
     ]
    },
    {
     "cell_type": "markdown",
     "metadata": {},
     "source": [
      "- maximally use D3.js and interactive visualizations\n",
      "\n",
      "- use a shared MySQL database as the data source"
     ]
    },
    {
     "cell_type": "heading",
     "level": 2,
     "metadata": {},
     "source": [
      "Data and reference material"
     ]
    },
    {
     "cell_type": "markdown",
     "metadata": {},
     "source": [
      "[Bank Marketing data set](https://archive.ics.uci.edu/ml/datasets/Bank+Marketing)"
     ]
    },
    {
     "cell_type": "heading",
     "level": 2,
     "metadata": {},
     "source": [
      "Code"
     ]
    },
    {
     "cell_type": "markdown",
     "metadata": {},
     "source": [
      "[Project mcnulty_banking at GitHub](https://github.com/fdurant/mcnulty_banking)"
     ]
    },
    {
     "cell_type": "heading",
     "level": 1,
     "metadata": {},
     "source": [
      "Phase 1: Data preparation & loading"
     ]
    },
    {
     "cell_type": "markdown",
     "metadata": {},
     "source": [
      "We use the [bank-additional.zip](https://archive.ics.uci.edu/ml/machine-learning-databases/00222/bank-additional.zip) data set, unchanged. For pedagogical reasons, we were asked to first load the data in a MySQL database running on a virtual server at [DigitalOcean](https://www.digitalocean.com). This involved writing a [DB schema](https://github.com/fdurant/mcnulty_banking/blob/master/data/bank-additional/bank-additional-schema.sql) as well as a [load command](https://github.com/fdurant/mcnulty_banking/blob/master/data/bank-additional/bank-additional-load-data.sql) in SQL.\n",
      "\n",
      "Let's check if the data are readable from there:"
     ]
    },
    {
     "cell_type": "code",
     "collapsed": false,
     "input": [
      "import pymysql\n",
      "import credentials\n",
      "\n",
      "db = pymysql.connect(host=credentials.host,\n",
      "                     user=credentials.user,\n",
      "                     passwd=credentials.password,\n",
      "                     db='bank')\n",
      "\n",
      "cursor = db.cursor()\n",
      "\n",
      "cursor.execute(\"SELECT * FROM bank_full LIMIT 3\")\n",
      "for i in cursor.fetchall():\n",
      "    print i\n",
      "\n",
      "cursor.close()\n",
      "db.close()"
     ],
     "language": "python",
     "metadata": {},
     "outputs": [
      {
       "output_type": "stream",
       "stream": "stdout",
       "text": [
        "(56, 'housemaid', 'married', 'basic.4y', 'no', 'no', 'no', 'telephone', 'may', 'mon', 261, 1, 999, 0, 'nonexistent', 1.1, 93.994, -36.4, 4.857, 5191.0, 'no')\n",
        "(57, 'services', 'married', 'high.school', 'unknown', 'no', 'no', 'telephone', 'may', 'mon', 149, 1, 999, 0, 'nonexistent', 1.1, 93.994, -36.4, 4.857, 5191.0, 'no')\n",
        "(37, 'services', 'married', 'high.school', 'no', 'yes', 'no', 'telephone', 'may', 'mon', 226, 1, 999, 0, 'nonexistent', 1.1, 93.994, -36.4, 4.857, 5191.0, 'no')\n"
       ]
      }
     ],
     "prompt_number": 36
    },
    {
     "cell_type": "raw",
     "metadata": {},
     "source": [
      "Now that we know the database connection is up and running, let's read our data directly into a DataFrame:"
     ]
    },
    {
     "cell_type": "code",
     "collapsed": false,
     "input": [
      "import pandas.io.sql as psql\n",
      "db = pymysql.connect(host=credentials.host,\n",
      "                     user=credentials.user,\n",
      "                     passwd=credentials.password,\n",
      "                     db='bank')\n",
      "query = \"SELECT * FROM bank_full;\"\n",
      "bankDF = psql.read_sql(query, con=db)\n",
      "db.close()\n",
      "print \"Number of database records read: %d\" % len(bankDF)\n",
      "print bankDF.columns\n",
      "bankDF.head()"
     ],
     "language": "python",
     "metadata": {},
     "outputs": [
      {
       "output_type": "stream",
       "stream": "stdout",
       "text": [
        "Number of database records read: 41188\n",
        "Index([u'age', u'job', u'marital', u'education', u'bank_def', u'housing', u'loan', u'contact', u'contact_month', u'day_of_week', u'duration', u'campaign', u'pdays', u'previous', u'poutcome', u'emp_var_rate', u'cons_price_idx', u'cons_conf_idx', u'euribor3m', u'nr_employed', u'y'], dtype='object')\n"
       ]
      },
      {
       "html": [
        "<div style=\"max-height:1000px;max-width:1500px;overflow:auto;\">\n",
        "<table border=\"1\" class=\"dataframe\">\n",
        "  <thead>\n",
        "    <tr style=\"text-align: right;\">\n",
        "      <th></th>\n",
        "      <th>age</th>\n",
        "      <th>job</th>\n",
        "      <th>marital</th>\n",
        "      <th>education</th>\n",
        "      <th>bank_def</th>\n",
        "      <th>housing</th>\n",
        "      <th>loan</th>\n",
        "      <th>contact</th>\n",
        "      <th>contact_month</th>\n",
        "      <th>day_of_week</th>\n",
        "      <th>...</th>\n",
        "      <th>campaign</th>\n",
        "      <th>pdays</th>\n",
        "      <th>previous</th>\n",
        "      <th>poutcome</th>\n",
        "      <th>emp_var_rate</th>\n",
        "      <th>cons_price_idx</th>\n",
        "      <th>cons_conf_idx</th>\n",
        "      <th>euribor3m</th>\n",
        "      <th>nr_employed</th>\n",
        "      <th>y</th>\n",
        "    </tr>\n",
        "  </thead>\n",
        "  <tbody>\n",
        "    <tr>\n",
        "      <th>0</th>\n",
        "      <td> 56</td>\n",
        "      <td> housemaid</td>\n",
        "      <td> married</td>\n",
        "      <td>    basic.4y</td>\n",
        "      <td>      no</td>\n",
        "      <td>  no</td>\n",
        "      <td>  no</td>\n",
        "      <td> telephone</td>\n",
        "      <td> may</td>\n",
        "      <td> mon</td>\n",
        "      <td>...</td>\n",
        "      <td> 1</td>\n",
        "      <td> 999</td>\n",
        "      <td> 0</td>\n",
        "      <td> nonexistent</td>\n",
        "      <td> 1.1</td>\n",
        "      <td> 93.994</td>\n",
        "      <td>-36.4</td>\n",
        "      <td> 4.857</td>\n",
        "      <td> 5191</td>\n",
        "      <td> no</td>\n",
        "    </tr>\n",
        "    <tr>\n",
        "      <th>1</th>\n",
        "      <td> 57</td>\n",
        "      <td>  services</td>\n",
        "      <td> married</td>\n",
        "      <td> high.school</td>\n",
        "      <td> unknown</td>\n",
        "      <td>  no</td>\n",
        "      <td>  no</td>\n",
        "      <td> telephone</td>\n",
        "      <td> may</td>\n",
        "      <td> mon</td>\n",
        "      <td>...</td>\n",
        "      <td> 1</td>\n",
        "      <td> 999</td>\n",
        "      <td> 0</td>\n",
        "      <td> nonexistent</td>\n",
        "      <td> 1.1</td>\n",
        "      <td> 93.994</td>\n",
        "      <td>-36.4</td>\n",
        "      <td> 4.857</td>\n",
        "      <td> 5191</td>\n",
        "      <td> no</td>\n",
        "    </tr>\n",
        "    <tr>\n",
        "      <th>2</th>\n",
        "      <td> 37</td>\n",
        "      <td>  services</td>\n",
        "      <td> married</td>\n",
        "      <td> high.school</td>\n",
        "      <td>      no</td>\n",
        "      <td> yes</td>\n",
        "      <td>  no</td>\n",
        "      <td> telephone</td>\n",
        "      <td> may</td>\n",
        "      <td> mon</td>\n",
        "      <td>...</td>\n",
        "      <td> 1</td>\n",
        "      <td> 999</td>\n",
        "      <td> 0</td>\n",
        "      <td> nonexistent</td>\n",
        "      <td> 1.1</td>\n",
        "      <td> 93.994</td>\n",
        "      <td>-36.4</td>\n",
        "      <td> 4.857</td>\n",
        "      <td> 5191</td>\n",
        "      <td> no</td>\n",
        "    </tr>\n",
        "    <tr>\n",
        "      <th>3</th>\n",
        "      <td> 40</td>\n",
        "      <td>    admin.</td>\n",
        "      <td> married</td>\n",
        "      <td>    basic.6y</td>\n",
        "      <td>      no</td>\n",
        "      <td>  no</td>\n",
        "      <td>  no</td>\n",
        "      <td> telephone</td>\n",
        "      <td> may</td>\n",
        "      <td> mon</td>\n",
        "      <td>...</td>\n",
        "      <td> 1</td>\n",
        "      <td> 999</td>\n",
        "      <td> 0</td>\n",
        "      <td> nonexistent</td>\n",
        "      <td> 1.1</td>\n",
        "      <td> 93.994</td>\n",
        "      <td>-36.4</td>\n",
        "      <td> 4.857</td>\n",
        "      <td> 5191</td>\n",
        "      <td> no</td>\n",
        "    </tr>\n",
        "    <tr>\n",
        "      <th>4</th>\n",
        "      <td> 56</td>\n",
        "      <td>  services</td>\n",
        "      <td> married</td>\n",
        "      <td> high.school</td>\n",
        "      <td>      no</td>\n",
        "      <td>  no</td>\n",
        "      <td> yes</td>\n",
        "      <td> telephone</td>\n",
        "      <td> may</td>\n",
        "      <td> mon</td>\n",
        "      <td>...</td>\n",
        "      <td> 1</td>\n",
        "      <td> 999</td>\n",
        "      <td> 0</td>\n",
        "      <td> nonexistent</td>\n",
        "      <td> 1.1</td>\n",
        "      <td> 93.994</td>\n",
        "      <td>-36.4</td>\n",
        "      <td> 4.857</td>\n",
        "      <td> 5191</td>\n",
        "      <td> no</td>\n",
        "    </tr>\n",
        "  </tbody>\n",
        "</table>\n",
        "<p>5 rows \u00d7 21 columns</p>\n",
        "</div>"
       ],
       "metadata": {},
       "output_type": "pyout",
       "prompt_number": 37,
       "text": [
        "   age        job  marital    education bank_def housing loan    contact  \\\n",
        "0   56  housemaid  married     basic.4y       no      no   no  telephone   \n",
        "1   57   services  married  high.school  unknown      no   no  telephone   \n",
        "2   37   services  married  high.school       no     yes   no  telephone   \n",
        "3   40     admin.  married     basic.6y       no      no   no  telephone   \n",
        "4   56   services  married  high.school       no      no  yes  telephone   \n",
        "\n",
        "  contact_month day_of_week ...  campaign  pdays  previous     poutcome  \\\n",
        "0           may         mon ...         1    999         0  nonexistent   \n",
        "1           may         mon ...         1    999         0  nonexistent   \n",
        "2           may         mon ...         1    999         0  nonexistent   \n",
        "3           may         mon ...         1    999         0  nonexistent   \n",
        "4           may         mon ...         1    999         0  nonexistent   \n",
        "\n",
        "  emp_var_rate  cons_price_idx  cons_conf_idx  euribor3m  nr_employed   y  \n",
        "0          1.1          93.994          -36.4      4.857         5191  no  \n",
        "1          1.1          93.994          -36.4      4.857         5191  no  \n",
        "2          1.1          93.994          -36.4      4.857         5191  no  \n",
        "3          1.1          93.994          -36.4      4.857         5191  no  \n",
        "4          1.1          93.994          -36.4      4.857         5191  no  \n",
        "\n",
        "[5 rows x 21 columns]"
       ]
      }
     ],
     "prompt_number": 37
    },
    {
     "cell_type": "markdown",
     "metadata": {},
     "source": [
      "Most of our models can't handle the categorical fields, so our next step is to convert them to dummy numerical variables."
     ]
    },
    {
     "cell_type": "code",
     "collapsed": false,
     "input": [
      "import pandas as pd\n",
      "import numpy as np\n",
      "tmpDF = bankDF.copy()\n",
      "tmpDF.y.replace(to_replace=['yes','no'], value=[1,0], inplace=True)\n",
      "\n",
      "# Delete the field(s) unknown before the call is made\n",
      "nonAvailableFields = ['duration']\n",
      "for field in nonAvailableFields:\n",
      "    tmpDF.drop(field, axis=1, inplace=True)\n",
      "\n",
      "categoricalField2prefix = {'job':'job',\n",
      "                           'marital':'mar',\n",
      "                           'education':'ed',\n",
      "                           'bank_def':'def',\n",
      "                           'housing':'h',\n",
      "                           'loan':'loan',\n",
      "                           'contact':'cntct',\n",
      "                           'contact_month':'cntct',\n",
      "                           'day_of_week':'cntct',\n",
      "                           'poutcome':'pout',\n",
      "                           }\n",
      "# Convert all categorical fields in dummy numerical ones\n",
      "for (categoricalField, prefix) in categoricalField2prefix.iteritems():\n",
      "    tmpDF = pd.concat([tmpDF, pd.get_dummies(tmpDF[categoricalField], prefix=prefix)], axis=1)\n",
      "\n",
      "# and delete the categorical fields\n",
      "for (categoricalField,_) in categoricalField2prefix.iteritems():\n",
      "    tmpDF.drop(categoricalField, axis=1, inplace=True)\n",
      "bankDF2 = tmpDF.copy()\n",
      "print bankDF2.columns\n",
      "bankDF2.head()"
     ],
     "language": "python",
     "metadata": {},
     "outputs": [
      {
       "output_type": "stream",
       "stream": "stdout",
       "text": [
        "Index([u'age', u'campaign', u'pdays', u'previous', u'emp_var_rate', u'cons_price_idx', u'cons_conf_idx', u'euribor3m', u'nr_employed', u'y', u'job_admin.', u'job_blue-collar', u'job_entrepreneur', u'job_housemaid', u'job_management', u'job_retired', u'job_self-employed', u'job_services', u'job_student', u'job_technician', u'job_unemployed', u'job_unknown', u'cntct_cellular', u'cntct_telephone', u'pout_failure', u'pout_nonexistent', u'pout_success', u'cntct_fri', u'cntct_mon', u'cntct_thu', u'cntct_tue', u'cntct_wed', u'cntct_apr', u'cntct_aug', u'cntct_dec', u'cntct_jul', u'cntct_jun', u'cntct_mar', u'cntct_may', u'cntct_nov', u'cntct_oct', u'cntct_sep', u'h_no', u'h_unknown', u'h_yes', u'ed_basic.4y', u'ed_basic.6y', u'ed_basic.9y', u'ed_high.school', u'ed_illiterate', u'ed_professional.course', u'ed_university.degree', u'ed_unknown', u'loan_no', u'loan_unknown', u'loan_yes', u'def_no', u'def_unknown', u'def_yes', u'mar_divorced', u'mar_married', u'mar_single', u'mar_unknown'], dtype='object')\n"
       ]
      },
      {
       "html": [
        "<div style=\"max-height:1000px;max-width:1500px;overflow:auto;\">\n",
        "<table border=\"1\" class=\"dataframe\">\n",
        "  <thead>\n",
        "    <tr style=\"text-align: right;\">\n",
        "      <th></th>\n",
        "      <th>age</th>\n",
        "      <th>campaign</th>\n",
        "      <th>pdays</th>\n",
        "      <th>previous</th>\n",
        "      <th>emp_var_rate</th>\n",
        "      <th>cons_price_idx</th>\n",
        "      <th>cons_conf_idx</th>\n",
        "      <th>euribor3m</th>\n",
        "      <th>nr_employed</th>\n",
        "      <th>y</th>\n",
        "      <th>...</th>\n",
        "      <th>loan_no</th>\n",
        "      <th>loan_unknown</th>\n",
        "      <th>loan_yes</th>\n",
        "      <th>def_no</th>\n",
        "      <th>def_unknown</th>\n",
        "      <th>def_yes</th>\n",
        "      <th>mar_divorced</th>\n",
        "      <th>mar_married</th>\n",
        "      <th>mar_single</th>\n",
        "      <th>mar_unknown</th>\n",
        "    </tr>\n",
        "  </thead>\n",
        "  <tbody>\n",
        "    <tr>\n",
        "      <th>0</th>\n",
        "      <td> 56</td>\n",
        "      <td> 1</td>\n",
        "      <td> 999</td>\n",
        "      <td> 0</td>\n",
        "      <td> 1.1</td>\n",
        "      <td> 93.994</td>\n",
        "      <td>-36.4</td>\n",
        "      <td> 4.857</td>\n",
        "      <td> 5191</td>\n",
        "      <td> 0</td>\n",
        "      <td>...</td>\n",
        "      <td> 1</td>\n",
        "      <td> 0</td>\n",
        "      <td> 0</td>\n",
        "      <td> 1</td>\n",
        "      <td> 0</td>\n",
        "      <td> 0</td>\n",
        "      <td> 0</td>\n",
        "      <td> 1</td>\n",
        "      <td> 0</td>\n",
        "      <td> 0</td>\n",
        "    </tr>\n",
        "    <tr>\n",
        "      <th>1</th>\n",
        "      <td> 57</td>\n",
        "      <td> 1</td>\n",
        "      <td> 999</td>\n",
        "      <td> 0</td>\n",
        "      <td> 1.1</td>\n",
        "      <td> 93.994</td>\n",
        "      <td>-36.4</td>\n",
        "      <td> 4.857</td>\n",
        "      <td> 5191</td>\n",
        "      <td> 0</td>\n",
        "      <td>...</td>\n",
        "      <td> 1</td>\n",
        "      <td> 0</td>\n",
        "      <td> 0</td>\n",
        "      <td> 0</td>\n",
        "      <td> 1</td>\n",
        "      <td> 0</td>\n",
        "      <td> 0</td>\n",
        "      <td> 1</td>\n",
        "      <td> 0</td>\n",
        "      <td> 0</td>\n",
        "    </tr>\n",
        "    <tr>\n",
        "      <th>2</th>\n",
        "      <td> 37</td>\n",
        "      <td> 1</td>\n",
        "      <td> 999</td>\n",
        "      <td> 0</td>\n",
        "      <td> 1.1</td>\n",
        "      <td> 93.994</td>\n",
        "      <td>-36.4</td>\n",
        "      <td> 4.857</td>\n",
        "      <td> 5191</td>\n",
        "      <td> 0</td>\n",
        "      <td>...</td>\n",
        "      <td> 1</td>\n",
        "      <td> 0</td>\n",
        "      <td> 0</td>\n",
        "      <td> 1</td>\n",
        "      <td> 0</td>\n",
        "      <td> 0</td>\n",
        "      <td> 0</td>\n",
        "      <td> 1</td>\n",
        "      <td> 0</td>\n",
        "      <td> 0</td>\n",
        "    </tr>\n",
        "    <tr>\n",
        "      <th>3</th>\n",
        "      <td> 40</td>\n",
        "      <td> 1</td>\n",
        "      <td> 999</td>\n",
        "      <td> 0</td>\n",
        "      <td> 1.1</td>\n",
        "      <td> 93.994</td>\n",
        "      <td>-36.4</td>\n",
        "      <td> 4.857</td>\n",
        "      <td> 5191</td>\n",
        "      <td> 0</td>\n",
        "      <td>...</td>\n",
        "      <td> 1</td>\n",
        "      <td> 0</td>\n",
        "      <td> 0</td>\n",
        "      <td> 1</td>\n",
        "      <td> 0</td>\n",
        "      <td> 0</td>\n",
        "      <td> 0</td>\n",
        "      <td> 1</td>\n",
        "      <td> 0</td>\n",
        "      <td> 0</td>\n",
        "    </tr>\n",
        "    <tr>\n",
        "      <th>4</th>\n",
        "      <td> 56</td>\n",
        "      <td> 1</td>\n",
        "      <td> 999</td>\n",
        "      <td> 0</td>\n",
        "      <td> 1.1</td>\n",
        "      <td> 93.994</td>\n",
        "      <td>-36.4</td>\n",
        "      <td> 4.857</td>\n",
        "      <td> 5191</td>\n",
        "      <td> 0</td>\n",
        "      <td>...</td>\n",
        "      <td> 0</td>\n",
        "      <td> 0</td>\n",
        "      <td> 1</td>\n",
        "      <td> 1</td>\n",
        "      <td> 0</td>\n",
        "      <td> 0</td>\n",
        "      <td> 0</td>\n",
        "      <td> 1</td>\n",
        "      <td> 0</td>\n",
        "      <td> 0</td>\n",
        "    </tr>\n",
        "  </tbody>\n",
        "</table>\n",
        "<p>5 rows \u00d7 63 columns</p>\n",
        "</div>"
       ],
       "metadata": {},
       "output_type": "pyout",
       "prompt_number": 38,
       "text": [
        "   age  campaign  pdays  previous  emp_var_rate  cons_price_idx  \\\n",
        "0   56         1    999         0           1.1          93.994   \n",
        "1   57         1    999         0           1.1          93.994   \n",
        "2   37         1    999         0           1.1          93.994   \n",
        "3   40         1    999         0           1.1          93.994   \n",
        "4   56         1    999         0           1.1          93.994   \n",
        "\n",
        "   cons_conf_idx  euribor3m  nr_employed  y     ...       loan_no  \\\n",
        "0          -36.4      4.857         5191  0     ...             1   \n",
        "1          -36.4      4.857         5191  0     ...             1   \n",
        "2          -36.4      4.857         5191  0     ...             1   \n",
        "3          -36.4      4.857         5191  0     ...             1   \n",
        "4          -36.4      4.857         5191  0     ...             0   \n",
        "\n",
        "   loan_unknown  loan_yes  def_no  def_unknown  def_yes  mar_divorced  \\\n",
        "0             0         0       1            0        0             0   \n",
        "1             0         0       0            1        0             0   \n",
        "2             0         0       1            0        0             0   \n",
        "3             0         0       1            0        0             0   \n",
        "4             0         1       1            0        0             0   \n",
        "\n",
        "   mar_married  mar_single  mar_unknown  \n",
        "0            1           0            0  \n",
        "1            1           0            0  \n",
        "2            1           0            0  \n",
        "3            1           0            0  \n",
        "4            1           0            0  \n",
        "\n",
        "[5 rows x 63 columns]"
       ]
      }
     ],
     "prompt_number": 38
    },
    {
     "cell_type": "heading",
     "level": 1,
     "metadata": {},
     "source": [
      "Phase 2: model building and evaluation"
     ]
    },
    {
     "cell_type": "heading",
     "level": 2,
     "metadata": {},
     "source": [
      "Shared settings and initializations"
     ]
    },
    {
     "cell_type": "code",
     "collapsed": false,
     "input": [
      "%matplotlib inline\n",
      "import sys\n",
      "from sklearn.cross_validation import cross_val_score, KFold\n",
      "from sklearn.metrics import roc_auc_score\n",
      "from matplotlib import pyplot as plt\n",
      "from math import log10\n",
      "from time import sleep\n",
      "\n",
      "X_values = bankDF2.copy()\n",
      "X_values.drop('y', axis=1, inplace=True)\n",
      "y_values = bankDF2['y']\n",
      "\n",
      "scorerType = 'roc_auc'\n",
      "\n",
      "nrCrossValidationFolds=10\n",
      "# We MUST shuffle, because the data seem to be somehow ordered by date,\n",
      "# resulting in grouped rows of similar socio-economic value combinations!!!\n",
      "cvGenerator = KFold(len(X_values), n_folds=nrCrossValidationFolds, shuffle=True)  \n"
     ],
     "language": "python",
     "metadata": {},
     "outputs": [],
     "prompt_number": 49
    },
    {
     "cell_type": "heading",
     "level": 2,
     "metadata": {},
     "source": [
      "Logistic regression"
     ]
    },
    {
     "cell_type": "code",
     "collapsed": false,
     "input": [
      "from sklearn.linear_model import LogisticRegression\n",
      "\n",
      "cValues = [pow(10,(x-15)) for x in range(30)]\n",
      "#print \"cValues = \", cValues \n",
      "\n",
      "# selects weights inversely proportional to class frequencies in the training set\n",
      "# See http://scikit-learn.org/stable/modules/generated/sklearn.linear_model.LogisticRegression.html\n",
      "#classWeight = 'auto'\n",
      "classWeight = None\n",
      "\n",
      "estimators = []\n",
      "scoreList = []\n",
      "for i in range(len(cValues)):\n",
      "    c = cValues[i]\n",
      "    print >> sys.stderr, \"(%d/%d) Building logres model for C value %1.15f ...\" % (i+1,len(cValues),c),\n",
      "    estimator = LogisticRegression(C=c,class_weight=classWeight)\n",
      "    print >> sys.stderr, \"applying it ...\",\n",
      "    scores = cross_val_score(estimator, X_values, y=y_values, scoring=scorerType, cv=cvGenerator, n_jobs=1)\n",
      "    estimators.append(estimator)\n",
      "    scoreList.append((scores.mean(),scores.std()))\n",
      "    print >> sys.stderr, \"done\"\n",
      "sleep(1)\n",
      "\n",
      "print \"scoreList = \", scoreList\n",
      "meanScores = [x[0] for x in scoreList]\n",
      "\n",
      "bestModelIndex = meanScores.index(max(meanScores))\n",
      "print \"best logres model has:\"\n",
      "print \"%s score: %2.2f%% (+/- %2.2f%%)\" % (scorerType, scoreList[bestModelIndex][0] * 100, scoreList[bestModelIndex][1] * 100)\n",
      "bestCValue = cValues[bestModelIndex]\n",
      "bestLogCValue = log10(bestCValue)\n",
      "print \"C value: \", bestCValue\n",
      "print \"log10(C) value: \", bestLogCValue\n",
      "\n",
      "fig = plt.figure()\n",
      "plt.plot([log10(c) for c in cValues],[x[0] for x in scoreList], 'o-'\u001c",
      ", color='g', label='mean')\n",
      "plt.fill_between([log10(c) for c in cValues], [x[0]-x[1] for x in scoreList],\n",
      "                 [x[0]+x[1] for x in scoreList], alpha=0.1,\n",
      "                 color=\"g\", label='standard deviation')\n",
      "plt.title(\"Classification score on subscription prediction\\nwith logres model using various C values\")\n",
      "plt.xlabel(\"log10(C)\")\n",
      "plt.ylabel(scorerType)\n",
      "plt.legend(loc='best')\n",
      "plt.show()"
     ],
     "language": "python",
     "metadata": {},
     "outputs": [
      {
       "output_type": "stream",
       "stream": "stderr",
       "text": [
        " (1/30) Building logres model for C value 0.000000000000001 ... applying it ... "
       ]
      },
      {
       "output_type": "stream",
       "stream": "stderr",
       "text": [
        "done\n",
        "(2/30) Building logres model for C value 0.000000000000010 ... applying it ... "
       ]
      },
      {
       "output_type": "stream",
       "stream": "stderr",
       "text": [
        "done\n",
        "(3/30) Building logres model for C value 0.000000000000100 ... applying it ... "
       ]
      },
      {
       "output_type": "stream",
       "stream": "stderr",
       "text": [
        "done\n",
        "(4/30) Building logres model for C value 0.000000000001000 ... applying it ... "
       ]
      },
      {
       "output_type": "stream",
       "stream": "stderr",
       "text": [
        "done\n",
        "(5/30) Building logres model for C value 0.000000000010000 ... applying it ... "
       ]
      },
      {
       "output_type": "stream",
       "stream": "stderr",
       "text": [
        "done\n",
        "(6/30) Building logres model for C value 0.000000000100000 ... applying it ... "
       ]
      },
      {
       "output_type": "stream",
       "stream": "stderr",
       "text": [
        "done\n",
        "(7/30) Building logres model for C value 0.000000001000000 ... applying it ... "
       ]
      },
      {
       "output_type": "stream",
       "stream": "stderr",
       "text": [
        "done\n",
        "(8/30) Building logres model for C value 0.000000010000000 ... applying it ... "
       ]
      },
      {
       "output_type": "stream",
       "stream": "stderr",
       "text": [
        "done\n",
        "(9/30) Building logres model for C value 0.000000100000000 ... applying it ... "
       ]
      },
      {
       "output_type": "stream",
       "stream": "stderr",
       "text": [
        "done\n",
        "(10/30) Building logres model for C value 0.000001000000000 ... applying it ... "
       ]
      },
      {
       "output_type": "stream",
       "stream": "stderr",
       "text": [
        "done\n",
        "(11/30) Building logres model for C value 0.000010000000000 ... applying it ... "
       ]
      },
      {
       "output_type": "stream",
       "stream": "stderr",
       "text": [
        "done\n",
        "(12/30) Building logres model for C value 0.000100000000000 ... applying it ... "
       ]
      },
      {
       "output_type": "stream",
       "stream": "stderr",
       "text": [
        "done\n",
        "(13/30) Building logres model for C value 0.001000000000000 ... applying it ... "
       ]
      },
      {
       "output_type": "stream",
       "stream": "stderr",
       "text": [
        "done\n",
        "(14/30) Building logres model for C value 0.010000000000000 ... applying it ... "
       ]
      },
      {
       "output_type": "stream",
       "stream": "stderr",
       "text": [
        "done\n",
        "(15/30) Building logres model for C value 0.100000000000000 ... applying it ... "
       ]
      },
      {
       "output_type": "stream",
       "stream": "stderr",
       "text": [
        "done\n",
        "(16/30) Building logres model for C value 1.000000000000000 ... applying it ... "
       ]
      },
      {
       "output_type": "stream",
       "stream": "stderr",
       "text": [
        "done\n",
        "(17/30) Building logres model for C value 10.000000000000000 ... applying it ... "
       ]
      },
      {
       "output_type": "stream",
       "stream": "stderr",
       "text": [
        "done\n",
        "(18/30) Building logres model for C value 100.000000000000000 ... applying it ... "
       ]
      },
      {
       "output_type": "stream",
       "stream": "stderr",
       "text": [
        "done\n",
        "(19/30) Building logres model for C value 1000.000000000000000 ... applying it ... "
       ]
      },
      {
       "output_type": "stream",
       "stream": "stderr",
       "text": [
        "done\n",
        "(20/30) Building logres model for C value 10000.000000000000000 ... applying it ... "
       ]
      },
      {
       "output_type": "stream",
       "stream": "stderr",
       "text": [
        "done\n",
        "(21/30) Building logres model for C value 100000.000000000000000 ... applying it ... "
       ]
      },
      {
       "output_type": "stream",
       "stream": "stderr",
       "text": [
        "done\n",
        "(22/30) Building logres model for C value 1000000.000000000000000 ... applying it ... "
       ]
      },
      {
       "output_type": "stream",
       "stream": "stderr",
       "text": [
        "done\n",
        "(23/30) Building logres model for C value 10000000.000000000000000 ... applying it ... "
       ]
      },
      {
       "output_type": "stream",
       "stream": "stderr",
       "text": [
        "done\n",
        "(24/30) Building logres model for C value 100000000.000000000000000 ... applying it ... "
       ]
      },
      {
       "output_type": "stream",
       "stream": "stderr",
       "text": [
        "done\n",
        "(25/30) Building logres model for C value 1000000000.000000000000000 ... applying it ... "
       ]
      },
      {
       "output_type": "stream",
       "stream": "stderr",
       "text": [
        "done\n",
        "(26/30) Building logres model for C value 10000000000.000000000000000 ... applying it ... "
       ]
      },
      {
       "output_type": "stream",
       "stream": "stderr",
       "text": [
        "done\n",
        "(27/30) Building logres model for C value 100000000000.000000000000000 ... applying it ... "
       ]
      },
      {
       "output_type": "stream",
       "stream": "stderr",
       "text": [
        "done\n",
        "(28/30) Building logres model for C value 1000000000000.000000000000000 ... applying it ... "
       ]
      },
      {
       "output_type": "stream",
       "stream": "stderr",
       "text": [
        "done\n",
        "(29/30) Building logres model for C value 10000000000000.000000000000000 ... applying it ... "
       ]
      },
      {
       "output_type": "stream",
       "stream": "stderr",
       "text": [
        "done\n",
        "(30/30) Building logres model for C value 100000000000000.000000000000000 ... applying it ... "
       ]
      },
      {
       "output_type": "stream",
       "stream": "stdout",
       "text": [
        "scoreList =  [(0.75347456275729363, 0.017248101452442859), (0.75270866225199229, 0.017182980373434808), (0.75565268755189152, 0.017432077749550398), (0.75567344687475868, 0.01742124022193527), (0.75561147871082557, 0.017435546752776528), (0.75543822524600046, 0.017509920098705313), (0.75044847241524038, 0.018450365306015369), (0.75117361880417088, 0.017339776024824512), (0.49642367735094217, 0.019226760079465558), (0.6533089743360383, 0.019879787005828879), (0.75062667557863061, 0.016715393476255506), (0.76200285143900537, 0.018976841816545031), (0.7784382285388779, 0.020632969976433695), (0.78657666079470467, 0.015233403106480439), (0.78713327273802314, 0.014198217197313531), (0.78496845831039896, 0.015074834860815067), (0.78709171932165867, 0.013371261745858317), (0.78848628306538748, 0.01361828818632633), (0.78685823428853996, 0.012519668948911039), (0.78659798877862308, 0.013665414367655941), (0.78719189999907269, 0.013092282207617323), (0.78627345602661336, 0.01504276991326722), (0.78733423911661471, 0.013537454548870348), (0.78696160609683408, 0.01351720341609634), (0.78812775889244435, 0.012549611328155441), (0.78545254571022805, 0.015474731516675755), (0.78872834423383908, 0.012294437953553963), (0.78620498191919075, 0.015510668010869822), (0.78692605397737725, 0.013765089712866477), (0.78653381173654746, 0.013932282485212447)]\n",
        "best logres model has:\n",
        "roc_auc score: 78.87% (+/- 1.23%)\n",
        "C value:  100000000000\n",
        "log10(C) value:  11.0\n"
       ]
      },
      {
       "output_type": "stream",
       "stream": "stderr",
       "text": [
        "done\n"
       ]
      },
      {
       "metadata": {},
       "output_type": "display_data",
       "png": "[encoded data removed]",
       "text": [
        "<matplotlib.figure.Figure at 0x10d224c10>"
       ]
      }
     ],
     "prompt_number": 40
    },
    {
     "cell_type": "heading",
     "level": 2,
     "metadata": {},
     "source": [
      "K Nearest Neighbors"
     ]
    },
    {
     "cell_type": "code",
     "collapsed": false,
     "input": [
      "from sklearn.neighbors import KNeighborsClassifier\n",
      "\n",
      "kValues = range(1,31)\n",
      "\n",
      "estimators = []\n",
      "scoreList = []\n",
      "for i in range(len(kValues)):\n",
      "    k = kValues[i]\n",
      "    print >> sys.stderr, \"(%d/%d) Building %d nearest neighbor model ...\" % (i+1,len(kValues),k),\n",
      "    estimator = KNeighborsClassifier(n_neighbors=k)\n",
      "    print >> sys.stderr, \"applying it ...\",\n",
      "    scores = cross_val_score(estimator, X_values, y=y_values, scoring=scorerType, cv=cvGenerator, n_jobs=1)\n",
      "    estimators.append(estimator)\n",
      "    scoreList.append((scores.mean(),scores.std()))\n",
      "    print >> sys.stderr, \"done\"\n",
      "sleep(1)\n",
      "\n",
      "print \"scoreList = \", scoreList\n",
      "meanScores = [x[0] for x in scoreList]\n",
      "\n",
      "bestModelIndex = meanScores.index(max(meanScores))\n",
      "print \"best KNN model has:\"\n",
      "print \"%s score: %2.2f%% (+/- %2.2f%%)\" % (scorerType, scoreList[bestModelIndex][0] * 100, scoreList[bestModelIndex][1] * 100)\n",
      "bestKValue = kValues[bestModelIndex]\n",
      "print \"K value: \", bestKValue\n",
      "\n",
      "fig = plt.figure()\n",
      "plt.plot([k for k in kValues],[x[0] for x in scoreList], 'o-'\u001c",
      ", color='g', label='mean')\n",
      "plt.fill_between([k for k in kValues], [x[0]-x[1] for x in scoreList],\n",
      "                 [x[0]+x[1] for x in scoreList], alpha=0.1,\n",
      "                 color=\"g\", label='standard deviation')\n",
      "plt.title(\"Classification score on subscription prediction\\nwith K nearest neighbor model using various K values\")\n",
      "plt.xlabel(\"K\")\n",
      "plt.ylabel(scorerType)\n",
      "plt.legend(loc='best')\n",
      "plt.show()"
     ],
     "language": "python",
     "metadata": {},
     "outputs": [
      {
       "output_type": "stream",
       "stream": "stderr",
       "text": [
        "(1/30) Building 1 nearest neighbor model ... applying it ... "
       ]
      },
      {
       "output_type": "stream",
       "stream": "stderr",
       "text": [
        "done\n",
        "(2/30) Building 2 nearest neighbor model ... applying it ... "
       ]
      },
      {
       "output_type": "stream",
       "stream": "stderr",
       "text": [
        "done\n",
        "(3/30) Building 3 nearest neighbor model ... applying it ... "
       ]
      },
      {
       "output_type": "stream",
       "stream": "stderr",
       "text": [
        "done\n",
        "(4/30) Building 4 nearest neighbor model ... applying it ... "
       ]
      },
      {
       "output_type": "stream",
       "stream": "stderr",
       "text": [
        "done\n",
        "(5/30) Building 5 nearest neighbor model ... applying it ... "
       ]
      },
      {
       "output_type": "stream",
       "stream": "stderr",
       "text": [
        "done\n",
        "(6/30) Building 6 nearest neighbor model ... applying it ... "
       ]
      },
      {
       "output_type": "stream",
       "stream": "stderr",
       "text": [
        "done\n",
        "(7/30) Building 7 nearest neighbor model ... applying it ... "
       ]
      },
      {
       "output_type": "stream",
       "stream": "stderr",
       "text": [
        "done\n",
        "(8/30) Building 8 nearest neighbor model ... applying it ... "
       ]
      },
      {
       "output_type": "stream",
       "stream": "stderr",
       "text": [
        "done\n",
        "(9/30) Building 9 nearest neighbor model ... applying it ... "
       ]
      },
      {
       "output_type": "stream",
       "stream": "stderr",
       "text": [
        "done\n",
        "(10/30) Building 10 nearest neighbor model ... applying it ... "
       ]
      },
      {
       "output_type": "stream",
       "stream": "stderr",
       "text": [
        "done\n",
        "(11/30) Building 11 nearest neighbor model ... applying it ... "
       ]
      },
      {
       "output_type": "stream",
       "stream": "stderr",
       "text": [
        "done\n",
        "(12/30) Building 12 nearest neighbor model ... applying it ... "
       ]
      },
      {
       "output_type": "stream",
       "stream": "stderr",
       "text": [
        "done\n",
        "(13/30) Building 13 nearest neighbor model ... applying it ... "
       ]
      },
      {
       "output_type": "stream",
       "stream": "stderr",
       "text": [
        "done\n",
        "(14/30) Building 14 nearest neighbor model ... applying it ... "
       ]
      },
      {
       "output_type": "stream",
       "stream": "stderr",
       "text": [
        "done\n",
        "(15/30) Building 15 nearest neighbor model ... applying it ... "
       ]
      },
      {
       "output_type": "stream",
       "stream": "stderr",
       "text": [
        "done\n",
        "(16/30) Building 16 nearest neighbor model ... applying it ... "
       ]
      },
      {
       "output_type": "stream",
       "stream": "stderr",
       "text": [
        "done\n",
        "(17/30) Building 17 nearest neighbor model ... applying it ... "
       ]
      },
      {
       "output_type": "stream",
       "stream": "stderr",
       "text": [
        "done\n",
        "(18/30) Building 18 nearest neighbor model ... applying it ... "
       ]
      },
      {
       "output_type": "stream",
       "stream": "stderr",
       "text": [
        "done\n",
        "(19/30) Building 19 nearest neighbor model ... applying it ... "
       ]
      },
      {
       "output_type": "stream",
       "stream": "stderr",
       "text": [
        "done\n",
        "(20/30) Building 20 nearest neighbor model ... applying it ... "
       ]
      },
      {
       "output_type": "stream",
       "stream": "stderr",
       "text": [
        "done\n",
        "(21/30) Building 21 nearest neighbor model ... applying it ... "
       ]
      },
      {
       "output_type": "stream",
       "stream": "stderr",
       "text": [
        "done\n",
        "(22/30) Building 22 nearest neighbor model ... applying it ... "
       ]
      },
      {
       "output_type": "stream",
       "stream": "stderr",
       "text": [
        "done\n",
        "(23/30) Building 23 nearest neighbor model ... applying it ... "
       ]
      },
      {
       "output_type": "stream",
       "stream": "stderr",
       "text": [
        "done\n",
        "(24/30) Building 24 nearest neighbor model ... applying it ... "
       ]
      },
      {
       "output_type": "stream",
       "stream": "stderr",
       "text": [
        "done\n",
        "(25/30) Building 25 nearest neighbor model ... applying it ... "
       ]
      },
      {
       "output_type": "stream",
       "stream": "stderr",
       "text": [
        "done\n",
        "(26/30) Building 26 nearest neighbor model ... applying it ... "
       ]
      },
      {
       "output_type": "stream",
       "stream": "stderr",
       "text": [
        "done\n",
        "(27/30) Building 27 nearest neighbor model ... applying it ... "
       ]
      },
      {
       "output_type": "stream",
       "stream": "stderr",
       "text": [
        "done\n",
        "(28/30) Building 28 nearest neighbor model ... applying it ... "
       ]
      },
      {
       "output_type": "stream",
       "stream": "stderr",
       "text": [
        "done\n",
        "(29/30) Building 29 nearest neighbor model ... applying it ... "
       ]
      },
      {
       "output_type": "stream",
       "stream": "stderr",
       "text": [
        "done\n",
        "(30/30) Building 30 nearest neighbor model ... applying it ... "
       ]
      },
      {
       "output_type": "stream",
       "stream": "stdout",
       "text": [
        "scoreList =  [(0.62436688219548508, 0.01177136819118129), (0.67508907556655773, 0.010261301323121483), (0.70199286450978471, 0.011299241299892772), (0.71967983654822143, 0.013128241131227958), (0.72992263796124524, 0.013545151129573324), (0.73851241139357438, 0.013961553831156435), (0.74566745259672862, 0.014282193809429853), (0.75177336672018336, 0.01381290289892549), (0.75530224068229335, 0.013886605273393403), (0.75934407864780096, 0.014184147219539771), (0.76086526677056998, 0.015109560580051539), (0.76282828283618953, 0.014305712826398977), (0.76343681979532196, 0.015522949484376297), (0.76444027261076974, 0.017181469480916593), (0.76517201474229624, 0.016474108159214285), (0.76644057594734816, 0.016496744469455368), (0.76817025233430913, 0.015759614828716625), (0.76824866637690314, 0.016518717983558615), (0.76889271689594962, 0.015429115937801219), (0.77076630222748999, 0.016559606434232262), (0.77125238125326945, 0.016615723303709203), (0.77139041751728299, 0.015487833616076302), (0.77105882866858177, 0.015895861161058379), (0.77135323407914391, 0.014442672408230916), (0.77200545226762296, 0.014741035685887156), (0.77270947524842903, 0.01371532867204911), (0.77316573822272139, 0.012626887818751344), (0.77400742599425798, 0.013324990423862036), (0.77392060281591879, 0.012373234186749011), (0.77468715456683701, 0.013054973258979386)]\n",
        "best KNN model has:\n",
        "roc_auc score: 77.47% (+/- 1.31%)\n",
        "K value:  30\n"
       ]
      },
      {
       "output_type": "stream",
       "stream": "stderr",
       "text": [
        "done\n"
       ]
      },
      {
       "metadata": {},
       "output_type": "display_data",
       "png": "[encoded data removed]",
       "text": [
        "<matplotlib.figure.Figure at 0x1164dc150>"
       ]
      }
     ],
     "prompt_number": 45
    },
    {
     "cell_type": "heading",
     "level": 2,
     "metadata": {},
     "source": [
      "Random forest"
     ]
    },
    {
     "cell_type": "code",
     "collapsed": false,
     "input": [
      "from sklearn.ensemble import RandomForestClassifier\n",
      "import itertools\n",
      "from math import log\n",
      "\n",
      "randomForestCriterion = 'entropy'\n",
      "nrEstimators = [pow(2,x) for x in range(7,9)]\n",
      "maxFeatures = [pow(2,x) for x in range(1,int(log(len(X_values.columns.values.tolist()))+2))]\n",
      "\n",
      "rfConfigurations = list(itertools.product(*[nrEstimators,maxFeatures]))\n",
      "print \"configurations: \", rfConfigurations\n",
      "\n",
      "scoreList = []\n",
      "for i in range(len(rfConfigurations)):\n",
      "    nrEst, maxFeat = rfConfigurations[i]\n",
      "    print >> sys.stderr, \"(%d/%d) Building random forest model with %d estimators and maximum %d features ...\" % (i+1,len(rfConfigurations),nrEst,maxFeat),\n",
      "    estimator = RandomForestClassifier(criterion=randomForestCriterion, n_estimators=nrEst, max_features=maxFeat)\n",
      "    print >> sys.stderr, \"applying it ...\",\n",
      "    scores = cross_val_score(estimator, X_values, y=y_values, scoring=scorerType, cv=cvGenerator, n_jobs=1)\n",
      "    scoreList.append((scores.mean(),scores.std()))\n",
      "    print >> sys.stderr, \"done\"\n",
      "sleep(1)\n",
      "\n",
      "print \"scoreList = \", scoreList\n",
      "meanScores = [x[0] for x in scoreList]\n",
      "\n",
      "bestModelIndex = meanScores.index(max(meanScores))\n",
      "print \"best Random Forest model has:\"\n",
      "print \"%s score: %2.2f%% (+/- %2.2f%%)\" % (scorerType, scoreList[bestModelIndex][0] * 100, scoreList[bestModelIndex][1] * 100)\n",
      "bestNrEst, bestMaxFeat = rfConfigurations[bestModelIndex]\n",
      "print \"n_estimators: \", bestNrEst\n",
      "print \"max_features: \", bestMaxFeat\n",
      "\n",
      "fig = plt.figure()\n",
      "plt.plot([conf for conf in range(1,len(rfConfigurations)+1)],[x[0] for x in scoreList], 'o-'\u001c",
      ", color='g', label='mean')\n",
      "plt.fill_between([conf for conf in range(1,len(rfConfigurations)+1)], [x[0]-x[1] for x in scoreList],\n",
      "                 [x[0]+x[1] for x in scoreList], alpha=0.1,\n",
      "                 color=\"g\", label='standard deviation')\n",
      "plt.title(\"Classification score on subscription prediction\\nwith Random Forest model using various configurations\")\n",
      "plt.xlabel(\"Configuration ID (nr estimators, max features)\")\n",
      "plt.ylabel(scorerType)\n",
      "plt.legend(loc='best')\n",
      "plt.show()"
     ],
     "language": "python",
     "metadata": {},
     "outputs": [
      {
       "output_type": "stream",
       "stream": "stderr",
       "text": [
        "(1/10) Building random forest model with 128 estimators and maximum 2 features ... applying it ... "
       ]
      },
      {
       "output_type": "stream",
       "stream": "stderr",
       "text": [
        "done\n",
        "(2/10) Building random forest model with 128 estimators and maximum 4 features ... applying it ... "
       ]
      },
      {
       "output_type": "stream",
       "stream": "stderr",
       "text": [
        "done\n",
        "(3/10) Building random forest model with 128 estimators and maximum 8 features ... applying it ... "
       ]
      },
      {
       "output_type": "stream",
       "stream": "stderr",
       "text": [
        "done\n",
        "(4/10) Building random forest model with 128 estimators and maximum 16 features ... applying it ... "
       ]
      },
      {
       "output_type": "stream",
       "stream": "stderr",
       "text": [
        "done\n",
        "(5/10) Building random forest model with 128 estimators and maximum 32 features ... applying it ... "
       ]
      },
      {
       "output_type": "stream",
       "stream": "stderr",
       "text": [
        "done\n",
        "(6/10) Building random forest model with 256 estimators and maximum 2 features ... applying it ... "
       ]
      },
      {
       "output_type": "stream",
       "stream": "stderr",
       "text": [
        "done\n",
        "(7/10) Building random forest model with 256 estimators and maximum 4 features ... applying it ... "
       ]
      },
      {
       "output_type": "stream",
       "stream": "stderr",
       "text": [
        "done\n",
        "(8/10) Building random forest model with 256 estimators and maximum 8 features ... applying it ... "
       ]
      },
      {
       "output_type": "stream",
       "stream": "stderr",
       "text": [
        "done\n",
        "(9/10) Building random forest model with 256 estimators and maximum 16 features ... applying it ... "
       ]
      },
      {
       "output_type": "stream",
       "stream": "stderr",
       "text": [
        "done\n",
        "(10/10) Building random forest model with 256 estimators and maximum 32 features ... applying it ... "
       ]
      },
      {
       "output_type": "stream",
       "stream": "stdout",
       "text": [
        "configurations:  [(128, 2), (128, 4), (128, 8), (128, 16), (128, 32), (256, 2), (256, 4), (256, 8), (256, 16), (256, 32)]\n",
        "scoreList = "
       ]
      },
      {
       "output_type": "stream",
       "stream": "stdout",
       "text": [
        " [(0.76776044645928454, 0.011065323498447665), (0.77164067149095561, 0.0088698975273726055), (0.77540138683919158, 0.011752053311177804), (0.7754071868039969, 0.01218207972473795), (0.77281026286100885, 0.013381573865044743), (0.77061245104237686, 0.010150896184827578), (0.77305573516982928, 0.010676496299386657), (0.77671926500427857, 0.013304951838551708), (0.77688451988903762, 0.01205664155975127), (0.77439239710400076, 0.012963145350107471)]\n",
        "best Random Forest model has:\n",
        "roc_auc score: 77.69% (+/- 1.21%)\n",
        "n_estimators:  256\n",
        "max_features:  16\n"
       ]
      },
      {
       "output_type": "stream",
       "stream": "stderr",
       "text": [
        "done\n"
       ]
      },
      {
       "metadata": {},
       "output_type": "display_data",
       "png": "[encoded data removed]",
       "text": [
        "<matplotlib.figure.Figure at 0x10c417e90>"
       ]
      }
     ],
     "prompt_number": 71
    },
    {
     "cell_type": "heading",
     "level": 2,
     "metadata": {},
     "source": [
      "Comparison of best models, using all input features except 'duration'"
     ]
    },
    {
     "cell_type": "code",
     "collapsed": false,
     "input": [
      "from sklearn.naive_bayes import GaussianNB\n",
      "\n",
      "models = {}\n",
      "models = {'logres with log10(C)=%d' % bestLogCValue : LogisticRegression(C=pow(10,bestLogCValue)), # Takes about 1 second elapsed time\n",
      "          'knn with K=%d' % bestKValue : KNeighborsClassifier(n_neighbors=bestKValue), # Takes about 12 seconds elapsed time\n",
      "          'gaussianNB': GaussianNB(),\n",
      "          'randomforest with nrEst=%d and maxFeat=%d' % (bestNrEst,bestMaxFeat): RandomForestClassifier(criterion=randomForestCriterion,n_estimators=bestNrEst, max_features=bestMaxFeat) # Takes about 5 seconds elapsed time\n",
      "          }\n",
      "\n",
      "fig = plt.figure(1,(15,10))\n",
      "plt.title(\"%d-fold cross-validation %s scores for various model types\" % (nrCrossValidationFolds, scorerType))\n",
      "plt.xlabel(\"Fold #\")\n",
      "plt.ylabel(scorerType)\n",
      "plt.grid()\n",
      "\n",
      "for modelName, model in models.items():\n",
      "    print >> sys.stderr, \"Building %s model ...\" % modelName,\n",
      "    print >> sys.stderr, \"applying it ...\",\n",
      "    scores = cross_val_score(model, X_values, y=y_values, scoring=scorerType, cv=cvGenerator, n_jobs=1, verbose=20)\n",
      "    print >> sys.stderr, \"done\"\n",
      "    plt.plot(range(1,nrCrossValidationFolds+1), scores, 'o-', label=\"%s (%2.2f%% +/- %2.2f%%)\" % (modelName, scores.mean() * 100, scores.std() * 100))\n",
      "    \n",
      "plt.legend(loc='best')\n",
      "plt.show()"
     ],
     "language": "python",
     "metadata": {},
     "outputs": [
      {
       "output_type": "stream",
       "stream": "stdout",
       "text": [
        "[CV] no parameters to be set .........................................\n",
        "[CV] ................ no parameters to be set, score=0.751689 -  21.8s"
       ]
      },
      {
       "output_type": "stream",
       "stream": "stderr",
       "text": [
        "Building randomforest with nrEst=256 and maxFeat=16 model ... applying it ...[Parallel(n_jobs=1)]: Done   1 jobs       | elapsed:   21.8s\n"
       ]
      },
      {
       "output_type": "stream",
       "stream": "stdout",
       "text": [
        "\n",
        "[CV] no parameters to be set .........................................\n",
        "[CV] ................ no parameters to be set, score=0.789271 -  21.3s"
       ]
      },
      {
       "output_type": "stream",
       "stream": "stdout",
       "text": [
        "\n",
        "[CV] no parameters to be set .........................................\n",
        "[CV] ................ no parameters to be set, score=0.772675 -  21.2s"
       ]
      },
      {
       "output_type": "stream",
       "stream": "stderr",
       "text": [
        "[Parallel(n_jobs=1)]: Done   2 jobs       | elapsed:   43.1s\n",
        "[Parallel(n_jobs=1)]: Done   3 jobs       | elapsed:  1.1min\n"
       ]
      },
      {
       "output_type": "stream",
       "stream": "stdout",
       "text": [
        "\n",
        "[CV] no parameters to be set .........................................\n",
        "[CV] ................ no parameters to be set, score=0.756767 -  21.3s"
       ]
      },
      {
       "output_type": "stream",
       "stream": "stdout",
       "text": [
        "\n",
        "[CV] no parameters to be set .........................................\n",
        "[CV] ................ no parameters to be set, score=0.793353 -  21.2s"
       ]
      },
      {
       "output_type": "stream",
       "stream": "stderr",
       "text": [
        "[Parallel(n_jobs=1)]: Done   4 jobs       | elapsed:  1.4min\n",
        "[Parallel(n_jobs=1)]: Done   5 jobs       | elapsed:  1.8min\n"
       ]
      },
      {
       "output_type": "stream",
       "stream": "stdout",
       "text": [
        "\n",
        "[CV] no parameters to be set .........................................\n",
        "[CV] ................ no parameters to be set, score=0.778606 -  21.1s"
       ]
      },
      {
       "output_type": "stream",
       "stream": "stdout",
       "text": [
        "\n",
        "[CV] no parameters to be set .........................................\n",
        "[CV] ................ no parameters to be set, score=0.772737 -  21.1s"
       ]
      },
      {
       "output_type": "stream",
       "stream": "stderr",
       "text": [
        "[Parallel(n_jobs=1)]: Done   6 jobs       | elapsed:  2.1min\n",
        "[Parallel(n_jobs=1)]: Done   7 jobs       | elapsed:  2.5min\n"
       ]
      },
      {
       "output_type": "stream",
       "stream": "stdout",
       "text": [
        "\n",
        "[CV] no parameters to be set .........................................\n",
        "[CV] ................ no parameters to be set, score=0.786798 -  21.3s"
       ]
      },
      {
       "output_type": "stream",
       "stream": "stdout",
       "text": [
        "\n",
        "[CV] no parameters to be set .........................................\n",
        "[CV] ................ no parameters to be set, score=0.783720 -  21.5s"
       ]
      },
      {
       "output_type": "stream",
       "stream": "stderr",
       "text": [
        "[Parallel(n_jobs=1)]: Done   8 jobs       | elapsed:  2.8min\n",
        "[Parallel(n_jobs=1)]: Done   9 jobs       | elapsed:  3.2min\n"
       ]
      },
      {
       "output_type": "stream",
       "stream": "stdout",
       "text": [
        "\n",
        "[CV] no parameters to be set .........................................\n",
        "[CV] ................ no parameters to be set, score=0.775368 -  21.3s"
       ]
      },
      {
       "output_type": "stream",
       "stream": "stdout",
       "text": [
        "\n",
        "[CV] no parameters to be set .........................................\n",
        "[CV] ................ no parameters to be set, score=0.764096 -   0.3s"
       ]
      },
      {
       "output_type": "stream",
       "stream": "stderr",
       "text": [
        "[Parallel(n_jobs=1)]: Done  10 jobs       | elapsed:  3.6min\n",
        "[Parallel(n_jobs=1)]: Done  10 out of  10 | elapsed:  3.6min finished\n",
        " done\n",
        "Building logres with log10(C)=11 model ... applying it ...[Parallel(n_jobs=1)]: Done   1 jobs       | elapsed:    0.3s\n"
       ]
      },
      {
       "output_type": "stream",
       "stream": "stdout",
       "text": [
        "\n",
        "[CV] no parameters to be set .........................................\n",
        "[CV] ................ no parameters to be set, score=0.787251 -   0.3s"
       ]
      },
      {
       "output_type": "stream",
       "stream": "stdout",
       "text": [
        "\n",
        "[CV] no parameters to be set .........................................\n",
        "[CV] ................ no parameters to be set, score=0.771033 -   0.3s"
       ]
      },
      {
       "output_type": "stream",
       "stream": "stderr",
       "text": [
        "[Parallel(n_jobs=1)]: Done   2 jobs       | elapsed:    0.6s\n",
        "[Parallel(n_jobs=1)]: Done   3 jobs       | elapsed:    0.9s\n"
       ]
      },
      {
       "output_type": "stream",
       "stream": "stdout",
       "text": [
        "\n",
        "[CV] no parameters to be set .........................................\n",
        "[CV] ................ no parameters to be set, score=0.780102 -   0.4s"
       ]
      },
      {
       "output_type": "stream",
       "stream": "stdout",
       "text": [
        "\n",
        "[CV] no parameters to be set .........................................\n",
        "[CV] ................ no parameters to be set, score=0.792958 -   0.4s"
       ]
      },
      {
       "output_type": "stream",
       "stream": "stderr",
       "text": [
        "[Parallel(n_jobs=1)]: Done   4 jobs       | elapsed:    1.3s\n",
        "[Parallel(n_jobs=1)]: Done   5 jobs       | elapsed:    1.7s\n"
       ]
      },
      {
       "output_type": "stream",
       "stream": "stdout",
       "text": [
        "\n",
        "[CV] no parameters to be set .........................................\n",
        "[CV] ................ no parameters to be set, score=0.790782 -   0.3s"
       ]
      },
      {
       "output_type": "stream",
       "stream": "stdout",
       "text": [
        "\n",
        "[CV] no parameters to be set .........................................\n",
        "[CV] ................ no parameters to be set, score=0.792350 -   0.3s"
       ]
      },
      {
       "output_type": "stream",
       "stream": "stderr",
       "text": [
        "[Parallel(n_jobs=1)]: Done   6 jobs       | elapsed:    2.0s\n",
        "[Parallel(n_jobs=1)]: Done   7 jobs       | elapsed:    2.4s\n"
       ]
      },
      {
       "output_type": "stream",
       "stream": "stdout",
       "text": [
        "\n",
        "[CV] no parameters to be set .........................................\n",
        "[CV] ................ no parameters to be set, score=0.792595 -   0.4s"
       ]
      },
      {
       "output_type": "stream",
       "stream": "stdout",
       "text": [
        "\n",
        "[CV] no parameters to be set .........................................\n",
        "[CV] ................ no parameters to be set, score=0.791841 -   0.4s"
       ]
      },
      {
       "output_type": "stream",
       "stream": "stderr",
       "text": [
        "[Parallel(n_jobs=1)]: Done   8 jobs       | elapsed:    2.8s\n",
        "[Parallel(n_jobs=1)]: Done   9 jobs       | elapsed:    3.2s\n"
       ]
      },
      {
       "output_type": "stream",
       "stream": "stdout",
       "text": [
        "\n",
        "[CV] no parameters to be set .........................................\n",
        "[CV] ................ no parameters to be set, score=0.801567 -   0.5s"
       ]
      },
      {
       "output_type": "stream",
       "stream": "stdout",
       "text": [
        "\n",
        "[CV] no parameters to be set .........................................\n",
        "[CV] ................ no parameters to be set, score=0.755475 -   3.6s"
       ]
      },
      {
       "output_type": "stream",
       "stream": "stderr",
       "text": [
        "[Parallel(n_jobs=1)]: Done  10 jobs       | elapsed:    3.7s\n",
        "[Parallel(n_jobs=1)]: Done  10 out of  10 | elapsed:    3.7s finished\n",
        " done\n",
        "Building knn with K=30 model ... applying it ...[Parallel(n_jobs=1)]: Done   1 jobs       | elapsed:    3.6s\n"
       ]
      },
      {
       "output_type": "stream",
       "stream": "stdout",
       "text": [
        "\n",
        "[CV] no parameters to be set .........................................\n",
        "[CV] ................ no parameters to be set, score=0.791120 -   3.6s"
       ]
      },
      {
       "output_type": "stream",
       "stream": "stdout",
       "text": [
        "\n",
        "[CV] no parameters to be set .........................................\n",
        "[CV] ................ no parameters to be set, score=0.781433 -   3.5s"
       ]
      },
      {
       "output_type": "stream",
       "stream": "stderr",
       "text": [
        "[Parallel(n_jobs=1)]: Done   2 jobs       | elapsed:    7.2s\n",
        "[Parallel(n_jobs=1)]: Done   3 jobs       | elapsed:   10.7s\n"
       ]
      },
      {
       "output_type": "stream",
       "stream": "stdout",
       "text": [
        "\n",
        "[CV] no parameters to be set .........................................\n",
        "[CV] ................ no parameters to be set, score=0.744691 -   3.4s"
       ]
      },
      {
       "output_type": "stream",
       "stream": "stdout",
       "text": [
        "\n",
        "[CV] no parameters to be set .........................................\n",
        "[CV] ................ no parameters to be set, score=0.791686 -   3.7s"
       ]
      },
      {
       "output_type": "stream",
       "stream": "stderr",
       "text": [
        "[Parallel(n_jobs=1)]: Done   4 jobs       | elapsed:   14.1s\n",
        "[Parallel(n_jobs=1)]: Done   5 jobs       | elapsed:   17.8s\n"
       ]
      },
      {
       "output_type": "stream",
       "stream": "stdout",
       "text": [
        "\n",
        "[CV] no parameters to be set .........................................\n",
        "[CV] ................ no parameters to be set, score=0.774892 -   3.4s"
       ]
      },
      {
       "output_type": "stream",
       "stream": "stdout",
       "text": [
        "\n",
        "[CV] no parameters to be set .........................................\n",
        "[CV] ................ no parameters to be set, score=0.782121 -   3.5s"
       ]
      },
      {
       "output_type": "stream",
       "stream": "stderr",
       "text": [
        "[Parallel(n_jobs=1)]: Done   6 jobs       | elapsed:   21.2s\n",
        "[Parallel(n_jobs=1)]: Done   7 jobs       | elapsed:   24.7s\n"
       ]
      },
      {
       "output_type": "stream",
       "stream": "stdout",
       "text": [
        "\n",
        "[CV] no parameters to be set .........................................\n",
        "[CV] ................ no parameters to be set, score=0.772751 -   3.4s"
       ]
      },
      {
       "output_type": "stream",
       "stream": "stdout",
       "text": [
        "\n",
        "[CV] no parameters to be set .........................................\n",
        "[CV] ................ no parameters to be set, score=0.781091 -   3.4s"
       ]
      },
      {
       "output_type": "stream",
       "stream": "stderr",
       "text": [
        "[Parallel(n_jobs=1)]: Done   8 jobs       | elapsed:   28.2s\n",
        "[Parallel(n_jobs=1)]: Done   9 jobs       | elapsed:   31.6s\n"
       ]
      },
      {
       "output_type": "stream",
       "stream": "stdout",
       "text": [
        "\n",
        "[CV] no parameters to be set .........................................\n",
        "[CV] ................ no parameters to be set, score=0.775361 -   3.5s"
       ]
      },
      {
       "output_type": "stream",
       "stream": "stdout",
       "text": [
        "\n",
        "[CV] no parameters to be set .........................................\n",
        "[CV] ................ no parameters to be set, score=0.747754 -   0.1s"
       ]
      },
      {
       "output_type": "stream",
       "stream": "stderr",
       "text": [
        "[Parallel(n_jobs=1)]: Done  10 jobs       | elapsed:   35.1s\n",
        "[Parallel(n_jobs=1)]: Done  10 out of  10 | elapsed:   35.1s finished\n",
        " done\n",
        "Building gaussianNB model ... applying it ...[Parallel(n_jobs=1)]: Done   1 jobs       | elapsed:    0.1s\n"
       ]
      },
      {
       "output_type": "stream",
       "stream": "stdout",
       "text": [
        "\n",
        "[CV] no parameters to be set .........................................\n",
        "[CV] ................ no parameters to be set, score=0.776374 -   0.1s"
       ]
      },
      {
       "output_type": "stream",
       "stream": "stdout",
       "text": [
        "\n",
        "[CV] no parameters to be set .........................................\n",
        "[CV] ................ no parameters to be set, score=0.755728 -   0.1s"
       ]
      },
      {
       "output_type": "stream",
       "stream": "stderr",
       "text": [
        "[Parallel(n_jobs=1)]: Done   2 jobs       | elapsed:    0.1s\n",
        "[Parallel(n_jobs=1)]: Done   3 jobs       | elapsed:    0.2s\n"
       ]
      },
      {
       "output_type": "stream",
       "stream": "stdout",
       "text": [
        "\n",
        "[CV] no parameters to be set .........................................\n",
        "[CV] ................ no parameters to be set, score=0.749820 -   0.0s"
       ]
      },
      {
       "output_type": "stream",
       "stream": "stdout",
       "text": [
        "\n",
        "[CV] no parameters to be set .........................................\n",
        "[CV] ................ no parameters to be set, score=0.775091 -   0.0s\n",
        "[CV] no parameters to be set .........................................\n",
        "[CV] ................ no parameters to be set, score=0.766127 -   0.0s"
       ]
      },
      {
       "output_type": "stream",
       "stream": "stderr",
       "text": [
        "[Parallel(n_jobs=1)]: Done   4 jobs       | elapsed:    0.2s\n",
        "[Parallel(n_jobs=1)]: Done   5 jobs       | elapsed:    0.3s\n",
        "[Parallel(n_jobs=1)]: Done   6 jobs       | elapsed:    0.3s\n"
       ]
      },
      {
       "output_type": "stream",
       "stream": "stdout",
       "text": [
        "\n",
        "[CV] no parameters to be set .........................................\n",
        "[CV] ................ no parameters to be set, score=0.781367 -   0.0s\n",
        "[CV] no parameters to be set .........................................\n",
        "[CV] ................ no parameters to be set, score=0.762845 -   0.0s"
       ]
      },
      {
       "output_type": "stream",
       "stream": "stdout",
       "text": [
        "\n",
        "[CV] no parameters to be set .........................................\n",
        "[CV] ................ no parameters to be set, score=0.765991 -   0.1s"
       ]
      },
      {
       "output_type": "stream",
       "stream": "stderr",
       "text": [
        "[Parallel(n_jobs=1)]: Done   7 jobs       | elapsed:    0.4s\n",
        "[Parallel(n_jobs=1)]: Done   8 jobs       | elapsed:    0.4s\n",
        "[Parallel(n_jobs=1)]: Done   9 jobs       | elapsed:    0.5s\n"
       ]
      },
      {
       "output_type": "stream",
       "stream": "stdout",
       "text": [
        "\n",
        "[CV] no parameters to be set .........................................\n",
        "[CV] ................ no parameters to be set, score=0.785842 -   0.0s\n"
       ]
      },
      {
       "output_type": "stream",
       "stream": "stderr",
       "text": [
        "[Parallel(n_jobs=1)]: Done  10 jobs       | elapsed:    0.5s\n",
        "[Parallel(n_jobs=1)]: Done  10 out of  10 | elapsed:    0.5s finished\n",
        " done\n"
       ]
      },
      {
       "metadata": {},
       "output_type": "display_data",
       "png": "[encoded data removed]",
       "text": [
        "<matplotlib.figure.Figure at 0x115462c90>"
       ]
      }
     ],
     "prompt_number": 76
    }
   ],
   "metadata": {}
  }
 ]
}