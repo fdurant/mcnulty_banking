{
 "metadata": {
  "name": "",
  "signature": "sha256:b93938ad91fca3bd7cefa3fce1a00e73dd403456c01f01302b06b3871471d218"
 },
 "nbformat": 3,
 "nbformat_minor": 0,
 "worksheets": [
  {
   "cells": [
    {
     "cell_type": "heading",
     "level": 1,
     "metadata": {},
     "source": [
      "Project McNulty - Banking"
     ]
    },
    {
     "cell_type": "heading",
     "level": 2,
     "metadata": {},
     "source": [
      "Business goals"
     ]
    },
    {
     "cell_type": "markdown",
     "metadata": {},
     "source": [
      "From a database containing 41K records representing customer calls, build a model capable of:\n",
      "\n",
      "- predicting which customer will buy a term deposit product, and which will not\n",
      "\n",
      "- rank customers according to their propensity to buy the product\n",
      "\n",
      "To evaluate performance, we aim at producing, for each method employed:\n",
      "\n",
      "- an ROC curve\n",
      "\n",
      "- a LIFT curve\n",
      "\n",
      "This will allow for a maximum comparison with the results published by previous researchers on the same data:\n",
      "\n",
      "- Chakarin Vajiramedhin and Anirut Suebsing: [Feature Selection with Data Balancing for Prediction of Bank Telemarketing](http://www.m-hikari.com/ams/ams-2014/ams-113-116-2014/vajiramedhinAMS113-116-2014.pdf)\n",
      "\n",
      "- S&eacute;rgio Moro, Paulo Cortez and Paulo Rita: [A Data-Driven Approach to Predict the Success of Bank Telemarketing](http://repositorium.sdum.uminho.pt/xmlui/bitstream/handle/1822/30994/dss-v3.pdf?sequence=1)"
     ]
    },
    {
     "cell_type": "heading",
     "level": 2,
     "metadata": {},
     "source": [
      "Additional learning goals"
     ]
    },
    {
     "cell_type": "markdown",
     "metadata": {},
     "source": [
      "- maximally use D3.js and interactive visualizations\n",
      "\n",
      "- use a shared MySQL database as the data source"
     ]
    },
    {
     "cell_type": "heading",
     "level": 2,
     "metadata": {},
     "source": [
      "Data and reference material"
     ]
    },
    {
     "cell_type": "markdown",
     "metadata": {},
     "source": [
      "[Bank Marketing data set](https://archive.ics.uci.edu/ml/datasets/Bank+Marketing)"
     ]
    },
    {
     "cell_type": "heading",
     "level": 2,
     "metadata": {},
     "source": [
      "Code"
     ]
    },
    {
     "cell_type": "markdown",
     "metadata": {},
     "source": [
      "[Project mcnulty_banking at GitHub](https://github.com/fdurant/mcnulty_banking)"
     ]
    },
    {
     "cell_type": "heading",
     "level": 1,
     "metadata": {},
     "source": [
      "Phase 1: data preparation"
     ]
    },
    {
     "cell_type": "markdown",
     "metadata": {},
     "source": [
      "We use the [bank-additional.zip](https://archive.ics.uci.edu/ml/machine-learning-databases/00222/bank-additional.zip) data set, unchanged. For pedagogical reasons, we were asked to first load the data in a MySQL database running on a virtual server at [DigitalOcean](https://www.digitalocean.com). This involved writing a [DB schema](https://github.com/fdurant/mcnulty_banking/blob/master/data/bank-additional/bank-additional-schema.sql) as well as a [load command](https://github.com/fdurant/mcnulty_banking/blob/master/data/bank-additional/bank-additional-load-data.sql) in SQL.\n",
      "\n",
      "Let's check if the data are readable from there:"
     ]
    },
    {
     "cell_type": "code",
     "collapsed": false,
     "input": [
      "import pymysql\n",
      "import credentials\n",
      "\n",
      "db = pymysql.connect(host=credentials.host,\n",
      "                     user=credentials.user,\n",
      "                     passwd=credentials.password,\n",
      "                     db='bank')\n",
      "\n",
      "cursor = db.cursor()\n",
      "\n",
      "cursor.execute(\"SELECT * FROM bank_full LIMIT 3\")\n",
      "for i in cursor.fetchall():\n",
      "    print i\n",
      "\n",
      "cursor.close()\n",
      "db.close()"
     ],
     "language": "python",
     "metadata": {},
     "outputs": [
      {
       "output_type": "stream",
       "stream": "stdout",
       "text": [
        "(56, 'housemaid', 'married', 'basic.4y', 'no', 'no', 'no', 'telephone', 'may', 'mon', 261, 1, 999, 0, 'nonex', 1, 93.994, -36.4, 4.857, 5191.0, 'no')\n",
        "(57, 'services', 'married', 'high.school', 'unkno', 'no', 'no', 'telephone', 'may', 'mon', 149, 1, 999, 0, 'nonex', 1, 93.994, -36.4, 4.857, 5191.0, 'no')\n",
        "(37, 'services', 'married', 'high.school', 'no', 'yes', 'no', 'telephone', 'may', 'mon', 226, 1, 999, 0, 'nonex', 1, 93.994, -36.4, 4.857, 5191.0, 'no')\n"
       ]
      }
     ],
     "prompt_number": 5
    }
   ],
   "metadata": {}
  }
 ]
}