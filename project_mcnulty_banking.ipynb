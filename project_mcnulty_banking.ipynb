{
 "metadata": {
  "name": "",
  "signature": "sha256:d34732d5db2aa947c9583e036f31a519688d8a05a2928074f0d3a71fc3849bd8"
 },
 "nbformat": 3,
 "nbformat_minor": 0,
 "worksheets": [
  {
   "cells": [
    {
     "cell_type": "heading",
     "level": 1,
     "metadata": {
      "internals": {
       "slide_helper": "subslide_end",
       "slide_type": "subslide"
      },
      "slide_helper": "slide_end",
      "slideshow": {
       "slide_type": "slide"
      }
     },
     "source": [
      "Project McNulty - Banking"
     ]
    },
    {
     "cell_type": "heading",
     "level": 2,
     "metadata": {
      "internals": {
       "slide_type": "subslide"
      },
      "slideshow": {
       "slide_type": "slide"
      }
     },
     "source": [
      "Business goals"
     ]
    },
    {
     "cell_type": "markdown",
     "metadata": {
      "internals": {
       "frag_number": 2,
       "slide_helper": "subslide_end"
      },
      "slide_helper": "slide_end",
      "slideshow": {
       "slide_type": "fragment"
      }
     },
     "source": [
      "From a database containing 41K records representing customer calls, build a model capable of:\n",
      "\n",
      "- predicting which customer will buy a term deposit product, and which will not\n",
      "\n",
      "- rank customers according to their propensity to buy the product\n",
      "\n",
      "To evaluate performance, we aim at producing, for each method employed:\n",
      "\n",
      "- an ROC curve\n",
      "\n",
      "- a LIFT curve\n",
      "\n",
      "- a PROFIT curve"
     ]
    },
    {
     "cell_type": "heading",
     "level": 2,
     "metadata": {
      "internals": {
       "frag_helper": "fragment_end",
       "frag_number": 2,
       "slide_type": "subslide"
      },
      "slideshow": {
       "slide_type": "slide"
      }
     },
     "source": [
      "Additional learning goals"
     ]
    },
    {
     "cell_type": "markdown",
     "metadata": {
      "internals": {
       "frag_helper": "fragment_end",
       "frag_number": 4
      },
      "slideshow": {
       "slide_type": "fragment"
      }
     },
     "source": [
      "- maximally use D3.js and interactive visualizations\n",
      "\n",
      "- use a shared MySQL database as the data source"
     ]
    },
    {
     "cell_type": "heading",
     "level": 2,
     "metadata": {
      "internals": {
       "frag_helper": "fragment_end",
       "frag_number": 4
      },
      "slideshow": {
       "slide_type": "skip"
      }
     },
     "source": [
      "Data and reference material"
     ]
    },
    {
     "cell_type": "markdown",
     "metadata": {
      "internals": {
       "frag_helper": "fragment_end",
       "frag_number": 4
      },
      "slideshow": {
       "slide_type": "skip"
      }
     },
     "source": [
      "[Bank Marketing data set](https://archive.ics.uci.edu/ml/datasets/Bank+Marketing)"
     ]
    },
    {
     "cell_type": "heading",
     "level": 2,
     "metadata": {
      "internals": {
       "frag_helper": "fragment_end",
       "frag_number": 4
      },
      "slideshow": {
       "slide_type": "skip"
      }
     },
     "source": [
      "Code"
     ]
    },
    {
     "cell_type": "markdown",
     "metadata": {
      "internals": {
       "frag_helper": "fragment_end",
       "frag_number": 4
      },
      "slideshow": {
       "slide_type": "skip"
      }
     },
     "source": [
      "[Project mcnulty_banking at GitHub](https://github.com/fdurant/mcnulty_banking)"
     ]
    },
    {
     "cell_type": "heading",
     "level": 2,
     "metadata": {
      "internals": {
       "frag_helper": "fragment_end",
       "frag_number": 4
      },
      "slideshow": {
       "slide_type": "skip"
      }
     },
     "source": [
      "Literature"
     ]
    },
    {
     "cell_type": "markdown",
     "metadata": {
      "internals": {
       "frag_helper": "fragment_end",
       "frag_number": 4,
       "slide_helper": "subslide_end"
      },
      "slide_helper": "slide_end",
      "slideshow": {
       "slide_type": "skip"
      }
     },
     "source": [
      "- Chakarin Vajiramedhin and Anirut Suebsing: [Feature Selection with Data Balancing for Prediction of Bank Telemarketing](http://www.m-hikari.com/ams/ams-2014/ams-113-116-2014/vajiramedhinAMS113-116-2014.pdf)\n",
      "\n",
      "- S&eacute;rgio Moro, Paulo Cortez and Paulo Rita: [A Data-Driven Approach to Predict the Success of Bank Telemarketing](http://repositorium.sdum.uminho.pt/xmlui/bitstream/handle/1822/30994/dss-v3.pdf?sequence=1)"
     ]
    },
    {
     "cell_type": "heading",
     "level": 1,
     "metadata": {
      "internals": {
       "frag_helper": "fragment_end",
       "frag_number": 4,
       "slide_type": "subslide"
      },
      "slideshow": {
       "slide_type": "slide"
      }
     },
     "source": [
      "Phase 1: Data preparation & loading"
     ]
    },
    {
     "cell_type": "markdown",
     "metadata": {
      "internals": {
       "frag_helper": "fragment_end",
       "frag_number": 12
      },
      "slideshow": {
       "slide_type": "fragment"
      }
     },
     "source": [
      "We use the [bank-additional.zip](https://archive.ics.uci.edu/ml/machine-learning-databases/00222/bank-additional.zip) data set, unchanged. For pedagogical reasons, we were asked to first load the data in a MySQL database running on a virtual server at [DigitalOcean](https://www.digitalocean.com). This involved writing a [DB schema](https://github.com/fdurant/mcnulty_banking/blob/master/data/bank-additional/bank-additional-schema.sql) as well as a [load command](https://github.com/fdurant/mcnulty_banking/blob/master/data/bank-additional/bank-additional-load-data.sql) in SQL.\n",
      "\n",
      "Let's check if the data are readable from there:"
     ]
    },
    {
     "cell_type": "code",
     "collapsed": false,
     "input": [
      "import pymysql\n",
      "import credentials\n",
      "\n",
      "db = pymysql.connect(host=credentials.host,\n",
      "                     user=credentials.user,\n",
      "                     passwd=credentials.password,\n",
      "                     db='bank')\n",
      "\n",
      "cursor = db.cursor()\n",
      "\n",
      "cursor.execute(\"SELECT * FROM bank_full LIMIT 3\")\n",
      "for i in cursor.fetchall():\n",
      "    print i\n",
      "\n",
      "cursor.close()\n",
      "db.close()"
     ],
     "language": "python",
     "metadata": {
      "internals": {
       "frag_helper": "fragment_end",
       "frag_number": 13,
       "slide_helper": "subslide_end"
      },
      "slide_helper": "slide_end",
      "slideshow": {
       "slide_type": "fragment"
      }
     },
     "outputs": [
      {
       "output_type": "stream",
       "stream": "stdout",
       "text": [
        "(56, 'housemaid', 'married', 'basic.4y', 'no', 'no', 'no', 'telephone', 'may', 'mon', 261, 1, 999, 0, 'nonexistent', 1.1, 93.994, -36.4, 4.857, 5191.0, 'no')\n",
        "(57, 'services', 'married', 'high.school', 'unknown', 'no', 'no', 'telephone', 'may', 'mon', 149, 1, 999, 0, 'nonexistent', 1.1, 93.994, -36.4, 4.857, 5191.0, 'no')\n",
        "(37, 'services', 'married', 'high.school', 'no', 'yes', 'no', 'telephone', 'may', 'mon', 226, 1, 999, 0, 'nonexistent', 1.1, 93.994, -36.4, 4.857, 5191.0, 'no')\n"
       ]
      }
     ],
     "prompt_number": 1
    },
    {
     "cell_type": "markdown",
     "metadata": {
      "internals": {
       "frag_helper": "fragment_end",
       "frag_number": 13,
       "slide_type": "subslide"
      },
      "slideshow": {
       "slide_type": "slide"
      }
     },
     "source": [
      "Now that we know the database connection is up and running, let's read our data directly into a DataFrame:"
     ]
    },
    {
     "cell_type": "code",
     "collapsed": false,
     "input": [
      "import pandas.io.sql as psql\n",
      "db = pymysql.connect(host=credentials.host,\n",
      "                     user=credentials.user,\n",
      "                     passwd=credentials.password,\n",
      "                     db='bank')\n",
      "query = \"SELECT * FROM bank_full;\"\n",
      "bankDF = psql.read_sql(query, con=db)\n",
      "db.close()\n",
      "print \"Number of database records read: %d\" % len(bankDF)\n",
      "print bankDF.columns\n",
      "bankDF.head()"
     ],
     "language": "python",
     "metadata": {
      "internals": {
       "frag_helper": "fragment_end",
       "frag_number": 15,
       "slide_helper": "subslide_end"
      },
      "slide_helper": "slide_end",
      "slideshow": {
       "slide_type": "fragment"
      }
     },
     "outputs": [
      {
       "output_type": "stream",
       "stream": "stdout",
       "text": [
        "Number of database records read: 41188\n",
        "Index([u'age', u'job', u'marital', u'education', u'bank_def', u'housing', u'loan', u'contact', u'contact_month', u'day_of_week', u'duration', u'campaign', u'pdays', u'previous', u'poutcome', u'emp_var_rate', u'cons_price_idx', u'cons_conf_idx', u'euribor3m', u'nr_employed', u'y'], dtype='object')\n"
       ]
      },
      {
       "html": [
        "<div style=\"max-height:1000px;max-width:1500px;overflow:auto;\">\n",
        "<table border=\"1\" class=\"dataframe\">\n",
        "  <thead>\n",
        "    <tr style=\"text-align: right;\">\n",
        "      <th></th>\n",
        "      <th>age</th>\n",
        "      <th>job</th>\n",
        "      <th>marital</th>\n",
        "      <th>education</th>\n",
        "      <th>bank_def</th>\n",
        "      <th>housing</th>\n",
        "      <th>loan</th>\n",
        "      <th>contact</th>\n",
        "      <th>contact_month</th>\n",
        "      <th>day_of_week</th>\n",
        "      <th>...</th>\n",
        "      <th>campaign</th>\n",
        "      <th>pdays</th>\n",
        "      <th>previous</th>\n",
        "      <th>poutcome</th>\n",
        "      <th>emp_var_rate</th>\n",
        "      <th>cons_price_idx</th>\n",
        "      <th>cons_conf_idx</th>\n",
        "      <th>euribor3m</th>\n",
        "      <th>nr_employed</th>\n",
        "      <th>y</th>\n",
        "    </tr>\n",
        "  </thead>\n",
        "  <tbody>\n",
        "    <tr>\n",
        "      <th>0</th>\n",
        "      <td> 56</td>\n",
        "      <td> housemaid</td>\n",
        "      <td> married</td>\n",
        "      <td>    basic.4y</td>\n",
        "      <td>      no</td>\n",
        "      <td>  no</td>\n",
        "      <td>  no</td>\n",
        "      <td> telephone</td>\n",
        "      <td> may</td>\n",
        "      <td> mon</td>\n",
        "      <td>...</td>\n",
        "      <td> 1</td>\n",
        "      <td> 999</td>\n",
        "      <td> 0</td>\n",
        "      <td> nonexistent</td>\n",
        "      <td> 1.1</td>\n",
        "      <td> 93.994</td>\n",
        "      <td>-36.4</td>\n",
        "      <td> 4.857</td>\n",
        "      <td> 5191</td>\n",
        "      <td> no</td>\n",
        "    </tr>\n",
        "    <tr>\n",
        "      <th>1</th>\n",
        "      <td> 57</td>\n",
        "      <td>  services</td>\n",
        "      <td> married</td>\n",
        "      <td> high.school</td>\n",
        "      <td> unknown</td>\n",
        "      <td>  no</td>\n",
        "      <td>  no</td>\n",
        "      <td> telephone</td>\n",
        "      <td> may</td>\n",
        "      <td> mon</td>\n",
        "      <td>...</td>\n",
        "      <td> 1</td>\n",
        "      <td> 999</td>\n",
        "      <td> 0</td>\n",
        "      <td> nonexistent</td>\n",
        "      <td> 1.1</td>\n",
        "      <td> 93.994</td>\n",
        "      <td>-36.4</td>\n",
        "      <td> 4.857</td>\n",
        "      <td> 5191</td>\n",
        "      <td> no</td>\n",
        "    </tr>\n",
        "    <tr>\n",
        "      <th>2</th>\n",
        "      <td> 37</td>\n",
        "      <td>  services</td>\n",
        "      <td> married</td>\n",
        "      <td> high.school</td>\n",
        "      <td>      no</td>\n",
        "      <td> yes</td>\n",
        "      <td>  no</td>\n",
        "      <td> telephone</td>\n",
        "      <td> may</td>\n",
        "      <td> mon</td>\n",
        "      <td>...</td>\n",
        "      <td> 1</td>\n",
        "      <td> 999</td>\n",
        "      <td> 0</td>\n",
        "      <td> nonexistent</td>\n",
        "      <td> 1.1</td>\n",
        "      <td> 93.994</td>\n",
        "      <td>-36.4</td>\n",
        "      <td> 4.857</td>\n",
        "      <td> 5191</td>\n",
        "      <td> no</td>\n",
        "    </tr>\n",
        "    <tr>\n",
        "      <th>3</th>\n",
        "      <td> 40</td>\n",
        "      <td>    admin.</td>\n",
        "      <td> married</td>\n",
        "      <td>    basic.6y</td>\n",
        "      <td>      no</td>\n",
        "      <td>  no</td>\n",
        "      <td>  no</td>\n",
        "      <td> telephone</td>\n",
        "      <td> may</td>\n",
        "      <td> mon</td>\n",
        "      <td>...</td>\n",
        "      <td> 1</td>\n",
        "      <td> 999</td>\n",
        "      <td> 0</td>\n",
        "      <td> nonexistent</td>\n",
        "      <td> 1.1</td>\n",
        "      <td> 93.994</td>\n",
        "      <td>-36.4</td>\n",
        "      <td> 4.857</td>\n",
        "      <td> 5191</td>\n",
        "      <td> no</td>\n",
        "    </tr>\n",
        "    <tr>\n",
        "      <th>4</th>\n",
        "      <td> 56</td>\n",
        "      <td>  services</td>\n",
        "      <td> married</td>\n",
        "      <td> high.school</td>\n",
        "      <td>      no</td>\n",
        "      <td>  no</td>\n",
        "      <td> yes</td>\n",
        "      <td> telephone</td>\n",
        "      <td> may</td>\n",
        "      <td> mon</td>\n",
        "      <td>...</td>\n",
        "      <td> 1</td>\n",
        "      <td> 999</td>\n",
        "      <td> 0</td>\n",
        "      <td> nonexistent</td>\n",
        "      <td> 1.1</td>\n",
        "      <td> 93.994</td>\n",
        "      <td>-36.4</td>\n",
        "      <td> 4.857</td>\n",
        "      <td> 5191</td>\n",
        "      <td> no</td>\n",
        "    </tr>\n",
        "  </tbody>\n",
        "</table>\n",
        "<p>5 rows \u00d7 21 columns</p>\n",
        "</div>"
       ],
       "metadata": {},
       "output_type": "pyout",
       "prompt_number": 2,
       "text": [
        "   age        job  marital    education bank_def housing loan    contact  \\\n",
        "0   56  housemaid  married     basic.4y       no      no   no  telephone   \n",
        "1   57   services  married  high.school  unknown      no   no  telephone   \n",
        "2   37   services  married  high.school       no     yes   no  telephone   \n",
        "3   40     admin.  married     basic.6y       no      no   no  telephone   \n",
        "4   56   services  married  high.school       no      no  yes  telephone   \n",
        "\n",
        "  contact_month day_of_week ...  campaign  pdays  previous     poutcome  \\\n",
        "0           may         mon ...         1    999         0  nonexistent   \n",
        "1           may         mon ...         1    999         0  nonexistent   \n",
        "2           may         mon ...         1    999         0  nonexistent   \n",
        "3           may         mon ...         1    999         0  nonexistent   \n",
        "4           may         mon ...         1    999         0  nonexistent   \n",
        "\n",
        "  emp_var_rate  cons_price_idx  cons_conf_idx  euribor3m  nr_employed   y  \n",
        "0          1.1          93.994          -36.4      4.857         5191  no  \n",
        "1          1.1          93.994          -36.4      4.857         5191  no  \n",
        "2          1.1          93.994          -36.4      4.857         5191  no  \n",
        "3          1.1          93.994          -36.4      4.857         5191  no  \n",
        "4          1.1          93.994          -36.4      4.857         5191  no  \n",
        "\n",
        "[5 rows x 21 columns]"
       ]
      }
     ],
     "prompt_number": 2
    },
    {
     "cell_type": "markdown",
     "metadata": {
      "internals": {
       "frag_helper": "fragment_end",
       "frag_number": 15,
       "slide_type": "subslide"
      },
      "slideshow": {
       "slide_type": "slide"
      }
     },
     "source": [
      "Most of our models can't handle the categorical fields, so our next step is to convert them to dummy numerical variables."
     ]
    },
    {
     "cell_type": "code",
     "collapsed": false,
     "input": [
      "import pandas as pd\n",
      "import numpy as np\n",
      "tmpDF = bankDF.copy()\n",
      "tmpDF.y.replace(to_replace=['yes','no'], value=[1,0], inplace=True)\n",
      "\n",
      "# Delete the field(s) unknown before the call is made\n",
      "nonAvailableFields = ['duration']\n",
      "for field in nonAvailableFields:\n",
      "    tmpDF.drop(field, axis=1, inplace=True)\n",
      "\n",
      "# Key: categorical field name\n",
      "# Value: list of abbreviation and post-dummification redundant field\n",
      "categoricalFields = {'job':['job','unknown'],\n",
      "                     'marital':['mar','unknown'],\n",
      "                     'education':['ed','unknown'],\n",
      "                     'bank_def':['def','unknown'],\n",
      "                     'housing':['h','unknown'],\n",
      "                     'loan':['loan','unknown'],\n",
      "                     'contact':['cntct','telephone'],\n",
      "                     'contact_month':['cntct',None], # Because 'jan' and 'feb' are missing in the data, despite being plausible\n",
      "                     'day_of_week':['dow','fri'], # Even though 'sat' and 'sun' are missing, these are not plausible values\n",
      "                     'poutcome':['pout','nonexistent'],\n",
      "                           }\n",
      "# Convert all categorical fields in dummy numerical ones\n",
      "# AND delete one dummified field because it contains redundant information\n",
      "for (categoricalField, value) in categoricalFields.iteritems():\n",
      "    (prefix, dummifiedRedundantField) = value\n",
      "    tmpDF = pd.concat([tmpDF, pd.get_dummies(tmpDF[categoricalField], prefix=prefix)], axis=1)\n",
      "    if dummifiedRedundantField:\n",
      "        tmpDF.drop(\"%s_%s\" % (prefix, dummifiedRedundantField), axis=1, inplace=True)\n",
      "\n",
      "# of course, also delete the categorical fields\n",
      "for (categoricalField,_) in categoricalFields.iteritems():\n",
      "    tmpDF.drop(categoricalField, axis=1, inplace=True)\n",
      "bankDF2 = tmpDF.copy()\n",
      "print bankDF2.columns\n",
      "bankDF2.head()"
     ],
     "language": "python",
     "metadata": {
      "internals": {
       "frag_helper": "fragment_end",
       "frag_number": 17,
       "slide_helper": "subslide_end"
      },
      "slide_helper": "slide_end",
      "slideshow": {
       "slide_type": "fragment"
      }
     },
     "outputs": [
      {
       "output_type": "stream",
       "stream": "stdout",
       "text": [
        "Index([u'age', u'campaign', u'pdays', u'previous', u'emp_var_rate', u'cons_price_idx', u'cons_conf_idx', u'euribor3m', u'nr_employed', u'y', u'job_admin.', u'job_blue-collar', u'job_entrepreneur', u'job_housemaid', u'job_management', u'job_retired', u'job_self-employed', u'job_services', u'job_student', u'job_technician', u'job_unemployed', u'cntct_cellular', u'pout_failure', u'pout_success', u'dow_mon', u'dow_thu', u'dow_tue', u'dow_wed', u'cntct_apr', u'cntct_aug', u'cntct_dec', u'cntct_jul', u'cntct_jun', u'cntct_mar', u'cntct_may', u'cntct_nov', u'cntct_oct', u'cntct_sep', u'h_no', u'h_yes', u'ed_basic.4y', u'ed_basic.6y', u'ed_basic.9y', u'ed_high.school', u'ed_illiterate', u'ed_professional.course', u'ed_university.degree', u'loan_no', u'loan_yes', u'def_no', u'def_yes', u'mar_divorced', u'mar_married', u'mar_single'], dtype='object')\n"
       ]
      },
      {
       "html": [
        "<div style=\"max-height:1000px;max-width:1500px;overflow:auto;\">\n",
        "<table border=\"1\" class=\"dataframe\">\n",
        "  <thead>\n",
        "    <tr style=\"text-align: right;\">\n",
        "      <th></th>\n",
        "      <th>age</th>\n",
        "      <th>campaign</th>\n",
        "      <th>pdays</th>\n",
        "      <th>previous</th>\n",
        "      <th>emp_var_rate</th>\n",
        "      <th>cons_price_idx</th>\n",
        "      <th>cons_conf_idx</th>\n",
        "      <th>euribor3m</th>\n",
        "      <th>nr_employed</th>\n",
        "      <th>y</th>\n",
        "      <th>...</th>\n",
        "      <th>ed_illiterate</th>\n",
        "      <th>ed_professional.course</th>\n",
        "      <th>ed_university.degree</th>\n",
        "      <th>loan_no</th>\n",
        "      <th>loan_yes</th>\n",
        "      <th>def_no</th>\n",
        "      <th>def_yes</th>\n",
        "      <th>mar_divorced</th>\n",
        "      <th>mar_married</th>\n",
        "      <th>mar_single</th>\n",
        "    </tr>\n",
        "  </thead>\n",
        "  <tbody>\n",
        "    <tr>\n",
        "      <th>0</th>\n",
        "      <td> 56</td>\n",
        "      <td> 1</td>\n",
        "      <td> 999</td>\n",
        "      <td> 0</td>\n",
        "      <td> 1.1</td>\n",
        "      <td> 93.994</td>\n",
        "      <td>-36.4</td>\n",
        "      <td> 4.857</td>\n",
        "      <td> 5191</td>\n",
        "      <td> 0</td>\n",
        "      <td>...</td>\n",
        "      <td> 0</td>\n",
        "      <td> 0</td>\n",
        "      <td> 0</td>\n",
        "      <td> 1</td>\n",
        "      <td> 0</td>\n",
        "      <td> 1</td>\n",
        "      <td> 0</td>\n",
        "      <td> 0</td>\n",
        "      <td> 1</td>\n",
        "      <td> 0</td>\n",
        "    </tr>\n",
        "    <tr>\n",
        "      <th>1</th>\n",
        "      <td> 57</td>\n",
        "      <td> 1</td>\n",
        "      <td> 999</td>\n",
        "      <td> 0</td>\n",
        "      <td> 1.1</td>\n",
        "      <td> 93.994</td>\n",
        "      <td>-36.4</td>\n",
        "      <td> 4.857</td>\n",
        "      <td> 5191</td>\n",
        "      <td> 0</td>\n",
        "      <td>...</td>\n",
        "      <td> 0</td>\n",
        "      <td> 0</td>\n",
        "      <td> 0</td>\n",
        "      <td> 1</td>\n",
        "      <td> 0</td>\n",
        "      <td> 0</td>\n",
        "      <td> 0</td>\n",
        "      <td> 0</td>\n",
        "      <td> 1</td>\n",
        "      <td> 0</td>\n",
        "    </tr>\n",
        "    <tr>\n",
        "      <th>2</th>\n",
        "      <td> 37</td>\n",
        "      <td> 1</td>\n",
        "      <td> 999</td>\n",
        "      <td> 0</td>\n",
        "      <td> 1.1</td>\n",
        "      <td> 93.994</td>\n",
        "      <td>-36.4</td>\n",
        "      <td> 4.857</td>\n",
        "      <td> 5191</td>\n",
        "      <td> 0</td>\n",
        "      <td>...</td>\n",
        "      <td> 0</td>\n",
        "      <td> 0</td>\n",
        "      <td> 0</td>\n",
        "      <td> 1</td>\n",
        "      <td> 0</td>\n",
        "      <td> 1</td>\n",
        "      <td> 0</td>\n",
        "      <td> 0</td>\n",
        "      <td> 1</td>\n",
        "      <td> 0</td>\n",
        "    </tr>\n",
        "    <tr>\n",
        "      <th>3</th>\n",
        "      <td> 40</td>\n",
        "      <td> 1</td>\n",
        "      <td> 999</td>\n",
        "      <td> 0</td>\n",
        "      <td> 1.1</td>\n",
        "      <td> 93.994</td>\n",
        "      <td>-36.4</td>\n",
        "      <td> 4.857</td>\n",
        "      <td> 5191</td>\n",
        "      <td> 0</td>\n",
        "      <td>...</td>\n",
        "      <td> 0</td>\n",
        "      <td> 0</td>\n",
        "      <td> 0</td>\n",
        "      <td> 1</td>\n",
        "      <td> 0</td>\n",
        "      <td> 1</td>\n",
        "      <td> 0</td>\n",
        "      <td> 0</td>\n",
        "      <td> 1</td>\n",
        "      <td> 0</td>\n",
        "    </tr>\n",
        "    <tr>\n",
        "      <th>4</th>\n",
        "      <td> 56</td>\n",
        "      <td> 1</td>\n",
        "      <td> 999</td>\n",
        "      <td> 0</td>\n",
        "      <td> 1.1</td>\n",
        "      <td> 93.994</td>\n",
        "      <td>-36.4</td>\n",
        "      <td> 4.857</td>\n",
        "      <td> 5191</td>\n",
        "      <td> 0</td>\n",
        "      <td>...</td>\n",
        "      <td> 0</td>\n",
        "      <td> 0</td>\n",
        "      <td> 0</td>\n",
        "      <td> 0</td>\n",
        "      <td> 1</td>\n",
        "      <td> 1</td>\n",
        "      <td> 0</td>\n",
        "      <td> 0</td>\n",
        "      <td> 1</td>\n",
        "      <td> 0</td>\n",
        "    </tr>\n",
        "  </tbody>\n",
        "</table>\n",
        "<p>5 rows \u00d7 54 columns</p>\n",
        "</div>"
       ],
       "metadata": {},
       "output_type": "pyout",
       "prompt_number": 3,
       "text": [
        "   age  campaign  pdays  previous  emp_var_rate  cons_price_idx  \\\n",
        "0   56         1    999         0           1.1          93.994   \n",
        "1   57         1    999         0           1.1          93.994   \n",
        "2   37         1    999         0           1.1          93.994   \n",
        "3   40         1    999         0           1.1          93.994   \n",
        "4   56         1    999         0           1.1          93.994   \n",
        "\n",
        "   cons_conf_idx  euribor3m  nr_employed  y     ...      ed_illiterate  \\\n",
        "0          -36.4      4.857         5191  0     ...                  0   \n",
        "1          -36.4      4.857         5191  0     ...                  0   \n",
        "2          -36.4      4.857         5191  0     ...                  0   \n",
        "3          -36.4      4.857         5191  0     ...                  0   \n",
        "4          -36.4      4.857         5191  0     ...                  0   \n",
        "\n",
        "   ed_professional.course  ed_university.degree  loan_no  loan_yes  def_no  \\\n",
        "0                       0                     0        1         0       1   \n",
        "1                       0                     0        1         0       0   \n",
        "2                       0                     0        1         0       1   \n",
        "3                       0                     0        1         0       1   \n",
        "4                       0                     0        0         1       1   \n",
        "\n",
        "   def_yes  mar_divorced  mar_married  mar_single  \n",
        "0        0             0            1           0  \n",
        "1        0             0            1           0  \n",
        "2        0             0            1           0  \n",
        "3        0             0            1           0  \n",
        "4        0             0            1           0  \n",
        "\n",
        "[5 rows x 54 columns]"
       ]
      }
     ],
     "prompt_number": 3
    },
    {
     "cell_type": "heading",
     "level": 1,
     "metadata": {
      "internals": {
       "frag_helper": "fragment_end",
       "frag_number": 17,
       "slide_type": "subslide"
      },
      "slideshow": {
       "slide_type": "slide"
      }
     },
     "source": [
      "Phase 2: model building and evaluation"
     ]
    },
    {
     "cell_type": "heading",
     "level": 2,
     "metadata": {
      "internals": {
       "frag_helper": "fragment_end",
       "frag_number": 19
      },
      "slideshow": {
       "slide_type": "fragment"
      }
     },
     "source": [
      "Shared settings and initializations"
     ]
    },
    {
     "cell_type": "code",
     "collapsed": false,
     "input": [
      "%matplotlib inline\n",
      "import sys\n",
      "from sklearn.cross_validation import cross_val_score, KFold\n",
      "from sklearn.metrics import roc_auc_score\n",
      "from sklearn import preprocessing\n",
      "from matplotlib import pyplot as plt\n",
      "from math import log10\n",
      "from time import sleep\n",
      "\n",
      "X_values = bankDF2.copy()\n",
      "X_values.drop('y', axis=1, inplace=True)\n",
      "y_values = bankDF2['y']\n",
      "\n",
      "# Scale the X values\n",
      "X_values_scaled = preprocessing.scale(X_values.astype(float))\n",
      "\n",
      "scorerType = 'roc_auc'\n",
      "\n",
      "nrCrossValidationFolds=10\n",
      "# We MUST shuffle, because the data seem to be somehow ordered by date,\n",
      "# resulting in grouped rows of similar socio-economic value combinations!!!\n",
      "cvGenerator = KFold(len(X_values), n_folds=nrCrossValidationFolds, shuffle=True)  \n",
      "\n",
      "bestLogCValue = None\n",
      "bestKValue = None\n",
      "bestNrEst = None\n",
      "bestMaxFeat = None\n",
      "\n",
      "print X_values_scaled[0:3]"
     ],
     "language": "python",
     "metadata": {
      "internals": {
       "frag_helper": "fragment_end",
       "frag_number": 20
      },
      "slideshow": {
       "slide_type": "fragment"
      }
     },
     "outputs": [
      {
       "output_type": "stream",
       "stream": "stdout",
       "text": [
        "[[ 1.53303429 -0.56592197  0.1954139  -0.34949428  0.64809227  0.72272247\n",
        "   0.88644656  0.71245988  0.33167991 -0.58202282 -0.53831699 -0.19143021\n",
        "   6.15277204 -0.2764353  -0.2087573  -0.18903213 -0.3265564  -0.1473267\n",
        "  -0.44244927 -0.15887166 -1.31826996 -0.3392905  -0.1857      1.95899952\n",
        "  -0.51458089 -0.49439422 -0.4960667  -0.26127446 -0.42007603 -0.06662113\n",
        "  -0.45925282 -0.38504233 -0.11590677  1.41115463 -0.33253245 -0.13319736\n",
        "  -0.11846175  1.10081447 -1.04887691  2.97708361 -0.24274754 -0.41474269\n",
        "  -0.54809999 -0.0209096  -0.38191849 -0.64753149  0.46173139 -0.42287213\n",
        "   0.51371278 -0.00853476 -0.35509663  0.80763764 -0.62493754]\n",
        " [ 1.62899323 -0.56592197  0.1954139  -0.34949428  0.64809227  0.72272247\n",
        "   0.88644656  0.71245988  0.33167991 -0.58202282 -0.53831699 -0.19143021\n",
        "  -0.16252837 -0.2764353  -0.2087573  -0.18903213  3.06225816 -0.1473267\n",
        "  -0.44244927 -0.15887166 -1.31826996 -0.3392905  -0.1857      1.95899952\n",
        "  -0.51458089 -0.49439422 -0.4960667  -0.26127446 -0.42007603 -0.06662113\n",
        "  -0.45925282 -0.38504233 -0.11590677  1.41115463 -0.33253245 -0.13319736\n",
        "  -0.11846175  1.10081447 -1.04887691 -0.3358992  -0.24274754 -0.41474269\n",
        "   1.82448461 -0.0209096  -0.38191849 -0.64753149  0.46173139 -0.42287213\n",
        "  -1.94661304 -0.00853476 -0.35509663  0.80763764 -0.62493754]\n",
        " [-0.29018564 -0.56592197  0.1954139  -0.34949428  0.64809227  0.72272247\n",
        "   0.88644656  0.71245988  0.33167991 -0.58202282 -0.53831699 -0.19143021\n",
        "  -0.16252837 -0.2764353  -0.2087573  -0.18903213  3.06225816 -0.1473267\n",
        "  -0.44244927 -0.15887166 -1.31826996 -0.3392905  -0.1857      1.95899952\n",
        "  -0.51458089 -0.49439422 -0.4960667  -0.26127446 -0.42007603 -0.06662113\n",
        "  -0.45925282 -0.38504233 -0.11590677  1.41115463 -0.33253245 -0.13319736\n",
        "  -0.11846175 -0.90841829  0.95340072 -0.3358992  -0.24274754 -0.41474269\n",
        "   1.82448461 -0.0209096  -0.38191849 -0.64753149  0.46173139 -0.42287213\n",
        "   0.51371278 -0.00853476 -0.35509663  0.80763764 -0.62493754]]\n"
       ]
      }
     ],
     "prompt_number": 5
    },
    {
     "cell_type": "heading",
     "level": 2,
     "metadata": {
      "internals": {
       "frag_helper": "fragment_end",
       "frag_number": 20
      },
      "slideshow": {
       "slide_type": "skip"
      }
     },
     "source": [
      "Logistic regression"
     ]
    },
    {
     "cell_type": "code",
     "collapsed": false,
     "input": [
      "from sklearn.linear_model import LogisticRegression\n",
      "\n",
      "cValues = [pow(10,(x-10)) for x in range(20)]\n",
      "#print \"cValues = \", cValues \n",
      "\n",
      "# selects weights inversely proportional to class frequencies in the training set\n",
      "# See http://scikit-learn.org/stable/modules/generated/sklearn.linear_model.LogisticRegression.html\n",
      "#classWeight = 'auto'\n",
      "classWeight = None\n",
      "\n",
      "estimators = []\n",
      "scoreList = []\n",
      "for i in range(len(cValues)):\n",
      "    c = cValues[i]\n",
      "    print >> sys.stderr, \"(%d/%d) Building logres model for C value %1.15f ...\" % (i+1,len(cValues),c),\n",
      "    estimator = LogisticRegression(C=c,class_weight=classWeight)\n",
      "    print >> sys.stderr, \"applying it ...\",\n",
      "    scores = cross_val_score(estimator, X_values_scaled, y=y_values, scoring=scorerType, cv=cvGenerator, n_jobs=1)\n",
      "    estimators.append(estimator)\n",
      "    scoreList.append((scores.mean(),scores.std()))\n",
      "    print >> sys.stderr, \"done\"\n",
      "sleep(1)\n",
      "\n",
      "print \"scoreList = \", scoreList\n",
      "meanScores = [x[0] for x in scoreList]\n",
      "\n",
      "bestModelIndex = meanScores.index(max(meanScores))\n",
      "print \"best logres model has:\"\n",
      "print \"%s score: %2.2f%% (+/- %2.2f%%)\" % (scorerType, scoreList[bestModelIndex][0] * 100, scoreList[bestModelIndex][1] * 100)\n",
      "bestCValue = cValues[bestModelIndex]\n",
      "bestLogCValue = log10(bestCValue)\n",
      "print \"C value: \", bestCValue\n",
      "print \"log10(C) value: \", bestLogCValue\n",
      "\n",
      "fig = plt.figure()\n",
      "plt.plot([log10(c) for c in cValues],[x[0] for x in scoreList], 'o-'\u001c",
      ", color='g', label='mean')\n",
      "plt.fill_between([log10(c) for c in cValues], [x[0]-x[1] for x in scoreList],\n",
      "                 [x[0]+x[1] for x in scoreList], alpha=0.1,\n",
      "                 color=\"g\", label='standard deviation')\n",
      "plt.title(\"Classification score on subscription prediction\\nwith logres model using various C values\")\n",
      "plt.xlabel(\"log10(C)\")\n",
      "plt.ylabel(scorerType)\n",
      "plt.legend(loc='best')\n",
      "plt.show()"
     ],
     "language": "python",
     "metadata": {
      "internals": {
       "frag_helper": "fragment_end",
       "frag_number": 20
      },
      "slideshow": {
       "slide_type": "skip"
      }
     },
     "outputs": [
      {
       "output_type": "stream",
       "stream": "stderr",
       "text": [
        "(1/20) Building logres model for C value 0.000000000100000 ... applying it ... "
       ]
      },
      {
       "output_type": "stream",
       "stream": "stderr",
       "text": [
        "done\n",
        "(2/20) Building logres model for C value 0.000000001000000 ... applying it ... "
       ]
      },
      {
       "output_type": "stream",
       "stream": "stderr",
       "text": [
        "done\n",
        "(3/20) Building logres model for C value 0.000000010000000 ... applying it ... "
       ]
      },
      {
       "output_type": "stream",
       "stream": "stderr",
       "text": [
        "done\n",
        "(4/20) Building logres model for C value 0.000000100000000 ... applying it ... "
       ]
      },
      {
       "output_type": "stream",
       "stream": "stderr",
       "text": [
        "done\n",
        "(5/20) Building logres model for C value 0.000001000000000 ... applying it ... "
       ]
      },
      {
       "output_type": "stream",
       "stream": "stderr",
       "text": [
        "done\n",
        "(6/20) Building logres model for C value 0.000010000000000 ... applying it ... "
       ]
      },
      {
       "output_type": "stream",
       "stream": "stderr",
       "text": [
        "done\n",
        "(7/20) Building logres model for C value 0.000100000000000 ... applying it ... "
       ]
      },
      {
       "output_type": "stream",
       "stream": "stderr",
       "text": [
        "done\n",
        "(8/20) Building logres model for C value 0.001000000000000 ... applying it ... "
       ]
      },
      {
       "output_type": "stream",
       "stream": "stderr",
       "text": [
        "done\n",
        "(9/20) Building logres model for C value 0.010000000000000 ... applying it ... "
       ]
      },
      {
       "output_type": "stream",
       "stream": "stderr",
       "text": [
        "done\n",
        "(10/20) Building logres model for C value 0.100000000000000 ... applying it ... "
       ]
      },
      {
       "output_type": "stream",
       "stream": "stderr",
       "text": [
        "done\n",
        "(11/20) Building logres model for C value 1.000000000000000 ... applying it ... "
       ]
      },
      {
       "output_type": "stream",
       "stream": "stderr",
       "text": [
        "done\n",
        "(12/20) Building logres model for C value 10.000000000000000 ... applying it ... "
       ]
      },
      {
       "output_type": "stream",
       "stream": "stderr",
       "text": [
        "done\n",
        "(13/20) Building logres model for C value 100.000000000000000 ... applying it ... "
       ]
      },
      {
       "output_type": "stream",
       "stream": "stderr",
       "text": [
        "done\n",
        "(14/20) Building logres model for C value 1000.000000000000000 ... applying it ... "
       ]
      },
      {
       "output_type": "stream",
       "stream": "stderr",
       "text": [
        "done\n",
        "(15/20) Building logres model for C value 10000.000000000000000 ... applying it ... "
       ]
      },
      {
       "output_type": "stream",
       "stream": "stderr",
       "text": [
        "done\n",
        "(16/20) Building logres model for C value 100000.000000000000000 ... applying it ... "
       ]
      },
      {
       "output_type": "stream",
       "stream": "stderr",
       "text": [
        "done\n",
        "(17/20) Building logres model for C value 1000000.000000000000000 ... applying it ... "
       ]
      },
      {
       "output_type": "stream",
       "stream": "stderr",
       "text": [
        "done\n",
        "(18/20) Building logres model for C value 10000000.000000000000000 ... applying it ... "
       ]
      },
      {
       "output_type": "stream",
       "stream": "stderr",
       "text": [
        "done\n",
        "(19/20) Building logres model for C value 100000000.000000000000000 ... applying it ... "
       ]
      },
      {
       "output_type": "stream",
       "stream": "stderr",
       "text": [
        "done\n",
        "(20/20) Building logres model for C value 1000000000.000000000000000 ... applying it ... "
       ]
      },
      {
       "output_type": "stream",
       "stream": "stdout",
       "text": [
        "scoreList =  [(0.76852571340135201, 0.016463698449512152), (0.77555574459894383, 0.017061109431462957), (0.77555610632183902, 0.017065624707790623), (0.77559732642829915, 0.01706547966110734), (0.77597622548078626, 0.017069806522444511), (0.7786691093726047, 0.017036379287597259), (0.78583117260986424, 0.01711158786349817), (0.78987643548311071, 0.01685217367900127), (0.79051523036065141, 0.016962987811507728), (0.79166500385400185, 0.017292779904744631), (0.79135430059022993, 0.017505072559269128), (0.7912842310188487, 0.017524008065868173), (0.79127626374589888, 0.017529354360457623), (0.79127599556336015, 0.017529210755019137), (0.79127671197608807, 0.017529150341335106), (0.79127612474980757, 0.017529090324544132), (0.79127633803373587, 0.017528895425720833), (0.79127643477927667, 0.017528981082963406), (0.79127602533914365, 0.01752923660087486), (0.79127588400279947, 0.017529221900152311)]\n",
        "best logres model has:\n",
        "roc_auc score: 79.17% (+/- 1.73%)\n",
        "C value:  0.1\n",
        "log10(C) value:  -1.0\n"
       ]
      },
      {
       "output_type": "stream",
       "stream": "stderr",
       "text": [
        "done\n"
       ]
      },
      {
       "metadata": {},
       "output_type": "display_data",
       "png": "[encoded data removed]",
       "text": [
        "<matplotlib.figure.Figure at 0x10cc14f10>"
       ]
      }
     ],
     "prompt_number": 7
    },
    {
     "cell_type": "heading",
     "level": 2,
     "metadata": {
      "internals": {
       "frag_helper": "fragment_end",
       "frag_number": 20
      },
      "slideshow": {
       "slide_type": "skip"
      }
     },
     "source": [
      "K Nearest Neighbors"
     ]
    },
    {
     "cell_type": "code",
     "collapsed": false,
     "input": [
      "from sklearn.neighbors import KNeighborsClassifier\n",
      "\n",
      "#kValues = range(1,31)\n",
      "kValues = range(25,31) # In order to gain some processing time\n",
      "\n",
      "estimators = []\n",
      "scoreList = []\n",
      "for i in range(len(kValues)):\n",
      "    k = kValues[i]\n",
      "    print >> sys.stderr, \"(%d/%d) Building %d nearest neighbor model ...\" % (i+1,len(kValues),k),\n",
      "    estimator = KNeighborsClassifier(n_neighbors=k)\n",
      "    print >> sys.stderr, \"applying it ...\",\n",
      "    scores = cross_val_score(estimator, X_values_scaled, y=y_values, scoring=scorerType, cv=cvGenerator, n_jobs=1)\n",
      "    estimators.append(estimator)\n",
      "    scoreList.append((scores.mean(),scores.std()))\n",
      "    print >> sys.stderr, \"done\"\n",
      "sleep(1)\n",
      "\n",
      "print \"scoreList = \", scoreList\n",
      "meanScores = [x[0] for x in scoreList]\n",
      "\n",
      "bestModelIndex = meanScores.index(max(meanScores))\n",
      "print \"best KNN model has:\"\n",
      "print \"%s score: %2.2f%% (+/- %2.2f%%)\" % (scorerType, scoreList[bestModelIndex][0] * 100, scoreList[bestModelIndex][1] * 100)\n",
      "bestKValue = kValues[bestModelIndex]\n",
      "print \"K value: \", bestKValue\n",
      "\n",
      "fig = plt.figure()\n",
      "plt.plot([k for k in kValues],[x[0] for x in scoreList], 'o-'\u001c",
      ", color='g', label='mean')\n",
      "plt.fill_between([k for k in kValues], [x[0]-x[1] for x in scoreList],\n",
      "                 [x[0]+x[1] for x in scoreList], alpha=0.1,\n",
      "                 color=\"g\", label='standard deviation')\n",
      "plt.title(\"Classification score on subscription prediction\\nwith K nearest neighbor model using various K values\")\n",
      "plt.xlabel(\"K\")\n",
      "plt.ylabel(scorerType)\n",
      "plt.legend(loc='best')\n",
      "plt.show()"
     ],
     "language": "python",
     "metadata": {
      "internals": {
       "frag_helper": "fragment_end",
       "frag_number": 20
      },
      "slideshow": {
       "slide_type": "skip"
      }
     },
     "outputs": [
      {
       "output_type": "stream",
       "stream": "stderr",
       "text": [
        "(1/6) Building 25 nearest neighbor model ... applying it ... "
       ]
      },
      {
       "output_type": "stream",
       "stream": "stderr",
       "text": [
        "done\n",
        "(2/6) Building 26 nearest neighbor model ... applying it ... "
       ]
      },
      {
       "output_type": "stream",
       "stream": "stderr",
       "text": [
        "done\n",
        "(3/6) Building 27 nearest neighbor model ... applying it ... "
       ]
      },
      {
       "output_type": "stream",
       "stream": "stderr",
       "text": [
        "done\n",
        "(4/6) Building 28 nearest neighbor model ... applying it ... "
       ]
      },
      {
       "output_type": "stream",
       "stream": "stderr",
       "text": [
        "done\n",
        "(5/6) Building 29 nearest neighbor model ... applying it ... "
       ]
      },
      {
       "output_type": "stream",
       "stream": "stderr",
       "text": [
        "done\n",
        "(6/6) Building 30 nearest neighbor model ... applying it ... "
       ]
      },
      {
       "output_type": "stream",
       "stream": "stdout",
       "text": [
        "scoreList =  [(0.76609182520079488, 0.017061429481383547), (0.76587143240413358, 0.01775989222684619), (0.7663135868986104, 0.017552408550698933), (0.76707292007507977, 0.01716530390755228), (0.76773801717784218, 0.016365780456108418), (0.76878066514501531, 0.016299571914118249)]\n",
        "best KNN model has:\n",
        "roc_auc score: 76.88% (+/- 1.63%)\n",
        "K value:  30\n"
       ]
      },
      {
       "output_type": "stream",
       "stream": "stderr",
       "text": [
        "done\n"
       ]
      },
      {
       "metadata": {},
       "output_type": "display_data",
       "png": "[encoded data removed]",
       "text": [
        "<matplotlib.figure.Figure at 0x10cc0e110>"
       ]
      }
     ],
     "prompt_number": 8
    },
    {
     "cell_type": "heading",
     "level": 2,
     "metadata": {
      "internals": {
       "frag_helper": "fragment_end",
       "frag_number": 20
      },
      "slideshow": {
       "slide_type": "skip"
      }
     },
     "source": [
      "Random forest"
     ]
    },
    {
     "cell_type": "code",
     "collapsed": false,
     "input": [
      "from sklearn.ensemble import RandomForestClassifier\n",
      "import itertools\n",
      "from math import log\n",
      "\n",
      "nrEstimators = [pow(2,x) for x in range(7,9)]\n",
      "maxFeatures = [pow(2,x) for x in range(1,int(log(len(X_values.columns.values.tolist()))+2))]\n",
      "\n",
      "rfConfigurations = list(itertools.product(*[nrEstimators,maxFeatures]))\n",
      "print \"configurations: \", rfConfigurations\n",
      "\n",
      "scoreList = []\n",
      "for i in range(len(rfConfigurations)):\n",
      "    nrEst, maxFeat = rfConfigurations[i]\n",
      "    print >> sys.stderr, \"(%d/%d) Building random forest model with %d estimators and maximum %d features ...\" % (i+1,len(rfConfigurations),nrEst,maxFeat),\n",
      "    estimator = RandomForestClassifier(n_estimators=nrEst, max_features=maxFeat)\n",
      "    print >> sys.stderr, \"applying it ...\",\n",
      "    scores = cross_val_score(estimator, X_values_scaled, y=y_values, scoring=scorerType, cv=cvGenerator, n_jobs=1)\n",
      "    scoreList.append((scores.mean(),scores.std()))\n",
      "    print >> sys.stderr, \"done\"\n",
      "sleep(1)\n",
      "\n",
      "print \"scoreList = \", scoreList\n",
      "meanScores = [x[0] for x in scoreList]\n",
      "\n",
      "bestModelIndex = meanScores.index(max(meanScores))\n",
      "print \"best Random Forest model has:\"\n",
      "print \"%s score: %2.2f%% (+/- %2.2f%%)\" % (scorerType, scoreList[bestModelIndex][0] * 100, scoreList[bestModelIndex][1] * 100)\n",
      "bestNrEst, bestMaxFeat = rfConfigurations[bestModelIndex]\n",
      "print \"n_estimators: \", bestNrEst\n",
      "print \"max_features: \", bestMaxFeat\n",
      "\n",
      "fig = plt.figure()\n",
      "plt.plot([conf for conf in range(1,len(rfConfigurations)+1)],[x[0] for x in scoreList], 'o-'\u001c",
      ", color='g', label='mean')\n",
      "plt.fill_between([conf for conf in range(1,len(rfConfigurations)+1)], [x[0]-x[1] for x in scoreList],\n",
      "                 [x[0]+x[1] for x in scoreList], alpha=0.1,\n",
      "                 color=\"g\", label='standard deviation')\n",
      "plt.title(\"Classification score on subscription prediction\\nwith Random Forest model using various configurations\")\n",
      "plt.xlabel(\"Configuration ID (nr estimators, max features)\")\n",
      "plt.ylabel(scorerType)\n",
      "plt.legend(loc='best')\n",
      "plt.show()"
     ],
     "language": "python",
     "metadata": {
      "internals": {
       "frag_helper": "fragment_end",
       "frag_number": 20,
       "slide_helper": "subslide_end"
      },
      "slide_helper": "slide_end",
      "slideshow": {
       "slide_type": "skip"
      }
     },
     "outputs": [
      {
       "output_type": "stream",
       "stream": "stderr",
       "text": [
        "(1/8) Building random forest model with 128 estimators and maximum 2 features ... applying it ... "
       ]
      },
      {
       "output_type": "stream",
       "stream": "stderr",
       "text": [
        "done\n",
        "(2/8) Building random forest model with 128 estimators and maximum 4 features ... applying it ... "
       ]
      },
      {
       "output_type": "stream",
       "stream": "stderr",
       "text": [
        "done\n",
        "(3/8) Building random forest model with 128 estimators and maximum 8 features ... applying it ... "
       ]
      },
      {
       "output_type": "stream",
       "stream": "stderr",
       "text": [
        "done\n",
        "(4/8) Building random forest model with 128 estimators and maximum 16 features ... applying it ... "
       ]
      },
      {
       "output_type": "stream",
       "stream": "stderr",
       "text": [
        "done\n",
        "(5/8) Building random forest model with 256 estimators and maximum 2 features ... applying it ... "
       ]
      },
      {
       "output_type": "stream",
       "stream": "stderr",
       "text": [
        "done\n",
        "(6/8) Building random forest model with 256 estimators and maximum 4 features ... applying it ... "
       ]
      },
      {
       "output_type": "stream",
       "stream": "stderr",
       "text": [
        "done\n",
        "(7/8) Building random forest model with 256 estimators and maximum 8 features ... applying it ... "
       ]
      },
      {
       "output_type": "stream",
       "stream": "stderr",
       "text": [
        "done\n",
        "(8/8) Building random forest model with 256 estimators and maximum 16 features ... applying it ... "
       ]
      },
      {
       "output_type": "stream",
       "stream": "stdout",
       "text": [
        "configurations:  [(128, 2), (128, 4), (128, 8), (128, 16), (256, 2), (256, 4), (256, 8), (256, 16)]\n",
        "scoreList = "
       ]
      },
      {
       "output_type": "stream",
       "stream": "stdout",
       "text": [
        " [(0.76997220227462715, 0.014862841474480562), (0.76901790165894135, 0.01763319638469453), (0.7755636245333859, 0.017045314620737839), (0.77496211720887886, 0.017170982287412585), (0.77214118357020545, 0.017061306277306246), (0.77465306893555907, 0.015040269098608691), (0.77573031940233084, 0.016516603792283192), (0.77553176411596791, 0.017751031782081039)]\n",
        "best Random Forest model has:\n",
        "roc_auc score: 77.57% (+/- 1.65%)\n",
        "n_estimators:  256\n",
        "max_features:  8\n"
       ]
      },
      {
       "output_type": "stream",
       "stream": "stderr",
       "text": [
        "done\n"
       ]
      },
      {
       "metadata": {},
       "output_type": "display_data",
       "png": "[encoded data removed]",
       "text": [
        "<matplotlib.figure.Figure at 0x1084bf3d0>"
       ]
      }
     ],
     "prompt_number": 9
    },
    {
     "cell_type": "heading",
     "level": 2,
     "metadata": {
      "internals": {
       "frag_helper": "fragment_end",
       "frag_number": 20,
       "slide_type": "subslide"
      },
      "slideshow": {
       "slide_type": "slide"
      }
     },
     "source": [
      "Comparison of best models, using all input features except 'duration'"
     ]
    },
    {
     "cell_type": "code",
     "collapsed": false,
     "input": [
      "from sklearn.linear_model import LogisticRegression\n",
      "from sklearn.neighbors import KNeighborsClassifier\n",
      "from sklearn.ensemble import RandomForestClassifier\n",
      "from sklearn.naive_bayes import GaussianNB\n",
      "from sklearn.dummy import DummyClassifier\n",
      "\n",
      "# After-the-fact hardcoded optimizations, in case we want to skip the experimentation phase\n",
      "# (e.g. during a presentation)\n",
      "if bestLogCValue == None:\n",
      "    bestLogCValue = -1\n",
      "if bestKValue == None:\n",
      "    bestKValue = 30\n",
      "if bestNrEst == None or bestMaxFeat == None:\n",
      "    bestNrEst = 256\n",
      "    bestMaxFeat = 8\n",
      "\n",
      "models = {}\n",
      "models = {'logres with log10(C)=%d' % bestLogCValue : LogisticRegression(C=pow(10,bestLogCValue)), # Takes about 1 second elapsed time\n",
      "          'knn with K=%d' % bestKValue : KNeighborsClassifier(n_neighbors=bestKValue), # Takes about 12 seconds elapsed time\n",
      "          'gaussianNB': GaussianNB(),\n",
      "          'baseline' : DummyClassifier(strategy='stratified')\n",
      "#          'randomforest with nrEst=%d and maxFeat=%d' % (bestNrEst,bestMaxFeat): RandomForestClassifier(n_estimators=bestNrEst, max_features=bestMaxFeat) # Takes about 5 seconds elapsed time\n",
      "          }\n",
      "\n",
      "fig = plt.figure(1,(15,10))\n",
      "plt.title(\"%d-fold cross-validation %s scores for various model types\" % (nrCrossValidationFolds, scorerType))\n",
      "plt.xlabel(\"Fold #\")\n",
      "plt.ylabel(scorerType)\n",
      "plt.grid()\n",
      "\n",
      "for modelName, model in models.items():\n",
      "    print >> sys.stderr, \"Building %s model ...\" % modelName,\n",
      "    print >> sys.stderr, \"applying it ...\",\n",
      "    scores = cross_val_score(model, X_values, y=y_values, scoring=scorerType, cv=cvGenerator, n_jobs=1, verbose=20)\n",
      "    print >> sys.stderr, \"done\"\n",
      "    plt.plot(range(1,nrCrossValidationFolds+1), scores, 'o-', label=\"%s (%2.2f%% +/- %2.2f%%)\" % (modelName, scores.mean() * 100, scores.std() * 100))\n",
      "    \n",
      "plt.legend(loc='best')\n",
      "plt.show()"
     ],
     "language": "python",
     "metadata": {
      "internals": {
       "frag_helper": "fragment_end",
       "frag_number": 28,
       "slide_helper": "subslide_end"
      },
      "slide_helper": "slide_end",
      "slideshow": {
       "slide_type": "fragment"
      }
     },
     "outputs": [
      {
       "output_type": "stream",
       "stream": "stdout",
       "text": [
        "[CV] no parameters to be set .........................................\n",
        "[CV] ................ no parameters to be set, score=0.763132 -   4.5s"
       ]
      },
      {
       "output_type": "stream",
       "stream": "stderr",
       "text": [
        "Building knn with K=30 model ... applying it ...[Parallel(n_jobs=1)]: Done   1 jobs       | elapsed:    4.5s\n"
       ]
      },
      {
       "output_type": "stream",
       "stream": "stdout",
       "text": [
        "\n",
        "[CV] no parameters to be set .........................................\n",
        "[CV] ................ no parameters to be set, score=0.778512 -   3.4s"
       ]
      },
      {
       "output_type": "stream",
       "stream": "stdout",
       "text": [
        "\n",
        "[CV] no parameters to be set .........................................\n",
        "[CV] ................ no parameters to be set, score=0.770579 -   3.0s"
       ]
      },
      {
       "output_type": "stream",
       "stream": "stderr",
       "text": [
        "[Parallel(n_jobs=1)]: Done   2 jobs       | elapsed:    7.9s\n",
        "[Parallel(n_jobs=1)]: Done   3 jobs       | elapsed:   10.9s\n"
       ]
      },
      {
       "output_type": "stream",
       "stream": "stdout",
       "text": [
        "\n",
        "[CV] no parameters to be set .........................................\n",
        "[CV] ................ no parameters to be set, score=0.782551 -   3.1s"
       ]
      },
      {
       "output_type": "stream",
       "stream": "stdout",
       "text": [
        "\n",
        "[CV] no parameters to be set .........................................\n",
        "[CV] ................ no parameters to be set, score=0.765962 -   3.1s"
       ]
      },
      {
       "output_type": "stream",
       "stream": "stderr",
       "text": [
        "[Parallel(n_jobs=1)]: Done   4 jobs       | elapsed:   14.0s\n",
        "[Parallel(n_jobs=1)]: Done   5 jobs       | elapsed:   17.1s\n"
       ]
      },
      {
       "output_type": "stream",
       "stream": "stdout",
       "text": [
        "\n",
        "[CV] no parameters to be set .........................................\n",
        "[CV] ................ no parameters to be set, score=0.752979 -   3.1s"
       ]
      },
      {
       "output_type": "stream",
       "stream": "stdout",
       "text": [
        "\n",
        "[CV] no parameters to be set .........................................\n",
        "[CV] ................ no parameters to be set, score=0.800551 -   3.1s"
       ]
      },
      {
       "output_type": "stream",
       "stream": "stderr",
       "text": [
        "[Parallel(n_jobs=1)]: Done   6 jobs       | elapsed:   20.2s\n",
        "[Parallel(n_jobs=1)]: Done   7 jobs       | elapsed:   23.3s\n"
       ]
      },
      {
       "output_type": "stream",
       "stream": "stdout",
       "text": [
        "\n",
        "[CV] no parameters to be set .........................................\n",
        "[CV] ................ no parameters to be set, score=0.763088 -   3.0s"
       ]
      },
      {
       "output_type": "stream",
       "stream": "stdout",
       "text": [
        "\n",
        "[CV] no parameters to be set .........................................\n",
        "[CV] ................ no parameters to be set, score=0.771585 -   3.1s"
       ]
      },
      {
       "output_type": "stream",
       "stream": "stderr",
       "text": [
        "[Parallel(n_jobs=1)]: Done   8 jobs       | elapsed:   26.3s\n",
        "[Parallel(n_jobs=1)]: Done   9 jobs       | elapsed:   29.4s\n"
       ]
      },
      {
       "output_type": "stream",
       "stream": "stdout",
       "text": [
        "\n",
        "[CV] no parameters to be set .........................................\n",
        "[CV] ................ no parameters to be set, score=0.798423 -   3.1s"
       ]
      },
      {
       "output_type": "stream",
       "stream": "stdout",
       "text": [
        "\n",
        "[CV] no parameters to be set .........................................\n",
        "[CV] ................ no parameters to be set, score=0.753217 -   0.0s"
       ]
      },
      {
       "output_type": "stream",
       "stream": "stderr",
       "text": [
        "[Parallel(n_jobs=1)]: Done  10 jobs       | elapsed:   32.4s\n",
        "[Parallel(n_jobs=1)]: Done  10 out of  10 | elapsed:   32.4s finished\n",
        " done\n",
        "Building gaussianNB model ... applying it ...[Parallel(n_jobs=1)]: Done   1 jobs       | elapsed:    0.1s\n"
       ]
      },
      {
       "output_type": "stream",
       "stream": "stdout",
       "text": [
        "\n",
        "[CV] no parameters to be set .........................................\n",
        "[CV] ................ no parameters to be set, score=0.765897 -   0.1s"
       ]
      },
      {
       "output_type": "stream",
       "stream": "stdout",
       "text": [
        "\n",
        "[CV] no parameters to be set .........................................\n",
        "[CV] ................ no parameters to be set, score=0.758088 -   0.0s\n",
        "[CV] no parameters to be set .........................................\n",
        "[CV] ................ no parameters to be set, score=0.782470 -   0.0s"
       ]
      },
      {
       "output_type": "stream",
       "stream": "stderr",
       "text": [
        "[Parallel(n_jobs=1)]: Done   2 jobs       | elapsed:    0.1s\n",
        "[Parallel(n_jobs=1)]: Done   3 jobs       | elapsed:    0.2s\n",
        "[Parallel(n_jobs=1)]: Done   4 jobs       | elapsed:    0.2s\n"
       ]
      },
      {
       "output_type": "stream",
       "stream": "stdout",
       "text": [
        "\n",
        "[CV] no parameters to be set .........................................\n",
        "[CV] ................ no parameters to be set, score=0.763380 -   0.0s\n",
        "[CV] no parameters to be set .........................................\n",
        "[CV] ................ no parameters to be set, score=0.754283 -   0.0s"
       ]
      },
      {
       "output_type": "stream",
       "stream": "stderr",
       "text": [
        "[Parallel(n_jobs=1)]: Done   5 jobs       | elapsed:    0.2s\n",
        "[Parallel(n_jobs=1)]: Done   6 jobs       | elapsed:    0.3s\n",
        "[Parallel(n_jobs=1)]: Done   7 jobs       | elapsed:    0.3s\n"
       ]
      },
      {
       "output_type": "stream",
       "stream": "stdout",
       "text": [
        "\n",
        "[CV] no parameters to be set .........................................\n",
        "[CV] ................ no parameters to be set, score=0.793584 -   0.0s\n",
        "[CV] no parameters to be set .........................................\n",
        "[CV] ................ no parameters to be set, score=0.747927 -   0.0s"
       ]
      },
      {
       "output_type": "stream",
       "stream": "stdout",
       "text": [
        "\n",
        "[CV] no parameters to be set .........................................\n",
        "[CV] ................ no parameters to be set, score=0.775473 -   0.0s\n",
        "[CV] no parameters to be set .........................................\n",
        "[CV] ................ no parameters to be set, score=0.794169 -   0.0s"
       ]
      },
      {
       "output_type": "stream",
       "stream": "stderr",
       "text": [
        "[Parallel(n_jobs=1)]: Done   8 jobs       | elapsed:    0.4s\n",
        "[Parallel(n_jobs=1)]: Done   9 jobs       | elapsed:    0.4s\n",
        "[Parallel(n_jobs=1)]: Done  10 jobs       | elapsed:    0.5s\n"
       ]
      },
      {
       "output_type": "stream",
       "stream": "stdout",
       "text": [
        "\n",
        "[CV] no parameters to be set .........................................\n",
        "[CV] ................ no parameters to be set, score=0.779688 -   0.4s"
       ]
      },
      {
       "output_type": "stream",
       "stream": "stderr",
       "text": [
        "[Parallel(n_jobs=1)]: Done  10 out of  10 | elapsed:    0.5s finished\n",
        " done\n",
        "Building logres with log10(C)=-1 model ... applying it ...[Parallel(n_jobs=1)]: Done   1 jobs       | elapsed:    0.4s\n"
       ]
      },
      {
       "output_type": "stream",
       "stream": "stdout",
       "text": [
        "\n",
        "[CV] no parameters to be set .........................................\n",
        "[CV] ................ no parameters to be set, score=0.782084 -   0.3s"
       ]
      },
      {
       "output_type": "stream",
       "stream": "stdout",
       "text": [
        "\n",
        "[CV] no parameters to be set .........................................\n",
        "[CV] ................ no parameters to be set, score=0.789459 -   0.3s"
       ]
      },
      {
       "output_type": "stream",
       "stream": "stderr",
       "text": [
        "[Parallel(n_jobs=1)]: Done   2 jobs       | elapsed:    0.7s\n",
        "[Parallel(n_jobs=1)]: Done   3 jobs       | elapsed:    1.0s\n"
       ]
      },
      {
       "output_type": "stream",
       "stream": "stdout",
       "text": [
        "\n",
        "[CV] no parameters to be set .........................................\n",
        "[CV] ................ no parameters to be set, score=0.793291 -   0.3s"
       ]
      },
      {
       "output_type": "stream",
       "stream": "stdout",
       "text": [
        "\n",
        "[CV] no parameters to be set .........................................\n",
        "[CV] ................ no parameters to be set, score=0.777844 -   0.4s"
       ]
      },
      {
       "output_type": "stream",
       "stream": "stderr",
       "text": [
        "[Parallel(n_jobs=1)]: Done   4 jobs       | elapsed:    1.4s\n",
        "[Parallel(n_jobs=1)]: Done   5 jobs       | elapsed:    1.7s\n"
       ]
      },
      {
       "output_type": "stream",
       "stream": "stdout",
       "text": [
        "\n",
        "[CV] no parameters to be set .........................................\n",
        "[CV] ................ no parameters to be set, score=0.765215 -   0.3s"
       ]
      },
      {
       "output_type": "stream",
       "stream": "stdout",
       "text": [
        "\n",
        "[CV] no parameters to be set .........................................\n",
        "[CV] ................ no parameters to be set, score=0.816231 -   0.4s"
       ]
      },
      {
       "output_type": "stream",
       "stream": "stderr",
       "text": [
        "[Parallel(n_jobs=1)]: Done   6 jobs       | elapsed:    2.0s\n",
        "[Parallel(n_jobs=1)]: Done   7 jobs       | elapsed:    2.4s\n"
       ]
      },
      {
       "output_type": "stream",
       "stream": "stdout",
       "text": [
        "\n",
        "[CV] no parameters to be set .........................................\n",
        "[CV] ................ no parameters to be set, score=0.778837 -   0.4s"
       ]
      },
      {
       "output_type": "stream",
       "stream": "stdout",
       "text": [
        "\n",
        "[CV] no parameters to be set .........................................\n",
        "[CV] ................ no parameters to be set, score=0.793487 -   0.3s"
       ]
      },
      {
       "output_type": "stream",
       "stream": "stderr",
       "text": [
        "[Parallel(n_jobs=1)]: Done   8 jobs       | elapsed:    2.8s\n",
        "[Parallel(n_jobs=1)]: Done   9 jobs       | elapsed:    3.2s\n"
       ]
      },
      {
       "output_type": "stream",
       "stream": "stdout",
       "text": [
        "\n",
        "[CV] no parameters to be set .........................................\n",
        "[CV] ................ no parameters to be set, score=0.791094 -   0.3s"
       ]
      },
      {
       "output_type": "stream",
       "stream": "stdout",
       "text": [
        "\n",
        "[CV] no parameters to be set .........................................\n",
        "[CV] ................ no parameters to be set, score=0.499486 -   0.0s\n",
        "[CV] no parameters to be set .........................................\n",
        "[CV] ................ no parameters to be set, score=0.512157 -   0.0s"
       ]
      },
      {
       "output_type": "stream",
       "stream": "stderr",
       "text": [
        "[Parallel(n_jobs=1)]: Done  10 jobs       | elapsed:    3.5s\n",
        "[Parallel(n_jobs=1)]: Done  10 out of  10 | elapsed:    3.5s finished\n",
        " done\n",
        "Building baseline model ... applying it ...[Parallel(n_jobs=1)]: Done   1 jobs       | elapsed:    0.0s\n",
        "[Parallel(n_jobs=1)]: Done   2 jobs       | elapsed:    0.0s\n"
       ]
      },
      {
       "output_type": "stream",
       "stream": "stdout",
       "text": [
        "\n",
        "[CV] no parameters to be set .........................................\n",
        "[CV] ................ no parameters to be set, score=0.502123 -   0.0s\n",
        "[CV] no parameters to be set .........................................\n",
        "[CV] ................ no parameters to be set, score=0.511213 -   0.0s"
       ]
      },
      {
       "output_type": "stream",
       "stream": "stderr",
       "text": [
        "[Parallel(n_jobs=1)]: Done   3 jobs       | elapsed:    0.1s\n",
        "[Parallel(n_jobs=1)]: Done   4 jobs       | elapsed:    0.1s\n",
        "[Parallel(n_jobs=1)]: Done   5 jobs       | elapsed:    0.1s\n"
       ]
      },
      {
       "output_type": "stream",
       "stream": "stdout",
       "text": [
        "\n",
        "[CV] no parameters to be set .........................................\n",
        "[CV] ................ no parameters to be set, score=0.494792 -   0.0s\n",
        "[CV] no parameters to be set .........................................\n",
        "[CV] ................ no parameters to be set, score=0.497629 -   0.0s\n",
        "[CV] no parameters to be set ........................................."
       ]
      },
      {
       "output_type": "stream",
       "stream": "stdout",
       "text": [
        "\n",
        "[CV] ................ no parameters to be set, score=0.502463 -   0.0s\n",
        "[CV] no parameters to be set .........................................\n",
        "[CV] ................ no parameters to be set, score=0.496291 -   0.1s"
       ]
      },
      {
       "output_type": "stream",
       "stream": "stderr",
       "text": [
        "[Parallel(n_jobs=1)]: Done   6 jobs       | elapsed:    0.2s\n",
        "[Parallel(n_jobs=1)]: Done   7 jobs       | elapsed:    0.2s\n",
        "[Parallel(n_jobs=1)]: Done   8 jobs       | elapsed:    0.2s\n"
       ]
      },
      {
       "output_type": "stream",
       "stream": "stdout",
       "text": [
        "\n",
        "[CV] no parameters to be set .........................................\n",
        "[CV] ................ no parameters to be set, score=0.490607 -   0.0s"
       ]
      },
      {
       "output_type": "stream",
       "stream": "stdout",
       "text": [
        "\n",
        "[CV] no parameters to be set .........................................\n",
        "[CV] ................ no parameters to be set, score=0.503096 -   0.0s\n"
       ]
      },
      {
       "output_type": "stream",
       "stream": "stderr",
       "text": [
        "[Parallel(n_jobs=1)]: Done   9 jobs       | elapsed:    0.3s\n",
        "[Parallel(n_jobs=1)]: Done  10 jobs       | elapsed:    0.3s\n",
        "[Parallel(n_jobs=1)]: Done  10 out of  10 | elapsed:    0.3s finished\n",
        " done\n"
       ]
      },
      {
       "metadata": {},
       "output_type": "display_data",
       "png": "[encoded data removed]",
       "text": [
        "<matplotlib.figure.Figure at 0x10d13d9d0>"
       ]
      }
     ],
     "prompt_number": 6
    },
    {
     "cell_type": "heading",
     "level": 2,
     "metadata": {
      "internals": {
       "frag_helper": "fragment_end",
       "frag_number": 28,
       "slide_type": "subslide"
      },
      "slideshow": {
       "slide_type": "slide"
      }
     },
     "source": [
      "ROC curves"
     ]
    },
    {
     "cell_type": "code",
     "collapsed": false,
     "input": [
      "from sklearn.cross_validation import train_test_split\n",
      "from sklearn.metrics import roc_curve, roc_auc_score\n",
      "import sys\n",
      "from matplotlib import pyplot as plt\n",
      "\n",
      "# We don't use cross validation here, but will generate a random test set instead\n",
      "X_train, X_test, y_train, y_test = train_test_split(X_values, y_values, test_size=0.1, random_state=0)\n",
      "\n",
      "finalPredictions = {}\n",
      "\n",
      "for modelName, model in models.items():\n",
      "    fittedModel = model.fit(X_train, y_train)\n",
      "    \n",
      "    if hasattr(model, \"predict_proba\"):\n",
      "        print >> sys.stderr, \"Predicting probabilities for %s model ...\" % modelName,\n",
      "        finalPredictions[modelName] = {'train': model.predict_proba(X_train),\n",
      "                                       'test': model.predict_proba(X_test)}\n",
      "        print >> sys.stderr, \"done\"\n",
      "\n",
      "rocCurveFigure, ax = plt.subplots(figsize=(9,9))\n",
      "ax.grid(True, alpha=0.3)\n",
      "for modelName, probs in finalPredictions.iteritems():\n",
      "    y_probs = [x[1] for x in finalPredictions[modelName]['test']]\n",
      "    fpr, tpr, thresholds = roc_curve(y_true=y_test, \n",
      "                                     y_score=y_probs, pos_label=1)\n",
      "    roc_auc = roc_auc_score(y_true=y_test, y_score=y_probs)\n",
      "    plt.plot(fpr, tpr, '-', label=\"%s (AUC = %1.2f%%)\" % (modelName, roc_auc*100))\n",
      "plt.title(\"ROC curve for prediction of successful term deposit sale\")\n",
      "plt.xlabel(\"False Positive Rate\")\n",
      "plt.ylabel(\"True Positive Rate\")\n",
      "plt.legend(loc=\"best\")\n",
      "plt.show()"
     ],
     "language": "python",
     "metadata": {
      "internals": {
       "frag_helper": "fragment_end",
       "frag_number": 30,
       "slide_helper": "subslide_end"
      },
      "slide_helper": "slide_end",
      "slideshow": {
       "slide_type": "fragment"
      }
     },
     "outputs": [
      {
       "output_type": "stream",
       "stream": "stderr",
       "text": [
        "Predicting probabilities for knn with K=30 model ... "
       ]
      },
      {
       "output_type": "stream",
       "stream": "stderr",
       "text": [
        "done\n",
        "Predicting probabilities for gaussianNB model ... "
       ]
      },
      {
       "output_type": "stream",
       "stream": "stderr",
       "text": [
        "done\n",
        "Predicting probabilities for logres with log10(C)=-1 model ..."
       ]
      },
      {
       "output_type": "stream",
       "stream": "stderr",
       "text": [
        " done\n",
        "Predicting probabilities for baseline model ... done\n"
       ]
      },
      {
       "metadata": {},
       "output_type": "display_data",
       "png": "[encoded data removed]",
       "text": [
        "<matplotlib.figure.Figure at 0x10d358210>"
       ]
      }
     ],
     "prompt_number": 7
    },
    {
     "cell_type": "heading",
     "level": 2,
     "metadata": {
      "internals": {
       "frag_helper": "fragment_end",
       "frag_number": 30,
       "slide_type": "subslide"
      },
      "slideshow": {
       "slide_type": "slide"
      }
     },
     "source": [
      "Lift curves"
     ]
    },
    {
     "cell_type": "code",
     "collapsed": false,
     "input": [
      "import numpy as np\n",
      "import mpld3\n",
      "mpld3.enable_notebook()\n",
      "import re\n",
      "from math import log\n",
      "\n",
      "def sortTestSetByProbability(y_test, y_probs):\n",
      "    sortedIndexList = sorted(range(len(y_probs)), key=lambda k: y_probs[k], reverse=True)\n",
      "    return [(y_probs[i], y_test[i]) for i in sortedIndexList]\n",
      "\n",
      "def calculateLift(sortedProbsAndTrueLabels, nrPercentiles=10, posLabel=1):\n",
      "    ''' Input is a list of tuples containing (prob, true label), sorted in descending order per prob\n",
      "        Output is a a list of nrPercentiles tuples containing, for each percentile:\n",
      "        (percentOfTargetPopulationInThisPercentile,\n",
      "         percentOfPositivePopulationInThisPercentile,\n",
      "         cumulativeLift,\n",
      "         localLift\n",
      "         )\n",
      "    '''\n",
      "    numberOfPositiveInstances = len([x for x in sortedProbsAndTrueLabels if x[1] == posLabel])\n",
      "    percentileSplitOfInstances = [np_array.tolist() for np_array in np.array_split(np.array([x[1] for x in sortedProbsAndTrueLabels]), nrPercentiles)]\n",
      "#    print \"len(percentileSplitOfInstances) = \", len(percentileSplitOfInstances)\n",
      "#    print \"percentileSplitOfInstances[0:2] = \", percentileSplitOfInstances[0:2]\n",
      "    result = [(0.0,0.0,0.0,0.0)]\n",
      "    cumulativePercentage = 0.0\n",
      "    cumulativeLift = 0\n",
      "    localLift = 0\n",
      "    for c in range(len(percentileSplitOfInstances)):\n",
      "        percentile = percentileSplitOfInstances[c]\n",
      "        nrPositivesInPercentile = len([x for x in percentile if x == posLabel])\n",
      "        p = float(c+1)/float(nrPercentiles)\n",
      "        cumulativePercentage += float(nrPositivesInPercentile)/float(numberOfPositiveInstances)\n",
      "        cumulativeLift = cumulativePercentage/p\n",
      "        localLift = (float(nrPositivesInPercentile)/float(numberOfPositiveInstances))/(1.0/float(nrPercentiles))\n",
      "        result.append((p,cumulativePercentage,cumulativeLift, localLift))\n",
      "    return result\n",
      "\n",
      "def plotLiftCurve(numberOfPercentiles=10, figSize=5):\n",
      "    # Define some CSS to control our custom labels\n",
      "    css = \"\"\"\n",
      "table {\n",
      "  border-collapse: collapse;\n",
      "}\n",
      "th {\n",
      "  color: #ffffff;\n",
      "  background-color: #000000;\n",
      "}\n",
      "td {\n",
      "  padding: 2px;\n",
      "  background-color: #cccccc;\n",
      "}\n",
      "table, th, td {\n",
      "  font-family:Arial, Helvetica, sans-serif;\n",
      "  border: 1px solid black;\n",
      "  text-align: right;\n",
      "}\n",
      "\"\"\"\n",
      "\n",
      "    liftCurveFigure, ax = plt.subplots(figsize=(figSize,figSize))\n",
      "    ax.grid(True, alpha=0.3)\n",
      "    ax.set_autoscaley_on(False)\n",
      "    ax.set_ylim([0,100])\n",
      "    for modelName, probs in finalPredictions.iteritems():\n",
      "        modelNameShort = re.split(\"\\s+\", modelName)[0]\n",
      "        y_probs = [x[1] for x in finalPredictions[modelName]['test']]\n",
      "        sortedProbsAndTrueLabels = sortTestSetByProbability(y_test,y_probs)\n",
      "        lifts = calculateLift(sortedProbsAndTrueLabels, nrPercentiles=numberOfPercentiles, posLabel=1)\n",
      "#        print modelName, lifts\n",
      "        xPerc = [x[0]*100 for x in lifts]\n",
      "        yPerc = [x[1]*100 for x in lifts]\n",
      "        points = ax.plot(xPerc, yPerc, 'o-', label=\"%s\" % modelNameShort)\n",
      "        labels = [\"<table><th colspan='2'>%s</th><tr><td>the first</td><td>%2.1f%%</td></tr><tr><td>yields</td><td>%2.1f%%</td></tr><tr><td>cum. lift</td><td>%1.1f</td></tr><tr><td>local lift</td><td>%1.1f</td></tr></table>\" % (modelNameShort, xPerc[i],yPerc[i], lifts[i][2], lifts[i][3]) for i in range(len(yPerc))]\n",
      "        mpld3.plugins.connect(liftCurveFigure, mpld3.plugins.PointHTMLTooltip(points[0],labels=labels, css=css))\n",
      "    ax.set_title(\"Lift curve for prediction of successful term deposit sale\", y=1.06, fontsize=14 + log(figSize))\n",
      "    ax.set_xlabel(\"Percentage of test instances (decreasing by probability)\", labelpad=15 + log(figSize), fontsize=12 + log(figSize))\n",
      "    ax.set_ylabel(\"Percentage of positive instances targeted\", labelpad=15 + log(figSize), fontsize=12 + log(figSize))\n",
      "    plt.legend(loc=4)\n",
      "    plt.show()\n",
      "    return liftCurveFigure\n",
      "\n",
      "from IPython.html.widgets import interact, fixed\n",
      "\n",
      "mpld3.save_html(plotLiftCurve(numberOfPercentiles=10, figSize=9), \"plotLiftCurveBanking.html\", figid=\"Lift_Curve_Banking\")\n",
      "interact(plotLiftCurve, numberOfPercentiles=(5, 20), figSize=(5,10))"
     ],
     "language": "python",
     "metadata": {
      "internals": {
       "frag_helper": "fragment_end",
       "frag_number": 32,
       "slide_helper": "subslide_end"
      },
      "slide_helper": "slide_end",
      "slideshow": {
       "slide_type": "fragment"
      }
     },
     "outputs": [
      {
       "html": [
        "\n",
        "\n",
        "<style>\n",
        "\n",
        "table {\n",
        "  border-collapse: collapse;\n",
        "}\n",
        "th {\n",
        "  color: #ffffff;\n",
        "  background-color: #000000;\n",
        "}\n",
        "td {\n",
        "  padding: 2px;\n",
        "  background-color: #cccccc;\n",
        "}\n",
        "table, th, td {\n",
        "  font-family:Arial, Helvetica, sans-serif;\n",
        "  border: 1px solid black;\n",
        "  text-align: right;\n",
        "}\n",
        "\n",
        "table {\n",
        "  border-collapse: collapse;\n",
        "}\n",
        "th {\n",
        "  color: #ffffff;\n",
        "  background-color: #000000;\n",
        "}\n",
        "td {\n",
        "  padding: 2px;\n",
        "  background-color: #cccccc;\n",
        "}\n",
        "table, th, td {\n",
        "  font-family:Arial, Helvetica, sans-serif;\n",
        "  border: 1px solid black;\n",
        "  text-align: right;\n",
        "}\n",
        "\n",
        "table {\n",
        "  border-collapse: collapse;\n",
        "}\n",
        "th {\n",
        "  color: #ffffff;\n",
        "  background-color: #000000;\n",
        "}\n",
        "td {\n",
        "  padding: 2px;\n",
        "  background-color: #cccccc;\n",
        "}\n",
        "table, th, td {\n",
        "  font-family:Arial, Helvetica, sans-serif;\n",
        "  border: 1px solid black;\n",
        "  text-align: right;\n",
        "}\n",
        "\n",
        "table {\n",
        "  border-collapse: collapse;\n",
        "}\n",
        "th {\n",
        "  color: #ffffff;\n",
        "  background-color: #000000;\n",
        "}\n",
        "td {\n",
        "  padding: 2px;\n",
        "  background-color: #cccccc;\n",
        "}\n",
        "table, th, td {\n",
        "  font-family:Arial, Helvetica, sans-serif;\n",
        "  border: 1px solid black;\n",
        "  text-align: right;\n",
        "}\n",
        "\n",
        "</style>\n",
        "\n",
        "<div id=\"fig_el143445177787682390910465\"></div>\n",
        "<script>\n",
        "function mpld3_load_lib(url, callback){\n",
        "  var s = document.createElement('script');\n",
        "  s.src = url;\n",
        "  s.async = true;\n",
        "  s.onreadystatechange = s.onload = callback;\n",
        "  s.onerror = function(){console.warn(\"failed to load library \" + url);};\n",
        "  document.getElementsByTagName(\"head\")[0].appendChild(s);\n",
        "}\n",
        "\n",
        "if(typeof(mpld3) !== \"undefined\" && mpld3._mpld3IsLoaded){\n",
        "   // already loaded: just create the figure\n",
        "   !function(mpld3){\n",
        "       \n",
        "    mpld3.register_plugin(\"htmltooltip\", HtmlTooltipPlugin);\n",
        "    HtmlTooltipPlugin.prototype = Object.create(mpld3.Plugin.prototype);\n",
        "    HtmlTooltipPlugin.prototype.constructor = HtmlTooltipPlugin;\n",
        "    HtmlTooltipPlugin.prototype.requiredProps = [\"id\"];\n",
        "    HtmlTooltipPlugin.prototype.defaultProps = {labels:null, hoffset:0, voffset:10};\n",
        "    function HtmlTooltipPlugin(fig, props){\n",
        "        mpld3.Plugin.call(this, fig, props);\n",
        "    };\n",
        "\n",
        "    HtmlTooltipPlugin.prototype.draw = function(){\n",
        "       var obj = mpld3.get_element(this.props.id);\n",
        "       var labels = this.props.labels;\n",
        "       var tooltip = d3.select(\"body\").append(\"div\")\n",
        "                    .attr(\"class\", \"mpld3-tooltip\")\n",
        "                    .style(\"position\", \"absolute\")\n",
        "                    .style(\"z-index\", \"10\")\n",
        "                    .style(\"visibility\", \"hidden\");\n",
        "\n",
        "       obj.elements()\n",
        "           .on(\"mouseover\", function(d, i){\n",
        "                              tooltip.html(labels[i])\n",
        "                                     .style(\"visibility\", \"visible\");})\n",
        "           .on(\"mousemove\", function(d, i){\n",
        "                    tooltip\n",
        "                      .style(\"top\", d3.event.pageY + this.props.voffset + \"px\")\n",
        "                      .style(\"left\",d3.event.pageX + this.props.hoffset + \"px\");\n",
        "                 }.bind(this))\n",
        "           .on(\"mouseout\",  function(d, i){\n",
        "                           tooltip.style(\"visibility\", \"hidden\");});\n",
        "    };\n",
        "    \n",
        "    mpld3.register_plugin(\"htmltooltip\", HtmlTooltipPlugin);\n",
        "    HtmlTooltipPlugin.prototype = Object.create(mpld3.Plugin.prototype);\n",
        "    HtmlTooltipPlugin.prototype.constructor = HtmlTooltipPlugin;\n",
        "    HtmlTooltipPlugin.prototype.requiredProps = [\"id\"];\n",
        "    HtmlTooltipPlugin.prototype.defaultProps = {labels:null, hoffset:0, voffset:10};\n",
        "    function HtmlTooltipPlugin(fig, props){\n",
        "        mpld3.Plugin.call(this, fig, props);\n",
        "    };\n",
        "\n",
        "    HtmlTooltipPlugin.prototype.draw = function(){\n",
        "       var obj = mpld3.get_element(this.props.id);\n",
        "       var labels = this.props.labels;\n",
        "       var tooltip = d3.select(\"body\").append(\"div\")\n",
        "                    .attr(\"class\", \"mpld3-tooltip\")\n",
        "                    .style(\"position\", \"absolute\")\n",
        "                    .style(\"z-index\", \"10\")\n",
        "                    .style(\"visibility\", \"hidden\");\n",
        "\n",
        "       obj.elements()\n",
        "           .on(\"mouseover\", function(d, i){\n",
        "                              tooltip.html(labels[i])\n",
        "                                     .style(\"visibility\", \"visible\");})\n",
        "           .on(\"mousemove\", function(d, i){\n",
        "                    tooltip\n",
        "                      .style(\"top\", d3.event.pageY + this.props.voffset + \"px\")\n",
        "                      .style(\"left\",d3.event.pageX + this.props.hoffset + \"px\");\n",
        "                 }.bind(this))\n",
        "           .on(\"mouseout\",  function(d, i){\n",
        "                           tooltip.style(\"visibility\", \"hidden\");});\n",
        "    };\n",
        "    \n",
        "    mpld3.register_plugin(\"htmltooltip\", HtmlTooltipPlugin);\n",
        "    HtmlTooltipPlugin.prototype = Object.create(mpld3.Plugin.prototype);\n",
        "    HtmlTooltipPlugin.prototype.constructor = HtmlTooltipPlugin;\n",
        "    HtmlTooltipPlugin.prototype.requiredProps = [\"id\"];\n",
        "    HtmlTooltipPlugin.prototype.defaultProps = {labels:null, hoffset:0, voffset:10};\n",
        "    function HtmlTooltipPlugin(fig, props){\n",
        "        mpld3.Plugin.call(this, fig, props);\n",
        "    };\n",
        "\n",
        "    HtmlTooltipPlugin.prototype.draw = function(){\n",
        "       var obj = mpld3.get_element(this.props.id);\n",
        "       var labels = this.props.labels;\n",
        "       var tooltip = d3.select(\"body\").append(\"div\")\n",
        "                    .attr(\"class\", \"mpld3-tooltip\")\n",
        "                    .style(\"position\", \"absolute\")\n",
        "                    .style(\"z-index\", \"10\")\n",
        "                    .style(\"visibility\", \"hidden\");\n",
        "\n",
        "       obj.elements()\n",
        "           .on(\"mouseover\", function(d, i){\n",
        "                              tooltip.html(labels[i])\n",
        "                                     .style(\"visibility\", \"visible\");})\n",
        "           .on(\"mousemove\", function(d, i){\n",
        "                    tooltip\n",
        "                      .style(\"top\", d3.event.pageY + this.props.voffset + \"px\")\n",
        "                      .style(\"left\",d3.event.pageX + this.props.hoffset + \"px\");\n",
        "                 }.bind(this))\n",
        "           .on(\"mouseout\",  function(d, i){\n",
        "                           tooltip.style(\"visibility\", \"hidden\");});\n",
        "    };\n",
        "    \n",
        "    mpld3.register_plugin(\"htmltooltip\", HtmlTooltipPlugin);\n",
        "    HtmlTooltipPlugin.prototype = Object.create(mpld3.Plugin.prototype);\n",
        "    HtmlTooltipPlugin.prototype.constructor = HtmlTooltipPlugin;\n",
        "    HtmlTooltipPlugin.prototype.requiredProps = [\"id\"];\n",
        "    HtmlTooltipPlugin.prototype.defaultProps = {labels:null, hoffset:0, voffset:10};\n",
        "    function HtmlTooltipPlugin(fig, props){\n",
        "        mpld3.Plugin.call(this, fig, props);\n",
        "    };\n",
        "\n",
        "    HtmlTooltipPlugin.prototype.draw = function(){\n",
        "       var obj = mpld3.get_element(this.props.id);\n",
        "       var labels = this.props.labels;\n",
        "       var tooltip = d3.select(\"body\").append(\"div\")\n",
        "                    .attr(\"class\", \"mpld3-tooltip\")\n",
        "                    .style(\"position\", \"absolute\")\n",
        "                    .style(\"z-index\", \"10\")\n",
        "                    .style(\"visibility\", \"hidden\");\n",
        "\n",
        "       obj.elements()\n",
        "           .on(\"mouseover\", function(d, i){\n",
        "                              tooltip.html(labels[i])\n",
        "                                     .style(\"visibility\", \"visible\");})\n",
        "           .on(\"mousemove\", function(d, i){\n",
        "                    tooltip\n",
        "                      .style(\"top\", d3.event.pageY + this.props.voffset + \"px\")\n",
        "                      .style(\"left\",d3.event.pageX + this.props.hoffset + \"px\");\n",
        "                 }.bind(this))\n",
        "           .on(\"mouseout\",  function(d, i){\n",
        "                           tooltip.style(\"visibility\", \"hidden\");});\n",
        "    };\n",
        "    \n",
        "       mpld3.draw_figure(\"fig_el143445177787682390910465\", {\"axes\": [{\"xlim\": [0.0, 100.0], \"yscale\": \"linear\", \"axesbg\": \"#FFFFFF\", \"texts\": [{\"v_baseline\": \"hanging\", \"h_anchor\": \"middle\", \"color\": \"#000000\", \"text\": \"Percentage of test instances (decreasing by probability)\", \"coordinates\": \"axes\", \"zorder\": 3, \"alpha\": 1, \"fontsize\": 13.6094379124341, \"position\": [0.5, -0.10612701760729068], \"rotation\": -0.0, \"id\": \"el14344557681360\"}, {\"v_baseline\": \"auto\", \"h_anchor\": \"middle\", \"color\": \"#000000\", \"text\": \"Percentage of positive instances targeted\", \"coordinates\": \"axes\", \"zorder\": 3, \"alpha\": 1, \"fontsize\": 13.6094379124341, \"position\": [-0.13641935631696808, 0.5], \"rotation\": -90.0, \"id\": \"el14344530297424\"}, {\"v_baseline\": \"auto\", \"h_anchor\": \"middle\", \"color\": \"#000000\", \"text\": \"Lift curve for prediction of successful term deposit sale\", \"coordinates\": \"axes\", \"zorder\": 3, \"alpha\": 1, \"fontsize\": 15.6094379124341, \"position\": [0.5, 1.0779211469534051], \"rotation\": -0.0, \"id\": \"el14344530298192\"}, {\"v_baseline\": \"auto\", \"h_anchor\": \"start\", \"color\": \"#000000\", \"text\": \"None\", \"coordinates\": \"axes\", \"zorder\": 1000003.0, \"alpha\": 1, \"fontsize\": 10.0, \"position\": [-0.16129032258064516, -0.16129032258064516], \"rotation\": -0.0, \"id\": \"el14344531547664\"}, {\"v_baseline\": \"auto\", \"h_anchor\": \"start\", \"color\": \"#000000\", \"text\": \"knn\", \"coordinates\": \"axes\", \"zorder\": 1000003.0, \"alpha\": 1, \"fontsize\": 12.0, \"position\": [0.71330645161290307, 0.23870967741935487], \"rotation\": -0.0, \"id\": \"el14344448834640\"}, {\"v_baseline\": \"auto\", \"h_anchor\": \"start\", \"color\": \"#000000\", \"text\": \"gaussianNB\", \"coordinates\": \"axes\", \"zorder\": 1000003.0, \"alpha\": 1, \"fontsize\": 12.0, \"position\": [0.71330645161290307, 0.17526881720430107], \"rotation\": -0.0, \"id\": \"el14344516065552\"}, {\"v_baseline\": \"auto\", \"h_anchor\": \"start\", \"color\": \"#000000\", \"text\": \"logres\", \"coordinates\": \"axes\", \"zorder\": 1000003.0, \"alpha\": 1, \"fontsize\": 12.0, \"position\": [0.71330645161290307, 0.11182795698924727], \"rotation\": -0.0, \"id\": \"el14344530389392\"}, {\"v_baseline\": \"auto\", \"h_anchor\": \"start\", \"color\": \"#000000\", \"text\": \"baseline\", \"coordinates\": \"axes\", \"zorder\": 1000003.0, \"alpha\": 1, \"fontsize\": 12.0, \"position\": [0.71330645161290307, 0.048387096774193561], \"rotation\": -0.0, \"id\": \"el14344531546960\"}], \"zoomable\": true, \"images\": [], \"xdomain\": [0.0, 100.0], \"ylim\": [0.0, 100.0], \"paths\": [{\"edgecolor\": \"#000000\", \"facecolor\": \"#FFFFFF\", \"edgewidth\": 1.0, \"pathcodes\": [\"M\", \"L\", \"L\", \"L\", \"Z\"], \"yindex\": 1, \"coordinates\": \"axes\", \"dasharray\": \"10,0\", \"zorder\": 1000001.0, \"alpha\": 1.0, \"xindex\": 0, \"data\": \"data03\", \"id\": \"el14344448834512\"}], \"sharey\": [], \"sharex\": [], \"axesbgalpha\": null, \"axes\": [{\"scale\": \"linear\", \"tickformat\": null, \"grid\": {\"color\": \"#000000\", \"alpha\": 0.3, \"dasharray\": \"2,2\", \"gridOn\": true}, \"fontsize\": 10.0, \"position\": \"bottom\", \"nticks\": 6, \"tickvalues\": null}, {\"scale\": \"linear\", \"tickformat\": null, \"grid\": {\"color\": \"#000000\", \"alpha\": 0.3, \"dasharray\": \"2,2\", \"gridOn\": true}, \"fontsize\": 10.0, \"position\": \"left\", \"nticks\": 6, \"tickvalues\": null}], \"lines\": [{\"color\": \"#0000FF\", \"yindex\": 1, \"coordinates\": \"data\", \"dasharray\": \"10,0\", \"zorder\": 2, \"alpha\": 1, \"xindex\": 0, \"linewidth\": 1.0, \"data\": \"data01\", \"id\": \"el14344530098768\"}, {\"color\": \"#007F00\", \"yindex\": 2, \"coordinates\": \"data\", \"dasharray\": \"10,0\", \"zorder\": 2, \"alpha\": 1, \"xindex\": 0, \"linewidth\": 1.0, \"data\": \"data01\", \"id\": \"el14344516578576\"}, {\"color\": \"#FF0000\", \"yindex\": 3, \"coordinates\": \"data\", \"dasharray\": \"10,0\", \"zorder\": 2, \"alpha\": 1, \"xindex\": 0, \"linewidth\": 1.0, \"data\": \"data01\", \"id\": \"el14344436438864\"}, {\"color\": \"#00BFBF\", \"yindex\": 4, \"coordinates\": \"data\", \"dasharray\": \"10,0\", \"zorder\": 2, \"alpha\": 1, \"xindex\": 0, \"linewidth\": 1.0, \"data\": \"data01\", \"id\": \"el14344516781840\"}, {\"color\": \"#0000FF\", \"yindex\": 1, \"coordinates\": \"axes\", \"dasharray\": \"10,0\", \"zorder\": 1000002.0, \"alpha\": 1, \"xindex\": 0, \"linewidth\": 1.0, \"data\": \"data02\", \"id\": \"el14344448836304\"}, {\"color\": \"#007F00\", \"yindex\": 2, \"coordinates\": \"axes\", \"dasharray\": \"10,0\", \"zorder\": 1000002.0, \"alpha\": 1, \"xindex\": 0, \"linewidth\": 1.0, \"data\": \"data02\", \"id\": \"el14344530391760\"}, {\"color\": \"#FF0000\", \"yindex\": 3, \"coordinates\": \"axes\", \"dasharray\": \"10,0\", \"zorder\": 1000002.0, \"alpha\": 1, \"xindex\": 0, \"linewidth\": 1.0, \"data\": \"data02\", \"id\": \"el14344530392464\"}, {\"color\": \"#00BFBF\", \"yindex\": 4, \"coordinates\": \"axes\", \"dasharray\": \"10,0\", \"zorder\": 1000002.0, \"alpha\": 1, \"xindex\": 0, \"linewidth\": 1.0, \"data\": \"data02\", \"id\": \"el14344531544784\"}], \"markers\": [{\"edgecolor\": \"#000000\", \"facecolor\": \"#0000FF\", \"edgewidth\": 0.5, \"yindex\": 1, \"coordinates\": \"data\", \"zorder\": 2, \"markerpath\": [[[0.0, 3.0], [0.7956093000000001, 3.0], [1.5587396123545605, 2.683901074764725], [2.121320343559643, 2.121320343559643], [2.683901074764725, 1.5587396123545605], [3.0, 0.7956093000000001], [3.0, 0.0], [3.0, -0.7956093000000001], [2.683901074764725, -1.5587396123545605], [2.121320343559643, -2.121320343559643], [1.5587396123545605, -2.683901074764725], [0.7956093000000001, -3.0], [0.0, -3.0], [-0.7956093000000001, -3.0], [-1.5587396123545605, -2.683901074764725], [-2.121320343559643, -2.121320343559643], [-2.683901074764725, -1.5587396123545605], [-3.0, -0.7956093000000001], [-3.0, 0.0], [-3.0, 0.7956093000000001], [-2.683901074764725, 1.5587396123545605], [-2.121320343559643, 2.121320343559643], [-1.5587396123545605, 2.683901074764725], [-0.7956093000000001, 3.0], [0.0, 3.0]], [\"M\", \"C\", \"C\", \"C\", \"C\", \"C\", \"C\", \"C\", \"C\", \"Z\"]], \"alpha\": 1, \"xindex\": 0, \"data\": \"data01\", \"id\": \"el14344530098768pts\"}, {\"edgecolor\": \"#000000\", \"facecolor\": \"#007F00\", \"edgewidth\": 0.5, \"yindex\": 2, \"coordinates\": \"data\", \"zorder\": 2, \"markerpath\": [[[0.0, 3.0], [0.7956093000000001, 3.0], [1.5587396123545605, 2.683901074764725], [2.121320343559643, 2.121320343559643], [2.683901074764725, 1.5587396123545605], [3.0, 0.7956093000000001], [3.0, 0.0], [3.0, -0.7956093000000001], [2.683901074764725, -1.5587396123545605], [2.121320343559643, -2.121320343559643], [1.5587396123545605, -2.683901074764725], [0.7956093000000001, -3.0], [0.0, -3.0], [-0.7956093000000001, -3.0], [-1.5587396123545605, -2.683901074764725], [-2.121320343559643, -2.121320343559643], [-2.683901074764725, -1.5587396123545605], [-3.0, -0.7956093000000001], [-3.0, 0.0], [-3.0, 0.7956093000000001], [-2.683901074764725, 1.5587396123545605], [-2.121320343559643, 2.121320343559643], [-1.5587396123545605, 2.683901074764725], [-0.7956093000000001, 3.0], [0.0, 3.0]], [\"M\", \"C\", \"C\", \"C\", \"C\", \"C\", \"C\", \"C\", \"C\", \"Z\"]], \"alpha\": 1, \"xindex\": 0, \"data\": \"data01\", \"id\": \"el14344516578576pts\"}, {\"edgecolor\": \"#000000\", \"facecolor\": \"#FF0000\", \"edgewidth\": 0.5, \"yindex\": 3, \"coordinates\": \"data\", \"zorder\": 2, \"markerpath\": [[[0.0, 3.0], [0.7956093000000001, 3.0], [1.5587396123545605, 2.683901074764725], [2.121320343559643, 2.121320343559643], [2.683901074764725, 1.5587396123545605], [3.0, 0.7956093000000001], [3.0, 0.0], [3.0, -0.7956093000000001], [2.683901074764725, -1.5587396123545605], [2.121320343559643, -2.121320343559643], [1.5587396123545605, -2.683901074764725], [0.7956093000000001, -3.0], [0.0, -3.0], [-0.7956093000000001, -3.0], [-1.5587396123545605, -2.683901074764725], [-2.121320343559643, -2.121320343559643], [-2.683901074764725, -1.5587396123545605], [-3.0, -0.7956093000000001], [-3.0, 0.0], [-3.0, 0.7956093000000001], [-2.683901074764725, 1.5587396123545605], [-2.121320343559643, 2.121320343559643], [-1.5587396123545605, 2.683901074764725], [-0.7956093000000001, 3.0], [0.0, 3.0]], [\"M\", \"C\", \"C\", \"C\", \"C\", \"C\", \"C\", \"C\", \"C\", \"Z\"]], \"alpha\": 1, \"xindex\": 0, \"data\": \"data01\", \"id\": \"el14344436438864pts\"}, {\"edgecolor\": \"#000000\", \"facecolor\": \"#00BFBF\", \"edgewidth\": 0.5, \"yindex\": 4, \"coordinates\": \"data\", \"zorder\": 2, \"markerpath\": [[[0.0, 3.0], [0.7956093000000001, 3.0], [1.5587396123545605, 2.683901074764725], [2.121320343559643, 2.121320343559643], [2.683901074764725, 1.5587396123545605], [3.0, 0.7956093000000001], [3.0, 0.0], [3.0, -0.7956093000000001], [2.683901074764725, -1.5587396123545605], [2.121320343559643, -2.121320343559643], [1.5587396123545605, -2.683901074764725], [0.7956093000000001, -3.0], [0.0, -3.0], [-0.7956093000000001, -3.0], [-1.5587396123545605, -2.683901074764725], [-2.121320343559643, -2.121320343559643], [-2.683901074764725, -1.5587396123545605], [-3.0, -0.7956093000000001], [-3.0, 0.0], [-3.0, 0.7956093000000001], [-2.683901074764725, 1.5587396123545605], [-2.121320343559643, 2.121320343559643], [-1.5587396123545605, 2.683901074764725], [-0.7956093000000001, 3.0], [0.0, 3.0]], [\"M\", \"C\", \"C\", \"C\", \"C\", \"C\", \"C\", \"C\", \"C\", \"Z\"]], \"alpha\": 1, \"xindex\": 0, \"data\": \"data01\", \"id\": \"el14344516781840pts\"}, {\"edgecolor\": \"#000000\", \"facecolor\": \"#0000FF\", \"edgewidth\": 0.5, \"yindex\": 1, \"coordinates\": \"axes\", \"zorder\": 1000002.0, \"markerpath\": [[[0.0, 3.0], [0.7956093000000001, 3.0], [1.5587396123545605, 2.683901074764725], [2.121320343559643, 2.121320343559643], [2.683901074764725, 1.5587396123545605], [3.0, 0.7956093000000001], [3.0, 0.0], [3.0, -0.7956093000000001], [2.683901074764725, -1.5587396123545605], [2.121320343559643, -2.121320343559643], [1.5587396123545605, -2.683901074764725], [0.7956093000000001, -3.0], [0.0, -3.0], [-0.7956093000000001, -3.0], [-1.5587396123545605, -2.683901074764725], [-2.121320343559643, -2.121320343559643], [-2.683901074764725, -1.5587396123545605], [-3.0, -0.7956093000000001], [-3.0, 0.0], [-3.0, 0.7956093000000001], [-2.683901074764725, 1.5587396123545605], [-2.121320343559643, 2.121320343559643], [-1.5587396123545605, 2.683901074764725], [-0.7956093000000001, 3.0], [0.0, 3.0]], [\"M\", \"C\", \"C\", \"C\", \"C\", \"C\", \"C\", \"C\", \"C\", \"Z\"]], \"alpha\": 1, \"xindex\": 0, \"data\": \"data02\", \"id\": \"el14344448836432pts\"}, {\"edgecolor\": \"#000000\", \"facecolor\": \"#007F00\", \"edgewidth\": 0.5, \"yindex\": 2, \"coordinates\": \"axes\", \"zorder\": 1000002.0, \"markerpath\": [[[0.0, 3.0], [0.7956093000000001, 3.0], [1.5587396123545605, 2.683901074764725], [2.121320343559643, 2.121320343559643], [2.683901074764725, 1.5587396123545605], [3.0, 0.7956093000000001], [3.0, 0.0], [3.0, -0.7956093000000001], [2.683901074764725, -1.5587396123545605], [2.121320343559643, -2.121320343559643], [1.5587396123545605, -2.683901074764725], [0.7956093000000001, -3.0], [0.0, -3.0], [-0.7956093000000001, -3.0], [-1.5587396123545605, -2.683901074764725], [-2.121320343559643, -2.121320343559643], [-2.683901074764725, -1.5587396123545605], [-3.0, -0.7956093000000001], [-3.0, 0.0], [-3.0, 0.7956093000000001], [-2.683901074764725, 1.5587396123545605], [-2.121320343559643, 2.121320343559643], [-1.5587396123545605, 2.683901074764725], [-0.7956093000000001, 3.0], [0.0, 3.0]], [\"M\", \"C\", \"C\", \"C\", \"C\", \"C\", \"C\", \"C\", \"C\", \"Z\"]], \"alpha\": 1, \"xindex\": 0, \"data\": \"data02\", \"id\": \"el14344530390800pts\"}, {\"edgecolor\": \"#000000\", \"facecolor\": \"#FF0000\", \"edgewidth\": 0.5, \"yindex\": 3, \"coordinates\": \"axes\", \"zorder\": 1000002.0, \"markerpath\": [[[0.0, 3.0], [0.7956093000000001, 3.0], [1.5587396123545605, 2.683901074764725], [2.121320343559643, 2.121320343559643], [2.683901074764725, 1.5587396123545605], [3.0, 0.7956093000000001], [3.0, 0.0], [3.0, -0.7956093000000001], [2.683901074764725, -1.5587396123545605], [2.121320343559643, -2.121320343559643], [1.5587396123545605, -2.683901074764725], [0.7956093000000001, -3.0], [0.0, -3.0], [-0.7956093000000001, -3.0], [-1.5587396123545605, -2.683901074764725], [-2.121320343559643, -2.121320343559643], [-2.683901074764725, -1.5587396123545605], [-3.0, -0.7956093000000001], [-3.0, 0.0], [-3.0, 0.7956093000000001], [-2.683901074764725, 1.5587396123545605], [-2.121320343559643, 2.121320343559643], [-1.5587396123545605, 2.683901074764725], [-0.7956093000000001, 3.0], [0.0, 3.0]], [\"M\", \"C\", \"C\", \"C\", \"C\", \"C\", \"C\", \"C\", \"C\", \"Z\"]], \"alpha\": 1, \"xindex\": 0, \"data\": \"data02\", \"id\": \"el14344530389776pts\"}, {\"edgecolor\": \"#000000\", \"facecolor\": \"#00BFBF\", \"edgewidth\": 0.5, \"yindex\": 4, \"coordinates\": \"axes\", \"zorder\": 1000002.0, \"markerpath\": [[[0.0, 3.0], [0.7956093000000001, 3.0], [1.5587396123545605, 2.683901074764725], [2.121320343559643, 2.121320343559643], [2.683901074764725, 1.5587396123545605], [3.0, 0.7956093000000001], [3.0, 0.0], [3.0, -0.7956093000000001], [2.683901074764725, -1.5587396123545605], [2.121320343559643, -2.121320343559643], [1.5587396123545605, -2.683901074764725], [0.7956093000000001, -3.0], [0.0, -3.0], [-0.7956093000000001, -3.0], [-1.5587396123545605, -2.683901074764725], [-2.121320343559643, -2.121320343559643], [-2.683901074764725, -1.5587396123545605], [-3.0, -0.7956093000000001], [-3.0, 0.0], [-3.0, 0.7956093000000001], [-2.683901074764725, 1.5587396123545605], [-2.121320343559643, 2.121320343559643], [-1.5587396123545605, 2.683901074764725], [-0.7956093000000001, 3.0], [0.0, 3.0]], [\"M\", \"C\", \"C\", \"C\", \"C\", \"C\", \"C\", \"C\", \"C\", \"Z\"]], \"alpha\": 1, \"xindex\": 0, \"data\": \"data02\", \"id\": \"el14344531547856pts\"}], \"id\": \"el14344527543504\", \"ydomain\": [0.0, 100.0], \"collections\": [], \"xscale\": \"linear\", \"bbox\": [0.125, 0.125, 0.77500000000000002, 0.77500000000000002]}], \"height\": 400.0, \"width\": 400.0, \"plugins\": [{\"type\": \"reset\"}, {\"enabled\": false, \"button\": true, \"type\": \"zoom\"}, {\"enabled\": false, \"button\": true, \"type\": \"boxzoom\"}, {\"voffset\": 10, \"labels\": [\"<table><th colspan='2'>knn</th><tr><td>the first</td><td>0.0%</td></tr><tr><td>yields</td><td>0.0%</td></tr><tr><td>cum. lift</td><td>0.0</td></tr><tr><td>local lift</td><td>0.0</td></tr></table>\", \"<table><th colspan='2'>knn</th><tr><td>the first</td><td>5.3%</td></tr><tr><td>yields</td><td>26.9%</td></tr><tr><td>cum. lift</td><td>5.1</td></tr><tr><td>local lift</td><td>5.1</td></tr></table>\", \"<table><th colspan='2'>knn</th><tr><td>the first</td><td>10.5%</td></tr><tr><td>yields</td><td>44.7%</td></tr><tr><td>cum. lift</td><td>4.2</td></tr><tr><td>local lift</td><td>3.4</td></tr></table>\", \"<table><th colspan='2'>knn</th><tr><td>the first</td><td>15.8%</td></tr><tr><td>yields</td><td>58.8%</td></tr><tr><td>cum. lift</td><td>3.7</td></tr><tr><td>local lift</td><td>2.7</td></tr></table>\", \"<table><th colspan='2'>knn</th><tr><td>the first</td><td>21.1%</td></tr><tr><td>yields</td><td>63.9%</td></tr><tr><td>cum. lift</td><td>3.0</td></tr><tr><td>local lift</td><td>1.0</td></tr></table>\", \"<table><th colspan='2'>knn</th><tr><td>the first</td><td>26.3%</td></tr><tr><td>yields</td><td>67.4%</td></tr><tr><td>cum. lift</td><td>2.6</td></tr><tr><td>local lift</td><td>0.7</td></tr></table>\", \"<table><th colspan='2'>knn</th><tr><td>the first</td><td>31.6%</td></tr><tr><td>yields</td><td>71.8%</td></tr><tr><td>cum. lift</td><td>2.3</td></tr><tr><td>local lift</td><td>0.8</td></tr></table>\", \"<table><th colspan='2'>knn</th><tr><td>the first</td><td>36.8%</td></tr><tr><td>yields</td><td>75.1%</td></tr><tr><td>cum. lift</td><td>2.0</td></tr><tr><td>local lift</td><td>0.6</td></tr></table>\", \"<table><th colspan='2'>knn</th><tr><td>the first</td><td>42.1%</td></tr><tr><td>yields</td><td>78.0%</td></tr><tr><td>cum. lift</td><td>1.9</td></tr><tr><td>local lift</td><td>0.5</td></tr></table>\", \"<table><th colspan='2'>knn</th><tr><td>the first</td><td>47.4%</td></tr><tr><td>yields</td><td>79.7%</td></tr><tr><td>cum. lift</td><td>1.7</td></tr><tr><td>local lift</td><td>0.3</td></tr></table>\", \"<table><th colspan='2'>knn</th><tr><td>the first</td><td>52.6%</td></tr><tr><td>yields</td><td>83.3%</td></tr><tr><td>cum. lift</td><td>1.6</td></tr><tr><td>local lift</td><td>0.7</td></tr></table>\", \"<table><th colspan='2'>knn</th><tr><td>the first</td><td>57.9%</td></tr><tr><td>yields</td><td>84.6%</td></tr><tr><td>cum. lift</td><td>1.5</td></tr><tr><td>local lift</td><td>0.3</td></tr></table>\", \"<table><th colspan='2'>knn</th><tr><td>the first</td><td>63.2%</td></tr><tr><td>yields</td><td>87.9%</td></tr><tr><td>cum. lift</td><td>1.4</td></tr><tr><td>local lift</td><td>0.6</td></tr></table>\", \"<table><th colspan='2'>knn</th><tr><td>the first</td><td>68.4%</td></tr><tr><td>yields</td><td>88.8%</td></tr><tr><td>cum. lift</td><td>1.3</td></tr><tr><td>local lift</td><td>0.2</td></tr></table>\", \"<table><th colspan='2'>knn</th><tr><td>the first</td><td>73.7%</td></tr><tr><td>yields</td><td>90.5%</td></tr><tr><td>cum. lift</td><td>1.2</td></tr><tr><td>local lift</td><td>0.3</td></tr></table>\", \"<table><th colspan='2'>knn</th><tr><td>the first</td><td>78.9%</td></tr><tr><td>yields</td><td>92.1%</td></tr><tr><td>cum. lift</td><td>1.2</td></tr><tr><td>local lift</td><td>0.3</td></tr></table>\", \"<table><th colspan='2'>knn</th><tr><td>the first</td><td>84.2%</td></tr><tr><td>yields</td><td>94.5%</td></tr><tr><td>cum. lift</td><td>1.1</td></tr><tr><td>local lift</td><td>0.5</td></tr></table>\", \"<table><th colspan='2'>knn</th><tr><td>the first</td><td>89.5%</td></tr><tr><td>yields</td><td>96.5%</td></tr><tr><td>cum. lift</td><td>1.1</td></tr><tr><td>local lift</td><td>0.4</td></tr></table>\", \"<table><th colspan='2'>knn</th><tr><td>the first</td><td>94.7%</td></tr><tr><td>yields</td><td>98.0%</td></tr><tr><td>cum. lift</td><td>1.0</td></tr><tr><td>local lift</td><td>0.3</td></tr></table>\", \"<table><th colspan='2'>knn</th><tr><td>the first</td><td>100.0%</td></tr><tr><td>yields</td><td>100.0%</td></tr><tr><td>cum. lift</td><td>1.0</td></tr><tr><td>local lift</td><td>0.4</td></tr></table>\"], \"type\": \"htmltooltip\", \"id\": \"el14344530098768pts\", \"hoffset\": 0}, {\"voffset\": 10, \"labels\": [\"<table><th colspan='2'>gaussianNB</th><tr><td>the first</td><td>0.0%</td></tr><tr><td>yields</td><td>0.0%</td></tr><tr><td>cum. lift</td><td>0.0</td></tr><tr><td>local lift</td><td>0.0</td></tr></table>\", \"<table><th colspan='2'>gaussianNB</th><tr><td>the first</td><td>5.3%</td></tr><tr><td>yields</td><td>24.4%</td></tr><tr><td>cum. lift</td><td>4.6</td></tr><tr><td>local lift</td><td>4.6</td></tr></table>\", \"<table><th colspan='2'>gaussianNB</th><tr><td>the first</td><td>10.5%</td></tr><tr><td>yields</td><td>43.4%</td></tr><tr><td>cum. lift</td><td>4.1</td></tr><tr><td>local lift</td><td>3.6</td></tr></table>\", \"<table><th colspan='2'>gaussianNB</th><tr><td>the first</td><td>15.8%</td></tr><tr><td>yields</td><td>52.4%</td></tr><tr><td>cum. lift</td><td>3.3</td></tr><tr><td>local lift</td><td>1.7</td></tr></table>\", \"<table><th colspan='2'>gaussianNB</th><tr><td>the first</td><td>21.1%</td></tr><tr><td>yields</td><td>59.0%</td></tr><tr><td>cum. lift</td><td>2.8</td></tr><tr><td>local lift</td><td>1.3</td></tr></table>\", \"<table><th colspan='2'>gaussianNB</th><tr><td>the first</td><td>26.3%</td></tr><tr><td>yields</td><td>64.1%</td></tr><tr><td>cum. lift</td><td>2.4</td></tr><tr><td>local lift</td><td>1.0</td></tr></table>\", \"<table><th colspan='2'>gaussianNB</th><tr><td>the first</td><td>31.6%</td></tr><tr><td>yields</td><td>69.2%</td></tr><tr><td>cum. lift</td><td>2.2</td></tr><tr><td>local lift</td><td>1.0</td></tr></table>\", \"<table><th colspan='2'>gaussianNB</th><tr><td>the first</td><td>36.8%</td></tr><tr><td>yields</td><td>72.2%</td></tr><tr><td>cum. lift</td><td>2.0</td></tr><tr><td>local lift</td><td>0.6</td></tr></table>\", \"<table><th colspan='2'>gaussianNB</th><tr><td>the first</td><td>42.1%</td></tr><tr><td>yields</td><td>74.7%</td></tr><tr><td>cum. lift</td><td>1.8</td></tr><tr><td>local lift</td><td>0.5</td></tr></table>\", \"<table><th colspan='2'>gaussianNB</th><tr><td>the first</td><td>47.4%</td></tr><tr><td>yields</td><td>79.1%</td></tr><tr><td>cum. lift</td><td>1.7</td></tr><tr><td>local lift</td><td>0.8</td></tr></table>\", \"<table><th colspan='2'>gaussianNB</th><tr><td>the first</td><td>52.6%</td></tr><tr><td>yields</td><td>81.9%</td></tr><tr><td>cum. lift</td><td>1.6</td></tr><tr><td>local lift</td><td>0.5</td></tr></table>\", \"<table><th colspan='2'>gaussianNB</th><tr><td>the first</td><td>57.9%</td></tr><tr><td>yields</td><td>83.7%</td></tr><tr><td>cum. lift</td><td>1.4</td></tr><tr><td>local lift</td><td>0.3</td></tr></table>\", \"<table><th colspan='2'>gaussianNB</th><tr><td>the first</td><td>63.2%</td></tr><tr><td>yields</td><td>85.5%</td></tr><tr><td>cum. lift</td><td>1.4</td></tr><tr><td>local lift</td><td>0.3</td></tr></table>\", \"<table><th colspan='2'>gaussianNB</th><tr><td>the first</td><td>68.4%</td></tr><tr><td>yields</td><td>88.3%</td></tr><tr><td>cum. lift</td><td>1.3</td></tr><tr><td>local lift</td><td>0.5</td></tr></table>\", \"<table><th colspan='2'>gaussianNB</th><tr><td>the first</td><td>73.7%</td></tr><tr><td>yields</td><td>90.3%</td></tr><tr><td>cum. lift</td><td>1.2</td></tr><tr><td>local lift</td><td>0.4</td></tr></table>\", \"<table><th colspan='2'>gaussianNB</th><tr><td>the first</td><td>78.9%</td></tr><tr><td>yields</td><td>92.3%</td></tr><tr><td>cum. lift</td><td>1.2</td></tr><tr><td>local lift</td><td>0.4</td></tr></table>\", \"<table><th colspan='2'>gaussianNB</th><tr><td>the first</td><td>84.2%</td></tr><tr><td>yields</td><td>94.5%</td></tr><tr><td>cum. lift</td><td>1.1</td></tr><tr><td>local lift</td><td>0.4</td></tr></table>\", \"<table><th colspan='2'>gaussianNB</th><tr><td>the first</td><td>89.5%</td></tr><tr><td>yields</td><td>96.7%</td></tr><tr><td>cum. lift</td><td>1.1</td></tr><tr><td>local lift</td><td>0.4</td></tr></table>\", \"<table><th colspan='2'>gaussianNB</th><tr><td>the first</td><td>94.7%</td></tr><tr><td>yields</td><td>98.5%</td></tr><tr><td>cum. lift</td><td>1.0</td></tr><tr><td>local lift</td><td>0.3</td></tr></table>\", \"<table><th colspan='2'>gaussianNB</th><tr><td>the first</td><td>100.0%</td></tr><tr><td>yields</td><td>100.0%</td></tr><tr><td>cum. lift</td><td>1.0</td></tr><tr><td>local lift</td><td>0.3</td></tr></table>\"], \"type\": \"htmltooltip\", \"id\": \"el14344516578576pts\", \"hoffset\": 0}, {\"voffset\": 10, \"labels\": [\"<table><th colspan='2'>logres</th><tr><td>the first</td><td>0.0%</td></tr><tr><td>yields</td><td>0.0%</td></tr><tr><td>cum. lift</td><td>0.0</td></tr><tr><td>local lift</td><td>0.0</td></tr></table>\", \"<table><th colspan='2'>logres</th><tr><td>the first</td><td>5.3%</td></tr><tr><td>yields</td><td>28.9%</td></tr><tr><td>cum. lift</td><td>5.5</td></tr><tr><td>local lift</td><td>5.5</td></tr></table>\", \"<table><th colspan='2'>logres</th><tr><td>the first</td><td>10.5%</td></tr><tr><td>yields</td><td>46.5%</td></tr><tr><td>cum. lift</td><td>4.4</td></tr><tr><td>local lift</td><td>3.3</td></tr></table>\", \"<table><th colspan='2'>logres</th><tr><td>the first</td><td>15.8%</td></tr><tr><td>yields</td><td>57.5%</td></tr><tr><td>cum. lift</td><td>3.6</td></tr><tr><td>local lift</td><td>2.1</td></tr></table>\", \"<table><th colspan='2'>logres</th><tr><td>the first</td><td>21.1%</td></tr><tr><td>yields</td><td>61.9%</td></tr><tr><td>cum. lift</td><td>2.9</td></tr><tr><td>local lift</td><td>0.8</td></tr></table>\", \"<table><th colspan='2'>logres</th><tr><td>the first</td><td>26.3%</td></tr><tr><td>yields</td><td>66.1%</td></tr><tr><td>cum. lift</td><td>2.5</td></tr><tr><td>local lift</td><td>0.8</td></tr></table>\", \"<table><th colspan='2'>logres</th><tr><td>the first</td><td>31.6%</td></tr><tr><td>yields</td><td>70.0%</td></tr><tr><td>cum. lift</td><td>2.2</td></tr><tr><td>local lift</td><td>0.8</td></tr></table>\", \"<table><th colspan='2'>logres</th><tr><td>the first</td><td>36.8%</td></tr><tr><td>yields</td><td>74.7%</td></tr><tr><td>cum. lift</td><td>2.0</td></tr><tr><td>local lift</td><td>0.9</td></tr></table>\", \"<table><th colspan='2'>logres</th><tr><td>the first</td><td>42.1%</td></tr><tr><td>yields</td><td>77.3%</td></tr><tr><td>cum. lift</td><td>1.8</td></tr><tr><td>local lift</td><td>0.5</td></tr></table>\", \"<table><th colspan='2'>logres</th><tr><td>the first</td><td>47.4%</td></tr><tr><td>yields</td><td>78.6%</td></tr><tr><td>cum. lift</td><td>1.7</td></tr><tr><td>local lift</td><td>0.3</td></tr></table>\", \"<table><th colspan='2'>logres</th><tr><td>the first</td><td>52.6%</td></tr><tr><td>yields</td><td>81.5%</td></tr><tr><td>cum. lift</td><td>1.5</td></tr><tr><td>local lift</td><td>0.5</td></tr></table>\", \"<table><th colspan='2'>logres</th><tr><td>the first</td><td>57.9%</td></tr><tr><td>yields</td><td>83.9%</td></tr><tr><td>cum. lift</td><td>1.4</td></tr><tr><td>local lift</td><td>0.5</td></tr></table>\", \"<table><th colspan='2'>logres</th><tr><td>the first</td><td>63.2%</td></tr><tr><td>yields</td><td>87.4%</td></tr><tr><td>cum. lift</td><td>1.4</td></tr><tr><td>local lift</td><td>0.7</td></tr></table>\", \"<table><th colspan='2'>logres</th><tr><td>the first</td><td>68.4%</td></tr><tr><td>yields</td><td>90.5%</td></tr><tr><td>cum. lift</td><td>1.3</td></tr><tr><td>local lift</td><td>0.6</td></tr></table>\", \"<table><th colspan='2'>logres</th><tr><td>the first</td><td>73.7%</td></tr><tr><td>yields</td><td>92.3%</td></tr><tr><td>cum. lift</td><td>1.3</td></tr><tr><td>local lift</td><td>0.3</td></tr></table>\", \"<table><th colspan='2'>logres</th><tr><td>the first</td><td>78.9%</td></tr><tr><td>yields</td><td>94.7%</td></tr><tr><td>cum. lift</td><td>1.2</td></tr><tr><td>local lift</td><td>0.5</td></tr></table>\", \"<table><th colspan='2'>logres</th><tr><td>the first</td><td>84.2%</td></tr><tr><td>yields</td><td>96.5%</td></tr><tr><td>cum. lift</td><td>1.1</td></tr><tr><td>local lift</td><td>0.3</td></tr></table>\", \"<table><th colspan='2'>logres</th><tr><td>the first</td><td>89.5%</td></tr><tr><td>yields</td><td>98.0%</td></tr><tr><td>cum. lift</td><td>1.1</td></tr><tr><td>local lift</td><td>0.3</td></tr></table>\", \"<table><th colspan='2'>logres</th><tr><td>the first</td><td>94.7%</td></tr><tr><td>yields</td><td>98.7%</td></tr><tr><td>cum. lift</td><td>1.0</td></tr><tr><td>local lift</td><td>0.1</td></tr></table>\", \"<table><th colspan='2'>logres</th><tr><td>the first</td><td>100.0%</td></tr><tr><td>yields</td><td>100.0%</td></tr><tr><td>cum. lift</td><td>1.0</td></tr><tr><td>local lift</td><td>0.3</td></tr></table>\"], \"type\": \"htmltooltip\", \"id\": \"el14344436438864pts\", \"hoffset\": 0}, {\"voffset\": 10, \"labels\": [\"<table><th colspan='2'>baseline</th><tr><td>the first</td><td>0.0%</td></tr><tr><td>yields</td><td>0.0%</td></tr><tr><td>cum. lift</td><td>0.0</td></tr><tr><td>local lift</td><td>0.0</td></tr></table>\", \"<table><th colspan='2'>baseline</th><tr><td>the first</td><td>5.3%</td></tr><tr><td>yields</td><td>5.3%</td></tr><tr><td>cum. lift</td><td>1.0</td></tr><tr><td>local lift</td><td>1.0</td></tr></table>\", \"<table><th colspan='2'>baseline</th><tr><td>the first</td><td>10.5%</td></tr><tr><td>yields</td><td>11.0%</td></tr><tr><td>cum. lift</td><td>1.0</td></tr><tr><td>local lift</td><td>1.1</td></tr></table>\", \"<table><th colspan='2'>baseline</th><tr><td>the first</td><td>15.8%</td></tr><tr><td>yields</td><td>15.9%</td></tr><tr><td>cum. lift</td><td>1.0</td></tr><tr><td>local lift</td><td>0.9</td></tr></table>\", \"<table><th colspan='2'>baseline</th><tr><td>the first</td><td>21.1%</td></tr><tr><td>yields</td><td>22.0%</td></tr><tr><td>cum. lift</td><td>1.0</td></tr><tr><td>local lift</td><td>1.2</td></tr></table>\", \"<table><th colspan='2'>baseline</th><tr><td>the first</td><td>26.3%</td></tr><tr><td>yields</td><td>27.5%</td></tr><tr><td>cum. lift</td><td>1.0</td></tr><tr><td>local lift</td><td>1.0</td></tr></table>\", \"<table><th colspan='2'>baseline</th><tr><td>the first</td><td>31.6%</td></tr><tr><td>yields</td><td>32.8%</td></tr><tr><td>cum. lift</td><td>1.0</td></tr><tr><td>local lift</td><td>1.0</td></tr></table>\", \"<table><th colspan='2'>baseline</th><tr><td>the first</td><td>36.8%</td></tr><tr><td>yields</td><td>38.5%</td></tr><tr><td>cum. lift</td><td>1.0</td></tr><tr><td>local lift</td><td>1.1</td></tr></table>\", \"<table><th colspan='2'>baseline</th><tr><td>the first</td><td>42.1%</td></tr><tr><td>yields</td><td>43.4%</td></tr><tr><td>cum. lift</td><td>1.0</td></tr><tr><td>local lift</td><td>0.9</td></tr></table>\", \"<table><th colspan='2'>baseline</th><tr><td>the first</td><td>47.4%</td></tr><tr><td>yields</td><td>48.0%</td></tr><tr><td>cum. lift</td><td>1.0</td></tr><tr><td>local lift</td><td>0.9</td></tr></table>\", \"<table><th colspan='2'>baseline</th><tr><td>the first</td><td>52.6%</td></tr><tr><td>yields</td><td>52.2%</td></tr><tr><td>cum. lift</td><td>1.0</td></tr><tr><td>local lift</td><td>0.8</td></tr></table>\", \"<table><th colspan='2'>baseline</th><tr><td>the first</td><td>57.9%</td></tr><tr><td>yields</td><td>57.0%</td></tr><tr><td>cum. lift</td><td>1.0</td></tr><tr><td>local lift</td><td>0.9</td></tr></table>\", \"<table><th colspan='2'>baseline</th><tr><td>the first</td><td>63.2%</td></tr><tr><td>yields</td><td>62.8%</td></tr><tr><td>cum. lift</td><td>1.0</td></tr><tr><td>local lift</td><td>1.1</td></tr></table>\", \"<table><th colspan='2'>baseline</th><tr><td>the first</td><td>68.4%</td></tr><tr><td>yields</td><td>68.7%</td></tr><tr><td>cum. lift</td><td>1.0</td></tr><tr><td>local lift</td><td>1.1</td></tr></table>\", \"<table><th colspan='2'>baseline</th><tr><td>the first</td><td>73.7%</td></tr><tr><td>yields</td><td>74.9%</td></tr><tr><td>cum. lift</td><td>1.0</td></tr><tr><td>local lift</td><td>1.2</td></tr></table>\", \"<table><th colspan='2'>baseline</th><tr><td>the first</td><td>78.9%</td></tr><tr><td>yields</td><td>80.0%</td></tr><tr><td>cum. lift</td><td>1.0</td></tr><tr><td>local lift</td><td>1.0</td></tr></table>\", \"<table><th colspan='2'>baseline</th><tr><td>the first</td><td>84.2%</td></tr><tr><td>yields</td><td>83.9%</td></tr><tr><td>cum. lift</td><td>1.0</td></tr><tr><td>local lift</td><td>0.8</td></tr></table>\", \"<table><th colspan='2'>baseline</th><tr><td>the first</td><td>89.5%</td></tr><tr><td>yields</td><td>88.5%</td></tr><tr><td>cum. lift</td><td>1.0</td></tr><tr><td>local lift</td><td>0.9</td></tr></table>\", \"<table><th colspan='2'>baseline</th><tr><td>the first</td><td>94.7%</td></tr><tr><td>yields</td><td>94.1%</td></tr><tr><td>cum. lift</td><td>1.0</td></tr><tr><td>local lift</td><td>1.0</td></tr></table>\", \"<table><th colspan='2'>baseline</th><tr><td>the first</td><td>100.0%</td></tr><tr><td>yields</td><td>100.0%</td></tr><tr><td>cum. lift</td><td>1.0</td></tr><tr><td>local lift</td><td>1.1</td></tr></table>\"], \"type\": \"htmltooltip\", \"id\": \"el14344516781840pts\", \"hoffset\": 0}], \"data\": {\"data02\": [[0.6057795698924731, 0.2537634408602151, 0.19032258064516128, 0.12688172043010748, 0.06344086021505377], [0.6659946236559139, 0.2537634408602151, 0.19032258064516128, 0.12688172043010748, 0.06344086021505377]], \"data03\": [[0.5756720430107526, 0.02150537634408603], [0.9784946236559137, 0.02150537634408603], [0.9784946236559137, 0.2881720430107527], [0.5756720430107526, 0.2881720430107527]], \"data01\": [[0.0, 0.0, 0.0, 0.0, 0.0], [5.263157894736842, 26.87224669603524, 24.44933920704846, 28.854625550660796, 5.286343612334802], [10.526315789473683, 44.713656387665196, 43.3920704845815, 46.47577092511014, 11.013215859030836], [15.789473684210526, 58.81057268722467, 52.422907488986795, 57.48898678414097, 15.859030837004406], [21.052631578947366, 63.87665198237885, 59.03083700440529, 61.89427312775331, 22.026431718061676], [26.31578947368421, 67.40088105726872, 64.09691629955947, 66.07929515418502, 27.533039647577095], [31.57894736842105, 71.80616740088107, 69.16299559471365, 70.04405286343612, 32.8193832599119], [36.84210526315789, 75.11013215859032, 72.24669603524228, 74.66960352422907, 38.546255506607935], [42.10526315789473, 77.97356828193833, 74.66960352422906, 77.31277533039648, 43.3920704845815], [47.368421052631575, 79.73568281938327, 79.0748898678414, 78.63436123348018, 48.017621145374456], [52.63157894736842, 83.25991189427315, 81.93832599118942, 81.4977973568282, 52.20264317180617], [57.89473684210527, 84.58149779735685, 83.70044052863436, 83.92070484581498, 57.04845814977975], [63.1578947368421, 87.8854625550661, 85.46255506607929, 87.44493392070484, 62.77533039647578], [68.42105263157895, 88.76651982378856, 88.32599118942731, 90.52863436123349, 68.72246696035243], [73.68421052631578, 90.5286343612335, 90.30837004405286, 92.29074889867842, 74.88986784140971], [78.94736842105263, 92.07048458149781, 92.29074889867842, 94.7136563876652, 79.95594713656389], [84.21052631578947, 94.49339207048459, 94.49339207048459, 96.47577092511014, 83.92070484581498], [89.47368421052632, 96.47577092511015, 96.69603524229075, 98.01762114537446, 88.54625550660793], [94.73684210526315, 98.01762114537446, 98.45814977973568, 98.67841409691631, 94.05286343612336], [100.0, 100.00000000000003, 100.0, 100.00000000000003, 100.0]]}, \"id\": \"el14344517778768\"});\n",
        "   }(mpld3);\n",
        "}else if(typeof define === \"function\" && define.amd){\n",
        "   // require.js is available: use it to load d3/mpld3\n",
        "   require.config({paths: {d3: \"https://mpld3.github.io/js/d3.v3.min\"}});\n",
        "   require([\"d3\"], function(d3){\n",
        "      window.d3 = d3;\n",
        "      mpld3_load_lib(\"https://mpld3.github.io/js/mpld3.v0.2.js\", function(){\n",
        "         \n",
        "    mpld3.register_plugin(\"htmltooltip\", HtmlTooltipPlugin);\n",
        "    HtmlTooltipPlugin.prototype = Object.create(mpld3.Plugin.prototype);\n",
        "    HtmlTooltipPlugin.prototype.constructor = HtmlTooltipPlugin;\n",
        "    HtmlTooltipPlugin.prototype.requiredProps = [\"id\"];\n",
        "    HtmlTooltipPlugin.prototype.defaultProps = {labels:null, hoffset:0, voffset:10};\n",
        "    function HtmlTooltipPlugin(fig, props){\n",
        "        mpld3.Plugin.call(this, fig, props);\n",
        "    };\n",
        "\n",
        "    HtmlTooltipPlugin.prototype.draw = function(){\n",
        "       var obj = mpld3.get_element(this.props.id);\n",
        "       var labels = this.props.labels;\n",
        "       var tooltip = d3.select(\"body\").append(\"div\")\n",
        "                    .attr(\"class\", \"mpld3-tooltip\")\n",
        "                    .style(\"position\", \"absolute\")\n",
        "                    .style(\"z-index\", \"10\")\n",
        "                    .style(\"visibility\", \"hidden\");\n",
        "\n",
        "       obj.elements()\n",
        "           .on(\"mouseover\", function(d, i){\n",
        "                              tooltip.html(labels[i])\n",
        "                                     .style(\"visibility\", \"visible\");})\n",
        "           .on(\"mousemove\", function(d, i){\n",
        "                    tooltip\n",
        "                      .style(\"top\", d3.event.pageY + this.props.voffset + \"px\")\n",
        "                      .style(\"left\",d3.event.pageX + this.props.hoffset + \"px\");\n",
        "                 }.bind(this))\n",
        "           .on(\"mouseout\",  function(d, i){\n",
        "                           tooltip.style(\"visibility\", \"hidden\");});\n",
        "    };\n",
        "    \n",
        "    mpld3.register_plugin(\"htmltooltip\", HtmlTooltipPlugin);\n",
        "    HtmlTooltipPlugin.prototype = Object.create(mpld3.Plugin.prototype);\n",
        "    HtmlTooltipPlugin.prototype.constructor = HtmlTooltipPlugin;\n",
        "    HtmlTooltipPlugin.prototype.requiredProps = [\"id\"];\n",
        "    HtmlTooltipPlugin.prototype.defaultProps = {labels:null, hoffset:0, voffset:10};\n",
        "    function HtmlTooltipPlugin(fig, props){\n",
        "        mpld3.Plugin.call(this, fig, props);\n",
        "    };\n",
        "\n",
        "    HtmlTooltipPlugin.prototype.draw = function(){\n",
        "       var obj = mpld3.get_element(this.props.id);\n",
        "       var labels = this.props.labels;\n",
        "       var tooltip = d3.select(\"body\").append(\"div\")\n",
        "                    .attr(\"class\", \"mpld3-tooltip\")\n",
        "                    .style(\"position\", \"absolute\")\n",
        "                    .style(\"z-index\", \"10\")\n",
        "                    .style(\"visibility\", \"hidden\");\n",
        "\n",
        "       obj.elements()\n",
        "           .on(\"mouseover\", function(d, i){\n",
        "                              tooltip.html(labels[i])\n",
        "                                     .style(\"visibility\", \"visible\");})\n",
        "           .on(\"mousemove\", function(d, i){\n",
        "                    tooltip\n",
        "                      .style(\"top\", d3.event.pageY + this.props.voffset + \"px\")\n",
        "                      .style(\"left\",d3.event.pageX + this.props.hoffset + \"px\");\n",
        "                 }.bind(this))\n",
        "           .on(\"mouseout\",  function(d, i){\n",
        "                           tooltip.style(\"visibility\", \"hidden\");});\n",
        "    };\n",
        "    \n",
        "    mpld3.register_plugin(\"htmltooltip\", HtmlTooltipPlugin);\n",
        "    HtmlTooltipPlugin.prototype = Object.create(mpld3.Plugin.prototype);\n",
        "    HtmlTooltipPlugin.prototype.constructor = HtmlTooltipPlugin;\n",
        "    HtmlTooltipPlugin.prototype.requiredProps = [\"id\"];\n",
        "    HtmlTooltipPlugin.prototype.defaultProps = {labels:null, hoffset:0, voffset:10};\n",
        "    function HtmlTooltipPlugin(fig, props){\n",
        "        mpld3.Plugin.call(this, fig, props);\n",
        "    };\n",
        "\n",
        "    HtmlTooltipPlugin.prototype.draw = function(){\n",
        "       var obj = mpld3.get_element(this.props.id);\n",
        "       var labels = this.props.labels;\n",
        "       var tooltip = d3.select(\"body\").append(\"div\")\n",
        "                    .attr(\"class\", \"mpld3-tooltip\")\n",
        "                    .style(\"position\", \"absolute\")\n",
        "                    .style(\"z-index\", \"10\")\n",
        "                    .style(\"visibility\", \"hidden\");\n",
        "\n",
        "       obj.elements()\n",
        "           .on(\"mouseover\", function(d, i){\n",
        "                              tooltip.html(labels[i])\n",
        "                                     .style(\"visibility\", \"visible\");})\n",
        "           .on(\"mousemove\", function(d, i){\n",
        "                    tooltip\n",
        "                      .style(\"top\", d3.event.pageY + this.props.voffset + \"px\")\n",
        "                      .style(\"left\",d3.event.pageX + this.props.hoffset + \"px\");\n",
        "                 }.bind(this))\n",
        "           .on(\"mouseout\",  function(d, i){\n",
        "                           tooltip.style(\"visibility\", \"hidden\");});\n",
        "    };\n",
        "    \n",
        "    mpld3.register_plugin(\"htmltooltip\", HtmlTooltipPlugin);\n",
        "    HtmlTooltipPlugin.prototype = Object.create(mpld3.Plugin.prototype);\n",
        "    HtmlTooltipPlugin.prototype.constructor = HtmlTooltipPlugin;\n",
        "    HtmlTooltipPlugin.prototype.requiredProps = [\"id\"];\n",
        "    HtmlTooltipPlugin.prototype.defaultProps = {labels:null, hoffset:0, voffset:10};\n",
        "    function HtmlTooltipPlugin(fig, props){\n",
        "        mpld3.Plugin.call(this, fig, props);\n",
        "    };\n",
        "\n",
        "    HtmlTooltipPlugin.prototype.draw = function(){\n",
        "       var obj = mpld3.get_element(this.props.id);\n",
        "       var labels = this.props.labels;\n",
        "       var tooltip = d3.select(\"body\").append(\"div\")\n",
        "                    .attr(\"class\", \"mpld3-tooltip\")\n",
        "                    .style(\"position\", \"absolute\")\n",
        "                    .style(\"z-index\", \"10\")\n",
        "                    .style(\"visibility\", \"hidden\");\n",
        "\n",
        "       obj.elements()\n",
        "           .on(\"mouseover\", function(d, i){\n",
        "                              tooltip.html(labels[i])\n",
        "                                     .style(\"visibility\", \"visible\");})\n",
        "           .on(\"mousemove\", function(d, i){\n",
        "                    tooltip\n",
        "                      .style(\"top\", d3.event.pageY + this.props.voffset + \"px\")\n",
        "                      .style(\"left\",d3.event.pageX + this.props.hoffset + \"px\");\n",
        "                 }.bind(this))\n",
        "           .on(\"mouseout\",  function(d, i){\n",
        "                           tooltip.style(\"visibility\", \"hidden\");});\n",
        "    };\n",
        "    \n",
        "         mpld3.draw_figure(\"fig_el143445177787682390910465\", {\"axes\": [{\"xlim\": [0.0, 100.0], \"yscale\": \"linear\", \"axesbg\": \"#FFFFFF\", \"texts\": [{\"v_baseline\": \"hanging\", \"h_anchor\": \"middle\", \"color\": \"#000000\", \"text\": \"Percentage of test instances (decreasing by probability)\", \"coordinates\": \"axes\", \"zorder\": 3, \"alpha\": 1, \"fontsize\": 13.6094379124341, \"position\": [0.5, -0.10612701760729068], \"rotation\": -0.0, \"id\": \"el14344557681360\"}, {\"v_baseline\": \"auto\", \"h_anchor\": \"middle\", \"color\": \"#000000\", \"text\": \"Percentage of positive instances targeted\", \"coordinates\": \"axes\", \"zorder\": 3, \"alpha\": 1, \"fontsize\": 13.6094379124341, \"position\": [-0.13641935631696808, 0.5], \"rotation\": -90.0, \"id\": \"el14344530297424\"}, {\"v_baseline\": \"auto\", \"h_anchor\": \"middle\", \"color\": \"#000000\", \"text\": \"Lift curve for prediction of successful term deposit sale\", \"coordinates\": \"axes\", \"zorder\": 3, \"alpha\": 1, \"fontsize\": 15.6094379124341, \"position\": [0.5, 1.0779211469534051], \"rotation\": -0.0, \"id\": \"el14344530298192\"}, {\"v_baseline\": \"auto\", \"h_anchor\": \"start\", \"color\": \"#000000\", \"text\": \"None\", \"coordinates\": \"axes\", \"zorder\": 1000003.0, \"alpha\": 1, \"fontsize\": 10.0, \"position\": [-0.16129032258064516, -0.16129032258064516], \"rotation\": -0.0, \"id\": \"el14344531547664\"}, {\"v_baseline\": \"auto\", \"h_anchor\": \"start\", \"color\": \"#000000\", \"text\": \"knn\", \"coordinates\": \"axes\", \"zorder\": 1000003.0, \"alpha\": 1, \"fontsize\": 12.0, \"position\": [0.71330645161290307, 0.23870967741935487], \"rotation\": -0.0, \"id\": \"el14344448834640\"}, {\"v_baseline\": \"auto\", \"h_anchor\": \"start\", \"color\": \"#000000\", \"text\": \"gaussianNB\", \"coordinates\": \"axes\", \"zorder\": 1000003.0, \"alpha\": 1, \"fontsize\": 12.0, \"position\": [0.71330645161290307, 0.17526881720430107], \"rotation\": -0.0, \"id\": \"el14344516065552\"}, {\"v_baseline\": \"auto\", \"h_anchor\": \"start\", \"color\": \"#000000\", \"text\": \"logres\", \"coordinates\": \"axes\", \"zorder\": 1000003.0, \"alpha\": 1, \"fontsize\": 12.0, \"position\": [0.71330645161290307, 0.11182795698924727], \"rotation\": -0.0, \"id\": \"el14344530389392\"}, {\"v_baseline\": \"auto\", \"h_anchor\": \"start\", \"color\": \"#000000\", \"text\": \"baseline\", \"coordinates\": \"axes\", \"zorder\": 1000003.0, \"alpha\": 1, \"fontsize\": 12.0, \"position\": [0.71330645161290307, 0.048387096774193561], \"rotation\": -0.0, \"id\": \"el14344531546960\"}], \"zoomable\": true, \"images\": [], \"xdomain\": [0.0, 100.0], \"ylim\": [0.0, 100.0], \"paths\": [{\"edgecolor\": \"#000000\", \"facecolor\": \"#FFFFFF\", \"edgewidth\": 1.0, \"pathcodes\": [\"M\", \"L\", \"L\", \"L\", \"Z\"], \"yindex\": 1, \"coordinates\": \"axes\", \"dasharray\": \"10,0\", \"zorder\": 1000001.0, \"alpha\": 1.0, \"xindex\": 0, \"data\": \"data03\", \"id\": \"el14344448834512\"}], \"sharey\": [], \"sharex\": [], \"axesbgalpha\": null, \"axes\": [{\"scale\": \"linear\", \"tickformat\": null, \"grid\": {\"color\": \"#000000\", \"alpha\": 0.3, \"dasharray\": \"2,2\", \"gridOn\": true}, \"fontsize\": 10.0, \"position\": \"bottom\", \"nticks\": 6, \"tickvalues\": null}, {\"scale\": \"linear\", \"tickformat\": null, \"grid\": {\"color\": \"#000000\", \"alpha\": 0.3, \"dasharray\": \"2,2\", \"gridOn\": true}, \"fontsize\": 10.0, \"position\": \"left\", \"nticks\": 6, \"tickvalues\": null}], \"lines\": [{\"color\": \"#0000FF\", \"yindex\": 1, \"coordinates\": \"data\", \"dasharray\": \"10,0\", \"zorder\": 2, \"alpha\": 1, \"xindex\": 0, \"linewidth\": 1.0, \"data\": \"data01\", \"id\": \"el14344530098768\"}, {\"color\": \"#007F00\", \"yindex\": 2, \"coordinates\": \"data\", \"dasharray\": \"10,0\", \"zorder\": 2, \"alpha\": 1, \"xindex\": 0, \"linewidth\": 1.0, \"data\": \"data01\", \"id\": \"el14344516578576\"}, {\"color\": \"#FF0000\", \"yindex\": 3, \"coordinates\": \"data\", \"dasharray\": \"10,0\", \"zorder\": 2, \"alpha\": 1, \"xindex\": 0, \"linewidth\": 1.0, \"data\": \"data01\", \"id\": \"el14344436438864\"}, {\"color\": \"#00BFBF\", \"yindex\": 4, \"coordinates\": \"data\", \"dasharray\": \"10,0\", \"zorder\": 2, \"alpha\": 1, \"xindex\": 0, \"linewidth\": 1.0, \"data\": \"data01\", \"id\": \"el14344516781840\"}, {\"color\": \"#0000FF\", \"yindex\": 1, \"coordinates\": \"axes\", \"dasharray\": \"10,0\", \"zorder\": 1000002.0, \"alpha\": 1, \"xindex\": 0, \"linewidth\": 1.0, \"data\": \"data02\", \"id\": \"el14344448836304\"}, {\"color\": \"#007F00\", \"yindex\": 2, \"coordinates\": \"axes\", \"dasharray\": \"10,0\", \"zorder\": 1000002.0, \"alpha\": 1, \"xindex\": 0, \"linewidth\": 1.0, \"data\": \"data02\", \"id\": \"el14344530391760\"}, {\"color\": \"#FF0000\", \"yindex\": 3, \"coordinates\": \"axes\", \"dasharray\": \"10,0\", \"zorder\": 1000002.0, \"alpha\": 1, \"xindex\": 0, \"linewidth\": 1.0, \"data\": \"data02\", \"id\": \"el14344530392464\"}, {\"color\": \"#00BFBF\", \"yindex\": 4, \"coordinates\": \"axes\", \"dasharray\": \"10,0\", \"zorder\": 1000002.0, \"alpha\": 1, \"xindex\": 0, \"linewidth\": 1.0, \"data\": \"data02\", \"id\": \"el14344531544784\"}], \"markers\": [{\"edgecolor\": \"#000000\", \"facecolor\": \"#0000FF\", \"edgewidth\": 0.5, \"yindex\": 1, \"coordinates\": \"data\", \"zorder\": 2, \"markerpath\": [[[0.0, 3.0], [0.7956093000000001, 3.0], [1.5587396123545605, 2.683901074764725], [2.121320343559643, 2.121320343559643], [2.683901074764725, 1.5587396123545605], [3.0, 0.7956093000000001], [3.0, 0.0], [3.0, -0.7956093000000001], [2.683901074764725, -1.5587396123545605], [2.121320343559643, -2.121320343559643], [1.5587396123545605, -2.683901074764725], [0.7956093000000001, -3.0], [0.0, -3.0], [-0.7956093000000001, -3.0], [-1.5587396123545605, -2.683901074764725], [-2.121320343559643, -2.121320343559643], [-2.683901074764725, -1.5587396123545605], [-3.0, -0.7956093000000001], [-3.0, 0.0], [-3.0, 0.7956093000000001], [-2.683901074764725, 1.5587396123545605], [-2.121320343559643, 2.121320343559643], [-1.5587396123545605, 2.683901074764725], [-0.7956093000000001, 3.0], [0.0, 3.0]], [\"M\", \"C\", \"C\", \"C\", \"C\", \"C\", \"C\", \"C\", \"C\", \"Z\"]], \"alpha\": 1, \"xindex\": 0, \"data\": \"data01\", \"id\": \"el14344530098768pts\"}, {\"edgecolor\": \"#000000\", \"facecolor\": \"#007F00\", \"edgewidth\": 0.5, \"yindex\": 2, \"coordinates\": \"data\", \"zorder\": 2, \"markerpath\": [[[0.0, 3.0], [0.7956093000000001, 3.0], [1.5587396123545605, 2.683901074764725], [2.121320343559643, 2.121320343559643], [2.683901074764725, 1.5587396123545605], [3.0, 0.7956093000000001], [3.0, 0.0], [3.0, -0.7956093000000001], [2.683901074764725, -1.5587396123545605], [2.121320343559643, -2.121320343559643], [1.5587396123545605, -2.683901074764725], [0.7956093000000001, -3.0], [0.0, -3.0], [-0.7956093000000001, -3.0], [-1.5587396123545605, -2.683901074764725], [-2.121320343559643, -2.121320343559643], [-2.683901074764725, -1.5587396123545605], [-3.0, -0.7956093000000001], [-3.0, 0.0], [-3.0, 0.7956093000000001], [-2.683901074764725, 1.5587396123545605], [-2.121320343559643, 2.121320343559643], [-1.5587396123545605, 2.683901074764725], [-0.7956093000000001, 3.0], [0.0, 3.0]], [\"M\", \"C\", \"C\", \"C\", \"C\", \"C\", \"C\", \"C\", \"C\", \"Z\"]], \"alpha\": 1, \"xindex\": 0, \"data\": \"data01\", \"id\": \"el14344516578576pts\"}, {\"edgecolor\": \"#000000\", \"facecolor\": \"#FF0000\", \"edgewidth\": 0.5, \"yindex\": 3, \"coordinates\": \"data\", \"zorder\": 2, \"markerpath\": [[[0.0, 3.0], [0.7956093000000001, 3.0], [1.5587396123545605, 2.683901074764725], [2.121320343559643, 2.121320343559643], [2.683901074764725, 1.5587396123545605], [3.0, 0.7956093000000001], [3.0, 0.0], [3.0, -0.7956093000000001], [2.683901074764725, -1.5587396123545605], [2.121320343559643, -2.121320343559643], [1.5587396123545605, -2.683901074764725], [0.7956093000000001, -3.0], [0.0, -3.0], [-0.7956093000000001, -3.0], [-1.5587396123545605, -2.683901074764725], [-2.121320343559643, -2.121320343559643], [-2.683901074764725, -1.5587396123545605], [-3.0, -0.7956093000000001], [-3.0, 0.0], [-3.0, 0.7956093000000001], [-2.683901074764725, 1.5587396123545605], [-2.121320343559643, 2.121320343559643], [-1.5587396123545605, 2.683901074764725], [-0.7956093000000001, 3.0], [0.0, 3.0]], [\"M\", \"C\", \"C\", \"C\", \"C\", \"C\", \"C\", \"C\", \"C\", \"Z\"]], \"alpha\": 1, \"xindex\": 0, \"data\": \"data01\", \"id\": \"el14344436438864pts\"}, {\"edgecolor\": \"#000000\", \"facecolor\": \"#00BFBF\", \"edgewidth\": 0.5, \"yindex\": 4, \"coordinates\": \"data\", \"zorder\": 2, \"markerpath\": [[[0.0, 3.0], [0.7956093000000001, 3.0], [1.5587396123545605, 2.683901074764725], [2.121320343559643, 2.121320343559643], [2.683901074764725, 1.5587396123545605], [3.0, 0.7956093000000001], [3.0, 0.0], [3.0, -0.7956093000000001], [2.683901074764725, -1.5587396123545605], [2.121320343559643, -2.121320343559643], [1.5587396123545605, -2.683901074764725], [0.7956093000000001, -3.0], [0.0, -3.0], [-0.7956093000000001, -3.0], [-1.5587396123545605, -2.683901074764725], [-2.121320343559643, -2.121320343559643], [-2.683901074764725, -1.5587396123545605], [-3.0, -0.7956093000000001], [-3.0, 0.0], [-3.0, 0.7956093000000001], [-2.683901074764725, 1.5587396123545605], [-2.121320343559643, 2.121320343559643], [-1.5587396123545605, 2.683901074764725], [-0.7956093000000001, 3.0], [0.0, 3.0]], [\"M\", \"C\", \"C\", \"C\", \"C\", \"C\", \"C\", \"C\", \"C\", \"Z\"]], \"alpha\": 1, \"xindex\": 0, \"data\": \"data01\", \"id\": \"el14344516781840pts\"}, {\"edgecolor\": \"#000000\", \"facecolor\": \"#0000FF\", \"edgewidth\": 0.5, \"yindex\": 1, \"coordinates\": \"axes\", \"zorder\": 1000002.0, \"markerpath\": [[[0.0, 3.0], [0.7956093000000001, 3.0], [1.5587396123545605, 2.683901074764725], [2.121320343559643, 2.121320343559643], [2.683901074764725, 1.5587396123545605], [3.0, 0.7956093000000001], [3.0, 0.0], [3.0, -0.7956093000000001], [2.683901074764725, -1.5587396123545605], [2.121320343559643, -2.121320343559643], [1.5587396123545605, -2.683901074764725], [0.7956093000000001, -3.0], [0.0, -3.0], [-0.7956093000000001, -3.0], [-1.5587396123545605, -2.683901074764725], [-2.121320343559643, -2.121320343559643], [-2.683901074764725, -1.5587396123545605], [-3.0, -0.7956093000000001], [-3.0, 0.0], [-3.0, 0.7956093000000001], [-2.683901074764725, 1.5587396123545605], [-2.121320343559643, 2.121320343559643], [-1.5587396123545605, 2.683901074764725], [-0.7956093000000001, 3.0], [0.0, 3.0]], [\"M\", \"C\", \"C\", \"C\", \"C\", \"C\", \"C\", \"C\", \"C\", \"Z\"]], \"alpha\": 1, \"xindex\": 0, \"data\": \"data02\", \"id\": \"el14344448836432pts\"}, {\"edgecolor\": \"#000000\", \"facecolor\": \"#007F00\", \"edgewidth\": 0.5, \"yindex\": 2, \"coordinates\": \"axes\", \"zorder\": 1000002.0, \"markerpath\": [[[0.0, 3.0], [0.7956093000000001, 3.0], [1.5587396123545605, 2.683901074764725], [2.121320343559643, 2.121320343559643], [2.683901074764725, 1.5587396123545605], [3.0, 0.7956093000000001], [3.0, 0.0], [3.0, -0.7956093000000001], [2.683901074764725, -1.5587396123545605], [2.121320343559643, -2.121320343559643], [1.5587396123545605, -2.683901074764725], [0.7956093000000001, -3.0], [0.0, -3.0], [-0.7956093000000001, -3.0], [-1.5587396123545605, -2.683901074764725], [-2.121320343559643, -2.121320343559643], [-2.683901074764725, -1.5587396123545605], [-3.0, -0.7956093000000001], [-3.0, 0.0], [-3.0, 0.7956093000000001], [-2.683901074764725, 1.5587396123545605], [-2.121320343559643, 2.121320343559643], [-1.5587396123545605, 2.683901074764725], [-0.7956093000000001, 3.0], [0.0, 3.0]], [\"M\", \"C\", \"C\", \"C\", \"C\", \"C\", \"C\", \"C\", \"C\", \"Z\"]], \"alpha\": 1, \"xindex\": 0, \"data\": \"data02\", \"id\": \"el14344530390800pts\"}, {\"edgecolor\": \"#000000\", \"facecolor\": \"#FF0000\", \"edgewidth\": 0.5, \"yindex\": 3, \"coordinates\": \"axes\", \"zorder\": 1000002.0, \"markerpath\": [[[0.0, 3.0], [0.7956093000000001, 3.0], [1.5587396123545605, 2.683901074764725], [2.121320343559643, 2.121320343559643], [2.683901074764725, 1.5587396123545605], [3.0, 0.7956093000000001], [3.0, 0.0], [3.0, -0.7956093000000001], [2.683901074764725, -1.5587396123545605], [2.121320343559643, -2.121320343559643], [1.5587396123545605, -2.683901074764725], [0.7956093000000001, -3.0], [0.0, -3.0], [-0.7956093000000001, -3.0], [-1.5587396123545605, -2.683901074764725], [-2.121320343559643, -2.121320343559643], [-2.683901074764725, -1.5587396123545605], [-3.0, -0.7956093000000001], [-3.0, 0.0], [-3.0, 0.7956093000000001], [-2.683901074764725, 1.5587396123545605], [-2.121320343559643, 2.121320343559643], [-1.5587396123545605, 2.683901074764725], [-0.7956093000000001, 3.0], [0.0, 3.0]], [\"M\", \"C\", \"C\", \"C\", \"C\", \"C\", \"C\", \"C\", \"C\", \"Z\"]], \"alpha\": 1, \"xindex\": 0, \"data\": \"data02\", \"id\": \"el14344530389776pts\"}, {\"edgecolor\": \"#000000\", \"facecolor\": \"#00BFBF\", \"edgewidth\": 0.5, \"yindex\": 4, \"coordinates\": \"axes\", \"zorder\": 1000002.0, \"markerpath\": [[[0.0, 3.0], [0.7956093000000001, 3.0], [1.5587396123545605, 2.683901074764725], [2.121320343559643, 2.121320343559643], [2.683901074764725, 1.5587396123545605], [3.0, 0.7956093000000001], [3.0, 0.0], [3.0, -0.7956093000000001], [2.683901074764725, -1.5587396123545605], [2.121320343559643, -2.121320343559643], [1.5587396123545605, -2.683901074764725], [0.7956093000000001, -3.0], [0.0, -3.0], [-0.7956093000000001, -3.0], [-1.5587396123545605, -2.683901074764725], [-2.121320343559643, -2.121320343559643], [-2.683901074764725, -1.5587396123545605], [-3.0, -0.7956093000000001], [-3.0, 0.0], [-3.0, 0.7956093000000001], [-2.683901074764725, 1.5587396123545605], [-2.121320343559643, 2.121320343559643], [-1.5587396123545605, 2.683901074764725], [-0.7956093000000001, 3.0], [0.0, 3.0]], [\"M\", \"C\", \"C\", \"C\", \"C\", \"C\", \"C\", \"C\", \"C\", \"Z\"]], \"alpha\": 1, \"xindex\": 0, \"data\": \"data02\", \"id\": \"el14344531547856pts\"}], \"id\": \"el14344527543504\", \"ydomain\": [0.0, 100.0], \"collections\": [], \"xscale\": \"linear\", \"bbox\": [0.125, 0.125, 0.77500000000000002, 0.77500000000000002]}], \"height\": 400.0, \"width\": 400.0, \"plugins\": [{\"type\": \"reset\"}, {\"enabled\": false, \"button\": true, \"type\": \"zoom\"}, {\"enabled\": false, \"button\": true, \"type\": \"boxzoom\"}, {\"voffset\": 10, \"labels\": [\"<table><th colspan='2'>knn</th><tr><td>the first</td><td>0.0%</td></tr><tr><td>yields</td><td>0.0%</td></tr><tr><td>cum. lift</td><td>0.0</td></tr><tr><td>local lift</td><td>0.0</td></tr></table>\", \"<table><th colspan='2'>knn</th><tr><td>the first</td><td>5.3%</td></tr><tr><td>yields</td><td>26.9%</td></tr><tr><td>cum. lift</td><td>5.1</td></tr><tr><td>local lift</td><td>5.1</td></tr></table>\", \"<table><th colspan='2'>knn</th><tr><td>the first</td><td>10.5%</td></tr><tr><td>yields</td><td>44.7%</td></tr><tr><td>cum. lift</td><td>4.2</td></tr><tr><td>local lift</td><td>3.4</td></tr></table>\", \"<table><th colspan='2'>knn</th><tr><td>the first</td><td>15.8%</td></tr><tr><td>yields</td><td>58.8%</td></tr><tr><td>cum. lift</td><td>3.7</td></tr><tr><td>local lift</td><td>2.7</td></tr></table>\", \"<table><th colspan='2'>knn</th><tr><td>the first</td><td>21.1%</td></tr><tr><td>yields</td><td>63.9%</td></tr><tr><td>cum. lift</td><td>3.0</td></tr><tr><td>local lift</td><td>1.0</td></tr></table>\", \"<table><th colspan='2'>knn</th><tr><td>the first</td><td>26.3%</td></tr><tr><td>yields</td><td>67.4%</td></tr><tr><td>cum. lift</td><td>2.6</td></tr><tr><td>local lift</td><td>0.7</td></tr></table>\", \"<table><th colspan='2'>knn</th><tr><td>the first</td><td>31.6%</td></tr><tr><td>yields</td><td>71.8%</td></tr><tr><td>cum. lift</td><td>2.3</td></tr><tr><td>local lift</td><td>0.8</td></tr></table>\", \"<table><th colspan='2'>knn</th><tr><td>the first</td><td>36.8%</td></tr><tr><td>yields</td><td>75.1%</td></tr><tr><td>cum. lift</td><td>2.0</td></tr><tr><td>local lift</td><td>0.6</td></tr></table>\", \"<table><th colspan='2'>knn</th><tr><td>the first</td><td>42.1%</td></tr><tr><td>yields</td><td>78.0%</td></tr><tr><td>cum. lift</td><td>1.9</td></tr><tr><td>local lift</td><td>0.5</td></tr></table>\", \"<table><th colspan='2'>knn</th><tr><td>the first</td><td>47.4%</td></tr><tr><td>yields</td><td>79.7%</td></tr><tr><td>cum. lift</td><td>1.7</td></tr><tr><td>local lift</td><td>0.3</td></tr></table>\", \"<table><th colspan='2'>knn</th><tr><td>the first</td><td>52.6%</td></tr><tr><td>yields</td><td>83.3%</td></tr><tr><td>cum. lift</td><td>1.6</td></tr><tr><td>local lift</td><td>0.7</td></tr></table>\", \"<table><th colspan='2'>knn</th><tr><td>the first</td><td>57.9%</td></tr><tr><td>yields</td><td>84.6%</td></tr><tr><td>cum. lift</td><td>1.5</td></tr><tr><td>local lift</td><td>0.3</td></tr></table>\", \"<table><th colspan='2'>knn</th><tr><td>the first</td><td>63.2%</td></tr><tr><td>yields</td><td>87.9%</td></tr><tr><td>cum. lift</td><td>1.4</td></tr><tr><td>local lift</td><td>0.6</td></tr></table>\", \"<table><th colspan='2'>knn</th><tr><td>the first</td><td>68.4%</td></tr><tr><td>yields</td><td>88.8%</td></tr><tr><td>cum. lift</td><td>1.3</td></tr><tr><td>local lift</td><td>0.2</td></tr></table>\", \"<table><th colspan='2'>knn</th><tr><td>the first</td><td>73.7%</td></tr><tr><td>yields</td><td>90.5%</td></tr><tr><td>cum. lift</td><td>1.2</td></tr><tr><td>local lift</td><td>0.3</td></tr></table>\", \"<table><th colspan='2'>knn</th><tr><td>the first</td><td>78.9%</td></tr><tr><td>yields</td><td>92.1%</td></tr><tr><td>cum. lift</td><td>1.2</td></tr><tr><td>local lift</td><td>0.3</td></tr></table>\", \"<table><th colspan='2'>knn</th><tr><td>the first</td><td>84.2%</td></tr><tr><td>yields</td><td>94.5%</td></tr><tr><td>cum. lift</td><td>1.1</td></tr><tr><td>local lift</td><td>0.5</td></tr></table>\", \"<table><th colspan='2'>knn</th><tr><td>the first</td><td>89.5%</td></tr><tr><td>yields</td><td>96.5%</td></tr><tr><td>cum. lift</td><td>1.1</td></tr><tr><td>local lift</td><td>0.4</td></tr></table>\", \"<table><th colspan='2'>knn</th><tr><td>the first</td><td>94.7%</td></tr><tr><td>yields</td><td>98.0%</td></tr><tr><td>cum. lift</td><td>1.0</td></tr><tr><td>local lift</td><td>0.3</td></tr></table>\", \"<table><th colspan='2'>knn</th><tr><td>the first</td><td>100.0%</td></tr><tr><td>yields</td><td>100.0%</td></tr><tr><td>cum. lift</td><td>1.0</td></tr><tr><td>local lift</td><td>0.4</td></tr></table>\"], \"type\": \"htmltooltip\", \"id\": \"el14344530098768pts\", \"hoffset\": 0}, {\"voffset\": 10, \"labels\": [\"<table><th colspan='2'>gaussianNB</th><tr><td>the first</td><td>0.0%</td></tr><tr><td>yields</td><td>0.0%</td></tr><tr><td>cum. lift</td><td>0.0</td></tr><tr><td>local lift</td><td>0.0</td></tr></table>\", \"<table><th colspan='2'>gaussianNB</th><tr><td>the first</td><td>5.3%</td></tr><tr><td>yields</td><td>24.4%</td></tr><tr><td>cum. lift</td><td>4.6</td></tr><tr><td>local lift</td><td>4.6</td></tr></table>\", \"<table><th colspan='2'>gaussianNB</th><tr><td>the first</td><td>10.5%</td></tr><tr><td>yields</td><td>43.4%</td></tr><tr><td>cum. lift</td><td>4.1</td></tr><tr><td>local lift</td><td>3.6</td></tr></table>\", \"<table><th colspan='2'>gaussianNB</th><tr><td>the first</td><td>15.8%</td></tr><tr><td>yields</td><td>52.4%</td></tr><tr><td>cum. lift</td><td>3.3</td></tr><tr><td>local lift</td><td>1.7</td></tr></table>\", \"<table><th colspan='2'>gaussianNB</th><tr><td>the first</td><td>21.1%</td></tr><tr><td>yields</td><td>59.0%</td></tr><tr><td>cum. lift</td><td>2.8</td></tr><tr><td>local lift</td><td>1.3</td></tr></table>\", \"<table><th colspan='2'>gaussianNB</th><tr><td>the first</td><td>26.3%</td></tr><tr><td>yields</td><td>64.1%</td></tr><tr><td>cum. lift</td><td>2.4</td></tr><tr><td>local lift</td><td>1.0</td></tr></table>\", \"<table><th colspan='2'>gaussianNB</th><tr><td>the first</td><td>31.6%</td></tr><tr><td>yields</td><td>69.2%</td></tr><tr><td>cum. lift</td><td>2.2</td></tr><tr><td>local lift</td><td>1.0</td></tr></table>\", \"<table><th colspan='2'>gaussianNB</th><tr><td>the first</td><td>36.8%</td></tr><tr><td>yields</td><td>72.2%</td></tr><tr><td>cum. lift</td><td>2.0</td></tr><tr><td>local lift</td><td>0.6</td></tr></table>\", \"<table><th colspan='2'>gaussianNB</th><tr><td>the first</td><td>42.1%</td></tr><tr><td>yields</td><td>74.7%</td></tr><tr><td>cum. lift</td><td>1.8</td></tr><tr><td>local lift</td><td>0.5</td></tr></table>\", \"<table><th colspan='2'>gaussianNB</th><tr><td>the first</td><td>47.4%</td></tr><tr><td>yields</td><td>79.1%</td></tr><tr><td>cum. lift</td><td>1.7</td></tr><tr><td>local lift</td><td>0.8</td></tr></table>\", \"<table><th colspan='2'>gaussianNB</th><tr><td>the first</td><td>52.6%</td></tr><tr><td>yields</td><td>81.9%</td></tr><tr><td>cum. lift</td><td>1.6</td></tr><tr><td>local lift</td><td>0.5</td></tr></table>\", \"<table><th colspan='2'>gaussianNB</th><tr><td>the first</td><td>57.9%</td></tr><tr><td>yields</td><td>83.7%</td></tr><tr><td>cum. lift</td><td>1.4</td></tr><tr><td>local lift</td><td>0.3</td></tr></table>\", \"<table><th colspan='2'>gaussianNB</th><tr><td>the first</td><td>63.2%</td></tr><tr><td>yields</td><td>85.5%</td></tr><tr><td>cum. lift</td><td>1.4</td></tr><tr><td>local lift</td><td>0.3</td></tr></table>\", \"<table><th colspan='2'>gaussianNB</th><tr><td>the first</td><td>68.4%</td></tr><tr><td>yields</td><td>88.3%</td></tr><tr><td>cum. lift</td><td>1.3</td></tr><tr><td>local lift</td><td>0.5</td></tr></table>\", \"<table><th colspan='2'>gaussianNB</th><tr><td>the first</td><td>73.7%</td></tr><tr><td>yields</td><td>90.3%</td></tr><tr><td>cum. lift</td><td>1.2</td></tr><tr><td>local lift</td><td>0.4</td></tr></table>\", \"<table><th colspan='2'>gaussianNB</th><tr><td>the first</td><td>78.9%</td></tr><tr><td>yields</td><td>92.3%</td></tr><tr><td>cum. lift</td><td>1.2</td></tr><tr><td>local lift</td><td>0.4</td></tr></table>\", \"<table><th colspan='2'>gaussianNB</th><tr><td>the first</td><td>84.2%</td></tr><tr><td>yields</td><td>94.5%</td></tr><tr><td>cum. lift</td><td>1.1</td></tr><tr><td>local lift</td><td>0.4</td></tr></table>\", \"<table><th colspan='2'>gaussianNB</th><tr><td>the first</td><td>89.5%</td></tr><tr><td>yields</td><td>96.7%</td></tr><tr><td>cum. lift</td><td>1.1</td></tr><tr><td>local lift</td><td>0.4</td></tr></table>\", \"<table><th colspan='2'>gaussianNB</th><tr><td>the first</td><td>94.7%</td></tr><tr><td>yields</td><td>98.5%</td></tr><tr><td>cum. lift</td><td>1.0</td></tr><tr><td>local lift</td><td>0.3</td></tr></table>\", \"<table><th colspan='2'>gaussianNB</th><tr><td>the first</td><td>100.0%</td></tr><tr><td>yields</td><td>100.0%</td></tr><tr><td>cum. lift</td><td>1.0</td></tr><tr><td>local lift</td><td>0.3</td></tr></table>\"], \"type\": \"htmltooltip\", \"id\": \"el14344516578576pts\", \"hoffset\": 0}, {\"voffset\": 10, \"labels\": [\"<table><th colspan='2'>logres</th><tr><td>the first</td><td>0.0%</td></tr><tr><td>yields</td><td>0.0%</td></tr><tr><td>cum. lift</td><td>0.0</td></tr><tr><td>local lift</td><td>0.0</td></tr></table>\", \"<table><th colspan='2'>logres</th><tr><td>the first</td><td>5.3%</td></tr><tr><td>yields</td><td>28.9%</td></tr><tr><td>cum. lift</td><td>5.5</td></tr><tr><td>local lift</td><td>5.5</td></tr></table>\", \"<table><th colspan='2'>logres</th><tr><td>the first</td><td>10.5%</td></tr><tr><td>yields</td><td>46.5%</td></tr><tr><td>cum. lift</td><td>4.4</td></tr><tr><td>local lift</td><td>3.3</td></tr></table>\", \"<table><th colspan='2'>logres</th><tr><td>the first</td><td>15.8%</td></tr><tr><td>yields</td><td>57.5%</td></tr><tr><td>cum. lift</td><td>3.6</td></tr><tr><td>local lift</td><td>2.1</td></tr></table>\", \"<table><th colspan='2'>logres</th><tr><td>the first</td><td>21.1%</td></tr><tr><td>yields</td><td>61.9%</td></tr><tr><td>cum. lift</td><td>2.9</td></tr><tr><td>local lift</td><td>0.8</td></tr></table>\", \"<table><th colspan='2'>logres</th><tr><td>the first</td><td>26.3%</td></tr><tr><td>yields</td><td>66.1%</td></tr><tr><td>cum. lift</td><td>2.5</td></tr><tr><td>local lift</td><td>0.8</td></tr></table>\", \"<table><th colspan='2'>logres</th><tr><td>the first</td><td>31.6%</td></tr><tr><td>yields</td><td>70.0%</td></tr><tr><td>cum. lift</td><td>2.2</td></tr><tr><td>local lift</td><td>0.8</td></tr></table>\", \"<table><th colspan='2'>logres</th><tr><td>the first</td><td>36.8%</td></tr><tr><td>yields</td><td>74.7%</td></tr><tr><td>cum. lift</td><td>2.0</td></tr><tr><td>local lift</td><td>0.9</td></tr></table>\", \"<table><th colspan='2'>logres</th><tr><td>the first</td><td>42.1%</td></tr><tr><td>yields</td><td>77.3%</td></tr><tr><td>cum. lift</td><td>1.8</td></tr><tr><td>local lift</td><td>0.5</td></tr></table>\", \"<table><th colspan='2'>logres</th><tr><td>the first</td><td>47.4%</td></tr><tr><td>yields</td><td>78.6%</td></tr><tr><td>cum. lift</td><td>1.7</td></tr><tr><td>local lift</td><td>0.3</td></tr></table>\", \"<table><th colspan='2'>logres</th><tr><td>the first</td><td>52.6%</td></tr><tr><td>yields</td><td>81.5%</td></tr><tr><td>cum. lift</td><td>1.5</td></tr><tr><td>local lift</td><td>0.5</td></tr></table>\", \"<table><th colspan='2'>logres</th><tr><td>the first</td><td>57.9%</td></tr><tr><td>yields</td><td>83.9%</td></tr><tr><td>cum. lift</td><td>1.4</td></tr><tr><td>local lift</td><td>0.5</td></tr></table>\", \"<table><th colspan='2'>logres</th><tr><td>the first</td><td>63.2%</td></tr><tr><td>yields</td><td>87.4%</td></tr><tr><td>cum. lift</td><td>1.4</td></tr><tr><td>local lift</td><td>0.7</td></tr></table>\", \"<table><th colspan='2'>logres</th><tr><td>the first</td><td>68.4%</td></tr><tr><td>yields</td><td>90.5%</td></tr><tr><td>cum. lift</td><td>1.3</td></tr><tr><td>local lift</td><td>0.6</td></tr></table>\", \"<table><th colspan='2'>logres</th><tr><td>the first</td><td>73.7%</td></tr><tr><td>yields</td><td>92.3%</td></tr><tr><td>cum. lift</td><td>1.3</td></tr><tr><td>local lift</td><td>0.3</td></tr></table>\", \"<table><th colspan='2'>logres</th><tr><td>the first</td><td>78.9%</td></tr><tr><td>yields</td><td>94.7%</td></tr><tr><td>cum. lift</td><td>1.2</td></tr><tr><td>local lift</td><td>0.5</td></tr></table>\", \"<table><th colspan='2'>logres</th><tr><td>the first</td><td>84.2%</td></tr><tr><td>yields</td><td>96.5%</td></tr><tr><td>cum. lift</td><td>1.1</td></tr><tr><td>local lift</td><td>0.3</td></tr></table>\", \"<table><th colspan='2'>logres</th><tr><td>the first</td><td>89.5%</td></tr><tr><td>yields</td><td>98.0%</td></tr><tr><td>cum. lift</td><td>1.1</td></tr><tr><td>local lift</td><td>0.3</td></tr></table>\", \"<table><th colspan='2'>logres</th><tr><td>the first</td><td>94.7%</td></tr><tr><td>yields</td><td>98.7%</td></tr><tr><td>cum. lift</td><td>1.0</td></tr><tr><td>local lift</td><td>0.1</td></tr></table>\", \"<table><th colspan='2'>logres</th><tr><td>the first</td><td>100.0%</td></tr><tr><td>yields</td><td>100.0%</td></tr><tr><td>cum. lift</td><td>1.0</td></tr><tr><td>local lift</td><td>0.3</td></tr></table>\"], \"type\": \"htmltooltip\", \"id\": \"el14344436438864pts\", \"hoffset\": 0}, {\"voffset\": 10, \"labels\": [\"<table><th colspan='2'>baseline</th><tr><td>the first</td><td>0.0%</td></tr><tr><td>yields</td><td>0.0%</td></tr><tr><td>cum. lift</td><td>0.0</td></tr><tr><td>local lift</td><td>0.0</td></tr></table>\", \"<table><th colspan='2'>baseline</th><tr><td>the first</td><td>5.3%</td></tr><tr><td>yields</td><td>5.3%</td></tr><tr><td>cum. lift</td><td>1.0</td></tr><tr><td>local lift</td><td>1.0</td></tr></table>\", \"<table><th colspan='2'>baseline</th><tr><td>the first</td><td>10.5%</td></tr><tr><td>yields</td><td>11.0%</td></tr><tr><td>cum. lift</td><td>1.0</td></tr><tr><td>local lift</td><td>1.1</td></tr></table>\", \"<table><th colspan='2'>baseline</th><tr><td>the first</td><td>15.8%</td></tr><tr><td>yields</td><td>15.9%</td></tr><tr><td>cum. lift</td><td>1.0</td></tr><tr><td>local lift</td><td>0.9</td></tr></table>\", \"<table><th colspan='2'>baseline</th><tr><td>the first</td><td>21.1%</td></tr><tr><td>yields</td><td>22.0%</td></tr><tr><td>cum. lift</td><td>1.0</td></tr><tr><td>local lift</td><td>1.2</td></tr></table>\", \"<table><th colspan='2'>baseline</th><tr><td>the first</td><td>26.3%</td></tr><tr><td>yields</td><td>27.5%</td></tr><tr><td>cum. lift</td><td>1.0</td></tr><tr><td>local lift</td><td>1.0</td></tr></table>\", \"<table><th colspan='2'>baseline</th><tr><td>the first</td><td>31.6%</td></tr><tr><td>yields</td><td>32.8%</td></tr><tr><td>cum. lift</td><td>1.0</td></tr><tr><td>local lift</td><td>1.0</td></tr></table>\", \"<table><th colspan='2'>baseline</th><tr><td>the first</td><td>36.8%</td></tr><tr><td>yields</td><td>38.5%</td></tr><tr><td>cum. lift</td><td>1.0</td></tr><tr><td>local lift</td><td>1.1</td></tr></table>\", \"<table><th colspan='2'>baseline</th><tr><td>the first</td><td>42.1%</td></tr><tr><td>yields</td><td>43.4%</td></tr><tr><td>cum. lift</td><td>1.0</td></tr><tr><td>local lift</td><td>0.9</td></tr></table>\", \"<table><th colspan='2'>baseline</th><tr><td>the first</td><td>47.4%</td></tr><tr><td>yields</td><td>48.0%</td></tr><tr><td>cum. lift</td><td>1.0</td></tr><tr><td>local lift</td><td>0.9</td></tr></table>\", \"<table><th colspan='2'>baseline</th><tr><td>the first</td><td>52.6%</td></tr><tr><td>yields</td><td>52.2%</td></tr><tr><td>cum. lift</td><td>1.0</td></tr><tr><td>local lift</td><td>0.8</td></tr></table>\", \"<table><th colspan='2'>baseline</th><tr><td>the first</td><td>57.9%</td></tr><tr><td>yields</td><td>57.0%</td></tr><tr><td>cum. lift</td><td>1.0</td></tr><tr><td>local lift</td><td>0.9</td></tr></table>\", \"<table><th colspan='2'>baseline</th><tr><td>the first</td><td>63.2%</td></tr><tr><td>yields</td><td>62.8%</td></tr><tr><td>cum. lift</td><td>1.0</td></tr><tr><td>local lift</td><td>1.1</td></tr></table>\", \"<table><th colspan='2'>baseline</th><tr><td>the first</td><td>68.4%</td></tr><tr><td>yields</td><td>68.7%</td></tr><tr><td>cum. lift</td><td>1.0</td></tr><tr><td>local lift</td><td>1.1</td></tr></table>\", \"<table><th colspan='2'>baseline</th><tr><td>the first</td><td>73.7%</td></tr><tr><td>yields</td><td>74.9%</td></tr><tr><td>cum. lift</td><td>1.0</td></tr><tr><td>local lift</td><td>1.2</td></tr></table>\", \"<table><th colspan='2'>baseline</th><tr><td>the first</td><td>78.9%</td></tr><tr><td>yields</td><td>80.0%</td></tr><tr><td>cum. lift</td><td>1.0</td></tr><tr><td>local lift</td><td>1.0</td></tr></table>\", \"<table><th colspan='2'>baseline</th><tr><td>the first</td><td>84.2%</td></tr><tr><td>yields</td><td>83.9%</td></tr><tr><td>cum. lift</td><td>1.0</td></tr><tr><td>local lift</td><td>0.8</td></tr></table>\", \"<table><th colspan='2'>baseline</th><tr><td>the first</td><td>89.5%</td></tr><tr><td>yields</td><td>88.5%</td></tr><tr><td>cum. lift</td><td>1.0</td></tr><tr><td>local lift</td><td>0.9</td></tr></table>\", \"<table><th colspan='2'>baseline</th><tr><td>the first</td><td>94.7%</td></tr><tr><td>yields</td><td>94.1%</td></tr><tr><td>cum. lift</td><td>1.0</td></tr><tr><td>local lift</td><td>1.0</td></tr></table>\", \"<table><th colspan='2'>baseline</th><tr><td>the first</td><td>100.0%</td></tr><tr><td>yields</td><td>100.0%</td></tr><tr><td>cum. lift</td><td>1.0</td></tr><tr><td>local lift</td><td>1.1</td></tr></table>\"], \"type\": \"htmltooltip\", \"id\": \"el14344516781840pts\", \"hoffset\": 0}], \"data\": {\"data02\": [[0.6057795698924731, 0.2537634408602151, 0.19032258064516128, 0.12688172043010748, 0.06344086021505377], [0.6659946236559139, 0.2537634408602151, 0.19032258064516128, 0.12688172043010748, 0.06344086021505377]], \"data03\": [[0.5756720430107526, 0.02150537634408603], [0.9784946236559137, 0.02150537634408603], [0.9784946236559137, 0.2881720430107527], [0.5756720430107526, 0.2881720430107527]], \"data01\": [[0.0, 0.0, 0.0, 0.0, 0.0], [5.263157894736842, 26.87224669603524, 24.44933920704846, 28.854625550660796, 5.286343612334802], [10.526315789473683, 44.713656387665196, 43.3920704845815, 46.47577092511014, 11.013215859030836], [15.789473684210526, 58.81057268722467, 52.422907488986795, 57.48898678414097, 15.859030837004406], [21.052631578947366, 63.87665198237885, 59.03083700440529, 61.89427312775331, 22.026431718061676], [26.31578947368421, 67.40088105726872, 64.09691629955947, 66.07929515418502, 27.533039647577095], [31.57894736842105, 71.80616740088107, 69.16299559471365, 70.04405286343612, 32.8193832599119], [36.84210526315789, 75.11013215859032, 72.24669603524228, 74.66960352422907, 38.546255506607935], [42.10526315789473, 77.97356828193833, 74.66960352422906, 77.31277533039648, 43.3920704845815], [47.368421052631575, 79.73568281938327, 79.0748898678414, 78.63436123348018, 48.017621145374456], [52.63157894736842, 83.25991189427315, 81.93832599118942, 81.4977973568282, 52.20264317180617], [57.89473684210527, 84.58149779735685, 83.70044052863436, 83.92070484581498, 57.04845814977975], [63.1578947368421, 87.8854625550661, 85.46255506607929, 87.44493392070484, 62.77533039647578], [68.42105263157895, 88.76651982378856, 88.32599118942731, 90.52863436123349, 68.72246696035243], [73.68421052631578, 90.5286343612335, 90.30837004405286, 92.29074889867842, 74.88986784140971], [78.94736842105263, 92.07048458149781, 92.29074889867842, 94.7136563876652, 79.95594713656389], [84.21052631578947, 94.49339207048459, 94.49339207048459, 96.47577092511014, 83.92070484581498], [89.47368421052632, 96.47577092511015, 96.69603524229075, 98.01762114537446, 88.54625550660793], [94.73684210526315, 98.01762114537446, 98.45814977973568, 98.67841409691631, 94.05286343612336], [100.0, 100.00000000000003, 100.0, 100.00000000000003, 100.0]]}, \"id\": \"el14344517778768\"});\n",
        "      });\n",
        "    });\n",
        "}else{\n",
        "    // require.js not available: dynamically load d3 & mpld3\n",
        "    mpld3_load_lib(\"https://mpld3.github.io/js/d3.v3.min.js\", function(){\n",
        "         mpld3_load_lib(\"https://mpld3.github.io/js/mpld3.v0.2.js\", function(){\n",
        "                 \n",
        "    mpld3.register_plugin(\"htmltooltip\", HtmlTooltipPlugin);\n",
        "    HtmlTooltipPlugin.prototype = Object.create(mpld3.Plugin.prototype);\n",
        "    HtmlTooltipPlugin.prototype.constructor = HtmlTooltipPlugin;\n",
        "    HtmlTooltipPlugin.prototype.requiredProps = [\"id\"];\n",
        "    HtmlTooltipPlugin.prototype.defaultProps = {labels:null, hoffset:0, voffset:10};\n",
        "    function HtmlTooltipPlugin(fig, props){\n",
        "        mpld3.Plugin.call(this, fig, props);\n",
        "    };\n",
        "\n",
        "    HtmlTooltipPlugin.prototype.draw = function(){\n",
        "       var obj = mpld3.get_element(this.props.id);\n",
        "       var labels = this.props.labels;\n",
        "       var tooltip = d3.select(\"body\").append(\"div\")\n",
        "                    .attr(\"class\", \"mpld3-tooltip\")\n",
        "                    .style(\"position\", \"absolute\")\n",
        "                    .style(\"z-index\", \"10\")\n",
        "                    .style(\"visibility\", \"hidden\");\n",
        "\n",
        "       obj.elements()\n",
        "           .on(\"mouseover\", function(d, i){\n",
        "                              tooltip.html(labels[i])\n",
        "                                     .style(\"visibility\", \"visible\");})\n",
        "           .on(\"mousemove\", function(d, i){\n",
        "                    tooltip\n",
        "                      .style(\"top\", d3.event.pageY + this.props.voffset + \"px\")\n",
        "                      .style(\"left\",d3.event.pageX + this.props.hoffset + \"px\");\n",
        "                 }.bind(this))\n",
        "           .on(\"mouseout\",  function(d, i){\n",
        "                           tooltip.style(\"visibility\", \"hidden\");});\n",
        "    };\n",
        "    \n",
        "    mpld3.register_plugin(\"htmltooltip\", HtmlTooltipPlugin);\n",
        "    HtmlTooltipPlugin.prototype = Object.create(mpld3.Plugin.prototype);\n",
        "    HtmlTooltipPlugin.prototype.constructor = HtmlTooltipPlugin;\n",
        "    HtmlTooltipPlugin.prototype.requiredProps = [\"id\"];\n",
        "    HtmlTooltipPlugin.prototype.defaultProps = {labels:null, hoffset:0, voffset:10};\n",
        "    function HtmlTooltipPlugin(fig, props){\n",
        "        mpld3.Plugin.call(this, fig, props);\n",
        "    };\n",
        "\n",
        "    HtmlTooltipPlugin.prototype.draw = function(){\n",
        "       var obj = mpld3.get_element(this.props.id);\n",
        "       var labels = this.props.labels;\n",
        "       var tooltip = d3.select(\"body\").append(\"div\")\n",
        "                    .attr(\"class\", \"mpld3-tooltip\")\n",
        "                    .style(\"position\", \"absolute\")\n",
        "                    .style(\"z-index\", \"10\")\n",
        "                    .style(\"visibility\", \"hidden\");\n",
        "\n",
        "       obj.elements()\n",
        "           .on(\"mouseover\", function(d, i){\n",
        "                              tooltip.html(labels[i])\n",
        "                                     .style(\"visibility\", \"visible\");})\n",
        "           .on(\"mousemove\", function(d, i){\n",
        "                    tooltip\n",
        "                      .style(\"top\", d3.event.pageY + this.props.voffset + \"px\")\n",
        "                      .style(\"left\",d3.event.pageX + this.props.hoffset + \"px\");\n",
        "                 }.bind(this))\n",
        "           .on(\"mouseout\",  function(d, i){\n",
        "                           tooltip.style(\"visibility\", \"hidden\");});\n",
        "    };\n",
        "    \n",
        "    mpld3.register_plugin(\"htmltooltip\", HtmlTooltipPlugin);\n",
        "    HtmlTooltipPlugin.prototype = Object.create(mpld3.Plugin.prototype);\n",
        "    HtmlTooltipPlugin.prototype.constructor = HtmlTooltipPlugin;\n",
        "    HtmlTooltipPlugin.prototype.requiredProps = [\"id\"];\n",
        "    HtmlTooltipPlugin.prototype.defaultProps = {labels:null, hoffset:0, voffset:10};\n",
        "    function HtmlTooltipPlugin(fig, props){\n",
        "        mpld3.Plugin.call(this, fig, props);\n",
        "    };\n",
        "\n",
        "    HtmlTooltipPlugin.prototype.draw = function(){\n",
        "       var obj = mpld3.get_element(this.props.id);\n",
        "       var labels = this.props.labels;\n",
        "       var tooltip = d3.select(\"body\").append(\"div\")\n",
        "                    .attr(\"class\", \"mpld3-tooltip\")\n",
        "                    .style(\"position\", \"absolute\")\n",
        "                    .style(\"z-index\", \"10\")\n",
        "                    .style(\"visibility\", \"hidden\");\n",
        "\n",
        "       obj.elements()\n",
        "           .on(\"mouseover\", function(d, i){\n",
        "                              tooltip.html(labels[i])\n",
        "                                     .style(\"visibility\", \"visible\");})\n",
        "           .on(\"mousemove\", function(d, i){\n",
        "                    tooltip\n",
        "                      .style(\"top\", d3.event.pageY + this.props.voffset + \"px\")\n",
        "                      .style(\"left\",d3.event.pageX + this.props.hoffset + \"px\");\n",
        "                 }.bind(this))\n",
        "           .on(\"mouseout\",  function(d, i){\n",
        "                           tooltip.style(\"visibility\", \"hidden\");});\n",
        "    };\n",
        "    \n",
        "    mpld3.register_plugin(\"htmltooltip\", HtmlTooltipPlugin);\n",
        "    HtmlTooltipPlugin.prototype = Object.create(mpld3.Plugin.prototype);\n",
        "    HtmlTooltipPlugin.prototype.constructor = HtmlTooltipPlugin;\n",
        "    HtmlTooltipPlugin.prototype.requiredProps = [\"id\"];\n",
        "    HtmlTooltipPlugin.prototype.defaultProps = {labels:null, hoffset:0, voffset:10};\n",
        "    function HtmlTooltipPlugin(fig, props){\n",
        "        mpld3.Plugin.call(this, fig, props);\n",
        "    };\n",
        "\n",
        "    HtmlTooltipPlugin.prototype.draw = function(){\n",
        "       var obj = mpld3.get_element(this.props.id);\n",
        "       var labels = this.props.labels;\n",
        "       var tooltip = d3.select(\"body\").append(\"div\")\n",
        "                    .attr(\"class\", \"mpld3-tooltip\")\n",
        "                    .style(\"position\", \"absolute\")\n",
        "                    .style(\"z-index\", \"10\")\n",
        "                    .style(\"visibility\", \"hidden\");\n",
        "\n",
        "       obj.elements()\n",
        "           .on(\"mouseover\", function(d, i){\n",
        "                              tooltip.html(labels[i])\n",
        "                                     .style(\"visibility\", \"visible\");})\n",
        "           .on(\"mousemove\", function(d, i){\n",
        "                    tooltip\n",
        "                      .style(\"top\", d3.event.pageY + this.props.voffset + \"px\")\n",
        "                      .style(\"left\",d3.event.pageX + this.props.hoffset + \"px\");\n",
        "                 }.bind(this))\n",
        "           .on(\"mouseout\",  function(d, i){\n",
        "                           tooltip.style(\"visibility\", \"hidden\");});\n",
        "    };\n",
        "    \n",
        "                 mpld3.draw_figure(\"fig_el143445177787682390910465\", {\"axes\": [{\"xlim\": [0.0, 100.0], \"yscale\": \"linear\", \"axesbg\": \"#FFFFFF\", \"texts\": [{\"v_baseline\": \"hanging\", \"h_anchor\": \"middle\", \"color\": \"#000000\", \"text\": \"Percentage of test instances (decreasing by probability)\", \"coordinates\": \"axes\", \"zorder\": 3, \"alpha\": 1, \"fontsize\": 13.6094379124341, \"position\": [0.5, -0.10612701760729068], \"rotation\": -0.0, \"id\": \"el14344557681360\"}, {\"v_baseline\": \"auto\", \"h_anchor\": \"middle\", \"color\": \"#000000\", \"text\": \"Percentage of positive instances targeted\", \"coordinates\": \"axes\", \"zorder\": 3, \"alpha\": 1, \"fontsize\": 13.6094379124341, \"position\": [-0.13641935631696808, 0.5], \"rotation\": -90.0, \"id\": \"el14344530297424\"}, {\"v_baseline\": \"auto\", \"h_anchor\": \"middle\", \"color\": \"#000000\", \"text\": \"Lift curve for prediction of successful term deposit sale\", \"coordinates\": \"axes\", \"zorder\": 3, \"alpha\": 1, \"fontsize\": 15.6094379124341, \"position\": [0.5, 1.0779211469534051], \"rotation\": -0.0, \"id\": \"el14344530298192\"}, {\"v_baseline\": \"auto\", \"h_anchor\": \"start\", \"color\": \"#000000\", \"text\": \"None\", \"coordinates\": \"axes\", \"zorder\": 1000003.0, \"alpha\": 1, \"fontsize\": 10.0, \"position\": [-0.16129032258064516, -0.16129032258064516], \"rotation\": -0.0, \"id\": \"el14344531547664\"}, {\"v_baseline\": \"auto\", \"h_anchor\": \"start\", \"color\": \"#000000\", \"text\": \"knn\", \"coordinates\": \"axes\", \"zorder\": 1000003.0, \"alpha\": 1, \"fontsize\": 12.0, \"position\": [0.71330645161290307, 0.23870967741935487], \"rotation\": -0.0, \"id\": \"el14344448834640\"}, {\"v_baseline\": \"auto\", \"h_anchor\": \"start\", \"color\": \"#000000\", \"text\": \"gaussianNB\", \"coordinates\": \"axes\", \"zorder\": 1000003.0, \"alpha\": 1, \"fontsize\": 12.0, \"position\": [0.71330645161290307, 0.17526881720430107], \"rotation\": -0.0, \"id\": \"el14344516065552\"}, {\"v_baseline\": \"auto\", \"h_anchor\": \"start\", \"color\": \"#000000\", \"text\": \"logres\", \"coordinates\": \"axes\", \"zorder\": 1000003.0, \"alpha\": 1, \"fontsize\": 12.0, \"position\": [0.71330645161290307, 0.11182795698924727], \"rotation\": -0.0, \"id\": \"el14344530389392\"}, {\"v_baseline\": \"auto\", \"h_anchor\": \"start\", \"color\": \"#000000\", \"text\": \"baseline\", \"coordinates\": \"axes\", \"zorder\": 1000003.0, \"alpha\": 1, \"fontsize\": 12.0, \"position\": [0.71330645161290307, 0.048387096774193561], \"rotation\": -0.0, \"id\": \"el14344531546960\"}], \"zoomable\": true, \"images\": [], \"xdomain\": [0.0, 100.0], \"ylim\": [0.0, 100.0], \"paths\": [{\"edgecolor\": \"#000000\", \"facecolor\": \"#FFFFFF\", \"edgewidth\": 1.0, \"pathcodes\": [\"M\", \"L\", \"L\", \"L\", \"Z\"], \"yindex\": 1, \"coordinates\": \"axes\", \"dasharray\": \"10,0\", \"zorder\": 1000001.0, \"alpha\": 1.0, \"xindex\": 0, \"data\": \"data03\", \"id\": \"el14344448834512\"}], \"sharey\": [], \"sharex\": [], \"axesbgalpha\": null, \"axes\": [{\"scale\": \"linear\", \"tickformat\": null, \"grid\": {\"color\": \"#000000\", \"alpha\": 0.3, \"dasharray\": \"2,2\", \"gridOn\": true}, \"fontsize\": 10.0, \"position\": \"bottom\", \"nticks\": 6, \"tickvalues\": null}, {\"scale\": \"linear\", \"tickformat\": null, \"grid\": {\"color\": \"#000000\", \"alpha\": 0.3, \"dasharray\": \"2,2\", \"gridOn\": true}, \"fontsize\": 10.0, \"position\": \"left\", \"nticks\": 6, \"tickvalues\": null}], \"lines\": [{\"color\": \"#0000FF\", \"yindex\": 1, \"coordinates\": \"data\", \"dasharray\": \"10,0\", \"zorder\": 2, \"alpha\": 1, \"xindex\": 0, \"linewidth\": 1.0, \"data\": \"data01\", \"id\": \"el14344530098768\"}, {\"color\": \"#007F00\", \"yindex\": 2, \"coordinates\": \"data\", \"dasharray\": \"10,0\", \"zorder\": 2, \"alpha\": 1, \"xindex\": 0, \"linewidth\": 1.0, \"data\": \"data01\", \"id\": \"el14344516578576\"}, {\"color\": \"#FF0000\", \"yindex\": 3, \"coordinates\": \"data\", \"dasharray\": \"10,0\", \"zorder\": 2, \"alpha\": 1, \"xindex\": 0, \"linewidth\": 1.0, \"data\": \"data01\", \"id\": \"el14344436438864\"}, {\"color\": \"#00BFBF\", \"yindex\": 4, \"coordinates\": \"data\", \"dasharray\": \"10,0\", \"zorder\": 2, \"alpha\": 1, \"xindex\": 0, \"linewidth\": 1.0, \"data\": \"data01\", \"id\": \"el14344516781840\"}, {\"color\": \"#0000FF\", \"yindex\": 1, \"coordinates\": \"axes\", \"dasharray\": \"10,0\", \"zorder\": 1000002.0, \"alpha\": 1, \"xindex\": 0, \"linewidth\": 1.0, \"data\": \"data02\", \"id\": \"el14344448836304\"}, {\"color\": \"#007F00\", \"yindex\": 2, \"coordinates\": \"axes\", \"dasharray\": \"10,0\", \"zorder\": 1000002.0, \"alpha\": 1, \"xindex\": 0, \"linewidth\": 1.0, \"data\": \"data02\", \"id\": \"el14344530391760\"}, {\"color\": \"#FF0000\", \"yindex\": 3, \"coordinates\": \"axes\", \"dasharray\": \"10,0\", \"zorder\": 1000002.0, \"alpha\": 1, \"xindex\": 0, \"linewidth\": 1.0, \"data\": \"data02\", \"id\": \"el14344530392464\"}, {\"color\": \"#00BFBF\", \"yindex\": 4, \"coordinates\": \"axes\", \"dasharray\": \"10,0\", \"zorder\": 1000002.0, \"alpha\": 1, \"xindex\": 0, \"linewidth\": 1.0, \"data\": \"data02\", \"id\": \"el14344531544784\"}], \"markers\": [{\"edgecolor\": \"#000000\", \"facecolor\": \"#0000FF\", \"edgewidth\": 0.5, \"yindex\": 1, \"coordinates\": \"data\", \"zorder\": 2, \"markerpath\": [[[0.0, 3.0], [0.7956093000000001, 3.0], [1.5587396123545605, 2.683901074764725], [2.121320343559643, 2.121320343559643], [2.683901074764725, 1.5587396123545605], [3.0, 0.7956093000000001], [3.0, 0.0], [3.0, -0.7956093000000001], [2.683901074764725, -1.5587396123545605], [2.121320343559643, -2.121320343559643], [1.5587396123545605, -2.683901074764725], [0.7956093000000001, -3.0], [0.0, -3.0], [-0.7956093000000001, -3.0], [-1.5587396123545605, -2.683901074764725], [-2.121320343559643, -2.121320343559643], [-2.683901074764725, -1.5587396123545605], [-3.0, -0.7956093000000001], [-3.0, 0.0], [-3.0, 0.7956093000000001], [-2.683901074764725, 1.5587396123545605], [-2.121320343559643, 2.121320343559643], [-1.5587396123545605, 2.683901074764725], [-0.7956093000000001, 3.0], [0.0, 3.0]], [\"M\", \"C\", \"C\", \"C\", \"C\", \"C\", \"C\", \"C\", \"C\", \"Z\"]], \"alpha\": 1, \"xindex\": 0, \"data\": \"data01\", \"id\": \"el14344530098768pts\"}, {\"edgecolor\": \"#000000\", \"facecolor\": \"#007F00\", \"edgewidth\": 0.5, \"yindex\": 2, \"coordinates\": \"data\", \"zorder\": 2, \"markerpath\": [[[0.0, 3.0], [0.7956093000000001, 3.0], [1.5587396123545605, 2.683901074764725], [2.121320343559643, 2.121320343559643], [2.683901074764725, 1.5587396123545605], [3.0, 0.7956093000000001], [3.0, 0.0], [3.0, -0.7956093000000001], [2.683901074764725, -1.5587396123545605], [2.121320343559643, -2.121320343559643], [1.5587396123545605, -2.683901074764725], [0.7956093000000001, -3.0], [0.0, -3.0], [-0.7956093000000001, -3.0], [-1.5587396123545605, -2.683901074764725], [-2.121320343559643, -2.121320343559643], [-2.683901074764725, -1.5587396123545605], [-3.0, -0.7956093000000001], [-3.0, 0.0], [-3.0, 0.7956093000000001], [-2.683901074764725, 1.5587396123545605], [-2.121320343559643, 2.121320343559643], [-1.5587396123545605, 2.683901074764725], [-0.7956093000000001, 3.0], [0.0, 3.0]], [\"M\", \"C\", \"C\", \"C\", \"C\", \"C\", \"C\", \"C\", \"C\", \"Z\"]], \"alpha\": 1, \"xindex\": 0, \"data\": \"data01\", \"id\": \"el14344516578576pts\"}, {\"edgecolor\": \"#000000\", \"facecolor\": \"#FF0000\", \"edgewidth\": 0.5, \"yindex\": 3, \"coordinates\": \"data\", \"zorder\": 2, \"markerpath\": [[[0.0, 3.0], [0.7956093000000001, 3.0], [1.5587396123545605, 2.683901074764725], [2.121320343559643, 2.121320343559643], [2.683901074764725, 1.5587396123545605], [3.0, 0.7956093000000001], [3.0, 0.0], [3.0, -0.7956093000000001], [2.683901074764725, -1.5587396123545605], [2.121320343559643, -2.121320343559643], [1.5587396123545605, -2.683901074764725], [0.7956093000000001, -3.0], [0.0, -3.0], [-0.7956093000000001, -3.0], [-1.5587396123545605, -2.683901074764725], [-2.121320343559643, -2.121320343559643], [-2.683901074764725, -1.5587396123545605], [-3.0, -0.7956093000000001], [-3.0, 0.0], [-3.0, 0.7956093000000001], [-2.683901074764725, 1.5587396123545605], [-2.121320343559643, 2.121320343559643], [-1.5587396123545605, 2.683901074764725], [-0.7956093000000001, 3.0], [0.0, 3.0]], [\"M\", \"C\", \"C\", \"C\", \"C\", \"C\", \"C\", \"C\", \"C\", \"Z\"]], \"alpha\": 1, \"xindex\": 0, \"data\": \"data01\", \"id\": \"el14344436438864pts\"}, {\"edgecolor\": \"#000000\", \"facecolor\": \"#00BFBF\", \"edgewidth\": 0.5, \"yindex\": 4, \"coordinates\": \"data\", \"zorder\": 2, \"markerpath\": [[[0.0, 3.0], [0.7956093000000001, 3.0], [1.5587396123545605, 2.683901074764725], [2.121320343559643, 2.121320343559643], [2.683901074764725, 1.5587396123545605], [3.0, 0.7956093000000001], [3.0, 0.0], [3.0, -0.7956093000000001], [2.683901074764725, -1.5587396123545605], [2.121320343559643, -2.121320343559643], [1.5587396123545605, -2.683901074764725], [0.7956093000000001, -3.0], [0.0, -3.0], [-0.7956093000000001, -3.0], [-1.5587396123545605, -2.683901074764725], [-2.121320343559643, -2.121320343559643], [-2.683901074764725, -1.5587396123545605], [-3.0, -0.7956093000000001], [-3.0, 0.0], [-3.0, 0.7956093000000001], [-2.683901074764725, 1.5587396123545605], [-2.121320343559643, 2.121320343559643], [-1.5587396123545605, 2.683901074764725], [-0.7956093000000001, 3.0], [0.0, 3.0]], [\"M\", \"C\", \"C\", \"C\", \"C\", \"C\", \"C\", \"C\", \"C\", \"Z\"]], \"alpha\": 1, \"xindex\": 0, \"data\": \"data01\", \"id\": \"el14344516781840pts\"}, {\"edgecolor\": \"#000000\", \"facecolor\": \"#0000FF\", \"edgewidth\": 0.5, \"yindex\": 1, \"coordinates\": \"axes\", \"zorder\": 1000002.0, \"markerpath\": [[[0.0, 3.0], [0.7956093000000001, 3.0], [1.5587396123545605, 2.683901074764725], [2.121320343559643, 2.121320343559643], [2.683901074764725, 1.5587396123545605], [3.0, 0.7956093000000001], [3.0, 0.0], [3.0, -0.7956093000000001], [2.683901074764725, -1.5587396123545605], [2.121320343559643, -2.121320343559643], [1.5587396123545605, -2.683901074764725], [0.7956093000000001, -3.0], [0.0, -3.0], [-0.7956093000000001, -3.0], [-1.5587396123545605, -2.683901074764725], [-2.121320343559643, -2.121320343559643], [-2.683901074764725, -1.5587396123545605], [-3.0, -0.7956093000000001], [-3.0, 0.0], [-3.0, 0.7956093000000001], [-2.683901074764725, 1.5587396123545605], [-2.121320343559643, 2.121320343559643], [-1.5587396123545605, 2.683901074764725], [-0.7956093000000001, 3.0], [0.0, 3.0]], [\"M\", \"C\", \"C\", \"C\", \"C\", \"C\", \"C\", \"C\", \"C\", \"Z\"]], \"alpha\": 1, \"xindex\": 0, \"data\": \"data02\", \"id\": \"el14344448836432pts\"}, {\"edgecolor\": \"#000000\", \"facecolor\": \"#007F00\", \"edgewidth\": 0.5, \"yindex\": 2, \"coordinates\": \"axes\", \"zorder\": 1000002.0, \"markerpath\": [[[0.0, 3.0], [0.7956093000000001, 3.0], [1.5587396123545605, 2.683901074764725], [2.121320343559643, 2.121320343559643], [2.683901074764725, 1.5587396123545605], [3.0, 0.7956093000000001], [3.0, 0.0], [3.0, -0.7956093000000001], [2.683901074764725, -1.5587396123545605], [2.121320343559643, -2.121320343559643], [1.5587396123545605, -2.683901074764725], [0.7956093000000001, -3.0], [0.0, -3.0], [-0.7956093000000001, -3.0], [-1.5587396123545605, -2.683901074764725], [-2.121320343559643, -2.121320343559643], [-2.683901074764725, -1.5587396123545605], [-3.0, -0.7956093000000001], [-3.0, 0.0], [-3.0, 0.7956093000000001], [-2.683901074764725, 1.5587396123545605], [-2.121320343559643, 2.121320343559643], [-1.5587396123545605, 2.683901074764725], [-0.7956093000000001, 3.0], [0.0, 3.0]], [\"M\", \"C\", \"C\", \"C\", \"C\", \"C\", \"C\", \"C\", \"C\", \"Z\"]], \"alpha\": 1, \"xindex\": 0, \"data\": \"data02\", \"id\": \"el14344530390800pts\"}, {\"edgecolor\": \"#000000\", \"facecolor\": \"#FF0000\", \"edgewidth\": 0.5, \"yindex\": 3, \"coordinates\": \"axes\", \"zorder\": 1000002.0, \"markerpath\": [[[0.0, 3.0], [0.7956093000000001, 3.0], [1.5587396123545605, 2.683901074764725], [2.121320343559643, 2.121320343559643], [2.683901074764725, 1.5587396123545605], [3.0, 0.7956093000000001], [3.0, 0.0], [3.0, -0.7956093000000001], [2.683901074764725, -1.5587396123545605], [2.121320343559643, -2.121320343559643], [1.5587396123545605, -2.683901074764725], [0.7956093000000001, -3.0], [0.0, -3.0], [-0.7956093000000001, -3.0], [-1.5587396123545605, -2.683901074764725], [-2.121320343559643, -2.121320343559643], [-2.683901074764725, -1.5587396123545605], [-3.0, -0.7956093000000001], [-3.0, 0.0], [-3.0, 0.7956093000000001], [-2.683901074764725, 1.5587396123545605], [-2.121320343559643, 2.121320343559643], [-1.5587396123545605, 2.683901074764725], [-0.7956093000000001, 3.0], [0.0, 3.0]], [\"M\", \"C\", \"C\", \"C\", \"C\", \"C\", \"C\", \"C\", \"C\", \"Z\"]], \"alpha\": 1, \"xindex\": 0, \"data\": \"data02\", \"id\": \"el14344530389776pts\"}, {\"edgecolor\": \"#000000\", \"facecolor\": \"#00BFBF\", \"edgewidth\": 0.5, \"yindex\": 4, \"coordinates\": \"axes\", \"zorder\": 1000002.0, \"markerpath\": [[[0.0, 3.0], [0.7956093000000001, 3.0], [1.5587396123545605, 2.683901074764725], [2.121320343559643, 2.121320343559643], [2.683901074764725, 1.5587396123545605], [3.0, 0.7956093000000001], [3.0, 0.0], [3.0, -0.7956093000000001], [2.683901074764725, -1.5587396123545605], [2.121320343559643, -2.121320343559643], [1.5587396123545605, -2.683901074764725], [0.7956093000000001, -3.0], [0.0, -3.0], [-0.7956093000000001, -3.0], [-1.5587396123545605, -2.683901074764725], [-2.121320343559643, -2.121320343559643], [-2.683901074764725, -1.5587396123545605], [-3.0, -0.7956093000000001], [-3.0, 0.0], [-3.0, 0.7956093000000001], [-2.683901074764725, 1.5587396123545605], [-2.121320343559643, 2.121320343559643], [-1.5587396123545605, 2.683901074764725], [-0.7956093000000001, 3.0], [0.0, 3.0]], [\"M\", \"C\", \"C\", \"C\", \"C\", \"C\", \"C\", \"C\", \"C\", \"Z\"]], \"alpha\": 1, \"xindex\": 0, \"data\": \"data02\", \"id\": \"el14344531547856pts\"}], \"id\": \"el14344527543504\", \"ydomain\": [0.0, 100.0], \"collections\": [], \"xscale\": \"linear\", \"bbox\": [0.125, 0.125, 0.77500000000000002, 0.77500000000000002]}], \"height\": 400.0, \"width\": 400.0, \"plugins\": [{\"type\": \"reset\"}, {\"enabled\": false, \"button\": true, \"type\": \"zoom\"}, {\"enabled\": false, \"button\": true, \"type\": \"boxzoom\"}, {\"voffset\": 10, \"labels\": [\"<table><th colspan='2'>knn</th><tr><td>the first</td><td>0.0%</td></tr><tr><td>yields</td><td>0.0%</td></tr><tr><td>cum. lift</td><td>0.0</td></tr><tr><td>local lift</td><td>0.0</td></tr></table>\", \"<table><th colspan='2'>knn</th><tr><td>the first</td><td>5.3%</td></tr><tr><td>yields</td><td>26.9%</td></tr><tr><td>cum. lift</td><td>5.1</td></tr><tr><td>local lift</td><td>5.1</td></tr></table>\", \"<table><th colspan='2'>knn</th><tr><td>the first</td><td>10.5%</td></tr><tr><td>yields</td><td>44.7%</td></tr><tr><td>cum. lift</td><td>4.2</td></tr><tr><td>local lift</td><td>3.4</td></tr></table>\", \"<table><th colspan='2'>knn</th><tr><td>the first</td><td>15.8%</td></tr><tr><td>yields</td><td>58.8%</td></tr><tr><td>cum. lift</td><td>3.7</td></tr><tr><td>local lift</td><td>2.7</td></tr></table>\", \"<table><th colspan='2'>knn</th><tr><td>the first</td><td>21.1%</td></tr><tr><td>yields</td><td>63.9%</td></tr><tr><td>cum. lift</td><td>3.0</td></tr><tr><td>local lift</td><td>1.0</td></tr></table>\", \"<table><th colspan='2'>knn</th><tr><td>the first</td><td>26.3%</td></tr><tr><td>yields</td><td>67.4%</td></tr><tr><td>cum. lift</td><td>2.6</td></tr><tr><td>local lift</td><td>0.7</td></tr></table>\", \"<table><th colspan='2'>knn</th><tr><td>the first</td><td>31.6%</td></tr><tr><td>yields</td><td>71.8%</td></tr><tr><td>cum. lift</td><td>2.3</td></tr><tr><td>local lift</td><td>0.8</td></tr></table>\", \"<table><th colspan='2'>knn</th><tr><td>the first</td><td>36.8%</td></tr><tr><td>yields</td><td>75.1%</td></tr><tr><td>cum. lift</td><td>2.0</td></tr><tr><td>local lift</td><td>0.6</td></tr></table>\", \"<table><th colspan='2'>knn</th><tr><td>the first</td><td>42.1%</td></tr><tr><td>yields</td><td>78.0%</td></tr><tr><td>cum. lift</td><td>1.9</td></tr><tr><td>local lift</td><td>0.5</td></tr></table>\", \"<table><th colspan='2'>knn</th><tr><td>the first</td><td>47.4%</td></tr><tr><td>yields</td><td>79.7%</td></tr><tr><td>cum. lift</td><td>1.7</td></tr><tr><td>local lift</td><td>0.3</td></tr></table>\", \"<table><th colspan='2'>knn</th><tr><td>the first</td><td>52.6%</td></tr><tr><td>yields</td><td>83.3%</td></tr><tr><td>cum. lift</td><td>1.6</td></tr><tr><td>local lift</td><td>0.7</td></tr></table>\", \"<table><th colspan='2'>knn</th><tr><td>the first</td><td>57.9%</td></tr><tr><td>yields</td><td>84.6%</td></tr><tr><td>cum. lift</td><td>1.5</td></tr><tr><td>local lift</td><td>0.3</td></tr></table>\", \"<table><th colspan='2'>knn</th><tr><td>the first</td><td>63.2%</td></tr><tr><td>yields</td><td>87.9%</td></tr><tr><td>cum. lift</td><td>1.4</td></tr><tr><td>local lift</td><td>0.6</td></tr></table>\", \"<table><th colspan='2'>knn</th><tr><td>the first</td><td>68.4%</td></tr><tr><td>yields</td><td>88.8%</td></tr><tr><td>cum. lift</td><td>1.3</td></tr><tr><td>local lift</td><td>0.2</td></tr></table>\", \"<table><th colspan='2'>knn</th><tr><td>the first</td><td>73.7%</td></tr><tr><td>yields</td><td>90.5%</td></tr><tr><td>cum. lift</td><td>1.2</td></tr><tr><td>local lift</td><td>0.3</td></tr></table>\", \"<table><th colspan='2'>knn</th><tr><td>the first</td><td>78.9%</td></tr><tr><td>yields</td><td>92.1%</td></tr><tr><td>cum. lift</td><td>1.2</td></tr><tr><td>local lift</td><td>0.3</td></tr></table>\", \"<table><th colspan='2'>knn</th><tr><td>the first</td><td>84.2%</td></tr><tr><td>yields</td><td>94.5%</td></tr><tr><td>cum. lift</td><td>1.1</td></tr><tr><td>local lift</td><td>0.5</td></tr></table>\", \"<table><th colspan='2'>knn</th><tr><td>the first</td><td>89.5%</td></tr><tr><td>yields</td><td>96.5%</td></tr><tr><td>cum. lift</td><td>1.1</td></tr><tr><td>local lift</td><td>0.4</td></tr></table>\", \"<table><th colspan='2'>knn</th><tr><td>the first</td><td>94.7%</td></tr><tr><td>yields</td><td>98.0%</td></tr><tr><td>cum. lift</td><td>1.0</td></tr><tr><td>local lift</td><td>0.3</td></tr></table>\", \"<table><th colspan='2'>knn</th><tr><td>the first</td><td>100.0%</td></tr><tr><td>yields</td><td>100.0%</td></tr><tr><td>cum. lift</td><td>1.0</td></tr><tr><td>local lift</td><td>0.4</td></tr></table>\"], \"type\": \"htmltooltip\", \"id\": \"el14344530098768pts\", \"hoffset\": 0}, {\"voffset\": 10, \"labels\": [\"<table><th colspan='2'>gaussianNB</th><tr><td>the first</td><td>0.0%</td></tr><tr><td>yields</td><td>0.0%</td></tr><tr><td>cum. lift</td><td>0.0</td></tr><tr><td>local lift</td><td>0.0</td></tr></table>\", \"<table><th colspan='2'>gaussianNB</th><tr><td>the first</td><td>5.3%</td></tr><tr><td>yields</td><td>24.4%</td></tr><tr><td>cum. lift</td><td>4.6</td></tr><tr><td>local lift</td><td>4.6</td></tr></table>\", \"<table><th colspan='2'>gaussianNB</th><tr><td>the first</td><td>10.5%</td></tr><tr><td>yields</td><td>43.4%</td></tr><tr><td>cum. lift</td><td>4.1</td></tr><tr><td>local lift</td><td>3.6</td></tr></table>\", \"<table><th colspan='2'>gaussianNB</th><tr><td>the first</td><td>15.8%</td></tr><tr><td>yields</td><td>52.4%</td></tr><tr><td>cum. lift</td><td>3.3</td></tr><tr><td>local lift</td><td>1.7</td></tr></table>\", \"<table><th colspan='2'>gaussianNB</th><tr><td>the first</td><td>21.1%</td></tr><tr><td>yields</td><td>59.0%</td></tr><tr><td>cum. lift</td><td>2.8</td></tr><tr><td>local lift</td><td>1.3</td></tr></table>\", \"<table><th colspan='2'>gaussianNB</th><tr><td>the first</td><td>26.3%</td></tr><tr><td>yields</td><td>64.1%</td></tr><tr><td>cum. lift</td><td>2.4</td></tr><tr><td>local lift</td><td>1.0</td></tr></table>\", \"<table><th colspan='2'>gaussianNB</th><tr><td>the first</td><td>31.6%</td></tr><tr><td>yields</td><td>69.2%</td></tr><tr><td>cum. lift</td><td>2.2</td></tr><tr><td>local lift</td><td>1.0</td></tr></table>\", \"<table><th colspan='2'>gaussianNB</th><tr><td>the first</td><td>36.8%</td></tr><tr><td>yields</td><td>72.2%</td></tr><tr><td>cum. lift</td><td>2.0</td></tr><tr><td>local lift</td><td>0.6</td></tr></table>\", \"<table><th colspan='2'>gaussianNB</th><tr><td>the first</td><td>42.1%</td></tr><tr><td>yields</td><td>74.7%</td></tr><tr><td>cum. lift</td><td>1.8</td></tr><tr><td>local lift</td><td>0.5</td></tr></table>\", \"<table><th colspan='2'>gaussianNB</th><tr><td>the first</td><td>47.4%</td></tr><tr><td>yields</td><td>79.1%</td></tr><tr><td>cum. lift</td><td>1.7</td></tr><tr><td>local lift</td><td>0.8</td></tr></table>\", \"<table><th colspan='2'>gaussianNB</th><tr><td>the first</td><td>52.6%</td></tr><tr><td>yields</td><td>81.9%</td></tr><tr><td>cum. lift</td><td>1.6</td></tr><tr><td>local lift</td><td>0.5</td></tr></table>\", \"<table><th colspan='2'>gaussianNB</th><tr><td>the first</td><td>57.9%</td></tr><tr><td>yields</td><td>83.7%</td></tr><tr><td>cum. lift</td><td>1.4</td></tr><tr><td>local lift</td><td>0.3</td></tr></table>\", \"<table><th colspan='2'>gaussianNB</th><tr><td>the first</td><td>63.2%</td></tr><tr><td>yields</td><td>85.5%</td></tr><tr><td>cum. lift</td><td>1.4</td></tr><tr><td>local lift</td><td>0.3</td></tr></table>\", \"<table><th colspan='2'>gaussianNB</th><tr><td>the first</td><td>68.4%</td></tr><tr><td>yields</td><td>88.3%</td></tr><tr><td>cum. lift</td><td>1.3</td></tr><tr><td>local lift</td><td>0.5</td></tr></table>\", \"<table><th colspan='2'>gaussianNB</th><tr><td>the first</td><td>73.7%</td></tr><tr><td>yields</td><td>90.3%</td></tr><tr><td>cum. lift</td><td>1.2</td></tr><tr><td>local lift</td><td>0.4</td></tr></table>\", \"<table><th colspan='2'>gaussianNB</th><tr><td>the first</td><td>78.9%</td></tr><tr><td>yields</td><td>92.3%</td></tr><tr><td>cum. lift</td><td>1.2</td></tr><tr><td>local lift</td><td>0.4</td></tr></table>\", \"<table><th colspan='2'>gaussianNB</th><tr><td>the first</td><td>84.2%</td></tr><tr><td>yields</td><td>94.5%</td></tr><tr><td>cum. lift</td><td>1.1</td></tr><tr><td>local lift</td><td>0.4</td></tr></table>\", \"<table><th colspan='2'>gaussianNB</th><tr><td>the first</td><td>89.5%</td></tr><tr><td>yields</td><td>96.7%</td></tr><tr><td>cum. lift</td><td>1.1</td></tr><tr><td>local lift</td><td>0.4</td></tr></table>\", \"<table><th colspan='2'>gaussianNB</th><tr><td>the first</td><td>94.7%</td></tr><tr><td>yields</td><td>98.5%</td></tr><tr><td>cum. lift</td><td>1.0</td></tr><tr><td>local lift</td><td>0.3</td></tr></table>\", \"<table><th colspan='2'>gaussianNB</th><tr><td>the first</td><td>100.0%</td></tr><tr><td>yields</td><td>100.0%</td></tr><tr><td>cum. lift</td><td>1.0</td></tr><tr><td>local lift</td><td>0.3</td></tr></table>\"], \"type\": \"htmltooltip\", \"id\": \"el14344516578576pts\", \"hoffset\": 0}, {\"voffset\": 10, \"labels\": [\"<table><th colspan='2'>logres</th><tr><td>the first</td><td>0.0%</td></tr><tr><td>yields</td><td>0.0%</td></tr><tr><td>cum. lift</td><td>0.0</td></tr><tr><td>local lift</td><td>0.0</td></tr></table>\", \"<table><th colspan='2'>logres</th><tr><td>the first</td><td>5.3%</td></tr><tr><td>yields</td><td>28.9%</td></tr><tr><td>cum. lift</td><td>5.5</td></tr><tr><td>local lift</td><td>5.5</td></tr></table>\", \"<table><th colspan='2'>logres</th><tr><td>the first</td><td>10.5%</td></tr><tr><td>yields</td><td>46.5%</td></tr><tr><td>cum. lift</td><td>4.4</td></tr><tr><td>local lift</td><td>3.3</td></tr></table>\", \"<table><th colspan='2'>logres</th><tr><td>the first</td><td>15.8%</td></tr><tr><td>yields</td><td>57.5%</td></tr><tr><td>cum. lift</td><td>3.6</td></tr><tr><td>local lift</td><td>2.1</td></tr></table>\", \"<table><th colspan='2'>logres</th><tr><td>the first</td><td>21.1%</td></tr><tr><td>yields</td><td>61.9%</td></tr><tr><td>cum. lift</td><td>2.9</td></tr><tr><td>local lift</td><td>0.8</td></tr></table>\", \"<table><th colspan='2'>logres</th><tr><td>the first</td><td>26.3%</td></tr><tr><td>yields</td><td>66.1%</td></tr><tr><td>cum. lift</td><td>2.5</td></tr><tr><td>local lift</td><td>0.8</td></tr></table>\", \"<table><th colspan='2'>logres</th><tr><td>the first</td><td>31.6%</td></tr><tr><td>yields</td><td>70.0%</td></tr><tr><td>cum. lift</td><td>2.2</td></tr><tr><td>local lift</td><td>0.8</td></tr></table>\", \"<table><th colspan='2'>logres</th><tr><td>the first</td><td>36.8%</td></tr><tr><td>yields</td><td>74.7%</td></tr><tr><td>cum. lift</td><td>2.0</td></tr><tr><td>local lift</td><td>0.9</td></tr></table>\", \"<table><th colspan='2'>logres</th><tr><td>the first</td><td>42.1%</td></tr><tr><td>yields</td><td>77.3%</td></tr><tr><td>cum. lift</td><td>1.8</td></tr><tr><td>local lift</td><td>0.5</td></tr></table>\", \"<table><th colspan='2'>logres</th><tr><td>the first</td><td>47.4%</td></tr><tr><td>yields</td><td>78.6%</td></tr><tr><td>cum. lift</td><td>1.7</td></tr><tr><td>local lift</td><td>0.3</td></tr></table>\", \"<table><th colspan='2'>logres</th><tr><td>the first</td><td>52.6%</td></tr><tr><td>yields</td><td>81.5%</td></tr><tr><td>cum. lift</td><td>1.5</td></tr><tr><td>local lift</td><td>0.5</td></tr></table>\", \"<table><th colspan='2'>logres</th><tr><td>the first</td><td>57.9%</td></tr><tr><td>yields</td><td>83.9%</td></tr><tr><td>cum. lift</td><td>1.4</td></tr><tr><td>local lift</td><td>0.5</td></tr></table>\", \"<table><th colspan='2'>logres</th><tr><td>the first</td><td>63.2%</td></tr><tr><td>yields</td><td>87.4%</td></tr><tr><td>cum. lift</td><td>1.4</td></tr><tr><td>local lift</td><td>0.7</td></tr></table>\", \"<table><th colspan='2'>logres</th><tr><td>the first</td><td>68.4%</td></tr><tr><td>yields</td><td>90.5%</td></tr><tr><td>cum. lift</td><td>1.3</td></tr><tr><td>local lift</td><td>0.6</td></tr></table>\", \"<table><th colspan='2'>logres</th><tr><td>the first</td><td>73.7%</td></tr><tr><td>yields</td><td>92.3%</td></tr><tr><td>cum. lift</td><td>1.3</td></tr><tr><td>local lift</td><td>0.3</td></tr></table>\", \"<table><th colspan='2'>logres</th><tr><td>the first</td><td>78.9%</td></tr><tr><td>yields</td><td>94.7%</td></tr><tr><td>cum. lift</td><td>1.2</td></tr><tr><td>local lift</td><td>0.5</td></tr></table>\", \"<table><th colspan='2'>logres</th><tr><td>the first</td><td>84.2%</td></tr><tr><td>yields</td><td>96.5%</td></tr><tr><td>cum. lift</td><td>1.1</td></tr><tr><td>local lift</td><td>0.3</td></tr></table>\", \"<table><th colspan='2'>logres</th><tr><td>the first</td><td>89.5%</td></tr><tr><td>yields</td><td>98.0%</td></tr><tr><td>cum. lift</td><td>1.1</td></tr><tr><td>local lift</td><td>0.3</td></tr></table>\", \"<table><th colspan='2'>logres</th><tr><td>the first</td><td>94.7%</td></tr><tr><td>yields</td><td>98.7%</td></tr><tr><td>cum. lift</td><td>1.0</td></tr><tr><td>local lift</td><td>0.1</td></tr></table>\", \"<table><th colspan='2'>logres</th><tr><td>the first</td><td>100.0%</td></tr><tr><td>yields</td><td>100.0%</td></tr><tr><td>cum. lift</td><td>1.0</td></tr><tr><td>local lift</td><td>0.3</td></tr></table>\"], \"type\": \"htmltooltip\", \"id\": \"el14344436438864pts\", \"hoffset\": 0}, {\"voffset\": 10, \"labels\": [\"<table><th colspan='2'>baseline</th><tr><td>the first</td><td>0.0%</td></tr><tr><td>yields</td><td>0.0%</td></tr><tr><td>cum. lift</td><td>0.0</td></tr><tr><td>local lift</td><td>0.0</td></tr></table>\", \"<table><th colspan='2'>baseline</th><tr><td>the first</td><td>5.3%</td></tr><tr><td>yields</td><td>5.3%</td></tr><tr><td>cum. lift</td><td>1.0</td></tr><tr><td>local lift</td><td>1.0</td></tr></table>\", \"<table><th colspan='2'>baseline</th><tr><td>the first</td><td>10.5%</td></tr><tr><td>yields</td><td>11.0%</td></tr><tr><td>cum. lift</td><td>1.0</td></tr><tr><td>local lift</td><td>1.1</td></tr></table>\", \"<table><th colspan='2'>baseline</th><tr><td>the first</td><td>15.8%</td></tr><tr><td>yields</td><td>15.9%</td></tr><tr><td>cum. lift</td><td>1.0</td></tr><tr><td>local lift</td><td>0.9</td></tr></table>\", \"<table><th colspan='2'>baseline</th><tr><td>the first</td><td>21.1%</td></tr><tr><td>yields</td><td>22.0%</td></tr><tr><td>cum. lift</td><td>1.0</td></tr><tr><td>local lift</td><td>1.2</td></tr></table>\", \"<table><th colspan='2'>baseline</th><tr><td>the first</td><td>26.3%</td></tr><tr><td>yields</td><td>27.5%</td></tr><tr><td>cum. lift</td><td>1.0</td></tr><tr><td>local lift</td><td>1.0</td></tr></table>\", \"<table><th colspan='2'>baseline</th><tr><td>the first</td><td>31.6%</td></tr><tr><td>yields</td><td>32.8%</td></tr><tr><td>cum. lift</td><td>1.0</td></tr><tr><td>local lift</td><td>1.0</td></tr></table>\", \"<table><th colspan='2'>baseline</th><tr><td>the first</td><td>36.8%</td></tr><tr><td>yields</td><td>38.5%</td></tr><tr><td>cum. lift</td><td>1.0</td></tr><tr><td>local lift</td><td>1.1</td></tr></table>\", \"<table><th colspan='2'>baseline</th><tr><td>the first</td><td>42.1%</td></tr><tr><td>yields</td><td>43.4%</td></tr><tr><td>cum. lift</td><td>1.0</td></tr><tr><td>local lift</td><td>0.9</td></tr></table>\", \"<table><th colspan='2'>baseline</th><tr><td>the first</td><td>47.4%</td></tr><tr><td>yields</td><td>48.0%</td></tr><tr><td>cum. lift</td><td>1.0</td></tr><tr><td>local lift</td><td>0.9</td></tr></table>\", \"<table><th colspan='2'>baseline</th><tr><td>the first</td><td>52.6%</td></tr><tr><td>yields</td><td>52.2%</td></tr><tr><td>cum. lift</td><td>1.0</td></tr><tr><td>local lift</td><td>0.8</td></tr></table>\", \"<table><th colspan='2'>baseline</th><tr><td>the first</td><td>57.9%</td></tr><tr><td>yields</td><td>57.0%</td></tr><tr><td>cum. lift</td><td>1.0</td></tr><tr><td>local lift</td><td>0.9</td></tr></table>\", \"<table><th colspan='2'>baseline</th><tr><td>the first</td><td>63.2%</td></tr><tr><td>yields</td><td>62.8%</td></tr><tr><td>cum. lift</td><td>1.0</td></tr><tr><td>local lift</td><td>1.1</td></tr></table>\", \"<table><th colspan='2'>baseline</th><tr><td>the first</td><td>68.4%</td></tr><tr><td>yields</td><td>68.7%</td></tr><tr><td>cum. lift</td><td>1.0</td></tr><tr><td>local lift</td><td>1.1</td></tr></table>\", \"<table><th colspan='2'>baseline</th><tr><td>the first</td><td>73.7%</td></tr><tr><td>yields</td><td>74.9%</td></tr><tr><td>cum. lift</td><td>1.0</td></tr><tr><td>local lift</td><td>1.2</td></tr></table>\", \"<table><th colspan='2'>baseline</th><tr><td>the first</td><td>78.9%</td></tr><tr><td>yields</td><td>80.0%</td></tr><tr><td>cum. lift</td><td>1.0</td></tr><tr><td>local lift</td><td>1.0</td></tr></table>\", \"<table><th colspan='2'>baseline</th><tr><td>the first</td><td>84.2%</td></tr><tr><td>yields</td><td>83.9%</td></tr><tr><td>cum. lift</td><td>1.0</td></tr><tr><td>local lift</td><td>0.8</td></tr></table>\", \"<table><th colspan='2'>baseline</th><tr><td>the first</td><td>89.5%</td></tr><tr><td>yields</td><td>88.5%</td></tr><tr><td>cum. lift</td><td>1.0</td></tr><tr><td>local lift</td><td>0.9</td></tr></table>\", \"<table><th colspan='2'>baseline</th><tr><td>the first</td><td>94.7%</td></tr><tr><td>yields</td><td>94.1%</td></tr><tr><td>cum. lift</td><td>1.0</td></tr><tr><td>local lift</td><td>1.0</td></tr></table>\", \"<table><th colspan='2'>baseline</th><tr><td>the first</td><td>100.0%</td></tr><tr><td>yields</td><td>100.0%</td></tr><tr><td>cum. lift</td><td>1.0</td></tr><tr><td>local lift</td><td>1.1</td></tr></table>\"], \"type\": \"htmltooltip\", \"id\": \"el14344516781840pts\", \"hoffset\": 0}], \"data\": {\"data02\": [[0.6057795698924731, 0.2537634408602151, 0.19032258064516128, 0.12688172043010748, 0.06344086021505377], [0.6659946236559139, 0.2537634408602151, 0.19032258064516128, 0.12688172043010748, 0.06344086021505377]], \"data03\": [[0.5756720430107526, 0.02150537634408603], [0.9784946236559137, 0.02150537634408603], [0.9784946236559137, 0.2881720430107527], [0.5756720430107526, 0.2881720430107527]], \"data01\": [[0.0, 0.0, 0.0, 0.0, 0.0], [5.263157894736842, 26.87224669603524, 24.44933920704846, 28.854625550660796, 5.286343612334802], [10.526315789473683, 44.713656387665196, 43.3920704845815, 46.47577092511014, 11.013215859030836], [15.789473684210526, 58.81057268722467, 52.422907488986795, 57.48898678414097, 15.859030837004406], [21.052631578947366, 63.87665198237885, 59.03083700440529, 61.89427312775331, 22.026431718061676], [26.31578947368421, 67.40088105726872, 64.09691629955947, 66.07929515418502, 27.533039647577095], [31.57894736842105, 71.80616740088107, 69.16299559471365, 70.04405286343612, 32.8193832599119], [36.84210526315789, 75.11013215859032, 72.24669603524228, 74.66960352422907, 38.546255506607935], [42.10526315789473, 77.97356828193833, 74.66960352422906, 77.31277533039648, 43.3920704845815], [47.368421052631575, 79.73568281938327, 79.0748898678414, 78.63436123348018, 48.017621145374456], [52.63157894736842, 83.25991189427315, 81.93832599118942, 81.4977973568282, 52.20264317180617], [57.89473684210527, 84.58149779735685, 83.70044052863436, 83.92070484581498, 57.04845814977975], [63.1578947368421, 87.8854625550661, 85.46255506607929, 87.44493392070484, 62.77533039647578], [68.42105263157895, 88.76651982378856, 88.32599118942731, 90.52863436123349, 68.72246696035243], [73.68421052631578, 90.5286343612335, 90.30837004405286, 92.29074889867842, 74.88986784140971], [78.94736842105263, 92.07048458149781, 92.29074889867842, 94.7136563876652, 79.95594713656389], [84.21052631578947, 94.49339207048459, 94.49339207048459, 96.47577092511014, 83.92070484581498], [89.47368421052632, 96.47577092511015, 96.69603524229075, 98.01762114537446, 88.54625550660793], [94.73684210526315, 98.01762114537446, 98.45814977973568, 98.67841409691631, 94.05286343612336], [100.0, 100.00000000000003, 100.0, 100.00000000000003, 100.0]]}, \"id\": \"el14344517778768\"});\n",
        "            })\n",
        "         });\n",
        "}\n",
        "</script>"
       ],
       "metadata": {},
       "output_type": "display_data",
       "png": "[encoded data removed]",
       "text": [
        "<matplotlib.figure.Figure at 0x10d47d550>"
       ]
      }
     ],
     "prompt_number": 8
    },
    {
     "cell_type": "heading",
     "level": 2,
     "metadata": {
      "internals": {
       "frag_helper": "fragment_end",
       "frag_number": 32,
       "slide_type": "subslide"
      },
      "slideshow": {
       "slide_type": "slide"
      }
     },
     "source": [
      "Profit curves"
     ]
    },
    {
     "cell_type": "markdown",
     "metadata": {
      "internals": {
       "frag_helper": "fragment_end",
       "frag_number": 34
      },
      "slideshow": {
       "slide_type": "fragment"
      }
     },
     "source": [
      "From the given case description, we don't exactly know how much a single contact costs, and how much a successful one would earn in terms of revenue. However, for each combination of these two, we can draw a profit curve."
     ]
    },
    {
     "cell_type": "code",
     "collapsed": false,
     "input": [
      "def calculateProfit(sortedProbsAndTrueLabels,\n",
      "                    costPerContact=10,\n",
      "                    revenuePerContact=50,\n",
      "                    nrPercentiles=20,\n",
      "                    posLabel=1):\n",
      "    ''' Input is a list of tuples containing (prob, true label), sorted in descending order per prob\n",
      "        Output is a list containing tuples of the form\n",
      "        (percentOfTargetPopulationInThisPercentile,\n",
      "         cumulative revenue,\n",
      "         cumulative cost,\n",
      "         cumulative profit,\n",
      "         revenue for this percentile,\n",
      "         cost for this percentile,\n",
      "         profit for this percentile)\n",
      "    '''\n",
      "    assert(costPerContact >= 0.0), \"costPerContact is expressed as a positive float\"\n",
      "    assert(revenuePerContact >= 0.0), \"costPerContact is expressed as a positive float\"\n",
      "    numberOfPositiveInstances = len([x for x in sortedProbsAndTrueLabels if x[1] == posLabel])\n",
      "    percentileSplitOfInstances = [np_array.tolist() for np_array in np.array_split(np.array([x[1] for x in sortedProbsAndTrueLabels]), nrPercentiles)]\n",
      "#    print \"len(percentileSplitOfInstances) = \", len(percentileSplitOfInstances)\n",
      "#    print \"percentileSplitOfInstances[0:2] = \", percentileSplitOfInstances[0:2]\n",
      "    result = [(0.0,0.0,0.0,0.0,0.0,0.0,0.0)]\n",
      "    cumulativeCost = 0.0\n",
      "    cumulativeRevenue = 0.0\n",
      "    cumulativeProfit = 0.0\n",
      "    for c in range(len(percentileSplitOfInstances)):\n",
      "        percentile = percentileSplitOfInstances[c]\n",
      "        nrPositivesInPercentile = len([x for x in percentile if x == posLabel])\n",
      "        nrNegativesInPercentile = len(percentile) - nrPositivesInPercentile\n",
      "        assert(nrPositivesInPercentile + nrNegativesInPercentile == len(percentile))\n",
      "        assert(len(percentile) > 0)\n",
      "        p = float(c+1)/float(nrPercentiles)\n",
      "        costThisPercentile = costPerContact * (nrPositivesInPercentile + nrNegativesInPercentile)\n",
      "        revenueThisPercentile = revenuePerContact * nrPositivesInPercentile\n",
      "        profitThisPercentile = revenueThisPercentile - costThisPercentile\n",
      "        cumulativeRevenue = cumulativeRevenue + revenueThisPercentile\n",
      "        cumulativeCost = cumulativeCost + costThisPercentile\n",
      "        cumulativeProfit = cumulativeProfit + profitThisPercentile\n",
      "        result.append((p, cumulativeRevenue, cumulativeCost, cumulativeProfit, revenueThisPercentile, costThisPercentile, profitThisPercentile))\n",
      "    return result\n",
      "\n",
      "def plotProfitCurve(costPerContact=5, revenuePerContact=15, numberOfPercentiles=10, figSize=7):\n",
      "    # Define some CSS to control our custom labels\n",
      "    css = \"\"\"\n",
      "table {\n",
      "  border-collapse: collapse;\n",
      "}\n",
      "th {\n",
      "  color: #ffffff;\n",
      "  background-color: #000000;\n",
      "}\n",
      "td {\n",
      "  padding: 2px;\n",
      "  background-color: #cccccc;\n",
      "}\n",
      "table, th, td {\n",
      "  font-family:Arial, Helvetica, sans-serif;\n",
      "  border: 1px solid black;\n",
      "  text-align: right;\n",
      "}\n",
      "\"\"\"\n",
      "\n",
      "    profitCurveFigure, ax = plt.subplots(figsize=(figSize,figSize))\n",
      "    ax.grid(True, alpha=0.3)\n",
      "    ax.set_autoscaley_on(True)\n",
      "    for modelName, probs in finalPredictions.iteritems():\n",
      "        modelNameShort = re.split(\"\\s+\", modelName)[0]\n",
      "        y_probs = [x[1] for x in finalPredictions[modelName]['test']]\n",
      "        sortedProbsAndTrueLabels = sortTestSetByProbability(y_test,y_probs)\n",
      "        profits = calculateProfit(sortedProbsAndTrueLabels,\n",
      "                                  costPerContact=costPerContact,\n",
      "                                  revenuePerContact=revenuePerContact,\n",
      "                                  nrPercentiles=numberOfPercentiles,\n",
      "                                  posLabel=1)\n",
      "        xPerc = [x[0]*100 for x in profits]\n",
      "        yProfit = [x[3] for x in profits]\n",
      "        points = ax.plot(xPerc, yProfit, 'o-', label=\"%s\" % modelNameShort)\n",
      "        labels = [\"<table><th colspan='2'>%s</th><tr><td>the first</td><td>%2.1f%%</td></tr><tr><td>cum. profit</td><td>%.0f</td></tr><tr><td>interval profit</td><td>%.0f</td></tr></table>\" % (modelNameShort, xPerc[i],yProfit[i], profits[i][6]) for i in range(len(yProfit))]\n",
      "        mpld3.plugins.connect(profitCurveFigure, mpld3.plugins.PointHTMLTooltip(points[0],labels=labels, css=css))        \n",
      "#        print \"%s: \" % modelNameShort, profits\n",
      "    ax.set_title(\"Profit curve for prediction of successful term deposit sale\", y=1.06, fontsize=14 + log(figSize))\n",
      "    ax.set_xlabel(\"Percentage of test instances (decreasing by probability)\", labelpad=15 + log(figSize), fontsize=12 + log(figSize))\n",
      "    ax.set_ylabel(\"Profit\", labelpad=15 + log(figSize), fontsize=12 + log(figSize))\n",
      "    plt.legend(loc=1)\n",
      "    plt.show()\n",
      "    return profitCurveFigure\n",
      "\n",
      "from IPython.html.widgets import interact, fixed\n",
      "\n",
      "mpld3.save_html(plotProfitCurve(costPerContact=10, revenuePerContact=50, numberOfPercentiles=20, figSize=9), \"plotLiftCurveBanking.html\", figid=\"Lift_Curve_Banking\")\n",
      "interact(plotProfitCurve, costPerContact=(10,50), revenuePerContact=(20,100), numberOfPercentiles=(10, 50), figSize=(5,10))"
     ],
     "language": "python",
     "metadata": {
      "internals": {
       "frag_helper": "fragment_end",
       "frag_number": 35,
       "slide_helper": "subslide_end"
      },
      "slide_helper": "slide_end",
      "slideshow": {
       "slide_type": "fragment"
      }
     },
     "outputs": [
      {
       "html": [
        "\n",
        "\n",
        "<style>\n",
        "\n",
        "table {\n",
        "  border-collapse: collapse;\n",
        "}\n",
        "th {\n",
        "  color: #ffffff;\n",
        "  background-color: #000000;\n",
        "}\n",
        "td {\n",
        "  padding: 2px;\n",
        "  background-color: #cccccc;\n",
        "}\n",
        "table, th, td {\n",
        "  font-family:Arial, Helvetica, sans-serif;\n",
        "  border: 1px solid black;\n",
        "  text-align: right;\n",
        "}\n",
        "\n",
        "table {\n",
        "  border-collapse: collapse;\n",
        "}\n",
        "th {\n",
        "  color: #ffffff;\n",
        "  background-color: #000000;\n",
        "}\n",
        "td {\n",
        "  padding: 2px;\n",
        "  background-color: #cccccc;\n",
        "}\n",
        "table, th, td {\n",
        "  font-family:Arial, Helvetica, sans-serif;\n",
        "  border: 1px solid black;\n",
        "  text-align: right;\n",
        "}\n",
        "\n",
        "table {\n",
        "  border-collapse: collapse;\n",
        "}\n",
        "th {\n",
        "  color: #ffffff;\n",
        "  background-color: #000000;\n",
        "}\n",
        "td {\n",
        "  padding: 2px;\n",
        "  background-color: #cccccc;\n",
        "}\n",
        "table, th, td {\n",
        "  font-family:Arial, Helvetica, sans-serif;\n",
        "  border: 1px solid black;\n",
        "  text-align: right;\n",
        "}\n",
        "\n",
        "table {\n",
        "  border-collapse: collapse;\n",
        "}\n",
        "th {\n",
        "  color: #ffffff;\n",
        "  background-color: #000000;\n",
        "}\n",
        "td {\n",
        "  padding: 2px;\n",
        "  background-color: #cccccc;\n",
        "}\n",
        "table, th, td {\n",
        "  font-family:Arial, Helvetica, sans-serif;\n",
        "  border: 1px solid black;\n",
        "  text-align: right;\n",
        "}\n",
        "\n",
        "</style>\n",
        "\n",
        "<div id=\"fig_el14344533157456958833205\"></div>\n",
        "<script>\n",
        "function mpld3_load_lib(url, callback){\n",
        "  var s = document.createElement('script');\n",
        "  s.src = url;\n",
        "  s.async = true;\n",
        "  s.onreadystatechange = s.onload = callback;\n",
        "  s.onerror = function(){console.warn(\"failed to load library \" + url);};\n",
        "  document.getElementsByTagName(\"head\")[0].appendChild(s);\n",
        "}\n",
        "\n",
        "if(typeof(mpld3) !== \"undefined\" && mpld3._mpld3IsLoaded){\n",
        "   // already loaded: just create the figure\n",
        "   !function(mpld3){\n",
        "       \n",
        "    mpld3.register_plugin(\"htmltooltip\", HtmlTooltipPlugin);\n",
        "    HtmlTooltipPlugin.prototype = Object.create(mpld3.Plugin.prototype);\n",
        "    HtmlTooltipPlugin.prototype.constructor = HtmlTooltipPlugin;\n",
        "    HtmlTooltipPlugin.prototype.requiredProps = [\"id\"];\n",
        "    HtmlTooltipPlugin.prototype.defaultProps = {labels:null, hoffset:0, voffset:10};\n",
        "    function HtmlTooltipPlugin(fig, props){\n",
        "        mpld3.Plugin.call(this, fig, props);\n",
        "    };\n",
        "\n",
        "    HtmlTooltipPlugin.prototype.draw = function(){\n",
        "       var obj = mpld3.get_element(this.props.id);\n",
        "       var labels = this.props.labels;\n",
        "       var tooltip = d3.select(\"body\").append(\"div\")\n",
        "                    .attr(\"class\", \"mpld3-tooltip\")\n",
        "                    .style(\"position\", \"absolute\")\n",
        "                    .style(\"z-index\", \"10\")\n",
        "                    .style(\"visibility\", \"hidden\");\n",
        "\n",
        "       obj.elements()\n",
        "           .on(\"mouseover\", function(d, i){\n",
        "                              tooltip.html(labels[i])\n",
        "                                     .style(\"visibility\", \"visible\");})\n",
        "           .on(\"mousemove\", function(d, i){\n",
        "                    tooltip\n",
        "                      .style(\"top\", d3.event.pageY + this.props.voffset + \"px\")\n",
        "                      .style(\"left\",d3.event.pageX + this.props.hoffset + \"px\");\n",
        "                 }.bind(this))\n",
        "           .on(\"mouseout\",  function(d, i){\n",
        "                           tooltip.style(\"visibility\", \"hidden\");});\n",
        "    };\n",
        "    \n",
        "    mpld3.register_plugin(\"htmltooltip\", HtmlTooltipPlugin);\n",
        "    HtmlTooltipPlugin.prototype = Object.create(mpld3.Plugin.prototype);\n",
        "    HtmlTooltipPlugin.prototype.constructor = HtmlTooltipPlugin;\n",
        "    HtmlTooltipPlugin.prototype.requiredProps = [\"id\"];\n",
        "    HtmlTooltipPlugin.prototype.defaultProps = {labels:null, hoffset:0, voffset:10};\n",
        "    function HtmlTooltipPlugin(fig, props){\n",
        "        mpld3.Plugin.call(this, fig, props);\n",
        "    };\n",
        "\n",
        "    HtmlTooltipPlugin.prototype.draw = function(){\n",
        "       var obj = mpld3.get_element(this.props.id);\n",
        "       var labels = this.props.labels;\n",
        "       var tooltip = d3.select(\"body\").append(\"div\")\n",
        "                    .attr(\"class\", \"mpld3-tooltip\")\n",
        "                    .style(\"position\", \"absolute\")\n",
        "                    .style(\"z-index\", \"10\")\n",
        "                    .style(\"visibility\", \"hidden\");\n",
        "\n",
        "       obj.elements()\n",
        "           .on(\"mouseover\", function(d, i){\n",
        "                              tooltip.html(labels[i])\n",
        "                                     .style(\"visibility\", \"visible\");})\n",
        "           .on(\"mousemove\", function(d, i){\n",
        "                    tooltip\n",
        "                      .style(\"top\", d3.event.pageY + this.props.voffset + \"px\")\n",
        "                      .style(\"left\",d3.event.pageX + this.props.hoffset + \"px\");\n",
        "                 }.bind(this))\n",
        "           .on(\"mouseout\",  function(d, i){\n",
        "                           tooltip.style(\"visibility\", \"hidden\");});\n",
        "    };\n",
        "    \n",
        "    mpld3.register_plugin(\"htmltooltip\", HtmlTooltipPlugin);\n",
        "    HtmlTooltipPlugin.prototype = Object.create(mpld3.Plugin.prototype);\n",
        "    HtmlTooltipPlugin.prototype.constructor = HtmlTooltipPlugin;\n",
        "    HtmlTooltipPlugin.prototype.requiredProps = [\"id\"];\n",
        "    HtmlTooltipPlugin.prototype.defaultProps = {labels:null, hoffset:0, voffset:10};\n",
        "    function HtmlTooltipPlugin(fig, props){\n",
        "        mpld3.Plugin.call(this, fig, props);\n",
        "    };\n",
        "\n",
        "    HtmlTooltipPlugin.prototype.draw = function(){\n",
        "       var obj = mpld3.get_element(this.props.id);\n",
        "       var labels = this.props.labels;\n",
        "       var tooltip = d3.select(\"body\").append(\"div\")\n",
        "                    .attr(\"class\", \"mpld3-tooltip\")\n",
        "                    .style(\"position\", \"absolute\")\n",
        "                    .style(\"z-index\", \"10\")\n",
        "                    .style(\"visibility\", \"hidden\");\n",
        "\n",
        "       obj.elements()\n",
        "           .on(\"mouseover\", function(d, i){\n",
        "                              tooltip.html(labels[i])\n",
        "                                     .style(\"visibility\", \"visible\");})\n",
        "           .on(\"mousemove\", function(d, i){\n",
        "                    tooltip\n",
        "                      .style(\"top\", d3.event.pageY + this.props.voffset + \"px\")\n",
        "                      .style(\"left\",d3.event.pageX + this.props.hoffset + \"px\");\n",
        "                 }.bind(this))\n",
        "           .on(\"mouseout\",  function(d, i){\n",
        "                           tooltip.style(\"visibility\", \"hidden\");});\n",
        "    };\n",
        "    \n",
        "    mpld3.register_plugin(\"htmltooltip\", HtmlTooltipPlugin);\n",
        "    HtmlTooltipPlugin.prototype = Object.create(mpld3.Plugin.prototype);\n",
        "    HtmlTooltipPlugin.prototype.constructor = HtmlTooltipPlugin;\n",
        "    HtmlTooltipPlugin.prototype.requiredProps = [\"id\"];\n",
        "    HtmlTooltipPlugin.prototype.defaultProps = {labels:null, hoffset:0, voffset:10};\n",
        "    function HtmlTooltipPlugin(fig, props){\n",
        "        mpld3.Plugin.call(this, fig, props);\n",
        "    };\n",
        "\n",
        "    HtmlTooltipPlugin.prototype.draw = function(){\n",
        "       var obj = mpld3.get_element(this.props.id);\n",
        "       var labels = this.props.labels;\n",
        "       var tooltip = d3.select(\"body\").append(\"div\")\n",
        "                    .attr(\"class\", \"mpld3-tooltip\")\n",
        "                    .style(\"position\", \"absolute\")\n",
        "                    .style(\"z-index\", \"10\")\n",
        "                    .style(\"visibility\", \"hidden\");\n",
        "\n",
        "       obj.elements()\n",
        "           .on(\"mouseover\", function(d, i){\n",
        "                              tooltip.html(labels[i])\n",
        "                                     .style(\"visibility\", \"visible\");})\n",
        "           .on(\"mousemove\", function(d, i){\n",
        "                    tooltip\n",
        "                      .style(\"top\", d3.event.pageY + this.props.voffset + \"px\")\n",
        "                      .style(\"left\",d3.event.pageX + this.props.hoffset + \"px\");\n",
        "                 }.bind(this))\n",
        "           .on(\"mouseout\",  function(d, i){\n",
        "                           tooltip.style(\"visibility\", \"hidden\");});\n",
        "    };\n",
        "    \n",
        "       mpld3.draw_figure(\"fig_el14344533157456958833205\", {\"axes\": [{\"xlim\": [0.0, 100.0], \"yscale\": \"linear\", \"axesbg\": \"#FFFFFF\", \"texts\": [{\"v_baseline\": \"hanging\", \"h_anchor\": \"middle\", \"color\": \"#000000\", \"text\": \"Percentage of test instances (decreasing by probability)\", \"coordinates\": \"axes\", \"zorder\": 3, \"alpha\": 1, \"fontsize\": 14.079441541679836, \"position\": [0.5, -0.067382261518099978], \"rotation\": -0.0, \"id\": \"el14344517316112\"}, {\"v_baseline\": \"auto\", \"h_anchor\": \"middle\", \"color\": \"#000000\", \"text\": \"Profit\", \"coordinates\": \"axes\", \"zorder\": 3, \"alpha\": 1, \"fontsize\": 14.079441541679836, \"position\": [-0.13397752361487417, 0.5], \"rotation\": -90.0, \"id\": \"el14344538509904\"}, {\"v_baseline\": \"auto\", \"h_anchor\": \"middle\", \"color\": \"#000000\", \"text\": \"Profit curve for prediction of successful term deposit sale\", \"coordinates\": \"axes\", \"zorder\": 3, \"alpha\": 1, \"fontsize\": 16.079441541679834, \"position\": [0.5, 1.0712007168458781], \"rotation\": -0.0, \"id\": \"el14344538585616\"}, {\"v_baseline\": \"auto\", \"h_anchor\": \"start\", \"color\": \"#000000\", \"text\": \"None\", \"coordinates\": \"axes\", \"zorder\": 1000003.0, \"alpha\": 1, \"fontsize\": 10.0, \"position\": [-0.16129032258064516, -0.16129032258064516], \"rotation\": -0.0, \"id\": \"el14344532072656\"}, {\"v_baseline\": \"auto\", \"h_anchor\": \"start\", \"color\": \"#000000\", \"text\": \"knn\", \"coordinates\": \"axes\", \"zorder\": 1000003.0, \"alpha\": 1, \"fontsize\": 12.0, \"position\": [0.8208165322580645, 0.95564516129032262], \"rotation\": -0.0, \"id\": \"el14344448674192\"}, {\"v_baseline\": \"auto\", \"h_anchor\": \"start\", \"color\": \"#000000\", \"text\": \"gaussianNB\", \"coordinates\": \"axes\", \"zorder\": 1000003.0, \"alpha\": 1, \"fontsize\": 12.0, \"position\": [0.8208165322580645, 0.91599462365591411], \"rotation\": -0.0, \"id\": \"el14344448676880\"}, {\"v_baseline\": \"auto\", \"h_anchor\": \"start\", \"color\": \"#000000\", \"text\": \"logres\", \"coordinates\": \"axes\", \"zorder\": 1000003.0, \"alpha\": 1, \"fontsize\": 12.0, \"position\": [0.8208165322580645, 0.87634408602150538], \"rotation\": -0.0, \"id\": \"el14344532074704\"}, {\"v_baseline\": \"auto\", \"h_anchor\": \"start\", \"color\": \"#000000\", \"text\": \"baseline\", \"coordinates\": \"axes\", \"zorder\": 1000003.0, \"alpha\": 1, \"fontsize\": 12.0, \"position\": [0.8208165322580645, 0.83669354838709675], \"rotation\": -0.0, \"id\": \"el14344532072976\"}], \"zoomable\": true, \"images\": [], \"xdomain\": [0.0, 100.0], \"ylim\": [-10000.0, 15000.0], \"paths\": [{\"edgecolor\": \"#000000\", \"facecolor\": \"#FFFFFF\", \"edgewidth\": 1.0, \"pathcodes\": [\"M\", \"L\", \"L\", \"L\", \"Z\"], \"yindex\": 1, \"coordinates\": \"axes\", \"dasharray\": \"10,0\", \"zorder\": 1000001.0, \"alpha\": 1.0, \"xindex\": 0, \"data\": \"data03\", \"id\": \"el14344527326288\"}], \"sharey\": [], \"sharex\": [], \"axesbgalpha\": null, \"axes\": [{\"scale\": \"linear\", \"tickformat\": null, \"grid\": {\"color\": \"#000000\", \"alpha\": 0.3, \"dasharray\": \"2,2\", \"gridOn\": true}, \"fontsize\": 10.0, \"position\": \"bottom\", \"nticks\": 6, \"tickvalues\": null}, {\"scale\": \"linear\", \"tickformat\": null, \"grid\": {\"color\": \"#000000\", \"alpha\": 0.3, \"dasharray\": \"2,2\", \"gridOn\": true}, \"fontsize\": 10.0, \"position\": \"left\", \"nticks\": 6, \"tickvalues\": null}], \"lines\": [{\"color\": \"#0000FF\", \"yindex\": 1, \"coordinates\": \"data\", \"dasharray\": \"10,0\", \"zorder\": 2, \"alpha\": 1, \"xindex\": 0, \"linewidth\": 1.0, \"data\": \"data01\", \"id\": \"el14344532011856\"}, {\"color\": \"#007F00\", \"yindex\": 2, \"coordinates\": \"data\", \"dasharray\": \"10,0\", \"zorder\": 2, \"alpha\": 1, \"xindex\": 0, \"linewidth\": 1.0, \"data\": \"data01\", \"id\": \"el14344533596432\"}, {\"color\": \"#FF0000\", \"yindex\": 3, \"coordinates\": \"data\", \"dasharray\": \"10,0\", \"zorder\": 2, \"alpha\": 1, \"xindex\": 0, \"linewidth\": 1.0, \"data\": \"data01\", \"id\": \"el14344531997904\"}, {\"color\": \"#00BFBF\", \"yindex\": 4, \"coordinates\": \"data\", \"dasharray\": \"10,0\", \"zorder\": 2, \"alpha\": 1, \"xindex\": 0, \"linewidth\": 1.0, \"data\": \"data01\", \"id\": \"el14344538507728\"}, {\"color\": \"#0000FF\", \"yindex\": 1, \"coordinates\": \"axes\", \"dasharray\": \"10,0\", \"zorder\": 1000002.0, \"alpha\": 1, \"xindex\": 0, \"linewidth\": 1.0, \"data\": \"data02\", \"id\": \"el14344448675728\"}, {\"color\": \"#007F00\", \"yindex\": 2, \"coordinates\": \"axes\", \"dasharray\": \"10,0\", \"zorder\": 1000002.0, \"alpha\": 1, \"xindex\": 0, \"linewidth\": 1.0, \"data\": \"data02\", \"id\": \"el14344448677328\"}, {\"color\": \"#FF0000\", \"yindex\": 3, \"coordinates\": \"axes\", \"dasharray\": \"10,0\", \"zorder\": 1000002.0, \"alpha\": 1, \"xindex\": 0, \"linewidth\": 1.0, \"data\": \"data02\", \"id\": \"el14344532075600\"}, {\"color\": \"#00BFBF\", \"yindex\": 4, \"coordinates\": \"axes\", \"dasharray\": \"10,0\", \"zorder\": 1000002.0, \"alpha\": 1, \"xindex\": 0, \"linewidth\": 1.0, \"data\": \"data02\", \"id\": \"el14344532614160\"}], \"markers\": [{\"edgecolor\": \"#000000\", \"facecolor\": \"#0000FF\", \"edgewidth\": 0.5, \"yindex\": 1, \"coordinates\": \"data\", \"zorder\": 2, \"markerpath\": [[[0.0, 3.0], [0.7956093000000001, 3.0], [1.5587396123545605, 2.683901074764725], [2.121320343559643, 2.121320343559643], [2.683901074764725, 1.5587396123545605], [3.0, 0.7956093000000001], [3.0, 0.0], [3.0, -0.7956093000000001], [2.683901074764725, -1.5587396123545605], [2.121320343559643, -2.121320343559643], [1.5587396123545605, -2.683901074764725], [0.7956093000000001, -3.0], [0.0, -3.0], [-0.7956093000000001, -3.0], [-1.5587396123545605, -2.683901074764725], [-2.121320343559643, -2.121320343559643], [-2.683901074764725, -1.5587396123545605], [-3.0, -0.7956093000000001], [-3.0, 0.0], [-3.0, 0.7956093000000001], [-2.683901074764725, 1.5587396123545605], [-2.121320343559643, 2.121320343559643], [-1.5587396123545605, 2.683901074764725], [-0.7956093000000001, 3.0], [0.0, 3.0]], [\"M\", \"C\", \"C\", \"C\", \"C\", \"C\", \"C\", \"C\", \"C\", \"Z\"]], \"alpha\": 1, \"xindex\": 0, \"data\": \"data01\", \"id\": \"el14344532011856pts\"}, {\"edgecolor\": \"#000000\", \"facecolor\": \"#007F00\", \"edgewidth\": 0.5, \"yindex\": 2, \"coordinates\": \"data\", \"zorder\": 2, \"markerpath\": [[[0.0, 3.0], [0.7956093000000001, 3.0], [1.5587396123545605, 2.683901074764725], [2.121320343559643, 2.121320343559643], [2.683901074764725, 1.5587396123545605], [3.0, 0.7956093000000001], [3.0, 0.0], [3.0, -0.7956093000000001], [2.683901074764725, -1.5587396123545605], [2.121320343559643, -2.121320343559643], [1.5587396123545605, -2.683901074764725], [0.7956093000000001, -3.0], [0.0, -3.0], [-0.7956093000000001, -3.0], [-1.5587396123545605, -2.683901074764725], [-2.121320343559643, -2.121320343559643], [-2.683901074764725, -1.5587396123545605], [-3.0, -0.7956093000000001], [-3.0, 0.0], [-3.0, 0.7956093000000001], [-2.683901074764725, 1.5587396123545605], [-2.121320343559643, 2.121320343559643], [-1.5587396123545605, 2.683901074764725], [-0.7956093000000001, 3.0], [0.0, 3.0]], [\"M\", \"C\", \"C\", \"C\", \"C\", \"C\", \"C\", \"C\", \"C\", \"Z\"]], \"alpha\": 1, \"xindex\": 0, \"data\": \"data01\", \"id\": \"el14344533596432pts\"}, {\"edgecolor\": \"#000000\", \"facecolor\": \"#FF0000\", \"edgewidth\": 0.5, \"yindex\": 3, \"coordinates\": \"data\", \"zorder\": 2, \"markerpath\": [[[0.0, 3.0], [0.7956093000000001, 3.0], [1.5587396123545605, 2.683901074764725], [2.121320343559643, 2.121320343559643], [2.683901074764725, 1.5587396123545605], [3.0, 0.7956093000000001], [3.0, 0.0], [3.0, -0.7956093000000001], [2.683901074764725, -1.5587396123545605], [2.121320343559643, -2.121320343559643], [1.5587396123545605, -2.683901074764725], [0.7956093000000001, -3.0], [0.0, -3.0], [-0.7956093000000001, -3.0], [-1.5587396123545605, -2.683901074764725], [-2.121320343559643, -2.121320343559643], [-2.683901074764725, -1.5587396123545605], [-3.0, -0.7956093000000001], [-3.0, 0.0], [-3.0, 0.7956093000000001], [-2.683901074764725, 1.5587396123545605], [-2.121320343559643, 2.121320343559643], [-1.5587396123545605, 2.683901074764725], [-0.7956093000000001, 3.0], [0.0, 3.0]], [\"M\", \"C\", \"C\", \"C\", \"C\", \"C\", \"C\", \"C\", \"C\", \"Z\"]], \"alpha\": 1, \"xindex\": 0, \"data\": \"data01\", \"id\": \"el14344531997904pts\"}, {\"edgecolor\": \"#000000\", \"facecolor\": \"#00BFBF\", \"edgewidth\": 0.5, \"yindex\": 4, \"coordinates\": \"data\", \"zorder\": 2, \"markerpath\": [[[0.0, 3.0], [0.7956093000000001, 3.0], [1.5587396123545605, 2.683901074764725], [2.121320343559643, 2.121320343559643], [2.683901074764725, 1.5587396123545605], [3.0, 0.7956093000000001], [3.0, 0.0], [3.0, -0.7956093000000001], [2.683901074764725, -1.5587396123545605], [2.121320343559643, -2.121320343559643], [1.5587396123545605, -2.683901074764725], [0.7956093000000001, -3.0], [0.0, -3.0], [-0.7956093000000001, -3.0], [-1.5587396123545605, -2.683901074764725], [-2.121320343559643, -2.121320343559643], [-2.683901074764725, -1.5587396123545605], [-3.0, -0.7956093000000001], [-3.0, 0.0], [-3.0, 0.7956093000000001], [-2.683901074764725, 1.5587396123545605], [-2.121320343559643, 2.121320343559643], [-1.5587396123545605, 2.683901074764725], [-0.7956093000000001, 3.0], [0.0, 3.0]], [\"M\", \"C\", \"C\", \"C\", \"C\", \"C\", \"C\", \"C\", \"C\", \"Z\"]], \"alpha\": 1, \"xindex\": 0, \"data\": \"data01\", \"id\": \"el14344538507728pts\"}, {\"edgecolor\": \"#000000\", \"facecolor\": \"#0000FF\", \"edgewidth\": 0.5, \"yindex\": 1, \"coordinates\": \"axes\", \"zorder\": 1000002.0, \"markerpath\": [[[0.0, 3.0], [0.7956093000000001, 3.0], [1.5587396123545605, 2.683901074764725], [2.121320343559643, 2.121320343559643], [2.683901074764725, 1.5587396123545605], [3.0, 0.7956093000000001], [3.0, 0.0], [3.0, -0.7956093000000001], [2.683901074764725, -1.5587396123545605], [2.121320343559643, -2.121320343559643], [1.5587396123545605, -2.683901074764725], [0.7956093000000001, -3.0], [0.0, -3.0], [-0.7956093000000001, -3.0], [-1.5587396123545605, -2.683901074764725], [-2.121320343559643, -2.121320343559643], [-2.683901074764725, -1.5587396123545605], [-3.0, -0.7956093000000001], [-3.0, 0.0], [-3.0, 0.7956093000000001], [-2.683901074764725, 1.5587396123545605], [-2.121320343559643, 2.121320343559643], [-1.5587396123545605, 2.683901074764725], [-0.7956093000000001, 3.0], [0.0, 3.0]], [\"M\", \"C\", \"C\", \"C\", \"C\", \"C\", \"C\", \"C\", \"C\", \"Z\"]], \"alpha\": 1, \"xindex\": 0, \"data\": \"data02\", \"id\": \"el14344448677712pts\"}, {\"edgecolor\": \"#000000\", \"facecolor\": \"#007F00\", \"edgewidth\": 0.5, \"yindex\": 2, \"coordinates\": \"axes\", \"zorder\": 1000002.0, \"markerpath\": [[[0.0, 3.0], [0.7956093000000001, 3.0], [1.5587396123545605, 2.683901074764725], [2.121320343559643, 2.121320343559643], [2.683901074764725, 1.5587396123545605], [3.0, 0.7956093000000001], [3.0, 0.0], [3.0, -0.7956093000000001], [2.683901074764725, -1.5587396123545605], [2.121320343559643, -2.121320343559643], [1.5587396123545605, -2.683901074764725], [0.7956093000000001, -3.0], [0.0, -3.0], [-0.7956093000000001, -3.0], [-1.5587396123545605, -2.683901074764725], [-2.121320343559643, -2.121320343559643], [-2.683901074764725, -1.5587396123545605], [-3.0, -0.7956093000000001], [-3.0, 0.0], [-3.0, 0.7956093000000001], [-2.683901074764725, 1.5587396123545605], [-2.121320343559643, 2.121320343559643], [-1.5587396123545605, 2.683901074764725], [-0.7956093000000001, 3.0], [0.0, 3.0]], [\"M\", \"C\", \"C\", \"C\", \"C\", \"C\", \"C\", \"C\", \"C\", \"Z\"]], \"alpha\": 1, \"xindex\": 0, \"data\": \"data02\", \"id\": \"el14344532075536pts\"}, {\"edgecolor\": \"#000000\", \"facecolor\": \"#FF0000\", \"edgewidth\": 0.5, \"yindex\": 3, \"coordinates\": \"axes\", \"zorder\": 1000002.0, \"markerpath\": [[[0.0, 3.0], [0.7956093000000001, 3.0], [1.5587396123545605, 2.683901074764725], [2.121320343559643, 2.121320343559643], [2.683901074764725, 1.5587396123545605], [3.0, 0.7956093000000001], [3.0, 0.0], [3.0, -0.7956093000000001], [2.683901074764725, -1.5587396123545605], [2.121320343559643, -2.121320343559643], [1.5587396123545605, -2.683901074764725], [0.7956093000000001, -3.0], [0.0, -3.0], [-0.7956093000000001, -3.0], [-1.5587396123545605, -2.683901074764725], [-2.121320343559643, -2.121320343559643], [-2.683901074764725, -1.5587396123545605], [-3.0, -0.7956093000000001], [-3.0, 0.0], [-3.0, 0.7956093000000001], [-2.683901074764725, 1.5587396123545605], [-2.121320343559643, 2.121320343559643], [-1.5587396123545605, 2.683901074764725], [-0.7956093000000001, 3.0], [0.0, 3.0]], [\"M\", \"C\", \"C\", \"C\", \"C\", \"C\", \"C\", \"C\", \"C\", \"Z\"]], \"alpha\": 1, \"xindex\": 0, \"data\": \"data02\", \"id\": \"el14344532075984pts\"}, {\"edgecolor\": \"#000000\", \"facecolor\": \"#00BFBF\", \"edgewidth\": 0.5, \"yindex\": 4, \"coordinates\": \"axes\", \"zorder\": 1000002.0, \"markerpath\": [[[0.0, 3.0], [0.7956093000000001, 3.0], [1.5587396123545605, 2.683901074764725], [2.121320343559643, 2.121320343559643], [2.683901074764725, 1.5587396123545605], [3.0, 0.7956093000000001], [3.0, 0.0], [3.0, -0.7956093000000001], [2.683901074764725, -1.5587396123545605], [2.121320343559643, -2.121320343559643], [1.5587396123545605, -2.683901074764725], [0.7956093000000001, -3.0], [0.0, -3.0], [-0.7956093000000001, -3.0], [-1.5587396123545605, -2.683901074764725], [-2.121320343559643, -2.121320343559643], [-2.683901074764725, -1.5587396123545605], [-3.0, -0.7956093000000001], [-3.0, 0.0], [-3.0, 0.7956093000000001], [-2.683901074764725, 1.5587396123545605], [-2.121320343559643, 2.121320343559643], [-1.5587396123545605, 2.683901074764725], [-0.7956093000000001, 3.0], [0.0, 3.0]], [\"M\", \"C\", \"C\", \"C\", \"C\", \"C\", \"C\", \"C\", \"C\", \"Z\"]], \"alpha\": 1, \"xindex\": 0, \"data\": \"data02\", \"id\": \"el14344532614608pts\"}], \"id\": \"el14344527621712\", \"ydomain\": [-10000.0, 15000.0], \"collections\": [], \"xscale\": \"linear\", \"bbox\": [0.125, 0.125, 0.77500000000000002, 0.77500000000000002]}], \"height\": 640.0, \"width\": 640.0, \"plugins\": [{\"type\": \"reset\"}, {\"enabled\": false, \"button\": true, \"type\": \"zoom\"}, {\"enabled\": false, \"button\": true, \"type\": \"boxzoom\"}, {\"voffset\": 10, \"labels\": [\"<table><th colspan='2'>knn</th><tr><td>the first</td><td>0.0%</td></tr><tr><td>cum. profit</td><td>0</td></tr><tr><td>interval profit</td><td>0</td></tr></table>\", \"<table><th colspan='2'>knn</th><tr><td>the first</td><td>5.0%</td></tr><tr><td>cum. profit</td><td>6200</td></tr><tr><td>interval profit</td><td>6200</td></tr></table>\", \"<table><th colspan='2'>knn</th><tr><td>the first</td><td>10.0%</td></tr><tr><td>cum. profit</td><td>9530</td></tr><tr><td>interval profit</td><td>3330</td></tr></table>\", \"<table><th colspan='2'>knn</th><tr><td>the first</td><td>15.0%</td></tr><tr><td>cum. profit</td><td>12230</td></tr><tr><td>interval profit</td><td>2700</td></tr></table>\", \"<table><th colspan='2'>knn</th><tr><td>the first</td><td>20.0%</td></tr><tr><td>cum. profit</td><td>11780</td></tr><tr><td>interval profit</td><td>-450</td></tr></table>\", \"<table><th colspan='2'>knn</th><tr><td>the first</td><td>25.0%</td></tr><tr><td>cum. profit</td><td>11050</td></tr><tr><td>interval profit</td><td>-730</td></tr></table>\", \"<table><th colspan='2'>knn</th><tr><td>the first</td><td>30.0%</td></tr><tr><td>cum. profit</td><td>10040</td></tr><tr><td>interval profit</td><td>-1010</td></tr></table>\", \"<table><th colspan='2'>knn</th><tr><td>the first</td><td>35.0%</td></tr><tr><td>cum. profit</td><td>9100</td></tr><tr><td>interval profit</td><td>-940</td></tr></table>\", \"<table><th colspan='2'>knn</th><tr><td>the first</td><td>40.0%</td></tr><tr><td>cum. profit</td><td>8090</td></tr><tr><td>interval profit</td><td>-1010</td></tr></table>\", \"<table><th colspan='2'>knn</th><tr><td>the first</td><td>45.0%</td></tr><tr><td>cum. profit</td><td>6450</td></tr><tr><td>interval profit</td><td>-1640</td></tr></table>\", \"<table><th colspan='2'>knn</th><tr><td>the first</td><td>50.0%</td></tr><tr><td>cum. profit</td><td>5580</td></tr><tr><td>interval profit</td><td>-870</td></tr></table>\", \"<table><th colspan='2'>knn</th><tr><td>the first</td><td>55.0%</td></tr><tr><td>cum. profit</td><td>4010</td></tr><tr><td>interval profit</td><td>-1570</td></tr></table>\", \"<table><th colspan='2'>knn</th><tr><td>the first</td><td>60.0%</td></tr><tr><td>cum. profit</td><td>2440</td></tr><tr><td>interval profit</td><td>-1570</td></tr></table>\", \"<table><th colspan='2'>knn</th><tr><td>the first</td><td>65.0%</td></tr><tr><td>cum. profit</td><td>1220</td></tr><tr><td>interval profit</td><td>-1220</td></tr></table>\", \"<table><th colspan='2'>knn</th><tr><td>the first</td><td>70.0%</td></tr><tr><td>cum. profit</td><td>-490</td></tr><tr><td>interval profit</td><td>-1710</td></tr></table>\", \"<table><th colspan='2'>knn</th><tr><td>the first</td><td>75.0%</td></tr><tr><td>cum. profit</td><td>-1990</td></tr><tr><td>interval profit</td><td>-1500</td></tr></table>\", \"<table><th colspan='2'>knn</th><tr><td>the first</td><td>80.0%</td></tr><tr><td>cum. profit</td><td>-3490</td></tr><tr><td>interval profit</td><td>-1500</td></tr></table>\", \"<table><th colspan='2'>knn</th><tr><td>the first</td><td>85.0%</td></tr><tr><td>cum. profit</td><td>-4920</td></tr><tr><td>interval profit</td><td>-1430</td></tr></table>\", \"<table><th colspan='2'>knn</th><tr><td>the first</td><td>90.0%</td></tr><tr><td>cum. profit</td><td>-6350</td></tr><tr><td>interval profit</td><td>-1430</td></tr></table>\", \"<table><th colspan='2'>knn</th><tr><td>the first</td><td>95.0%</td></tr><tr><td>cum. profit</td><td>-7990</td></tr><tr><td>interval profit</td><td>-1640</td></tr></table>\", \"<table><th colspan='2'>knn</th><tr><td>the first</td><td>100.0%</td></tr><tr><td>cum. profit</td><td>-9410</td></tr><tr><td>interval profit</td><td>-1420</td></tr></table>\"], \"type\": \"htmltooltip\", \"id\": \"el14344532011856pts\", \"hoffset\": 0}, {\"voffset\": 10, \"labels\": [\"<table><th colspan='2'>gaussianNB</th><tr><td>the first</td><td>0.0%</td></tr><tr><td>cum. profit</td><td>0</td></tr><tr><td>interval profit</td><td>0</td></tr></table>\", \"<table><th colspan='2'>gaussianNB</th><tr><td>the first</td><td>5.0%</td></tr><tr><td>cum. profit</td><td>5290</td></tr><tr><td>interval profit</td><td>5290</td></tr></table>\", \"<table><th colspan='2'>gaussianNB</th><tr><td>the first</td><td>10.0%</td></tr><tr><td>cum. profit</td><td>8970</td></tr><tr><td>interval profit</td><td>3680</td></tr></table>\", \"<table><th colspan='2'>gaussianNB</th><tr><td>the first</td><td>15.0%</td></tr><tr><td>cum. profit</td><td>10270</td></tr><tr><td>interval profit</td><td>1300</td></tr></table>\", \"<table><th colspan='2'>gaussianNB</th><tr><td>the first</td><td>20.0%</td></tr><tr><td>cum. profit</td><td>10030</td></tr><tr><td>interval profit</td><td>-240</td></tr></table>\", \"<table><th colspan='2'>gaussianNB</th><tr><td>the first</td><td>25.0%</td></tr><tr><td>cum. profit</td><td>9580</td></tr><tr><td>interval profit</td><td>-450</td></tr></table>\", \"<table><th colspan='2'>gaussianNB</th><tr><td>the first</td><td>30.0%</td></tr><tr><td>cum. profit</td><td>9130</td></tr><tr><td>interval profit</td><td>-450</td></tr></table>\", \"<table><th colspan='2'>gaussianNB</th><tr><td>the first</td><td>35.0%</td></tr><tr><td>cum. profit</td><td>8260</td></tr><tr><td>interval profit</td><td>-870</td></tr></table>\", \"<table><th colspan='2'>gaussianNB</th><tr><td>the first</td><td>40.0%</td></tr><tr><td>cum. profit</td><td>7040</td></tr><tr><td>interval profit</td><td>-1220</td></tr></table>\", \"<table><th colspan='2'>gaussianNB</th><tr><td>the first</td><td>45.0%</td></tr><tr><td>cum. profit</td><td>5890</td></tr><tr><td>interval profit</td><td>-1150</td></tr></table>\", \"<table><th colspan='2'>gaussianNB</th><tr><td>the first</td><td>50.0%</td></tr><tr><td>cum. profit</td><td>5160</td></tr><tr><td>interval profit</td><td>-730</td></tr></table>\", \"<table><th colspan='2'>gaussianNB</th><tr><td>the first</td><td>55.0%</td></tr><tr><td>cum. profit</td><td>3800</td></tr><tr><td>interval profit</td><td>-1360</td></tr></table>\", \"<table><th colspan='2'>gaussianNB</th><tr><td>the first</td><td>60.0%</td></tr><tr><td>cum. profit</td><td>2090</td></tr><tr><td>interval profit</td><td>-1710</td></tr></table>\", \"<table><th colspan='2'>gaussianNB</th><tr><td>the first</td><td>65.0%</td></tr><tr><td>cum. profit</td><td>590</td></tr><tr><td>interval profit</td><td>-1500</td></tr></table>\", \"<table><th colspan='2'>gaussianNB</th><tr><td>the first</td><td>70.0%</td></tr><tr><td>cum. profit</td><td>-560</td></tr><tr><td>interval profit</td><td>-1150</td></tr></table>\", \"<table><th colspan='2'>gaussianNB</th><tr><td>the first</td><td>75.0%</td></tr><tr><td>cum. profit</td><td>-2060</td></tr><tr><td>interval profit</td><td>-1500</td></tr></table>\", \"<table><th colspan='2'>gaussianNB</th><tr><td>the first</td><td>80.0%</td></tr><tr><td>cum. profit</td><td>-3630</td></tr><tr><td>interval profit</td><td>-1570</td></tr></table>\", \"<table><th colspan='2'>gaussianNB</th><tr><td>the first</td><td>85.0%</td></tr><tr><td>cum. profit</td><td>-4850</td></tr><tr><td>interval profit</td><td>-1220</td></tr></table>\", \"<table><th colspan='2'>gaussianNB</th><tr><td>the first</td><td>90.0%</td></tr><tr><td>cum. profit</td><td>-6350</td></tr><tr><td>interval profit</td><td>-1500</td></tr></table>\", \"<table><th colspan='2'>gaussianNB</th><tr><td>the first</td><td>95.0%</td></tr><tr><td>cum. profit</td><td>-7780</td></tr><tr><td>interval profit</td><td>-1430</td></tr></table>\", \"<table><th colspan='2'>gaussianNB</th><tr><td>the first</td><td>100.0%</td></tr><tr><td>cum. profit</td><td>-9410</td></tr><tr><td>interval profit</td><td>-1630</td></tr></table>\"], \"type\": \"htmltooltip\", \"id\": \"el14344533596432pts\", \"hoffset\": 0}, {\"voffset\": 10, \"labels\": [\"<table><th colspan='2'>logres</th><tr><td>the first</td><td>0.0%</td></tr><tr><td>cum. profit</td><td>0</td></tr><tr><td>interval profit</td><td>0</td></tr></table>\", \"<table><th colspan='2'>logres</th><tr><td>the first</td><td>5.0%</td></tr><tr><td>cum. profit</td><td>6830</td></tr><tr><td>interval profit</td><td>6830</td></tr></table>\", \"<table><th colspan='2'>logres</th><tr><td>the first</td><td>10.0%</td></tr><tr><td>cum. profit</td><td>10090</td></tr><tr><td>interval profit</td><td>3260</td></tr></table>\", \"<table><th colspan='2'>logres</th><tr><td>the first</td><td>15.0%</td></tr><tr><td>cum. profit</td><td>11810</td></tr><tr><td>interval profit</td><td>1720</td></tr></table>\", \"<table><th colspan='2'>logres</th><tr><td>the first</td><td>20.0%</td></tr><tr><td>cum. profit</td><td>11150</td></tr><tr><td>interval profit</td><td>-660</td></tr></table>\", \"<table><th colspan='2'>logres</th><tr><td>the first</td><td>25.0%</td></tr><tr><td>cum. profit</td><td>10420</td></tr><tr><td>interval profit</td><td>-730</td></tr></table>\", \"<table><th colspan='2'>logres</th><tr><td>the first</td><td>30.0%</td></tr><tr><td>cum. profit</td><td>9340</td></tr><tr><td>interval profit</td><td>-1080</td></tr></table>\", \"<table><th colspan='2'>logres</th><tr><td>the first</td><td>35.0%</td></tr><tr><td>cum. profit</td><td>8890</td></tr><tr><td>interval profit</td><td>-450</td></tr></table>\", \"<table><th colspan='2'>logres</th><tr><td>the first</td><td>40.0%</td></tr><tr><td>cum. profit</td><td>7880</td></tr><tr><td>interval profit</td><td>-1010</td></tr></table>\", \"<table><th colspan='2'>logres</th><tr><td>the first</td><td>45.0%</td></tr><tr><td>cum. profit</td><td>6310</td></tr><tr><td>interval profit</td><td>-1570</td></tr></table>\", \"<table><th colspan='2'>logres</th><tr><td>the first</td><td>50.0%</td></tr><tr><td>cum. profit</td><td>5020</td></tr><tr><td>interval profit</td><td>-1290</td></tr></table>\", \"<table><th colspan='2'>logres</th><tr><td>the first</td><td>55.0%</td></tr><tr><td>cum. profit</td><td>3660</td></tr><tr><td>interval profit</td><td>-1360</td></tr></table>\", \"<table><th colspan='2'>logres</th><tr><td>the first</td><td>60.0%</td></tr><tr><td>cum. profit</td><td>2370</td></tr><tr><td>interval profit</td><td>-1290</td></tr></table>\", \"<table><th colspan='2'>logres</th><tr><td>the first</td><td>65.0%</td></tr><tr><td>cum. profit</td><td>1430</td></tr><tr><td>interval profit</td><td>-940</td></tr></table>\", \"<table><th colspan='2'>logres</th><tr><td>the first</td><td>70.0%</td></tr><tr><td>cum. profit</td><td>280</td></tr><tr><td>interval profit</td><td>-1150</td></tr></table>\", \"<table><th colspan='2'>logres</th><tr><td>the first</td><td>75.0%</td></tr><tr><td>cum. profit</td><td>-1290</td></tr><tr><td>interval profit</td><td>-1570</td></tr></table>\", \"<table><th colspan='2'>logres</th><tr><td>the first</td><td>80.0%</td></tr><tr><td>cum. profit</td><td>-2650</td></tr><tr><td>interval profit</td><td>-1360</td></tr></table>\", \"<table><th colspan='2'>logres</th><tr><td>the first</td><td>85.0%</td></tr><tr><td>cum. profit</td><td>-4360</td></tr><tr><td>interval profit</td><td>-1710</td></tr></table>\", \"<table><th colspan='2'>logres</th><tr><td>the first</td><td>90.0%</td></tr><tr><td>cum. profit</td><td>-5860</td></tr><tr><td>interval profit</td><td>-1500</td></tr></table>\", \"<table><th colspan='2'>logres</th><tr><td>the first</td><td>95.0%</td></tr><tr><td>cum. profit</td><td>-7710</td></tr><tr><td>interval profit</td><td>-1850</td></tr></table>\", \"<table><th colspan='2'>logres</th><tr><td>the first</td><td>100.0%</td></tr><tr><td>cum. profit</td><td>-9410</td></tr><tr><td>interval profit</td><td>-1700</td></tr></table>\"], \"type\": \"htmltooltip\", \"id\": \"el14344531997904pts\", \"hoffset\": 0}, {\"voffset\": 10, \"labels\": [\"<table><th colspan='2'>baseline</th><tr><td>the first</td><td>0.0%</td></tr><tr><td>cum. profit</td><td>0</td></tr><tr><td>interval profit</td><td>0</td></tr></table>\", \"<table><th colspan='2'>baseline</th><tr><td>the first</td><td>5.0%</td></tr><tr><td>cum. profit</td><td>-380</td></tr><tr><td>interval profit</td><td>-380</td></tr></table>\", \"<table><th colspan='2'>baseline</th><tr><td>the first</td><td>10.0%</td></tr><tr><td>cum. profit</td><td>-830</td></tr><tr><td>interval profit</td><td>-450</td></tr></table>\", \"<table><th colspan='2'>baseline</th><tr><td>the first</td><td>15.0%</td></tr><tr><td>cum. profit</td><td>-1420</td></tr><tr><td>interval profit</td><td>-590</td></tr></table>\", \"<table><th colspan='2'>baseline</th><tr><td>the first</td><td>20.0%</td></tr><tr><td>cum. profit</td><td>-1660</td></tr><tr><td>interval profit</td><td>-240</td></tr></table>\", \"<table><th colspan='2'>baseline</th><tr><td>the first</td><td>25.0%</td></tr><tr><td>cum. profit</td><td>-2110</td></tr><tr><td>interval profit</td><td>-450</td></tr></table>\", \"<table><th colspan='2'>baseline</th><tr><td>the first</td><td>30.0%</td></tr><tr><td>cum. profit</td><td>-2490</td></tr><tr><td>interval profit</td><td>-380</td></tr></table>\", \"<table><th colspan='2'>baseline</th><tr><td>the first</td><td>35.0%</td></tr><tr><td>cum. profit</td><td>-2940</td></tr><tr><td>interval profit</td><td>-450</td></tr></table>\", \"<table><th colspan='2'>baseline</th><tr><td>the first</td><td>40.0%</td></tr><tr><td>cum. profit</td><td>-3390</td></tr><tr><td>interval profit</td><td>-450</td></tr></table>\", \"<table><th colspan='2'>baseline</th><tr><td>the first</td><td>45.0%</td></tr><tr><td>cum. profit</td><td>-3910</td></tr><tr><td>interval profit</td><td>-520</td></tr></table>\", \"<table><th colspan='2'>baseline</th><tr><td>the first</td><td>50.0%</td></tr><tr><td>cum. profit</td><td>-4640</td></tr><tr><td>interval profit</td><td>-730</td></tr></table>\", \"<table><th colspan='2'>baseline</th><tr><td>the first</td><td>55.0%</td></tr><tr><td>cum. profit</td><td>-5300</td></tr><tr><td>interval profit</td><td>-660</td></tr></table>\", \"<table><th colspan='2'>baseline</th><tr><td>the first</td><td>60.0%</td></tr><tr><td>cum. profit</td><td>-5960</td></tr><tr><td>interval profit</td><td>-660</td></tr></table>\", \"<table><th colspan='2'>baseline</th><tr><td>the first</td><td>65.0%</td></tr><tr><td>cum. profit</td><td>-6410</td></tr><tr><td>interval profit</td><td>-450</td></tr></table>\", \"<table><th colspan='2'>baseline</th><tr><td>the first</td><td>70.0%</td></tr><tr><td>cum. profit</td><td>-6440</td></tr><tr><td>interval profit</td><td>-30</td></tr></table>\", \"<table><th colspan='2'>baseline</th><tr><td>the first</td><td>75.0%</td></tr><tr><td>cum. profit</td><td>-6750</td></tr><tr><td>interval profit</td><td>-310</td></tr></table>\", \"<table><th colspan='2'>baseline</th><tr><td>the first</td><td>80.0%</td></tr><tr><td>cum. profit</td><td>-7270</td></tr><tr><td>interval profit</td><td>-520</td></tr></table>\", \"<table><th colspan='2'>baseline</th><tr><td>the first</td><td>85.0%</td></tr><tr><td>cum. profit</td><td>-7930</td></tr><tr><td>interval profit</td><td>-660</td></tr></table>\", \"<table><th colspan='2'>baseline</th><tr><td>the first</td><td>90.0%</td></tr><tr><td>cum. profit</td><td>-8590</td></tr><tr><td>interval profit</td><td>-660</td></tr></table>\", \"<table><th colspan='2'>baseline</th><tr><td>the first</td><td>95.0%</td></tr><tr><td>cum. profit</td><td>-9250</td></tr><tr><td>interval profit</td><td>-660</td></tr></table>\", \"<table><th colspan='2'>baseline</th><tr><td>the first</td><td>100.0%</td></tr><tr><td>cum. profit</td><td>-9410</td></tr><tr><td>interval profit</td><td>-160</td></tr></table>\"], \"type\": \"htmltooltip\", \"id\": \"el14344538507728pts\", \"hoffset\": 0}], \"data\": {\"data02\": [[0.7536122311827957, 0.9650537634408602, 0.9254032258064517, 0.885752688172043, 0.8461021505376344], [0.7912466397849462, 0.9650537634408602, 0.9254032258064517, 0.885752688172043, 0.8461021505376344]], \"data03\": [[0.7347950268817205, 0.8198924731182796], [0.9865591397849464, 0.8198924731182796], [0.9865591397849464, 0.9865591397849464], [0.7347950268817205, 0.9865591397849464]], \"data01\": [[0.0, 0.0, 0.0, 0.0, 0.0], [5.0, 6200.0, 5290.0, 6830.0, -380.0], [10.0, 9530.0, 8970.0, 10090.0, -830.0], [15.0, 12230.0, 10270.0, 11810.0, -1420.0], [20.0, 11780.0, 10030.0, 11150.0, -1660.0], [25.0, 11050.0, 9580.0, 10420.0, -2110.0], [30.0, 10040.0, 9130.0, 9340.0, -2490.0], [35.0, 9100.0, 8260.0, 8890.0, -2940.0], [40.0, 8090.0, 7040.0, 7880.0, -3390.0], [45.0, 6450.0, 5890.0, 6310.0, -3910.0], [50.0, 5580.0, 5160.0, 5020.0, -4640.0], [55.00000000000001, 4010.0, 3800.0, 3660.0, -5300.0], [60.0, 2440.0, 2090.0, 2370.0, -5960.0], [65.0, 1220.0, 590.0, 1430.0, -6410.0], [70.0, -490.0, -560.0, 280.0, -6440.0], [75.0, -1990.0, -2060.0, -1290.0, -6750.0], [80.0, -3490.0, -3630.0, -2650.0, -7270.0], [85.0, -4920.0, -4850.0, -4360.0, -7930.0], [90.0, -6350.0, -6350.0, -5860.0, -8590.0], [95.0, -7990.0, -7780.0, -7710.0, -9250.0], [100.0, -9410.0, -9410.0, -9410.0, -9410.0]]}, \"id\": \"el14344533157456\"});\n",
        "   }(mpld3);\n",
        "}else if(typeof define === \"function\" && define.amd){\n",
        "   // require.js is available: use it to load d3/mpld3\n",
        "   require.config({paths: {d3: \"https://mpld3.github.io/js/d3.v3.min\"}});\n",
        "   require([\"d3\"], function(d3){\n",
        "      window.d3 = d3;\n",
        "      mpld3_load_lib(\"https://mpld3.github.io/js/mpld3.v0.2.js\", function(){\n",
        "         \n",
        "    mpld3.register_plugin(\"htmltooltip\", HtmlTooltipPlugin);\n",
        "    HtmlTooltipPlugin.prototype = Object.create(mpld3.Plugin.prototype);\n",
        "    HtmlTooltipPlugin.prototype.constructor = HtmlTooltipPlugin;\n",
        "    HtmlTooltipPlugin.prototype.requiredProps = [\"id\"];\n",
        "    HtmlTooltipPlugin.prototype.defaultProps = {labels:null, hoffset:0, voffset:10};\n",
        "    function HtmlTooltipPlugin(fig, props){\n",
        "        mpld3.Plugin.call(this, fig, props);\n",
        "    };\n",
        "\n",
        "    HtmlTooltipPlugin.prototype.draw = function(){\n",
        "       var obj = mpld3.get_element(this.props.id);\n",
        "       var labels = this.props.labels;\n",
        "       var tooltip = d3.select(\"body\").append(\"div\")\n",
        "                    .attr(\"class\", \"mpld3-tooltip\")\n",
        "                    .style(\"position\", \"absolute\")\n",
        "                    .style(\"z-index\", \"10\")\n",
        "                    .style(\"visibility\", \"hidden\");\n",
        "\n",
        "       obj.elements()\n",
        "           .on(\"mouseover\", function(d, i){\n",
        "                              tooltip.html(labels[i])\n",
        "                                     .style(\"visibility\", \"visible\");})\n",
        "           .on(\"mousemove\", function(d, i){\n",
        "                    tooltip\n",
        "                      .style(\"top\", d3.event.pageY + this.props.voffset + \"px\")\n",
        "                      .style(\"left\",d3.event.pageX + this.props.hoffset + \"px\");\n",
        "                 }.bind(this))\n",
        "           .on(\"mouseout\",  function(d, i){\n",
        "                           tooltip.style(\"visibility\", \"hidden\");});\n",
        "    };\n",
        "    \n",
        "    mpld3.register_plugin(\"htmltooltip\", HtmlTooltipPlugin);\n",
        "    HtmlTooltipPlugin.prototype = Object.create(mpld3.Plugin.prototype);\n",
        "    HtmlTooltipPlugin.prototype.constructor = HtmlTooltipPlugin;\n",
        "    HtmlTooltipPlugin.prototype.requiredProps = [\"id\"];\n",
        "    HtmlTooltipPlugin.prototype.defaultProps = {labels:null, hoffset:0, voffset:10};\n",
        "    function HtmlTooltipPlugin(fig, props){\n",
        "        mpld3.Plugin.call(this, fig, props);\n",
        "    };\n",
        "\n",
        "    HtmlTooltipPlugin.prototype.draw = function(){\n",
        "       var obj = mpld3.get_element(this.props.id);\n",
        "       var labels = this.props.labels;\n",
        "       var tooltip = d3.select(\"body\").append(\"div\")\n",
        "                    .attr(\"class\", \"mpld3-tooltip\")\n",
        "                    .style(\"position\", \"absolute\")\n",
        "                    .style(\"z-index\", \"10\")\n",
        "                    .style(\"visibility\", \"hidden\");\n",
        "\n",
        "       obj.elements()\n",
        "           .on(\"mouseover\", function(d, i){\n",
        "                              tooltip.html(labels[i])\n",
        "                                     .style(\"visibility\", \"visible\");})\n",
        "           .on(\"mousemove\", function(d, i){\n",
        "                    tooltip\n",
        "                      .style(\"top\", d3.event.pageY + this.props.voffset + \"px\")\n",
        "                      .style(\"left\",d3.event.pageX + this.props.hoffset + \"px\");\n",
        "                 }.bind(this))\n",
        "           .on(\"mouseout\",  function(d, i){\n",
        "                           tooltip.style(\"visibility\", \"hidden\");});\n",
        "    };\n",
        "    \n",
        "    mpld3.register_plugin(\"htmltooltip\", HtmlTooltipPlugin);\n",
        "    HtmlTooltipPlugin.prototype = Object.create(mpld3.Plugin.prototype);\n",
        "    HtmlTooltipPlugin.prototype.constructor = HtmlTooltipPlugin;\n",
        "    HtmlTooltipPlugin.prototype.requiredProps = [\"id\"];\n",
        "    HtmlTooltipPlugin.prototype.defaultProps = {labels:null, hoffset:0, voffset:10};\n",
        "    function HtmlTooltipPlugin(fig, props){\n",
        "        mpld3.Plugin.call(this, fig, props);\n",
        "    };\n",
        "\n",
        "    HtmlTooltipPlugin.prototype.draw = function(){\n",
        "       var obj = mpld3.get_element(this.props.id);\n",
        "       var labels = this.props.labels;\n",
        "       var tooltip = d3.select(\"body\").append(\"div\")\n",
        "                    .attr(\"class\", \"mpld3-tooltip\")\n",
        "                    .style(\"position\", \"absolute\")\n",
        "                    .style(\"z-index\", \"10\")\n",
        "                    .style(\"visibility\", \"hidden\");\n",
        "\n",
        "       obj.elements()\n",
        "           .on(\"mouseover\", function(d, i){\n",
        "                              tooltip.html(labels[i])\n",
        "                                     .style(\"visibility\", \"visible\");})\n",
        "           .on(\"mousemove\", function(d, i){\n",
        "                    tooltip\n",
        "                      .style(\"top\", d3.event.pageY + this.props.voffset + \"px\")\n",
        "                      .style(\"left\",d3.event.pageX + this.props.hoffset + \"px\");\n",
        "                 }.bind(this))\n",
        "           .on(\"mouseout\",  function(d, i){\n",
        "                           tooltip.style(\"visibility\", \"hidden\");});\n",
        "    };\n",
        "    \n",
        "    mpld3.register_plugin(\"htmltooltip\", HtmlTooltipPlugin);\n",
        "    HtmlTooltipPlugin.prototype = Object.create(mpld3.Plugin.prototype);\n",
        "    HtmlTooltipPlugin.prototype.constructor = HtmlTooltipPlugin;\n",
        "    HtmlTooltipPlugin.prototype.requiredProps = [\"id\"];\n",
        "    HtmlTooltipPlugin.prototype.defaultProps = {labels:null, hoffset:0, voffset:10};\n",
        "    function HtmlTooltipPlugin(fig, props){\n",
        "        mpld3.Plugin.call(this, fig, props);\n",
        "    };\n",
        "\n",
        "    HtmlTooltipPlugin.prototype.draw = function(){\n",
        "       var obj = mpld3.get_element(this.props.id);\n",
        "       var labels = this.props.labels;\n",
        "       var tooltip = d3.select(\"body\").append(\"div\")\n",
        "                    .attr(\"class\", \"mpld3-tooltip\")\n",
        "                    .style(\"position\", \"absolute\")\n",
        "                    .style(\"z-index\", \"10\")\n",
        "                    .style(\"visibility\", \"hidden\");\n",
        "\n",
        "       obj.elements()\n",
        "           .on(\"mouseover\", function(d, i){\n",
        "                              tooltip.html(labels[i])\n",
        "                                     .style(\"visibility\", \"visible\");})\n",
        "           .on(\"mousemove\", function(d, i){\n",
        "                    tooltip\n",
        "                      .style(\"top\", d3.event.pageY + this.props.voffset + \"px\")\n",
        "                      .style(\"left\",d3.event.pageX + this.props.hoffset + \"px\");\n",
        "                 }.bind(this))\n",
        "           .on(\"mouseout\",  function(d, i){\n",
        "                           tooltip.style(\"visibility\", \"hidden\");});\n",
        "    };\n",
        "    \n",
        "         mpld3.draw_figure(\"fig_el14344533157456958833205\", {\"axes\": [{\"xlim\": [0.0, 100.0], \"yscale\": \"linear\", \"axesbg\": \"#FFFFFF\", \"texts\": [{\"v_baseline\": \"hanging\", \"h_anchor\": \"middle\", \"color\": \"#000000\", \"text\": \"Percentage of test instances (decreasing by probability)\", \"coordinates\": \"axes\", \"zorder\": 3, \"alpha\": 1, \"fontsize\": 14.079441541679836, \"position\": [0.5, -0.067382261518099978], \"rotation\": -0.0, \"id\": \"el14344517316112\"}, {\"v_baseline\": \"auto\", \"h_anchor\": \"middle\", \"color\": \"#000000\", \"text\": \"Profit\", \"coordinates\": \"axes\", \"zorder\": 3, \"alpha\": 1, \"fontsize\": 14.079441541679836, \"position\": [-0.13397752361487417, 0.5], \"rotation\": -90.0, \"id\": \"el14344538509904\"}, {\"v_baseline\": \"auto\", \"h_anchor\": \"middle\", \"color\": \"#000000\", \"text\": \"Profit curve for prediction of successful term deposit sale\", \"coordinates\": \"axes\", \"zorder\": 3, \"alpha\": 1, \"fontsize\": 16.079441541679834, \"position\": [0.5, 1.0712007168458781], \"rotation\": -0.0, \"id\": \"el14344538585616\"}, {\"v_baseline\": \"auto\", \"h_anchor\": \"start\", \"color\": \"#000000\", \"text\": \"None\", \"coordinates\": \"axes\", \"zorder\": 1000003.0, \"alpha\": 1, \"fontsize\": 10.0, \"position\": [-0.16129032258064516, -0.16129032258064516], \"rotation\": -0.0, \"id\": \"el14344532072656\"}, {\"v_baseline\": \"auto\", \"h_anchor\": \"start\", \"color\": \"#000000\", \"text\": \"knn\", \"coordinates\": \"axes\", \"zorder\": 1000003.0, \"alpha\": 1, \"fontsize\": 12.0, \"position\": [0.8208165322580645, 0.95564516129032262], \"rotation\": -0.0, \"id\": \"el14344448674192\"}, {\"v_baseline\": \"auto\", \"h_anchor\": \"start\", \"color\": \"#000000\", \"text\": \"gaussianNB\", \"coordinates\": \"axes\", \"zorder\": 1000003.0, \"alpha\": 1, \"fontsize\": 12.0, \"position\": [0.8208165322580645, 0.91599462365591411], \"rotation\": -0.0, \"id\": \"el14344448676880\"}, {\"v_baseline\": \"auto\", \"h_anchor\": \"start\", \"color\": \"#000000\", \"text\": \"logres\", \"coordinates\": \"axes\", \"zorder\": 1000003.0, \"alpha\": 1, \"fontsize\": 12.0, \"position\": [0.8208165322580645, 0.87634408602150538], \"rotation\": -0.0, \"id\": \"el14344532074704\"}, {\"v_baseline\": \"auto\", \"h_anchor\": \"start\", \"color\": \"#000000\", \"text\": \"baseline\", \"coordinates\": \"axes\", \"zorder\": 1000003.0, \"alpha\": 1, \"fontsize\": 12.0, \"position\": [0.8208165322580645, 0.83669354838709675], \"rotation\": -0.0, \"id\": \"el14344532072976\"}], \"zoomable\": true, \"images\": [], \"xdomain\": [0.0, 100.0], \"ylim\": [-10000.0, 15000.0], \"paths\": [{\"edgecolor\": \"#000000\", \"facecolor\": \"#FFFFFF\", \"edgewidth\": 1.0, \"pathcodes\": [\"M\", \"L\", \"L\", \"L\", \"Z\"], \"yindex\": 1, \"coordinates\": \"axes\", \"dasharray\": \"10,0\", \"zorder\": 1000001.0, \"alpha\": 1.0, \"xindex\": 0, \"data\": \"data03\", \"id\": \"el14344527326288\"}], \"sharey\": [], \"sharex\": [], \"axesbgalpha\": null, \"axes\": [{\"scale\": \"linear\", \"tickformat\": null, \"grid\": {\"color\": \"#000000\", \"alpha\": 0.3, \"dasharray\": \"2,2\", \"gridOn\": true}, \"fontsize\": 10.0, \"position\": \"bottom\", \"nticks\": 6, \"tickvalues\": null}, {\"scale\": \"linear\", \"tickformat\": null, \"grid\": {\"color\": \"#000000\", \"alpha\": 0.3, \"dasharray\": \"2,2\", \"gridOn\": true}, \"fontsize\": 10.0, \"position\": \"left\", \"nticks\": 6, \"tickvalues\": null}], \"lines\": [{\"color\": \"#0000FF\", \"yindex\": 1, \"coordinates\": \"data\", \"dasharray\": \"10,0\", \"zorder\": 2, \"alpha\": 1, \"xindex\": 0, \"linewidth\": 1.0, \"data\": \"data01\", \"id\": \"el14344532011856\"}, {\"color\": \"#007F00\", \"yindex\": 2, \"coordinates\": \"data\", \"dasharray\": \"10,0\", \"zorder\": 2, \"alpha\": 1, \"xindex\": 0, \"linewidth\": 1.0, \"data\": \"data01\", \"id\": \"el14344533596432\"}, {\"color\": \"#FF0000\", \"yindex\": 3, \"coordinates\": \"data\", \"dasharray\": \"10,0\", \"zorder\": 2, \"alpha\": 1, \"xindex\": 0, \"linewidth\": 1.0, \"data\": \"data01\", \"id\": \"el14344531997904\"}, {\"color\": \"#00BFBF\", \"yindex\": 4, \"coordinates\": \"data\", \"dasharray\": \"10,0\", \"zorder\": 2, \"alpha\": 1, \"xindex\": 0, \"linewidth\": 1.0, \"data\": \"data01\", \"id\": \"el14344538507728\"}, {\"color\": \"#0000FF\", \"yindex\": 1, \"coordinates\": \"axes\", \"dasharray\": \"10,0\", \"zorder\": 1000002.0, \"alpha\": 1, \"xindex\": 0, \"linewidth\": 1.0, \"data\": \"data02\", \"id\": \"el14344448675728\"}, {\"color\": \"#007F00\", \"yindex\": 2, \"coordinates\": \"axes\", \"dasharray\": \"10,0\", \"zorder\": 1000002.0, \"alpha\": 1, \"xindex\": 0, \"linewidth\": 1.0, \"data\": \"data02\", \"id\": \"el14344448677328\"}, {\"color\": \"#FF0000\", \"yindex\": 3, \"coordinates\": \"axes\", \"dasharray\": \"10,0\", \"zorder\": 1000002.0, \"alpha\": 1, \"xindex\": 0, \"linewidth\": 1.0, \"data\": \"data02\", \"id\": \"el14344532075600\"}, {\"color\": \"#00BFBF\", \"yindex\": 4, \"coordinates\": \"axes\", \"dasharray\": \"10,0\", \"zorder\": 1000002.0, \"alpha\": 1, \"xindex\": 0, \"linewidth\": 1.0, \"data\": \"data02\", \"id\": \"el14344532614160\"}], \"markers\": [{\"edgecolor\": \"#000000\", \"facecolor\": \"#0000FF\", \"edgewidth\": 0.5, \"yindex\": 1, \"coordinates\": \"data\", \"zorder\": 2, \"markerpath\": [[[0.0, 3.0], [0.7956093000000001, 3.0], [1.5587396123545605, 2.683901074764725], [2.121320343559643, 2.121320343559643], [2.683901074764725, 1.5587396123545605], [3.0, 0.7956093000000001], [3.0, 0.0], [3.0, -0.7956093000000001], [2.683901074764725, -1.5587396123545605], [2.121320343559643, -2.121320343559643], [1.5587396123545605, -2.683901074764725], [0.7956093000000001, -3.0], [0.0, -3.0], [-0.7956093000000001, -3.0], [-1.5587396123545605, -2.683901074764725], [-2.121320343559643, -2.121320343559643], [-2.683901074764725, -1.5587396123545605], [-3.0, -0.7956093000000001], [-3.0, 0.0], [-3.0, 0.7956093000000001], [-2.683901074764725, 1.5587396123545605], [-2.121320343559643, 2.121320343559643], [-1.5587396123545605, 2.683901074764725], [-0.7956093000000001, 3.0], [0.0, 3.0]], [\"M\", \"C\", \"C\", \"C\", \"C\", \"C\", \"C\", \"C\", \"C\", \"Z\"]], \"alpha\": 1, \"xindex\": 0, \"data\": \"data01\", \"id\": \"el14344532011856pts\"}, {\"edgecolor\": \"#000000\", \"facecolor\": \"#007F00\", \"edgewidth\": 0.5, \"yindex\": 2, \"coordinates\": \"data\", \"zorder\": 2, \"markerpath\": [[[0.0, 3.0], [0.7956093000000001, 3.0], [1.5587396123545605, 2.683901074764725], [2.121320343559643, 2.121320343559643], [2.683901074764725, 1.5587396123545605], [3.0, 0.7956093000000001], [3.0, 0.0], [3.0, -0.7956093000000001], [2.683901074764725, -1.5587396123545605], [2.121320343559643, -2.121320343559643], [1.5587396123545605, -2.683901074764725], [0.7956093000000001, -3.0], [0.0, -3.0], [-0.7956093000000001, -3.0], [-1.5587396123545605, -2.683901074764725], [-2.121320343559643, -2.121320343559643], [-2.683901074764725, -1.5587396123545605], [-3.0, -0.7956093000000001], [-3.0, 0.0], [-3.0, 0.7956093000000001], [-2.683901074764725, 1.5587396123545605], [-2.121320343559643, 2.121320343559643], [-1.5587396123545605, 2.683901074764725], [-0.7956093000000001, 3.0], [0.0, 3.0]], [\"M\", \"C\", \"C\", \"C\", \"C\", \"C\", \"C\", \"C\", \"C\", \"Z\"]], \"alpha\": 1, \"xindex\": 0, \"data\": \"data01\", \"id\": \"el14344533596432pts\"}, {\"edgecolor\": \"#000000\", \"facecolor\": \"#FF0000\", \"edgewidth\": 0.5, \"yindex\": 3, \"coordinates\": \"data\", \"zorder\": 2, \"markerpath\": [[[0.0, 3.0], [0.7956093000000001, 3.0], [1.5587396123545605, 2.683901074764725], [2.121320343559643, 2.121320343559643], [2.683901074764725, 1.5587396123545605], [3.0, 0.7956093000000001], [3.0, 0.0], [3.0, -0.7956093000000001], [2.683901074764725, -1.5587396123545605], [2.121320343559643, -2.121320343559643], [1.5587396123545605, -2.683901074764725], [0.7956093000000001, -3.0], [0.0, -3.0], [-0.7956093000000001, -3.0], [-1.5587396123545605, -2.683901074764725], [-2.121320343559643, -2.121320343559643], [-2.683901074764725, -1.5587396123545605], [-3.0, -0.7956093000000001], [-3.0, 0.0], [-3.0, 0.7956093000000001], [-2.683901074764725, 1.5587396123545605], [-2.121320343559643, 2.121320343559643], [-1.5587396123545605, 2.683901074764725], [-0.7956093000000001, 3.0], [0.0, 3.0]], [\"M\", \"C\", \"C\", \"C\", \"C\", \"C\", \"C\", \"C\", \"C\", \"Z\"]], \"alpha\": 1, \"xindex\": 0, \"data\": \"data01\", \"id\": \"el14344531997904pts\"}, {\"edgecolor\": \"#000000\", \"facecolor\": \"#00BFBF\", \"edgewidth\": 0.5, \"yindex\": 4, \"coordinates\": \"data\", \"zorder\": 2, \"markerpath\": [[[0.0, 3.0], [0.7956093000000001, 3.0], [1.5587396123545605, 2.683901074764725], [2.121320343559643, 2.121320343559643], [2.683901074764725, 1.5587396123545605], [3.0, 0.7956093000000001], [3.0, 0.0], [3.0, -0.7956093000000001], [2.683901074764725, -1.5587396123545605], [2.121320343559643, -2.121320343559643], [1.5587396123545605, -2.683901074764725], [0.7956093000000001, -3.0], [0.0, -3.0], [-0.7956093000000001, -3.0], [-1.5587396123545605, -2.683901074764725], [-2.121320343559643, -2.121320343559643], [-2.683901074764725, -1.5587396123545605], [-3.0, -0.7956093000000001], [-3.0, 0.0], [-3.0, 0.7956093000000001], [-2.683901074764725, 1.5587396123545605], [-2.121320343559643, 2.121320343559643], [-1.5587396123545605, 2.683901074764725], [-0.7956093000000001, 3.0], [0.0, 3.0]], [\"M\", \"C\", \"C\", \"C\", \"C\", \"C\", \"C\", \"C\", \"C\", \"Z\"]], \"alpha\": 1, \"xindex\": 0, \"data\": \"data01\", \"id\": \"el14344538507728pts\"}, {\"edgecolor\": \"#000000\", \"facecolor\": \"#0000FF\", \"edgewidth\": 0.5, \"yindex\": 1, \"coordinates\": \"axes\", \"zorder\": 1000002.0, \"markerpath\": [[[0.0, 3.0], [0.7956093000000001, 3.0], [1.5587396123545605, 2.683901074764725], [2.121320343559643, 2.121320343559643], [2.683901074764725, 1.5587396123545605], [3.0, 0.7956093000000001], [3.0, 0.0], [3.0, -0.7956093000000001], [2.683901074764725, -1.5587396123545605], [2.121320343559643, -2.121320343559643], [1.5587396123545605, -2.683901074764725], [0.7956093000000001, -3.0], [0.0, -3.0], [-0.7956093000000001, -3.0], [-1.5587396123545605, -2.683901074764725], [-2.121320343559643, -2.121320343559643], [-2.683901074764725, -1.5587396123545605], [-3.0, -0.7956093000000001], [-3.0, 0.0], [-3.0, 0.7956093000000001], [-2.683901074764725, 1.5587396123545605], [-2.121320343559643, 2.121320343559643], [-1.5587396123545605, 2.683901074764725], [-0.7956093000000001, 3.0], [0.0, 3.0]], [\"M\", \"C\", \"C\", \"C\", \"C\", \"C\", \"C\", \"C\", \"C\", \"Z\"]], \"alpha\": 1, \"xindex\": 0, \"data\": \"data02\", \"id\": \"el14344448677712pts\"}, {\"edgecolor\": \"#000000\", \"facecolor\": \"#007F00\", \"edgewidth\": 0.5, \"yindex\": 2, \"coordinates\": \"axes\", \"zorder\": 1000002.0, \"markerpath\": [[[0.0, 3.0], [0.7956093000000001, 3.0], [1.5587396123545605, 2.683901074764725], [2.121320343559643, 2.121320343559643], [2.683901074764725, 1.5587396123545605], [3.0, 0.7956093000000001], [3.0, 0.0], [3.0, -0.7956093000000001], [2.683901074764725, -1.5587396123545605], [2.121320343559643, -2.121320343559643], [1.5587396123545605, -2.683901074764725], [0.7956093000000001, -3.0], [0.0, -3.0], [-0.7956093000000001, -3.0], [-1.5587396123545605, -2.683901074764725], [-2.121320343559643, -2.121320343559643], [-2.683901074764725, -1.5587396123545605], [-3.0, -0.7956093000000001], [-3.0, 0.0], [-3.0, 0.7956093000000001], [-2.683901074764725, 1.5587396123545605], [-2.121320343559643, 2.121320343559643], [-1.5587396123545605, 2.683901074764725], [-0.7956093000000001, 3.0], [0.0, 3.0]], [\"M\", \"C\", \"C\", \"C\", \"C\", \"C\", \"C\", \"C\", \"C\", \"Z\"]], \"alpha\": 1, \"xindex\": 0, \"data\": \"data02\", \"id\": \"el14344532075536pts\"}, {\"edgecolor\": \"#000000\", \"facecolor\": \"#FF0000\", \"edgewidth\": 0.5, \"yindex\": 3, \"coordinates\": \"axes\", \"zorder\": 1000002.0, \"markerpath\": [[[0.0, 3.0], [0.7956093000000001, 3.0], [1.5587396123545605, 2.683901074764725], [2.121320343559643, 2.121320343559643], [2.683901074764725, 1.5587396123545605], [3.0, 0.7956093000000001], [3.0, 0.0], [3.0, -0.7956093000000001], [2.683901074764725, -1.5587396123545605], [2.121320343559643, -2.121320343559643], [1.5587396123545605, -2.683901074764725], [0.7956093000000001, -3.0], [0.0, -3.0], [-0.7956093000000001, -3.0], [-1.5587396123545605, -2.683901074764725], [-2.121320343559643, -2.121320343559643], [-2.683901074764725, -1.5587396123545605], [-3.0, -0.7956093000000001], [-3.0, 0.0], [-3.0, 0.7956093000000001], [-2.683901074764725, 1.5587396123545605], [-2.121320343559643, 2.121320343559643], [-1.5587396123545605, 2.683901074764725], [-0.7956093000000001, 3.0], [0.0, 3.0]], [\"M\", \"C\", \"C\", \"C\", \"C\", \"C\", \"C\", \"C\", \"C\", \"Z\"]], \"alpha\": 1, \"xindex\": 0, \"data\": \"data02\", \"id\": \"el14344532075984pts\"}, {\"edgecolor\": \"#000000\", \"facecolor\": \"#00BFBF\", \"edgewidth\": 0.5, \"yindex\": 4, \"coordinates\": \"axes\", \"zorder\": 1000002.0, \"markerpath\": [[[0.0, 3.0], [0.7956093000000001, 3.0], [1.5587396123545605, 2.683901074764725], [2.121320343559643, 2.121320343559643], [2.683901074764725, 1.5587396123545605], [3.0, 0.7956093000000001], [3.0, 0.0], [3.0, -0.7956093000000001], [2.683901074764725, -1.5587396123545605], [2.121320343559643, -2.121320343559643], [1.5587396123545605, -2.683901074764725], [0.7956093000000001, -3.0], [0.0, -3.0], [-0.7956093000000001, -3.0], [-1.5587396123545605, -2.683901074764725], [-2.121320343559643, -2.121320343559643], [-2.683901074764725, -1.5587396123545605], [-3.0, -0.7956093000000001], [-3.0, 0.0], [-3.0, 0.7956093000000001], [-2.683901074764725, 1.5587396123545605], [-2.121320343559643, 2.121320343559643], [-1.5587396123545605, 2.683901074764725], [-0.7956093000000001, 3.0], [0.0, 3.0]], [\"M\", \"C\", \"C\", \"C\", \"C\", \"C\", \"C\", \"C\", \"C\", \"Z\"]], \"alpha\": 1, \"xindex\": 0, \"data\": \"data02\", \"id\": \"el14344532614608pts\"}], \"id\": \"el14344527621712\", \"ydomain\": [-10000.0, 15000.0], \"collections\": [], \"xscale\": \"linear\", \"bbox\": [0.125, 0.125, 0.77500000000000002, 0.77500000000000002]}], \"height\": 640.0, \"width\": 640.0, \"plugins\": [{\"type\": \"reset\"}, {\"enabled\": false, \"button\": true, \"type\": \"zoom\"}, {\"enabled\": false, \"button\": true, \"type\": \"boxzoom\"}, {\"voffset\": 10, \"labels\": [\"<table><th colspan='2'>knn</th><tr><td>the first</td><td>0.0%</td></tr><tr><td>cum. profit</td><td>0</td></tr><tr><td>interval profit</td><td>0</td></tr></table>\", \"<table><th colspan='2'>knn</th><tr><td>the first</td><td>5.0%</td></tr><tr><td>cum. profit</td><td>6200</td></tr><tr><td>interval profit</td><td>6200</td></tr></table>\", \"<table><th colspan='2'>knn</th><tr><td>the first</td><td>10.0%</td></tr><tr><td>cum. profit</td><td>9530</td></tr><tr><td>interval profit</td><td>3330</td></tr></table>\", \"<table><th colspan='2'>knn</th><tr><td>the first</td><td>15.0%</td></tr><tr><td>cum. profit</td><td>12230</td></tr><tr><td>interval profit</td><td>2700</td></tr></table>\", \"<table><th colspan='2'>knn</th><tr><td>the first</td><td>20.0%</td></tr><tr><td>cum. profit</td><td>11780</td></tr><tr><td>interval profit</td><td>-450</td></tr></table>\", \"<table><th colspan='2'>knn</th><tr><td>the first</td><td>25.0%</td></tr><tr><td>cum. profit</td><td>11050</td></tr><tr><td>interval profit</td><td>-730</td></tr></table>\", \"<table><th colspan='2'>knn</th><tr><td>the first</td><td>30.0%</td></tr><tr><td>cum. profit</td><td>10040</td></tr><tr><td>interval profit</td><td>-1010</td></tr></table>\", \"<table><th colspan='2'>knn</th><tr><td>the first</td><td>35.0%</td></tr><tr><td>cum. profit</td><td>9100</td></tr><tr><td>interval profit</td><td>-940</td></tr></table>\", \"<table><th colspan='2'>knn</th><tr><td>the first</td><td>40.0%</td></tr><tr><td>cum. profit</td><td>8090</td></tr><tr><td>interval profit</td><td>-1010</td></tr></table>\", \"<table><th colspan='2'>knn</th><tr><td>the first</td><td>45.0%</td></tr><tr><td>cum. profit</td><td>6450</td></tr><tr><td>interval profit</td><td>-1640</td></tr></table>\", \"<table><th colspan='2'>knn</th><tr><td>the first</td><td>50.0%</td></tr><tr><td>cum. profit</td><td>5580</td></tr><tr><td>interval profit</td><td>-870</td></tr></table>\", \"<table><th colspan='2'>knn</th><tr><td>the first</td><td>55.0%</td></tr><tr><td>cum. profit</td><td>4010</td></tr><tr><td>interval profit</td><td>-1570</td></tr></table>\", \"<table><th colspan='2'>knn</th><tr><td>the first</td><td>60.0%</td></tr><tr><td>cum. profit</td><td>2440</td></tr><tr><td>interval profit</td><td>-1570</td></tr></table>\", \"<table><th colspan='2'>knn</th><tr><td>the first</td><td>65.0%</td></tr><tr><td>cum. profit</td><td>1220</td></tr><tr><td>interval profit</td><td>-1220</td></tr></table>\", \"<table><th colspan='2'>knn</th><tr><td>the first</td><td>70.0%</td></tr><tr><td>cum. profit</td><td>-490</td></tr><tr><td>interval profit</td><td>-1710</td></tr></table>\", \"<table><th colspan='2'>knn</th><tr><td>the first</td><td>75.0%</td></tr><tr><td>cum. profit</td><td>-1990</td></tr><tr><td>interval profit</td><td>-1500</td></tr></table>\", \"<table><th colspan='2'>knn</th><tr><td>the first</td><td>80.0%</td></tr><tr><td>cum. profit</td><td>-3490</td></tr><tr><td>interval profit</td><td>-1500</td></tr></table>\", \"<table><th colspan='2'>knn</th><tr><td>the first</td><td>85.0%</td></tr><tr><td>cum. profit</td><td>-4920</td></tr><tr><td>interval profit</td><td>-1430</td></tr></table>\", \"<table><th colspan='2'>knn</th><tr><td>the first</td><td>90.0%</td></tr><tr><td>cum. profit</td><td>-6350</td></tr><tr><td>interval profit</td><td>-1430</td></tr></table>\", \"<table><th colspan='2'>knn</th><tr><td>the first</td><td>95.0%</td></tr><tr><td>cum. profit</td><td>-7990</td></tr><tr><td>interval profit</td><td>-1640</td></tr></table>\", \"<table><th colspan='2'>knn</th><tr><td>the first</td><td>100.0%</td></tr><tr><td>cum. profit</td><td>-9410</td></tr><tr><td>interval profit</td><td>-1420</td></tr></table>\"], \"type\": \"htmltooltip\", \"id\": \"el14344532011856pts\", \"hoffset\": 0}, {\"voffset\": 10, \"labels\": [\"<table><th colspan='2'>gaussianNB</th><tr><td>the first</td><td>0.0%</td></tr><tr><td>cum. profit</td><td>0</td></tr><tr><td>interval profit</td><td>0</td></tr></table>\", \"<table><th colspan='2'>gaussianNB</th><tr><td>the first</td><td>5.0%</td></tr><tr><td>cum. profit</td><td>5290</td></tr><tr><td>interval profit</td><td>5290</td></tr></table>\", \"<table><th colspan='2'>gaussianNB</th><tr><td>the first</td><td>10.0%</td></tr><tr><td>cum. profit</td><td>8970</td></tr><tr><td>interval profit</td><td>3680</td></tr></table>\", \"<table><th colspan='2'>gaussianNB</th><tr><td>the first</td><td>15.0%</td></tr><tr><td>cum. profit</td><td>10270</td></tr><tr><td>interval profit</td><td>1300</td></tr></table>\", \"<table><th colspan='2'>gaussianNB</th><tr><td>the first</td><td>20.0%</td></tr><tr><td>cum. profit</td><td>10030</td></tr><tr><td>interval profit</td><td>-240</td></tr></table>\", \"<table><th colspan='2'>gaussianNB</th><tr><td>the first</td><td>25.0%</td></tr><tr><td>cum. profit</td><td>9580</td></tr><tr><td>interval profit</td><td>-450</td></tr></table>\", \"<table><th colspan='2'>gaussianNB</th><tr><td>the first</td><td>30.0%</td></tr><tr><td>cum. profit</td><td>9130</td></tr><tr><td>interval profit</td><td>-450</td></tr></table>\", \"<table><th colspan='2'>gaussianNB</th><tr><td>the first</td><td>35.0%</td></tr><tr><td>cum. profit</td><td>8260</td></tr><tr><td>interval profit</td><td>-870</td></tr></table>\", \"<table><th colspan='2'>gaussianNB</th><tr><td>the first</td><td>40.0%</td></tr><tr><td>cum. profit</td><td>7040</td></tr><tr><td>interval profit</td><td>-1220</td></tr></table>\", \"<table><th colspan='2'>gaussianNB</th><tr><td>the first</td><td>45.0%</td></tr><tr><td>cum. profit</td><td>5890</td></tr><tr><td>interval profit</td><td>-1150</td></tr></table>\", \"<table><th colspan='2'>gaussianNB</th><tr><td>the first</td><td>50.0%</td></tr><tr><td>cum. profit</td><td>5160</td></tr><tr><td>interval profit</td><td>-730</td></tr></table>\", \"<table><th colspan='2'>gaussianNB</th><tr><td>the first</td><td>55.0%</td></tr><tr><td>cum. profit</td><td>3800</td></tr><tr><td>interval profit</td><td>-1360</td></tr></table>\", \"<table><th colspan='2'>gaussianNB</th><tr><td>the first</td><td>60.0%</td></tr><tr><td>cum. profit</td><td>2090</td></tr><tr><td>interval profit</td><td>-1710</td></tr></table>\", \"<table><th colspan='2'>gaussianNB</th><tr><td>the first</td><td>65.0%</td></tr><tr><td>cum. profit</td><td>590</td></tr><tr><td>interval profit</td><td>-1500</td></tr></table>\", \"<table><th colspan='2'>gaussianNB</th><tr><td>the first</td><td>70.0%</td></tr><tr><td>cum. profit</td><td>-560</td></tr><tr><td>interval profit</td><td>-1150</td></tr></table>\", \"<table><th colspan='2'>gaussianNB</th><tr><td>the first</td><td>75.0%</td></tr><tr><td>cum. profit</td><td>-2060</td></tr><tr><td>interval profit</td><td>-1500</td></tr></table>\", \"<table><th colspan='2'>gaussianNB</th><tr><td>the first</td><td>80.0%</td></tr><tr><td>cum. profit</td><td>-3630</td></tr><tr><td>interval profit</td><td>-1570</td></tr></table>\", \"<table><th colspan='2'>gaussianNB</th><tr><td>the first</td><td>85.0%</td></tr><tr><td>cum. profit</td><td>-4850</td></tr><tr><td>interval profit</td><td>-1220</td></tr></table>\", \"<table><th colspan='2'>gaussianNB</th><tr><td>the first</td><td>90.0%</td></tr><tr><td>cum. profit</td><td>-6350</td></tr><tr><td>interval profit</td><td>-1500</td></tr></table>\", \"<table><th colspan='2'>gaussianNB</th><tr><td>the first</td><td>95.0%</td></tr><tr><td>cum. profit</td><td>-7780</td></tr><tr><td>interval profit</td><td>-1430</td></tr></table>\", \"<table><th colspan='2'>gaussianNB</th><tr><td>the first</td><td>100.0%</td></tr><tr><td>cum. profit</td><td>-9410</td></tr><tr><td>interval profit</td><td>-1630</td></tr></table>\"], \"type\": \"htmltooltip\", \"id\": \"el14344533596432pts\", \"hoffset\": 0}, {\"voffset\": 10, \"labels\": [\"<table><th colspan='2'>logres</th><tr><td>the first</td><td>0.0%</td></tr><tr><td>cum. profit</td><td>0</td></tr><tr><td>interval profit</td><td>0</td></tr></table>\", \"<table><th colspan='2'>logres</th><tr><td>the first</td><td>5.0%</td></tr><tr><td>cum. profit</td><td>6830</td></tr><tr><td>interval profit</td><td>6830</td></tr></table>\", \"<table><th colspan='2'>logres</th><tr><td>the first</td><td>10.0%</td></tr><tr><td>cum. profit</td><td>10090</td></tr><tr><td>interval profit</td><td>3260</td></tr></table>\", \"<table><th colspan='2'>logres</th><tr><td>the first</td><td>15.0%</td></tr><tr><td>cum. profit</td><td>11810</td></tr><tr><td>interval profit</td><td>1720</td></tr></table>\", \"<table><th colspan='2'>logres</th><tr><td>the first</td><td>20.0%</td></tr><tr><td>cum. profit</td><td>11150</td></tr><tr><td>interval profit</td><td>-660</td></tr></table>\", \"<table><th colspan='2'>logres</th><tr><td>the first</td><td>25.0%</td></tr><tr><td>cum. profit</td><td>10420</td></tr><tr><td>interval profit</td><td>-730</td></tr></table>\", \"<table><th colspan='2'>logres</th><tr><td>the first</td><td>30.0%</td></tr><tr><td>cum. profit</td><td>9340</td></tr><tr><td>interval profit</td><td>-1080</td></tr></table>\", \"<table><th colspan='2'>logres</th><tr><td>the first</td><td>35.0%</td></tr><tr><td>cum. profit</td><td>8890</td></tr><tr><td>interval profit</td><td>-450</td></tr></table>\", \"<table><th colspan='2'>logres</th><tr><td>the first</td><td>40.0%</td></tr><tr><td>cum. profit</td><td>7880</td></tr><tr><td>interval profit</td><td>-1010</td></tr></table>\", \"<table><th colspan='2'>logres</th><tr><td>the first</td><td>45.0%</td></tr><tr><td>cum. profit</td><td>6310</td></tr><tr><td>interval profit</td><td>-1570</td></tr></table>\", \"<table><th colspan='2'>logres</th><tr><td>the first</td><td>50.0%</td></tr><tr><td>cum. profit</td><td>5020</td></tr><tr><td>interval profit</td><td>-1290</td></tr></table>\", \"<table><th colspan='2'>logres</th><tr><td>the first</td><td>55.0%</td></tr><tr><td>cum. profit</td><td>3660</td></tr><tr><td>interval profit</td><td>-1360</td></tr></table>\", \"<table><th colspan='2'>logres</th><tr><td>the first</td><td>60.0%</td></tr><tr><td>cum. profit</td><td>2370</td></tr><tr><td>interval profit</td><td>-1290</td></tr></table>\", \"<table><th colspan='2'>logres</th><tr><td>the first</td><td>65.0%</td></tr><tr><td>cum. profit</td><td>1430</td></tr><tr><td>interval profit</td><td>-940</td></tr></table>\", \"<table><th colspan='2'>logres</th><tr><td>the first</td><td>70.0%</td></tr><tr><td>cum. profit</td><td>280</td></tr><tr><td>interval profit</td><td>-1150</td></tr></table>\", \"<table><th colspan='2'>logres</th><tr><td>the first</td><td>75.0%</td></tr><tr><td>cum. profit</td><td>-1290</td></tr><tr><td>interval profit</td><td>-1570</td></tr></table>\", \"<table><th colspan='2'>logres</th><tr><td>the first</td><td>80.0%</td></tr><tr><td>cum. profit</td><td>-2650</td></tr><tr><td>interval profit</td><td>-1360</td></tr></table>\", \"<table><th colspan='2'>logres</th><tr><td>the first</td><td>85.0%</td></tr><tr><td>cum. profit</td><td>-4360</td></tr><tr><td>interval profit</td><td>-1710</td></tr></table>\", \"<table><th colspan='2'>logres</th><tr><td>the first</td><td>90.0%</td></tr><tr><td>cum. profit</td><td>-5860</td></tr><tr><td>interval profit</td><td>-1500</td></tr></table>\", \"<table><th colspan='2'>logres</th><tr><td>the first</td><td>95.0%</td></tr><tr><td>cum. profit</td><td>-7710</td></tr><tr><td>interval profit</td><td>-1850</td></tr></table>\", \"<table><th colspan='2'>logres</th><tr><td>the first</td><td>100.0%</td></tr><tr><td>cum. profit</td><td>-9410</td></tr><tr><td>interval profit</td><td>-1700</td></tr></table>\"], \"type\": \"htmltooltip\", \"id\": \"el14344531997904pts\", \"hoffset\": 0}, {\"voffset\": 10, \"labels\": [\"<table><th colspan='2'>baseline</th><tr><td>the first</td><td>0.0%</td></tr><tr><td>cum. profit</td><td>0</td></tr><tr><td>interval profit</td><td>0</td></tr></table>\", \"<table><th colspan='2'>baseline</th><tr><td>the first</td><td>5.0%</td></tr><tr><td>cum. profit</td><td>-380</td></tr><tr><td>interval profit</td><td>-380</td></tr></table>\", \"<table><th colspan='2'>baseline</th><tr><td>the first</td><td>10.0%</td></tr><tr><td>cum. profit</td><td>-830</td></tr><tr><td>interval profit</td><td>-450</td></tr></table>\", \"<table><th colspan='2'>baseline</th><tr><td>the first</td><td>15.0%</td></tr><tr><td>cum. profit</td><td>-1420</td></tr><tr><td>interval profit</td><td>-590</td></tr></table>\", \"<table><th colspan='2'>baseline</th><tr><td>the first</td><td>20.0%</td></tr><tr><td>cum. profit</td><td>-1660</td></tr><tr><td>interval profit</td><td>-240</td></tr></table>\", \"<table><th colspan='2'>baseline</th><tr><td>the first</td><td>25.0%</td></tr><tr><td>cum. profit</td><td>-2110</td></tr><tr><td>interval profit</td><td>-450</td></tr></table>\", \"<table><th colspan='2'>baseline</th><tr><td>the first</td><td>30.0%</td></tr><tr><td>cum. profit</td><td>-2490</td></tr><tr><td>interval profit</td><td>-380</td></tr></table>\", \"<table><th colspan='2'>baseline</th><tr><td>the first</td><td>35.0%</td></tr><tr><td>cum. profit</td><td>-2940</td></tr><tr><td>interval profit</td><td>-450</td></tr></table>\", \"<table><th colspan='2'>baseline</th><tr><td>the first</td><td>40.0%</td></tr><tr><td>cum. profit</td><td>-3390</td></tr><tr><td>interval profit</td><td>-450</td></tr></table>\", \"<table><th colspan='2'>baseline</th><tr><td>the first</td><td>45.0%</td></tr><tr><td>cum. profit</td><td>-3910</td></tr><tr><td>interval profit</td><td>-520</td></tr></table>\", \"<table><th colspan='2'>baseline</th><tr><td>the first</td><td>50.0%</td></tr><tr><td>cum. profit</td><td>-4640</td></tr><tr><td>interval profit</td><td>-730</td></tr></table>\", \"<table><th colspan='2'>baseline</th><tr><td>the first</td><td>55.0%</td></tr><tr><td>cum. profit</td><td>-5300</td></tr><tr><td>interval profit</td><td>-660</td></tr></table>\", \"<table><th colspan='2'>baseline</th><tr><td>the first</td><td>60.0%</td></tr><tr><td>cum. profit</td><td>-5960</td></tr><tr><td>interval profit</td><td>-660</td></tr></table>\", \"<table><th colspan='2'>baseline</th><tr><td>the first</td><td>65.0%</td></tr><tr><td>cum. profit</td><td>-6410</td></tr><tr><td>interval profit</td><td>-450</td></tr></table>\", \"<table><th colspan='2'>baseline</th><tr><td>the first</td><td>70.0%</td></tr><tr><td>cum. profit</td><td>-6440</td></tr><tr><td>interval profit</td><td>-30</td></tr></table>\", \"<table><th colspan='2'>baseline</th><tr><td>the first</td><td>75.0%</td></tr><tr><td>cum. profit</td><td>-6750</td></tr><tr><td>interval profit</td><td>-310</td></tr></table>\", \"<table><th colspan='2'>baseline</th><tr><td>the first</td><td>80.0%</td></tr><tr><td>cum. profit</td><td>-7270</td></tr><tr><td>interval profit</td><td>-520</td></tr></table>\", \"<table><th colspan='2'>baseline</th><tr><td>the first</td><td>85.0%</td></tr><tr><td>cum. profit</td><td>-7930</td></tr><tr><td>interval profit</td><td>-660</td></tr></table>\", \"<table><th colspan='2'>baseline</th><tr><td>the first</td><td>90.0%</td></tr><tr><td>cum. profit</td><td>-8590</td></tr><tr><td>interval profit</td><td>-660</td></tr></table>\", \"<table><th colspan='2'>baseline</th><tr><td>the first</td><td>95.0%</td></tr><tr><td>cum. profit</td><td>-9250</td></tr><tr><td>interval profit</td><td>-660</td></tr></table>\", \"<table><th colspan='2'>baseline</th><tr><td>the first</td><td>100.0%</td></tr><tr><td>cum. profit</td><td>-9410</td></tr><tr><td>interval profit</td><td>-160</td></tr></table>\"], \"type\": \"htmltooltip\", \"id\": \"el14344538507728pts\", \"hoffset\": 0}], \"data\": {\"data02\": [[0.7536122311827957, 0.9650537634408602, 0.9254032258064517, 0.885752688172043, 0.8461021505376344], [0.7912466397849462, 0.9650537634408602, 0.9254032258064517, 0.885752688172043, 0.8461021505376344]], \"data03\": [[0.7347950268817205, 0.8198924731182796], [0.9865591397849464, 0.8198924731182796], [0.9865591397849464, 0.9865591397849464], [0.7347950268817205, 0.9865591397849464]], \"data01\": [[0.0, 0.0, 0.0, 0.0, 0.0], [5.0, 6200.0, 5290.0, 6830.0, -380.0], [10.0, 9530.0, 8970.0, 10090.0, -830.0], [15.0, 12230.0, 10270.0, 11810.0, -1420.0], [20.0, 11780.0, 10030.0, 11150.0, -1660.0], [25.0, 11050.0, 9580.0, 10420.0, -2110.0], [30.0, 10040.0, 9130.0, 9340.0, -2490.0], [35.0, 9100.0, 8260.0, 8890.0, -2940.0], [40.0, 8090.0, 7040.0, 7880.0, -3390.0], [45.0, 6450.0, 5890.0, 6310.0, -3910.0], [50.0, 5580.0, 5160.0, 5020.0, -4640.0], [55.00000000000001, 4010.0, 3800.0, 3660.0, -5300.0], [60.0, 2440.0, 2090.0, 2370.0, -5960.0], [65.0, 1220.0, 590.0, 1430.0, -6410.0], [70.0, -490.0, -560.0, 280.0, -6440.0], [75.0, -1990.0, -2060.0, -1290.0, -6750.0], [80.0, -3490.0, -3630.0, -2650.0, -7270.0], [85.0, -4920.0, -4850.0, -4360.0, -7930.0], [90.0, -6350.0, -6350.0, -5860.0, -8590.0], [95.0, -7990.0, -7780.0, -7710.0, -9250.0], [100.0, -9410.0, -9410.0, -9410.0, -9410.0]]}, \"id\": \"el14344533157456\"});\n",
        "      });\n",
        "    });\n",
        "}else{\n",
        "    // require.js not available: dynamically load d3 & mpld3\n",
        "    mpld3_load_lib(\"https://mpld3.github.io/js/d3.v3.min.js\", function(){\n",
        "         mpld3_load_lib(\"https://mpld3.github.io/js/mpld3.v0.2.js\", function(){\n",
        "                 \n",
        "    mpld3.register_plugin(\"htmltooltip\", HtmlTooltipPlugin);\n",
        "    HtmlTooltipPlugin.prototype = Object.create(mpld3.Plugin.prototype);\n",
        "    HtmlTooltipPlugin.prototype.constructor = HtmlTooltipPlugin;\n",
        "    HtmlTooltipPlugin.prototype.requiredProps = [\"id\"];\n",
        "    HtmlTooltipPlugin.prototype.defaultProps = {labels:null, hoffset:0, voffset:10};\n",
        "    function HtmlTooltipPlugin(fig, props){\n",
        "        mpld3.Plugin.call(this, fig, props);\n",
        "    };\n",
        "\n",
        "    HtmlTooltipPlugin.prototype.draw = function(){\n",
        "       var obj = mpld3.get_element(this.props.id);\n",
        "       var labels = this.props.labels;\n",
        "       var tooltip = d3.select(\"body\").append(\"div\")\n",
        "                    .attr(\"class\", \"mpld3-tooltip\")\n",
        "                    .style(\"position\", \"absolute\")\n",
        "                    .style(\"z-index\", \"10\")\n",
        "                    .style(\"visibility\", \"hidden\");\n",
        "\n",
        "       obj.elements()\n",
        "           .on(\"mouseover\", function(d, i){\n",
        "                              tooltip.html(labels[i])\n",
        "                                     .style(\"visibility\", \"visible\");})\n",
        "           .on(\"mousemove\", function(d, i){\n",
        "                    tooltip\n",
        "                      .style(\"top\", d3.event.pageY + this.props.voffset + \"px\")\n",
        "                      .style(\"left\",d3.event.pageX + this.props.hoffset + \"px\");\n",
        "                 }.bind(this))\n",
        "           .on(\"mouseout\",  function(d, i){\n",
        "                           tooltip.style(\"visibility\", \"hidden\");});\n",
        "    };\n",
        "    \n",
        "    mpld3.register_plugin(\"htmltooltip\", HtmlTooltipPlugin);\n",
        "    HtmlTooltipPlugin.prototype = Object.create(mpld3.Plugin.prototype);\n",
        "    HtmlTooltipPlugin.prototype.constructor = HtmlTooltipPlugin;\n",
        "    HtmlTooltipPlugin.prototype.requiredProps = [\"id\"];\n",
        "    HtmlTooltipPlugin.prototype.defaultProps = {labels:null, hoffset:0, voffset:10};\n",
        "    function HtmlTooltipPlugin(fig, props){\n",
        "        mpld3.Plugin.call(this, fig, props);\n",
        "    };\n",
        "\n",
        "    HtmlTooltipPlugin.prototype.draw = function(){\n",
        "       var obj = mpld3.get_element(this.props.id);\n",
        "       var labels = this.props.labels;\n",
        "       var tooltip = d3.select(\"body\").append(\"div\")\n",
        "                    .attr(\"class\", \"mpld3-tooltip\")\n",
        "                    .style(\"position\", \"absolute\")\n",
        "                    .style(\"z-index\", \"10\")\n",
        "                    .style(\"visibility\", \"hidden\");\n",
        "\n",
        "       obj.elements()\n",
        "           .on(\"mouseover\", function(d, i){\n",
        "                              tooltip.html(labels[i])\n",
        "                                     .style(\"visibility\", \"visible\");})\n",
        "           .on(\"mousemove\", function(d, i){\n",
        "                    tooltip\n",
        "                      .style(\"top\", d3.event.pageY + this.props.voffset + \"px\")\n",
        "                      .style(\"left\",d3.event.pageX + this.props.hoffset + \"px\");\n",
        "                 }.bind(this))\n",
        "           .on(\"mouseout\",  function(d, i){\n",
        "                           tooltip.style(\"visibility\", \"hidden\");});\n",
        "    };\n",
        "    \n",
        "    mpld3.register_plugin(\"htmltooltip\", HtmlTooltipPlugin);\n",
        "    HtmlTooltipPlugin.prototype = Object.create(mpld3.Plugin.prototype);\n",
        "    HtmlTooltipPlugin.prototype.constructor = HtmlTooltipPlugin;\n",
        "    HtmlTooltipPlugin.prototype.requiredProps = [\"id\"];\n",
        "    HtmlTooltipPlugin.prototype.defaultProps = {labels:null, hoffset:0, voffset:10};\n",
        "    function HtmlTooltipPlugin(fig, props){\n",
        "        mpld3.Plugin.call(this, fig, props);\n",
        "    };\n",
        "\n",
        "    HtmlTooltipPlugin.prototype.draw = function(){\n",
        "       var obj = mpld3.get_element(this.props.id);\n",
        "       var labels = this.props.labels;\n",
        "       var tooltip = d3.select(\"body\").append(\"div\")\n",
        "                    .attr(\"class\", \"mpld3-tooltip\")\n",
        "                    .style(\"position\", \"absolute\")\n",
        "                    .style(\"z-index\", \"10\")\n",
        "                    .style(\"visibility\", \"hidden\");\n",
        "\n",
        "       obj.elements()\n",
        "           .on(\"mouseover\", function(d, i){\n",
        "                              tooltip.html(labels[i])\n",
        "                                     .style(\"visibility\", \"visible\");})\n",
        "           .on(\"mousemove\", function(d, i){\n",
        "                    tooltip\n",
        "                      .style(\"top\", d3.event.pageY + this.props.voffset + \"px\")\n",
        "                      .style(\"left\",d3.event.pageX + this.props.hoffset + \"px\");\n",
        "                 }.bind(this))\n",
        "           .on(\"mouseout\",  function(d, i){\n",
        "                           tooltip.style(\"visibility\", \"hidden\");});\n",
        "    };\n",
        "    \n",
        "    mpld3.register_plugin(\"htmltooltip\", HtmlTooltipPlugin);\n",
        "    HtmlTooltipPlugin.prototype = Object.create(mpld3.Plugin.prototype);\n",
        "    HtmlTooltipPlugin.prototype.constructor = HtmlTooltipPlugin;\n",
        "    HtmlTooltipPlugin.prototype.requiredProps = [\"id\"];\n",
        "    HtmlTooltipPlugin.prototype.defaultProps = {labels:null, hoffset:0, voffset:10};\n",
        "    function HtmlTooltipPlugin(fig, props){\n",
        "        mpld3.Plugin.call(this, fig, props);\n",
        "    };\n",
        "\n",
        "    HtmlTooltipPlugin.prototype.draw = function(){\n",
        "       var obj = mpld3.get_element(this.props.id);\n",
        "       var labels = this.props.labels;\n",
        "       var tooltip = d3.select(\"body\").append(\"div\")\n",
        "                    .attr(\"class\", \"mpld3-tooltip\")\n",
        "                    .style(\"position\", \"absolute\")\n",
        "                    .style(\"z-index\", \"10\")\n",
        "                    .style(\"visibility\", \"hidden\");\n",
        "\n",
        "       obj.elements()\n",
        "           .on(\"mouseover\", function(d, i){\n",
        "                              tooltip.html(labels[i])\n",
        "                                     .style(\"visibility\", \"visible\");})\n",
        "           .on(\"mousemove\", function(d, i){\n",
        "                    tooltip\n",
        "                      .style(\"top\", d3.event.pageY + this.props.voffset + \"px\")\n",
        "                      .style(\"left\",d3.event.pageX + this.props.hoffset + \"px\");\n",
        "                 }.bind(this))\n",
        "           .on(\"mouseout\",  function(d, i){\n",
        "                           tooltip.style(\"visibility\", \"hidden\");});\n",
        "    };\n",
        "    \n",
        "                 mpld3.draw_figure(\"fig_el14344533157456958833205\", {\"axes\": [{\"xlim\": [0.0, 100.0], \"yscale\": \"linear\", \"axesbg\": \"#FFFFFF\", \"texts\": [{\"v_baseline\": \"hanging\", \"h_anchor\": \"middle\", \"color\": \"#000000\", \"text\": \"Percentage of test instances (decreasing by probability)\", \"coordinates\": \"axes\", \"zorder\": 3, \"alpha\": 1, \"fontsize\": 14.079441541679836, \"position\": [0.5, -0.067382261518099978], \"rotation\": -0.0, \"id\": \"el14344517316112\"}, {\"v_baseline\": \"auto\", \"h_anchor\": \"middle\", \"color\": \"#000000\", \"text\": \"Profit\", \"coordinates\": \"axes\", \"zorder\": 3, \"alpha\": 1, \"fontsize\": 14.079441541679836, \"position\": [-0.13397752361487417, 0.5], \"rotation\": -90.0, \"id\": \"el14344538509904\"}, {\"v_baseline\": \"auto\", \"h_anchor\": \"middle\", \"color\": \"#000000\", \"text\": \"Profit curve for prediction of successful term deposit sale\", \"coordinates\": \"axes\", \"zorder\": 3, \"alpha\": 1, \"fontsize\": 16.079441541679834, \"position\": [0.5, 1.0712007168458781], \"rotation\": -0.0, \"id\": \"el14344538585616\"}, {\"v_baseline\": \"auto\", \"h_anchor\": \"start\", \"color\": \"#000000\", \"text\": \"None\", \"coordinates\": \"axes\", \"zorder\": 1000003.0, \"alpha\": 1, \"fontsize\": 10.0, \"position\": [-0.16129032258064516, -0.16129032258064516], \"rotation\": -0.0, \"id\": \"el14344532072656\"}, {\"v_baseline\": \"auto\", \"h_anchor\": \"start\", \"color\": \"#000000\", \"text\": \"knn\", \"coordinates\": \"axes\", \"zorder\": 1000003.0, \"alpha\": 1, \"fontsize\": 12.0, \"position\": [0.8208165322580645, 0.95564516129032262], \"rotation\": -0.0, \"id\": \"el14344448674192\"}, {\"v_baseline\": \"auto\", \"h_anchor\": \"start\", \"color\": \"#000000\", \"text\": \"gaussianNB\", \"coordinates\": \"axes\", \"zorder\": 1000003.0, \"alpha\": 1, \"fontsize\": 12.0, \"position\": [0.8208165322580645, 0.91599462365591411], \"rotation\": -0.0, \"id\": \"el14344448676880\"}, {\"v_baseline\": \"auto\", \"h_anchor\": \"start\", \"color\": \"#000000\", \"text\": \"logres\", \"coordinates\": \"axes\", \"zorder\": 1000003.0, \"alpha\": 1, \"fontsize\": 12.0, \"position\": [0.8208165322580645, 0.87634408602150538], \"rotation\": -0.0, \"id\": \"el14344532074704\"}, {\"v_baseline\": \"auto\", \"h_anchor\": \"start\", \"color\": \"#000000\", \"text\": \"baseline\", \"coordinates\": \"axes\", \"zorder\": 1000003.0, \"alpha\": 1, \"fontsize\": 12.0, \"position\": [0.8208165322580645, 0.83669354838709675], \"rotation\": -0.0, \"id\": \"el14344532072976\"}], \"zoomable\": true, \"images\": [], \"xdomain\": [0.0, 100.0], \"ylim\": [-10000.0, 15000.0], \"paths\": [{\"edgecolor\": \"#000000\", \"facecolor\": \"#FFFFFF\", \"edgewidth\": 1.0, \"pathcodes\": [\"M\", \"L\", \"L\", \"L\", \"Z\"], \"yindex\": 1, \"coordinates\": \"axes\", \"dasharray\": \"10,0\", \"zorder\": 1000001.0, \"alpha\": 1.0, \"xindex\": 0, \"data\": \"data03\", \"id\": \"el14344527326288\"}], \"sharey\": [], \"sharex\": [], \"axesbgalpha\": null, \"axes\": [{\"scale\": \"linear\", \"tickformat\": null, \"grid\": {\"color\": \"#000000\", \"alpha\": 0.3, \"dasharray\": \"2,2\", \"gridOn\": true}, \"fontsize\": 10.0, \"position\": \"bottom\", \"nticks\": 6, \"tickvalues\": null}, {\"scale\": \"linear\", \"tickformat\": null, \"grid\": {\"color\": \"#000000\", \"alpha\": 0.3, \"dasharray\": \"2,2\", \"gridOn\": true}, \"fontsize\": 10.0, \"position\": \"left\", \"nticks\": 6, \"tickvalues\": null}], \"lines\": [{\"color\": \"#0000FF\", \"yindex\": 1, \"coordinates\": \"data\", \"dasharray\": \"10,0\", \"zorder\": 2, \"alpha\": 1, \"xindex\": 0, \"linewidth\": 1.0, \"data\": \"data01\", \"id\": \"el14344532011856\"}, {\"color\": \"#007F00\", \"yindex\": 2, \"coordinates\": \"data\", \"dasharray\": \"10,0\", \"zorder\": 2, \"alpha\": 1, \"xindex\": 0, \"linewidth\": 1.0, \"data\": \"data01\", \"id\": \"el14344533596432\"}, {\"color\": \"#FF0000\", \"yindex\": 3, \"coordinates\": \"data\", \"dasharray\": \"10,0\", \"zorder\": 2, \"alpha\": 1, \"xindex\": 0, \"linewidth\": 1.0, \"data\": \"data01\", \"id\": \"el14344531997904\"}, {\"color\": \"#00BFBF\", \"yindex\": 4, \"coordinates\": \"data\", \"dasharray\": \"10,0\", \"zorder\": 2, \"alpha\": 1, \"xindex\": 0, \"linewidth\": 1.0, \"data\": \"data01\", \"id\": \"el14344538507728\"}, {\"color\": \"#0000FF\", \"yindex\": 1, \"coordinates\": \"axes\", \"dasharray\": \"10,0\", \"zorder\": 1000002.0, \"alpha\": 1, \"xindex\": 0, \"linewidth\": 1.0, \"data\": \"data02\", \"id\": \"el14344448675728\"}, {\"color\": \"#007F00\", \"yindex\": 2, \"coordinates\": \"axes\", \"dasharray\": \"10,0\", \"zorder\": 1000002.0, \"alpha\": 1, \"xindex\": 0, \"linewidth\": 1.0, \"data\": \"data02\", \"id\": \"el14344448677328\"}, {\"color\": \"#FF0000\", \"yindex\": 3, \"coordinates\": \"axes\", \"dasharray\": \"10,0\", \"zorder\": 1000002.0, \"alpha\": 1, \"xindex\": 0, \"linewidth\": 1.0, \"data\": \"data02\", \"id\": \"el14344532075600\"}, {\"color\": \"#00BFBF\", \"yindex\": 4, \"coordinates\": \"axes\", \"dasharray\": \"10,0\", \"zorder\": 1000002.0, \"alpha\": 1, \"xindex\": 0, \"linewidth\": 1.0, \"data\": \"data02\", \"id\": \"el14344532614160\"}], \"markers\": [{\"edgecolor\": \"#000000\", \"facecolor\": \"#0000FF\", \"edgewidth\": 0.5, \"yindex\": 1, \"coordinates\": \"data\", \"zorder\": 2, \"markerpath\": [[[0.0, 3.0], [0.7956093000000001, 3.0], [1.5587396123545605, 2.683901074764725], [2.121320343559643, 2.121320343559643], [2.683901074764725, 1.5587396123545605], [3.0, 0.7956093000000001], [3.0, 0.0], [3.0, -0.7956093000000001], [2.683901074764725, -1.5587396123545605], [2.121320343559643, -2.121320343559643], [1.5587396123545605, -2.683901074764725], [0.7956093000000001, -3.0], [0.0, -3.0], [-0.7956093000000001, -3.0], [-1.5587396123545605, -2.683901074764725], [-2.121320343559643, -2.121320343559643], [-2.683901074764725, -1.5587396123545605], [-3.0, -0.7956093000000001], [-3.0, 0.0], [-3.0, 0.7956093000000001], [-2.683901074764725, 1.5587396123545605], [-2.121320343559643, 2.121320343559643], [-1.5587396123545605, 2.683901074764725], [-0.7956093000000001, 3.0], [0.0, 3.0]], [\"M\", \"C\", \"C\", \"C\", \"C\", \"C\", \"C\", \"C\", \"C\", \"Z\"]], \"alpha\": 1, \"xindex\": 0, \"data\": \"data01\", \"id\": \"el14344532011856pts\"}, {\"edgecolor\": \"#000000\", \"facecolor\": \"#007F00\", \"edgewidth\": 0.5, \"yindex\": 2, \"coordinates\": \"data\", \"zorder\": 2, \"markerpath\": [[[0.0, 3.0], [0.7956093000000001, 3.0], [1.5587396123545605, 2.683901074764725], [2.121320343559643, 2.121320343559643], [2.683901074764725, 1.5587396123545605], [3.0, 0.7956093000000001], [3.0, 0.0], [3.0, -0.7956093000000001], [2.683901074764725, -1.5587396123545605], [2.121320343559643, -2.121320343559643], [1.5587396123545605, -2.683901074764725], [0.7956093000000001, -3.0], [0.0, -3.0], [-0.7956093000000001, -3.0], [-1.5587396123545605, -2.683901074764725], [-2.121320343559643, -2.121320343559643], [-2.683901074764725, -1.5587396123545605], [-3.0, -0.7956093000000001], [-3.0, 0.0], [-3.0, 0.7956093000000001], [-2.683901074764725, 1.5587396123545605], [-2.121320343559643, 2.121320343559643], [-1.5587396123545605, 2.683901074764725], [-0.7956093000000001, 3.0], [0.0, 3.0]], [\"M\", \"C\", \"C\", \"C\", \"C\", \"C\", \"C\", \"C\", \"C\", \"Z\"]], \"alpha\": 1, \"xindex\": 0, \"data\": \"data01\", \"id\": \"el14344533596432pts\"}, {\"edgecolor\": \"#000000\", \"facecolor\": \"#FF0000\", \"edgewidth\": 0.5, \"yindex\": 3, \"coordinates\": \"data\", \"zorder\": 2, \"markerpath\": [[[0.0, 3.0], [0.7956093000000001, 3.0], [1.5587396123545605, 2.683901074764725], [2.121320343559643, 2.121320343559643], [2.683901074764725, 1.5587396123545605], [3.0, 0.7956093000000001], [3.0, 0.0], [3.0, -0.7956093000000001], [2.683901074764725, -1.5587396123545605], [2.121320343559643, -2.121320343559643], [1.5587396123545605, -2.683901074764725], [0.7956093000000001, -3.0], [0.0, -3.0], [-0.7956093000000001, -3.0], [-1.5587396123545605, -2.683901074764725], [-2.121320343559643, -2.121320343559643], [-2.683901074764725, -1.5587396123545605], [-3.0, -0.7956093000000001], [-3.0, 0.0], [-3.0, 0.7956093000000001], [-2.683901074764725, 1.5587396123545605], [-2.121320343559643, 2.121320343559643], [-1.5587396123545605, 2.683901074764725], [-0.7956093000000001, 3.0], [0.0, 3.0]], [\"M\", \"C\", \"C\", \"C\", \"C\", \"C\", \"C\", \"C\", \"C\", \"Z\"]], \"alpha\": 1, \"xindex\": 0, \"data\": \"data01\", \"id\": \"el14344531997904pts\"}, {\"edgecolor\": \"#000000\", \"facecolor\": \"#00BFBF\", \"edgewidth\": 0.5, \"yindex\": 4, \"coordinates\": \"data\", \"zorder\": 2, \"markerpath\": [[[0.0, 3.0], [0.7956093000000001, 3.0], [1.5587396123545605, 2.683901074764725], [2.121320343559643, 2.121320343559643], [2.683901074764725, 1.5587396123545605], [3.0, 0.7956093000000001], [3.0, 0.0], [3.0, -0.7956093000000001], [2.683901074764725, -1.5587396123545605], [2.121320343559643, -2.121320343559643], [1.5587396123545605, -2.683901074764725], [0.7956093000000001, -3.0], [0.0, -3.0], [-0.7956093000000001, -3.0], [-1.5587396123545605, -2.683901074764725], [-2.121320343559643, -2.121320343559643], [-2.683901074764725, -1.5587396123545605], [-3.0, -0.7956093000000001], [-3.0, 0.0], [-3.0, 0.7956093000000001], [-2.683901074764725, 1.5587396123545605], [-2.121320343559643, 2.121320343559643], [-1.5587396123545605, 2.683901074764725], [-0.7956093000000001, 3.0], [0.0, 3.0]], [\"M\", \"C\", \"C\", \"C\", \"C\", \"C\", \"C\", \"C\", \"C\", \"Z\"]], \"alpha\": 1, \"xindex\": 0, \"data\": \"data01\", \"id\": \"el14344538507728pts\"}, {\"edgecolor\": \"#000000\", \"facecolor\": \"#0000FF\", \"edgewidth\": 0.5, \"yindex\": 1, \"coordinates\": \"axes\", \"zorder\": 1000002.0, \"markerpath\": [[[0.0, 3.0], [0.7956093000000001, 3.0], [1.5587396123545605, 2.683901074764725], [2.121320343559643, 2.121320343559643], [2.683901074764725, 1.5587396123545605], [3.0, 0.7956093000000001], [3.0, 0.0], [3.0, -0.7956093000000001], [2.683901074764725, -1.5587396123545605], [2.121320343559643, -2.121320343559643], [1.5587396123545605, -2.683901074764725], [0.7956093000000001, -3.0], [0.0, -3.0], [-0.7956093000000001, -3.0], [-1.5587396123545605, -2.683901074764725], [-2.121320343559643, -2.121320343559643], [-2.683901074764725, -1.5587396123545605], [-3.0, -0.7956093000000001], [-3.0, 0.0], [-3.0, 0.7956093000000001], [-2.683901074764725, 1.5587396123545605], [-2.121320343559643, 2.121320343559643], [-1.5587396123545605, 2.683901074764725], [-0.7956093000000001, 3.0], [0.0, 3.0]], [\"M\", \"C\", \"C\", \"C\", \"C\", \"C\", \"C\", \"C\", \"C\", \"Z\"]], \"alpha\": 1, \"xindex\": 0, \"data\": \"data02\", \"id\": \"el14344448677712pts\"}, {\"edgecolor\": \"#000000\", \"facecolor\": \"#007F00\", \"edgewidth\": 0.5, \"yindex\": 2, \"coordinates\": \"axes\", \"zorder\": 1000002.0, \"markerpath\": [[[0.0, 3.0], [0.7956093000000001, 3.0], [1.5587396123545605, 2.683901074764725], [2.121320343559643, 2.121320343559643], [2.683901074764725, 1.5587396123545605], [3.0, 0.7956093000000001], [3.0, 0.0], [3.0, -0.7956093000000001], [2.683901074764725, -1.5587396123545605], [2.121320343559643, -2.121320343559643], [1.5587396123545605, -2.683901074764725], [0.7956093000000001, -3.0], [0.0, -3.0], [-0.7956093000000001, -3.0], [-1.5587396123545605, -2.683901074764725], [-2.121320343559643, -2.121320343559643], [-2.683901074764725, -1.5587396123545605], [-3.0, -0.7956093000000001], [-3.0, 0.0], [-3.0, 0.7956093000000001], [-2.683901074764725, 1.5587396123545605], [-2.121320343559643, 2.121320343559643], [-1.5587396123545605, 2.683901074764725], [-0.7956093000000001, 3.0], [0.0, 3.0]], [\"M\", \"C\", \"C\", \"C\", \"C\", \"C\", \"C\", \"C\", \"C\", \"Z\"]], \"alpha\": 1, \"xindex\": 0, \"data\": \"data02\", \"id\": \"el14344532075536pts\"}, {\"edgecolor\": \"#000000\", \"facecolor\": \"#FF0000\", \"edgewidth\": 0.5, \"yindex\": 3, \"coordinates\": \"axes\", \"zorder\": 1000002.0, \"markerpath\": [[[0.0, 3.0], [0.7956093000000001, 3.0], [1.5587396123545605, 2.683901074764725], [2.121320343559643, 2.121320343559643], [2.683901074764725, 1.5587396123545605], [3.0, 0.7956093000000001], [3.0, 0.0], [3.0, -0.7956093000000001], [2.683901074764725, -1.5587396123545605], [2.121320343559643, -2.121320343559643], [1.5587396123545605, -2.683901074764725], [0.7956093000000001, -3.0], [0.0, -3.0], [-0.7956093000000001, -3.0], [-1.5587396123545605, -2.683901074764725], [-2.121320343559643, -2.121320343559643], [-2.683901074764725, -1.5587396123545605], [-3.0, -0.7956093000000001], [-3.0, 0.0], [-3.0, 0.7956093000000001], [-2.683901074764725, 1.5587396123545605], [-2.121320343559643, 2.121320343559643], [-1.5587396123545605, 2.683901074764725], [-0.7956093000000001, 3.0], [0.0, 3.0]], [\"M\", \"C\", \"C\", \"C\", \"C\", \"C\", \"C\", \"C\", \"C\", \"Z\"]], \"alpha\": 1, \"xindex\": 0, \"data\": \"data02\", \"id\": \"el14344532075984pts\"}, {\"edgecolor\": \"#000000\", \"facecolor\": \"#00BFBF\", \"edgewidth\": 0.5, \"yindex\": 4, \"coordinates\": \"axes\", \"zorder\": 1000002.0, \"markerpath\": [[[0.0, 3.0], [0.7956093000000001, 3.0], [1.5587396123545605, 2.683901074764725], [2.121320343559643, 2.121320343559643], [2.683901074764725, 1.5587396123545605], [3.0, 0.7956093000000001], [3.0, 0.0], [3.0, -0.7956093000000001], [2.683901074764725, -1.5587396123545605], [2.121320343559643, -2.121320343559643], [1.5587396123545605, -2.683901074764725], [0.7956093000000001, -3.0], [0.0, -3.0], [-0.7956093000000001, -3.0], [-1.5587396123545605, -2.683901074764725], [-2.121320343559643, -2.121320343559643], [-2.683901074764725, -1.5587396123545605], [-3.0, -0.7956093000000001], [-3.0, 0.0], [-3.0, 0.7956093000000001], [-2.683901074764725, 1.5587396123545605], [-2.121320343559643, 2.121320343559643], [-1.5587396123545605, 2.683901074764725], [-0.7956093000000001, 3.0], [0.0, 3.0]], [\"M\", \"C\", \"C\", \"C\", \"C\", \"C\", \"C\", \"C\", \"C\", \"Z\"]], \"alpha\": 1, \"xindex\": 0, \"data\": \"data02\", \"id\": \"el14344532614608pts\"}], \"id\": \"el14344527621712\", \"ydomain\": [-10000.0, 15000.0], \"collections\": [], \"xscale\": \"linear\", \"bbox\": [0.125, 0.125, 0.77500000000000002, 0.77500000000000002]}], \"height\": 640.0, \"width\": 640.0, \"plugins\": [{\"type\": \"reset\"}, {\"enabled\": false, \"button\": true, \"type\": \"zoom\"}, {\"enabled\": false, \"button\": true, \"type\": \"boxzoom\"}, {\"voffset\": 10, \"labels\": [\"<table><th colspan='2'>knn</th><tr><td>the first</td><td>0.0%</td></tr><tr><td>cum. profit</td><td>0</td></tr><tr><td>interval profit</td><td>0</td></tr></table>\", \"<table><th colspan='2'>knn</th><tr><td>the first</td><td>5.0%</td></tr><tr><td>cum. profit</td><td>6200</td></tr><tr><td>interval profit</td><td>6200</td></tr></table>\", \"<table><th colspan='2'>knn</th><tr><td>the first</td><td>10.0%</td></tr><tr><td>cum. profit</td><td>9530</td></tr><tr><td>interval profit</td><td>3330</td></tr></table>\", \"<table><th colspan='2'>knn</th><tr><td>the first</td><td>15.0%</td></tr><tr><td>cum. profit</td><td>12230</td></tr><tr><td>interval profit</td><td>2700</td></tr></table>\", \"<table><th colspan='2'>knn</th><tr><td>the first</td><td>20.0%</td></tr><tr><td>cum. profit</td><td>11780</td></tr><tr><td>interval profit</td><td>-450</td></tr></table>\", \"<table><th colspan='2'>knn</th><tr><td>the first</td><td>25.0%</td></tr><tr><td>cum. profit</td><td>11050</td></tr><tr><td>interval profit</td><td>-730</td></tr></table>\", \"<table><th colspan='2'>knn</th><tr><td>the first</td><td>30.0%</td></tr><tr><td>cum. profit</td><td>10040</td></tr><tr><td>interval profit</td><td>-1010</td></tr></table>\", \"<table><th colspan='2'>knn</th><tr><td>the first</td><td>35.0%</td></tr><tr><td>cum. profit</td><td>9100</td></tr><tr><td>interval profit</td><td>-940</td></tr></table>\", \"<table><th colspan='2'>knn</th><tr><td>the first</td><td>40.0%</td></tr><tr><td>cum. profit</td><td>8090</td></tr><tr><td>interval profit</td><td>-1010</td></tr></table>\", \"<table><th colspan='2'>knn</th><tr><td>the first</td><td>45.0%</td></tr><tr><td>cum. profit</td><td>6450</td></tr><tr><td>interval profit</td><td>-1640</td></tr></table>\", \"<table><th colspan='2'>knn</th><tr><td>the first</td><td>50.0%</td></tr><tr><td>cum. profit</td><td>5580</td></tr><tr><td>interval profit</td><td>-870</td></tr></table>\", \"<table><th colspan='2'>knn</th><tr><td>the first</td><td>55.0%</td></tr><tr><td>cum. profit</td><td>4010</td></tr><tr><td>interval profit</td><td>-1570</td></tr></table>\", \"<table><th colspan='2'>knn</th><tr><td>the first</td><td>60.0%</td></tr><tr><td>cum. profit</td><td>2440</td></tr><tr><td>interval profit</td><td>-1570</td></tr></table>\", \"<table><th colspan='2'>knn</th><tr><td>the first</td><td>65.0%</td></tr><tr><td>cum. profit</td><td>1220</td></tr><tr><td>interval profit</td><td>-1220</td></tr></table>\", \"<table><th colspan='2'>knn</th><tr><td>the first</td><td>70.0%</td></tr><tr><td>cum. profit</td><td>-490</td></tr><tr><td>interval profit</td><td>-1710</td></tr></table>\", \"<table><th colspan='2'>knn</th><tr><td>the first</td><td>75.0%</td></tr><tr><td>cum. profit</td><td>-1990</td></tr><tr><td>interval profit</td><td>-1500</td></tr></table>\", \"<table><th colspan='2'>knn</th><tr><td>the first</td><td>80.0%</td></tr><tr><td>cum. profit</td><td>-3490</td></tr><tr><td>interval profit</td><td>-1500</td></tr></table>\", \"<table><th colspan='2'>knn</th><tr><td>the first</td><td>85.0%</td></tr><tr><td>cum. profit</td><td>-4920</td></tr><tr><td>interval profit</td><td>-1430</td></tr></table>\", \"<table><th colspan='2'>knn</th><tr><td>the first</td><td>90.0%</td></tr><tr><td>cum. profit</td><td>-6350</td></tr><tr><td>interval profit</td><td>-1430</td></tr></table>\", \"<table><th colspan='2'>knn</th><tr><td>the first</td><td>95.0%</td></tr><tr><td>cum. profit</td><td>-7990</td></tr><tr><td>interval profit</td><td>-1640</td></tr></table>\", \"<table><th colspan='2'>knn</th><tr><td>the first</td><td>100.0%</td></tr><tr><td>cum. profit</td><td>-9410</td></tr><tr><td>interval profit</td><td>-1420</td></tr></table>\"], \"type\": \"htmltooltip\", \"id\": \"el14344532011856pts\", \"hoffset\": 0}, {\"voffset\": 10, \"labels\": [\"<table><th colspan='2'>gaussianNB</th><tr><td>the first</td><td>0.0%</td></tr><tr><td>cum. profit</td><td>0</td></tr><tr><td>interval profit</td><td>0</td></tr></table>\", \"<table><th colspan='2'>gaussianNB</th><tr><td>the first</td><td>5.0%</td></tr><tr><td>cum. profit</td><td>5290</td></tr><tr><td>interval profit</td><td>5290</td></tr></table>\", \"<table><th colspan='2'>gaussianNB</th><tr><td>the first</td><td>10.0%</td></tr><tr><td>cum. profit</td><td>8970</td></tr><tr><td>interval profit</td><td>3680</td></tr></table>\", \"<table><th colspan='2'>gaussianNB</th><tr><td>the first</td><td>15.0%</td></tr><tr><td>cum. profit</td><td>10270</td></tr><tr><td>interval profit</td><td>1300</td></tr></table>\", \"<table><th colspan='2'>gaussianNB</th><tr><td>the first</td><td>20.0%</td></tr><tr><td>cum. profit</td><td>10030</td></tr><tr><td>interval profit</td><td>-240</td></tr></table>\", \"<table><th colspan='2'>gaussianNB</th><tr><td>the first</td><td>25.0%</td></tr><tr><td>cum. profit</td><td>9580</td></tr><tr><td>interval profit</td><td>-450</td></tr></table>\", \"<table><th colspan='2'>gaussianNB</th><tr><td>the first</td><td>30.0%</td></tr><tr><td>cum. profit</td><td>9130</td></tr><tr><td>interval profit</td><td>-450</td></tr></table>\", \"<table><th colspan='2'>gaussianNB</th><tr><td>the first</td><td>35.0%</td></tr><tr><td>cum. profit</td><td>8260</td></tr><tr><td>interval profit</td><td>-870</td></tr></table>\", \"<table><th colspan='2'>gaussianNB</th><tr><td>the first</td><td>40.0%</td></tr><tr><td>cum. profit</td><td>7040</td></tr><tr><td>interval profit</td><td>-1220</td></tr></table>\", \"<table><th colspan='2'>gaussianNB</th><tr><td>the first</td><td>45.0%</td></tr><tr><td>cum. profit</td><td>5890</td></tr><tr><td>interval profit</td><td>-1150</td></tr></table>\", \"<table><th colspan='2'>gaussianNB</th><tr><td>the first</td><td>50.0%</td></tr><tr><td>cum. profit</td><td>5160</td></tr><tr><td>interval profit</td><td>-730</td></tr></table>\", \"<table><th colspan='2'>gaussianNB</th><tr><td>the first</td><td>55.0%</td></tr><tr><td>cum. profit</td><td>3800</td></tr><tr><td>interval profit</td><td>-1360</td></tr></table>\", \"<table><th colspan='2'>gaussianNB</th><tr><td>the first</td><td>60.0%</td></tr><tr><td>cum. profit</td><td>2090</td></tr><tr><td>interval profit</td><td>-1710</td></tr></table>\", \"<table><th colspan='2'>gaussianNB</th><tr><td>the first</td><td>65.0%</td></tr><tr><td>cum. profit</td><td>590</td></tr><tr><td>interval profit</td><td>-1500</td></tr></table>\", \"<table><th colspan='2'>gaussianNB</th><tr><td>the first</td><td>70.0%</td></tr><tr><td>cum. profit</td><td>-560</td></tr><tr><td>interval profit</td><td>-1150</td></tr></table>\", \"<table><th colspan='2'>gaussianNB</th><tr><td>the first</td><td>75.0%</td></tr><tr><td>cum. profit</td><td>-2060</td></tr><tr><td>interval profit</td><td>-1500</td></tr></table>\", \"<table><th colspan='2'>gaussianNB</th><tr><td>the first</td><td>80.0%</td></tr><tr><td>cum. profit</td><td>-3630</td></tr><tr><td>interval profit</td><td>-1570</td></tr></table>\", \"<table><th colspan='2'>gaussianNB</th><tr><td>the first</td><td>85.0%</td></tr><tr><td>cum. profit</td><td>-4850</td></tr><tr><td>interval profit</td><td>-1220</td></tr></table>\", \"<table><th colspan='2'>gaussianNB</th><tr><td>the first</td><td>90.0%</td></tr><tr><td>cum. profit</td><td>-6350</td></tr><tr><td>interval profit</td><td>-1500</td></tr></table>\", \"<table><th colspan='2'>gaussianNB</th><tr><td>the first</td><td>95.0%</td></tr><tr><td>cum. profit</td><td>-7780</td></tr><tr><td>interval profit</td><td>-1430</td></tr></table>\", \"<table><th colspan='2'>gaussianNB</th><tr><td>the first</td><td>100.0%</td></tr><tr><td>cum. profit</td><td>-9410</td></tr><tr><td>interval profit</td><td>-1630</td></tr></table>\"], \"type\": \"htmltooltip\", \"id\": \"el14344533596432pts\", \"hoffset\": 0}, {\"voffset\": 10, \"labels\": [\"<table><th colspan='2'>logres</th><tr><td>the first</td><td>0.0%</td></tr><tr><td>cum. profit</td><td>0</td></tr><tr><td>interval profit</td><td>0</td></tr></table>\", \"<table><th colspan='2'>logres</th><tr><td>the first</td><td>5.0%</td></tr><tr><td>cum. profit</td><td>6830</td></tr><tr><td>interval profit</td><td>6830</td></tr></table>\", \"<table><th colspan='2'>logres</th><tr><td>the first</td><td>10.0%</td></tr><tr><td>cum. profit</td><td>10090</td></tr><tr><td>interval profit</td><td>3260</td></tr></table>\", \"<table><th colspan='2'>logres</th><tr><td>the first</td><td>15.0%</td></tr><tr><td>cum. profit</td><td>11810</td></tr><tr><td>interval profit</td><td>1720</td></tr></table>\", \"<table><th colspan='2'>logres</th><tr><td>the first</td><td>20.0%</td></tr><tr><td>cum. profit</td><td>11150</td></tr><tr><td>interval profit</td><td>-660</td></tr></table>\", \"<table><th colspan='2'>logres</th><tr><td>the first</td><td>25.0%</td></tr><tr><td>cum. profit</td><td>10420</td></tr><tr><td>interval profit</td><td>-730</td></tr></table>\", \"<table><th colspan='2'>logres</th><tr><td>the first</td><td>30.0%</td></tr><tr><td>cum. profit</td><td>9340</td></tr><tr><td>interval profit</td><td>-1080</td></tr></table>\", \"<table><th colspan='2'>logres</th><tr><td>the first</td><td>35.0%</td></tr><tr><td>cum. profit</td><td>8890</td></tr><tr><td>interval profit</td><td>-450</td></tr></table>\", \"<table><th colspan='2'>logres</th><tr><td>the first</td><td>40.0%</td></tr><tr><td>cum. profit</td><td>7880</td></tr><tr><td>interval profit</td><td>-1010</td></tr></table>\", \"<table><th colspan='2'>logres</th><tr><td>the first</td><td>45.0%</td></tr><tr><td>cum. profit</td><td>6310</td></tr><tr><td>interval profit</td><td>-1570</td></tr></table>\", \"<table><th colspan='2'>logres</th><tr><td>the first</td><td>50.0%</td></tr><tr><td>cum. profit</td><td>5020</td></tr><tr><td>interval profit</td><td>-1290</td></tr></table>\", \"<table><th colspan='2'>logres</th><tr><td>the first</td><td>55.0%</td></tr><tr><td>cum. profit</td><td>3660</td></tr><tr><td>interval profit</td><td>-1360</td></tr></table>\", \"<table><th colspan='2'>logres</th><tr><td>the first</td><td>60.0%</td></tr><tr><td>cum. profit</td><td>2370</td></tr><tr><td>interval profit</td><td>-1290</td></tr></table>\", \"<table><th colspan='2'>logres</th><tr><td>the first</td><td>65.0%</td></tr><tr><td>cum. profit</td><td>1430</td></tr><tr><td>interval profit</td><td>-940</td></tr></table>\", \"<table><th colspan='2'>logres</th><tr><td>the first</td><td>70.0%</td></tr><tr><td>cum. profit</td><td>280</td></tr><tr><td>interval profit</td><td>-1150</td></tr></table>\", \"<table><th colspan='2'>logres</th><tr><td>the first</td><td>75.0%</td></tr><tr><td>cum. profit</td><td>-1290</td></tr><tr><td>interval profit</td><td>-1570</td></tr></table>\", \"<table><th colspan='2'>logres</th><tr><td>the first</td><td>80.0%</td></tr><tr><td>cum. profit</td><td>-2650</td></tr><tr><td>interval profit</td><td>-1360</td></tr></table>\", \"<table><th colspan='2'>logres</th><tr><td>the first</td><td>85.0%</td></tr><tr><td>cum. profit</td><td>-4360</td></tr><tr><td>interval profit</td><td>-1710</td></tr></table>\", \"<table><th colspan='2'>logres</th><tr><td>the first</td><td>90.0%</td></tr><tr><td>cum. profit</td><td>-5860</td></tr><tr><td>interval profit</td><td>-1500</td></tr></table>\", \"<table><th colspan='2'>logres</th><tr><td>the first</td><td>95.0%</td></tr><tr><td>cum. profit</td><td>-7710</td></tr><tr><td>interval profit</td><td>-1850</td></tr></table>\", \"<table><th colspan='2'>logres</th><tr><td>the first</td><td>100.0%</td></tr><tr><td>cum. profit</td><td>-9410</td></tr><tr><td>interval profit</td><td>-1700</td></tr></table>\"], \"type\": \"htmltooltip\", \"id\": \"el14344531997904pts\", \"hoffset\": 0}, {\"voffset\": 10, \"labels\": [\"<table><th colspan='2'>baseline</th><tr><td>the first</td><td>0.0%</td></tr><tr><td>cum. profit</td><td>0</td></tr><tr><td>interval profit</td><td>0</td></tr></table>\", \"<table><th colspan='2'>baseline</th><tr><td>the first</td><td>5.0%</td></tr><tr><td>cum. profit</td><td>-380</td></tr><tr><td>interval profit</td><td>-380</td></tr></table>\", \"<table><th colspan='2'>baseline</th><tr><td>the first</td><td>10.0%</td></tr><tr><td>cum. profit</td><td>-830</td></tr><tr><td>interval profit</td><td>-450</td></tr></table>\", \"<table><th colspan='2'>baseline</th><tr><td>the first</td><td>15.0%</td></tr><tr><td>cum. profit</td><td>-1420</td></tr><tr><td>interval profit</td><td>-590</td></tr></table>\", \"<table><th colspan='2'>baseline</th><tr><td>the first</td><td>20.0%</td></tr><tr><td>cum. profit</td><td>-1660</td></tr><tr><td>interval profit</td><td>-240</td></tr></table>\", \"<table><th colspan='2'>baseline</th><tr><td>the first</td><td>25.0%</td></tr><tr><td>cum. profit</td><td>-2110</td></tr><tr><td>interval profit</td><td>-450</td></tr></table>\", \"<table><th colspan='2'>baseline</th><tr><td>the first</td><td>30.0%</td></tr><tr><td>cum. profit</td><td>-2490</td></tr><tr><td>interval profit</td><td>-380</td></tr></table>\", \"<table><th colspan='2'>baseline</th><tr><td>the first</td><td>35.0%</td></tr><tr><td>cum. profit</td><td>-2940</td></tr><tr><td>interval profit</td><td>-450</td></tr></table>\", \"<table><th colspan='2'>baseline</th><tr><td>the first</td><td>40.0%</td></tr><tr><td>cum. profit</td><td>-3390</td></tr><tr><td>interval profit</td><td>-450</td></tr></table>\", \"<table><th colspan='2'>baseline</th><tr><td>the first</td><td>45.0%</td></tr><tr><td>cum. profit</td><td>-3910</td></tr><tr><td>interval profit</td><td>-520</td></tr></table>\", \"<table><th colspan='2'>baseline</th><tr><td>the first</td><td>50.0%</td></tr><tr><td>cum. profit</td><td>-4640</td></tr><tr><td>interval profit</td><td>-730</td></tr></table>\", \"<table><th colspan='2'>baseline</th><tr><td>the first</td><td>55.0%</td></tr><tr><td>cum. profit</td><td>-5300</td></tr><tr><td>interval profit</td><td>-660</td></tr></table>\", \"<table><th colspan='2'>baseline</th><tr><td>the first</td><td>60.0%</td></tr><tr><td>cum. profit</td><td>-5960</td></tr><tr><td>interval profit</td><td>-660</td></tr></table>\", \"<table><th colspan='2'>baseline</th><tr><td>the first</td><td>65.0%</td></tr><tr><td>cum. profit</td><td>-6410</td></tr><tr><td>interval profit</td><td>-450</td></tr></table>\", \"<table><th colspan='2'>baseline</th><tr><td>the first</td><td>70.0%</td></tr><tr><td>cum. profit</td><td>-6440</td></tr><tr><td>interval profit</td><td>-30</td></tr></table>\", \"<table><th colspan='2'>baseline</th><tr><td>the first</td><td>75.0%</td></tr><tr><td>cum. profit</td><td>-6750</td></tr><tr><td>interval profit</td><td>-310</td></tr></table>\", \"<table><th colspan='2'>baseline</th><tr><td>the first</td><td>80.0%</td></tr><tr><td>cum. profit</td><td>-7270</td></tr><tr><td>interval profit</td><td>-520</td></tr></table>\", \"<table><th colspan='2'>baseline</th><tr><td>the first</td><td>85.0%</td></tr><tr><td>cum. profit</td><td>-7930</td></tr><tr><td>interval profit</td><td>-660</td></tr></table>\", \"<table><th colspan='2'>baseline</th><tr><td>the first</td><td>90.0%</td></tr><tr><td>cum. profit</td><td>-8590</td></tr><tr><td>interval profit</td><td>-660</td></tr></table>\", \"<table><th colspan='2'>baseline</th><tr><td>the first</td><td>95.0%</td></tr><tr><td>cum. profit</td><td>-9250</td></tr><tr><td>interval profit</td><td>-660</td></tr></table>\", \"<table><th colspan='2'>baseline</th><tr><td>the first</td><td>100.0%</td></tr><tr><td>cum. profit</td><td>-9410</td></tr><tr><td>interval profit</td><td>-160</td></tr></table>\"], \"type\": \"htmltooltip\", \"id\": \"el14344538507728pts\", \"hoffset\": 0}], \"data\": {\"data02\": [[0.7536122311827957, 0.9650537634408602, 0.9254032258064517, 0.885752688172043, 0.8461021505376344], [0.7912466397849462, 0.9650537634408602, 0.9254032258064517, 0.885752688172043, 0.8461021505376344]], \"data03\": [[0.7347950268817205, 0.8198924731182796], [0.9865591397849464, 0.8198924731182796], [0.9865591397849464, 0.9865591397849464], [0.7347950268817205, 0.9865591397849464]], \"data01\": [[0.0, 0.0, 0.0, 0.0, 0.0], [5.0, 6200.0, 5290.0, 6830.0, -380.0], [10.0, 9530.0, 8970.0, 10090.0, -830.0], [15.0, 12230.0, 10270.0, 11810.0, -1420.0], [20.0, 11780.0, 10030.0, 11150.0, -1660.0], [25.0, 11050.0, 9580.0, 10420.0, -2110.0], [30.0, 10040.0, 9130.0, 9340.0, -2490.0], [35.0, 9100.0, 8260.0, 8890.0, -2940.0], [40.0, 8090.0, 7040.0, 7880.0, -3390.0], [45.0, 6450.0, 5890.0, 6310.0, -3910.0], [50.0, 5580.0, 5160.0, 5020.0, -4640.0], [55.00000000000001, 4010.0, 3800.0, 3660.0, -5300.0], [60.0, 2440.0, 2090.0, 2370.0, -5960.0], [65.0, 1220.0, 590.0, 1430.0, -6410.0], [70.0, -490.0, -560.0, 280.0, -6440.0], [75.0, -1990.0, -2060.0, -1290.0, -6750.0], [80.0, -3490.0, -3630.0, -2650.0, -7270.0], [85.0, -4920.0, -4850.0, -4360.0, -7930.0], [90.0, -6350.0, -6350.0, -5860.0, -8590.0], [95.0, -7990.0, -7780.0, -7710.0, -9250.0], [100.0, -9410.0, -9410.0, -9410.0, -9410.0]]}, \"id\": \"el14344533157456\"});\n",
        "            })\n",
        "         });\n",
        "}\n",
        "</script>"
       ],
       "metadata": {},
       "output_type": "display_data",
       "png": "[encoded data removed]",
       "text": [
        "<matplotlib.figure.Figure at 0x10e327e50>"
       ]
      }
     ],
     "prompt_number": 9
    }
   ],
   "metadata": {}
  }
 ]
}