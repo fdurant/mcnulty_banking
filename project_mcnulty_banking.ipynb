{
 "metadata": {
  "name": "",
  "signature": "sha256:4c63a8869a8056665d38e5ffed0cfdec60f2aa764ded547086a122d0e1c8efbf"
 },
 "nbformat": 3,
 "nbformat_minor": 0,
 "worksheets": [
  {
   "cells": [
    {
     "cell_type": "heading",
     "level": 1,
     "metadata": {
      "internals": {
       "slide_helper": "subslide_end",
       "slide_type": "subslide"
      },
      "slide_helper": "slide_end",
      "slideshow": {
       "slide_type": "slide"
      }
     },
     "source": [
      "Project McNulty - Banking"
     ]
    },
    {
     "cell_type": "heading",
     "level": 2,
     "metadata": {
      "internals": {
       "slide_type": "subslide"
      },
      "slideshow": {
       "slide_type": "slide"
      }
     },
     "source": [
      "Business goals"
     ]
    },
    {
     "cell_type": "markdown",
     "metadata": {
      "internals": {
       "frag_number": 2,
       "slide_helper": "subslide_end"
      },
      "slide_helper": "slide_end",
      "slideshow": {
       "slide_type": "fragment"
      }
     },
     "source": [
      "From a database containing 41K records representing customer calls, build a model capable of:\n",
      "\n",
      "- predicting which customer will buy a term deposit product, and which will not\n",
      "\n",
      "- rank customers according to their propensity to buy the product\n",
      "\n",
      "To evaluate performance, we aim at producing, for each method employed:\n",
      "\n",
      "- an ROC curve\n",
      "\n",
      "- a LIFT curve\n",
      "\n",
      "- a PROFIT curve"
     ]
    },
    {
     "cell_type": "heading",
     "level": 2,
     "metadata": {
      "internals": {
       "frag_helper": "fragment_end",
       "frag_number": 2,
       "slide_type": "subslide"
      },
      "slideshow": {
       "slide_type": "slide"
      }
     },
     "source": [
      "Additional learning goals"
     ]
    },
    {
     "cell_type": "markdown",
     "metadata": {
      "internals": {
       "frag_helper": "fragment_end",
       "frag_number": 4
      },
      "slideshow": {
       "slide_type": "fragment"
      }
     },
     "source": [
      "- maximally use D3.js and interactive visualizations\n",
      "\n",
      "- use a shared MySQL database as the data source"
     ]
    },
    {
     "cell_type": "heading",
     "level": 2,
     "metadata": {
      "internals": {
       "frag_helper": "fragment_end",
       "frag_number": 4
      },
      "slideshow": {
       "slide_type": "skip"
      }
     },
     "source": [
      "Data and reference material"
     ]
    },
    {
     "cell_type": "markdown",
     "metadata": {
      "internals": {
       "frag_helper": "fragment_end",
       "frag_number": 4
      },
      "slideshow": {
       "slide_type": "skip"
      }
     },
     "source": [
      "[Bank Marketing data set](https://archive.ics.uci.edu/ml/datasets/Bank+Marketing)"
     ]
    },
    {
     "cell_type": "heading",
     "level": 2,
     "metadata": {
      "internals": {
       "frag_helper": "fragment_end",
       "frag_number": 4
      },
      "slideshow": {
       "slide_type": "skip"
      }
     },
     "source": [
      "Code"
     ]
    },
    {
     "cell_type": "markdown",
     "metadata": {
      "internals": {
       "frag_helper": "fragment_end",
       "frag_number": 4
      },
      "slideshow": {
       "slide_type": "skip"
      }
     },
     "source": [
      "[Project mcnulty_banking at GitHub](https://github.com/fdurant/mcnulty_banking)"
     ]
    },
    {
     "cell_type": "heading",
     "level": 2,
     "metadata": {
      "internals": {
       "frag_helper": "fragment_end",
       "frag_number": 4
      },
      "slideshow": {
       "slide_type": "skip"
      }
     },
     "source": [
      "Literature"
     ]
    },
    {
     "cell_type": "markdown",
     "metadata": {
      "internals": {
       "frag_helper": "fragment_end",
       "frag_number": 4,
       "slide_helper": "subslide_end"
      },
      "slide_helper": "slide_end",
      "slideshow": {
       "slide_type": "skip"
      }
     },
     "source": [
      "- Chakarin Vajiramedhin and Anirut Suebsing: [Feature Selection with Data Balancing for Prediction of Bank Telemarketing](http://www.m-hikari.com/ams/ams-2014/ams-113-116-2014/vajiramedhinAMS113-116-2014.pdf)\n",
      "\n",
      "- S&eacute;rgio Moro, Paulo Cortez and Paulo Rita: [A Data-Driven Approach to Predict the Success of Bank Telemarketing](http://repositorium.sdum.uminho.pt/xmlui/bitstream/handle/1822/30994/dss-v3.pdf?sequence=1)"
     ]
    },
    {
     "cell_type": "heading",
     "level": 1,
     "metadata": {
      "internals": {
       "frag_helper": "fragment_end",
       "frag_number": 4,
       "slide_type": "subslide"
      },
      "slideshow": {
       "slide_type": "slide"
      }
     },
     "source": [
      "Phase 1: Data preparation & loading"
     ]
    },
    {
     "cell_type": "markdown",
     "metadata": {
      "internals": {
       "frag_helper": "fragment_end",
       "frag_number": 12
      },
      "slideshow": {
       "slide_type": "fragment"
      }
     },
     "source": [
      "We use the [bank-additional.zip](https://archive.ics.uci.edu/ml/machine-learning-databases/00222/bank-additional.zip) data set, unchanged. For pedagogical reasons, we were asked to first load the data in a MySQL database running on a virtual server at [DigitalOcean](https://www.digitalocean.com). This involved writing a [DB schema](https://github.com/fdurant/mcnulty_banking/blob/master/data/bank-additional/bank-additional-schema.sql) as well as a [load command](https://github.com/fdurant/mcnulty_banking/blob/master/data/bank-additional/bank-additional-load-data.sql) in SQL.\n",
      "\n",
      "Let's check if the data are readable from there:"
     ]
    },
    {
     "cell_type": "code",
     "collapsed": false,
     "input": [
      "import pymysql\n",
      "import credentials\n",
      "\n",
      "db = pymysql.connect(host=credentials.host,\n",
      "                     user=credentials.user,\n",
      "                     passwd=credentials.password,\n",
      "                     db='bank')\n",
      "\n",
      "cursor = db.cursor()\n",
      "\n",
      "cursor.execute(\"SELECT * FROM bank_full LIMIT 3\")\n",
      "for i in cursor.fetchall():\n",
      "    print i\n",
      "\n",
      "cursor.close()\n",
      "db.close()"
     ],
     "language": "python",
     "metadata": {
      "internals": {
       "frag_helper": "fragment_end",
       "frag_number": 13,
       "slide_helper": "subslide_end"
      },
      "slide_helper": "slide_end",
      "slideshow": {
       "slide_type": "fragment"
      }
     },
     "outputs": [
      {
       "output_type": "stream",
       "stream": "stdout",
       "text": [
        "(56, 'housemaid', 'married', 'basic.4y', 'no', 'no', 'no', 'telephone', 'may', 'mon', 261, 1, 999, 0, 'nonexistent', 1.1, 93.994, -36.4, 4.857, 5191.0, 'no')\n",
        "(57, 'services', 'married', 'high.school', 'unknown', 'no', 'no', 'telephone', 'may', 'mon', 149, 1, 999, 0, 'nonexistent', 1.1, 93.994, -36.4, 4.857, 5191.0, 'no')\n",
        "(37, 'services', 'married', 'high.school', 'no', 'yes', 'no', 'telephone', 'may', 'mon', 226, 1, 999, 0, 'nonexistent', 1.1, 93.994, -36.4, 4.857, 5191.0, 'no')\n"
       ]
      }
     ],
     "prompt_number": 4
    },
    {
     "cell_type": "markdown",
     "metadata": {
      "internals": {
       "frag_helper": "fragment_end",
       "frag_number": 13,
       "slide_type": "subslide"
      },
      "slideshow": {
       "slide_type": "slide"
      }
     },
     "source": [
      "Now that we know the database connection is up and running, let's read our data directly into a DataFrame:"
     ]
    },
    {
     "cell_type": "code",
     "collapsed": false,
     "input": [
      "import pandas.io.sql as psql\n",
      "db = pymysql.connect(host=credentials.host,\n",
      "                     user=credentials.user,\n",
      "                     passwd=credentials.password,\n",
      "                     db='bank')\n",
      "query = \"SELECT * FROM bank_full;\"\n",
      "bankDF = psql.read_sql(query, con=db)\n",
      "db.close()\n",
      "print \"Number of database records read: %d\" % len(bankDF)\n",
      "print bankDF.columns\n",
      "bankDF.head()"
     ],
     "language": "python",
     "metadata": {
      "internals": {
       "frag_helper": "fragment_end",
       "frag_number": 15,
       "slide_helper": "subslide_end"
      },
      "slide_helper": "slide_end",
      "slideshow": {
       "slide_type": "fragment"
      }
     },
     "outputs": [
      {
       "output_type": "stream",
       "stream": "stdout",
       "text": [
        "Number of database records read: 41188\n",
        "Index([u'age', u'job', u'marital', u'education', u'bank_def', u'housing', u'loan', u'contact', u'contact_month', u'day_of_week', u'duration', u'campaign', u'pdays', u'previous', u'poutcome', u'emp_var_rate', u'cons_price_idx', u'cons_conf_idx', u'euribor3m', u'nr_employed', u'y'], dtype='object')\n"
       ]
      },
      {
       "html": [
        "<div style=\"max-height:1000px;max-width:1500px;overflow:auto;\">\n",
        "<table border=\"1\" class=\"dataframe\">\n",
        "  <thead>\n",
        "    <tr style=\"text-align: right;\">\n",
        "      <th></th>\n",
        "      <th>age</th>\n",
        "      <th>job</th>\n",
        "      <th>marital</th>\n",
        "      <th>education</th>\n",
        "      <th>bank_def</th>\n",
        "      <th>housing</th>\n",
        "      <th>loan</th>\n",
        "      <th>contact</th>\n",
        "      <th>contact_month</th>\n",
        "      <th>day_of_week</th>\n",
        "      <th>...</th>\n",
        "      <th>campaign</th>\n",
        "      <th>pdays</th>\n",
        "      <th>previous</th>\n",
        "      <th>poutcome</th>\n",
        "      <th>emp_var_rate</th>\n",
        "      <th>cons_price_idx</th>\n",
        "      <th>cons_conf_idx</th>\n",
        "      <th>euribor3m</th>\n",
        "      <th>nr_employed</th>\n",
        "      <th>y</th>\n",
        "    </tr>\n",
        "  </thead>\n",
        "  <tbody>\n",
        "    <tr>\n",
        "      <th>0</th>\n",
        "      <td> 56</td>\n",
        "      <td> housemaid</td>\n",
        "      <td> married</td>\n",
        "      <td>    basic.4y</td>\n",
        "      <td>      no</td>\n",
        "      <td>  no</td>\n",
        "      <td>  no</td>\n",
        "      <td> telephone</td>\n",
        "      <td> may</td>\n",
        "      <td> mon</td>\n",
        "      <td>...</td>\n",
        "      <td> 1</td>\n",
        "      <td> 999</td>\n",
        "      <td> 0</td>\n",
        "      <td> nonexistent</td>\n",
        "      <td> 1.1</td>\n",
        "      <td> 93.994</td>\n",
        "      <td>-36.4</td>\n",
        "      <td> 4.857</td>\n",
        "      <td> 5191</td>\n",
        "      <td> no</td>\n",
        "    </tr>\n",
        "    <tr>\n",
        "      <th>1</th>\n",
        "      <td> 57</td>\n",
        "      <td>  services</td>\n",
        "      <td> married</td>\n",
        "      <td> high.school</td>\n",
        "      <td> unknown</td>\n",
        "      <td>  no</td>\n",
        "      <td>  no</td>\n",
        "      <td> telephone</td>\n",
        "      <td> may</td>\n",
        "      <td> mon</td>\n",
        "      <td>...</td>\n",
        "      <td> 1</td>\n",
        "      <td> 999</td>\n",
        "      <td> 0</td>\n",
        "      <td> nonexistent</td>\n",
        "      <td> 1.1</td>\n",
        "      <td> 93.994</td>\n",
        "      <td>-36.4</td>\n",
        "      <td> 4.857</td>\n",
        "      <td> 5191</td>\n",
        "      <td> no</td>\n",
        "    </tr>\n",
        "    <tr>\n",
        "      <th>2</th>\n",
        "      <td> 37</td>\n",
        "      <td>  services</td>\n",
        "      <td> married</td>\n",
        "      <td> high.school</td>\n",
        "      <td>      no</td>\n",
        "      <td> yes</td>\n",
        "      <td>  no</td>\n",
        "      <td> telephone</td>\n",
        "      <td> may</td>\n",
        "      <td> mon</td>\n",
        "      <td>...</td>\n",
        "      <td> 1</td>\n",
        "      <td> 999</td>\n",
        "      <td> 0</td>\n",
        "      <td> nonexistent</td>\n",
        "      <td> 1.1</td>\n",
        "      <td> 93.994</td>\n",
        "      <td>-36.4</td>\n",
        "      <td> 4.857</td>\n",
        "      <td> 5191</td>\n",
        "      <td> no</td>\n",
        "    </tr>\n",
        "    <tr>\n",
        "      <th>3</th>\n",
        "      <td> 40</td>\n",
        "      <td>    admin.</td>\n",
        "      <td> married</td>\n",
        "      <td>    basic.6y</td>\n",
        "      <td>      no</td>\n",
        "      <td>  no</td>\n",
        "      <td>  no</td>\n",
        "      <td> telephone</td>\n",
        "      <td> may</td>\n",
        "      <td> mon</td>\n",
        "      <td>...</td>\n",
        "      <td> 1</td>\n",
        "      <td> 999</td>\n",
        "      <td> 0</td>\n",
        "      <td> nonexistent</td>\n",
        "      <td> 1.1</td>\n",
        "      <td> 93.994</td>\n",
        "      <td>-36.4</td>\n",
        "      <td> 4.857</td>\n",
        "      <td> 5191</td>\n",
        "      <td> no</td>\n",
        "    </tr>\n",
        "    <tr>\n",
        "      <th>4</th>\n",
        "      <td> 56</td>\n",
        "      <td>  services</td>\n",
        "      <td> married</td>\n",
        "      <td> high.school</td>\n",
        "      <td>      no</td>\n",
        "      <td>  no</td>\n",
        "      <td> yes</td>\n",
        "      <td> telephone</td>\n",
        "      <td> may</td>\n",
        "      <td> mon</td>\n",
        "      <td>...</td>\n",
        "      <td> 1</td>\n",
        "      <td> 999</td>\n",
        "      <td> 0</td>\n",
        "      <td> nonexistent</td>\n",
        "      <td> 1.1</td>\n",
        "      <td> 93.994</td>\n",
        "      <td>-36.4</td>\n",
        "      <td> 4.857</td>\n",
        "      <td> 5191</td>\n",
        "      <td> no</td>\n",
        "    </tr>\n",
        "  </tbody>\n",
        "</table>\n",
        "<p>5 rows \u00d7 21 columns</p>\n",
        "</div>"
       ],
       "metadata": {},
       "output_type": "pyout",
       "prompt_number": 5,
       "text": [
        "   age        job  marital    education bank_def housing loan    contact  \\\n",
        "0   56  housemaid  married     basic.4y       no      no   no  telephone   \n",
        "1   57   services  married  high.school  unknown      no   no  telephone   \n",
        "2   37   services  married  high.school       no     yes   no  telephone   \n",
        "3   40     admin.  married     basic.6y       no      no   no  telephone   \n",
        "4   56   services  married  high.school       no      no  yes  telephone   \n",
        "\n",
        "  contact_month day_of_week ...  campaign  pdays  previous     poutcome  \\\n",
        "0           may         mon ...         1    999         0  nonexistent   \n",
        "1           may         mon ...         1    999         0  nonexistent   \n",
        "2           may         mon ...         1    999         0  nonexistent   \n",
        "3           may         mon ...         1    999         0  nonexistent   \n",
        "4           may         mon ...         1    999         0  nonexistent   \n",
        "\n",
        "  emp_var_rate  cons_price_idx  cons_conf_idx  euribor3m  nr_employed   y  \n",
        "0          1.1          93.994          -36.4      4.857         5191  no  \n",
        "1          1.1          93.994          -36.4      4.857         5191  no  \n",
        "2          1.1          93.994          -36.4      4.857         5191  no  \n",
        "3          1.1          93.994          -36.4      4.857         5191  no  \n",
        "4          1.1          93.994          -36.4      4.857         5191  no  \n",
        "\n",
        "[5 rows x 21 columns]"
       ]
      }
     ],
     "prompt_number": 5
    },
    {
     "cell_type": "markdown",
     "metadata": {
      "internals": {
       "frag_helper": "fragment_end",
       "frag_number": 15,
       "slide_type": "subslide"
      },
      "slideshow": {
       "slide_type": "slide"
      }
     },
     "source": [
      "Most of our models can't handle the categorical fields, so our next step is to convert them to dummy numerical variables."
     ]
    },
    {
     "cell_type": "code",
     "collapsed": false,
     "input": [
      "import pandas as pd\n",
      "import numpy as np\n",
      "tmpDF = bankDF.copy()\n",
      "tmpDF.y.replace(to_replace=['yes','no'], value=[1,0], inplace=True)\n",
      "\n",
      "# Delete the field(s) unknown before the call is made\n",
      "nonAvailableFields = ['duration']\n",
      "for field in nonAvailableFields:\n",
      "    tmpDF.drop(field, axis=1, inplace=True)\n",
      "\n",
      "# Key: categorical field name\n",
      "# Value: list of abbreviation and post-dummification redundant field\n",
      "categoricalFields = {'job':['job','unknown'],\n",
      "                     'marital':['mar','unknown'],\n",
      "                     'education':['ed','unknown'],\n",
      "                     'bank_def':['def','unknown'],\n",
      "                     'housing':['h','unknown'],\n",
      "                     'loan':['loan','unknown'],\n",
      "                     'contact':['cntct','telephone'],\n",
      "                     'contact_month':['cntct',None], # Because 'jan' and 'feb' are missing in the data, despite being plausible\n",
      "                     'day_of_week':['dow','fri'], # Even though 'sat' and 'sun' are missing, these are not plausible values\n",
      "                     'poutcome':['pout','nonexistent'],\n",
      "                           }\n",
      "# Convert all categorical fields in dummy numerical ones\n",
      "# AND delete one dummified field because it contains redundant information\n",
      "for (categoricalField, value) in categoricalFields.iteritems():\n",
      "    (prefix, dummifiedRedundantField) = value\n",
      "    tmpDF = pd.concat([tmpDF, pd.get_dummies(tmpDF[categoricalField], prefix=prefix)], axis=1)\n",
      "    if dummifiedRedundantField:\n",
      "        tmpDF.drop(\"%s_%s\" % (prefix, dummifiedRedundantField), axis=1, inplace=True)\n",
      "\n",
      "# of course, also delete the categorical fields\n",
      "for (categoricalField,_) in categoricalFields.iteritems():\n",
      "    tmpDF.drop(categoricalField, axis=1, inplace=True)\n",
      "bankDF2 = tmpDF.copy()\n",
      "print bankDF2.columns\n",
      "bankDF2.head()"
     ],
     "language": "python",
     "metadata": {
      "internals": {
       "frag_helper": "fragment_end",
       "frag_number": 17,
       "slide_helper": "subslide_end"
      },
      "slide_helper": "slide_end",
      "slideshow": {
       "slide_type": "fragment"
      }
     },
     "outputs": [
      {
       "output_type": "stream",
       "stream": "stdout",
       "text": [
        "Index([u'age', u'campaign', u'pdays', u'previous', u'emp_var_rate', u'cons_price_idx', u'cons_conf_idx', u'euribor3m', u'nr_employed', u'y', u'job_admin.', u'job_blue-collar', u'job_entrepreneur', u'job_housemaid', u'job_management', u'job_retired', u'job_self-employed', u'job_services', u'job_student', u'job_technician', u'job_unemployed', u'cntct_cellular', u'pout_failure', u'pout_success', u'dow_mon', u'dow_thu', u'dow_tue', u'dow_wed', u'cntct_apr', u'cntct_aug', u'cntct_dec', u'cntct_jul', u'cntct_jun', u'cntct_mar', u'cntct_may', u'cntct_nov', u'cntct_oct', u'cntct_sep', u'h_no', u'h_yes', u'ed_basic.4y', u'ed_basic.6y', u'ed_basic.9y', u'ed_high.school', u'ed_illiterate', u'ed_professional.course', u'ed_university.degree', u'loan_no', u'loan_yes', u'def_no', u'def_yes', u'mar_divorced', u'mar_married', u'mar_single'], dtype='object')\n"
       ]
      },
      {
       "html": [
        "<div style=\"max-height:1000px;max-width:1500px;overflow:auto;\">\n",
        "<table border=\"1\" class=\"dataframe\">\n",
        "  <thead>\n",
        "    <tr style=\"text-align: right;\">\n",
        "      <th></th>\n",
        "      <th>age</th>\n",
        "      <th>campaign</th>\n",
        "      <th>pdays</th>\n",
        "      <th>previous</th>\n",
        "      <th>emp_var_rate</th>\n",
        "      <th>cons_price_idx</th>\n",
        "      <th>cons_conf_idx</th>\n",
        "      <th>euribor3m</th>\n",
        "      <th>nr_employed</th>\n",
        "      <th>y</th>\n",
        "      <th>...</th>\n",
        "      <th>ed_illiterate</th>\n",
        "      <th>ed_professional.course</th>\n",
        "      <th>ed_university.degree</th>\n",
        "      <th>loan_no</th>\n",
        "      <th>loan_yes</th>\n",
        "      <th>def_no</th>\n",
        "      <th>def_yes</th>\n",
        "      <th>mar_divorced</th>\n",
        "      <th>mar_married</th>\n",
        "      <th>mar_single</th>\n",
        "    </tr>\n",
        "  </thead>\n",
        "  <tbody>\n",
        "    <tr>\n",
        "      <th>0</th>\n",
        "      <td> 56</td>\n",
        "      <td> 1</td>\n",
        "      <td> 999</td>\n",
        "      <td> 0</td>\n",
        "      <td> 1.1</td>\n",
        "      <td> 93.994</td>\n",
        "      <td>-36.4</td>\n",
        "      <td> 4.857</td>\n",
        "      <td> 5191</td>\n",
        "      <td> 0</td>\n",
        "      <td>...</td>\n",
        "      <td> 0</td>\n",
        "      <td> 0</td>\n",
        "      <td> 0</td>\n",
        "      <td> 1</td>\n",
        "      <td> 0</td>\n",
        "      <td> 1</td>\n",
        "      <td> 0</td>\n",
        "      <td> 0</td>\n",
        "      <td> 1</td>\n",
        "      <td> 0</td>\n",
        "    </tr>\n",
        "    <tr>\n",
        "      <th>1</th>\n",
        "      <td> 57</td>\n",
        "      <td> 1</td>\n",
        "      <td> 999</td>\n",
        "      <td> 0</td>\n",
        "      <td> 1.1</td>\n",
        "      <td> 93.994</td>\n",
        "      <td>-36.4</td>\n",
        "      <td> 4.857</td>\n",
        "      <td> 5191</td>\n",
        "      <td> 0</td>\n",
        "      <td>...</td>\n",
        "      <td> 0</td>\n",
        "      <td> 0</td>\n",
        "      <td> 0</td>\n",
        "      <td> 1</td>\n",
        "      <td> 0</td>\n",
        "      <td> 0</td>\n",
        "      <td> 0</td>\n",
        "      <td> 0</td>\n",
        "      <td> 1</td>\n",
        "      <td> 0</td>\n",
        "    </tr>\n",
        "    <tr>\n",
        "      <th>2</th>\n",
        "      <td> 37</td>\n",
        "      <td> 1</td>\n",
        "      <td> 999</td>\n",
        "      <td> 0</td>\n",
        "      <td> 1.1</td>\n",
        "      <td> 93.994</td>\n",
        "      <td>-36.4</td>\n",
        "      <td> 4.857</td>\n",
        "      <td> 5191</td>\n",
        "      <td> 0</td>\n",
        "      <td>...</td>\n",
        "      <td> 0</td>\n",
        "      <td> 0</td>\n",
        "      <td> 0</td>\n",
        "      <td> 1</td>\n",
        "      <td> 0</td>\n",
        "      <td> 1</td>\n",
        "      <td> 0</td>\n",
        "      <td> 0</td>\n",
        "      <td> 1</td>\n",
        "      <td> 0</td>\n",
        "    </tr>\n",
        "    <tr>\n",
        "      <th>3</th>\n",
        "      <td> 40</td>\n",
        "      <td> 1</td>\n",
        "      <td> 999</td>\n",
        "      <td> 0</td>\n",
        "      <td> 1.1</td>\n",
        "      <td> 93.994</td>\n",
        "      <td>-36.4</td>\n",
        "      <td> 4.857</td>\n",
        "      <td> 5191</td>\n",
        "      <td> 0</td>\n",
        "      <td>...</td>\n",
        "      <td> 0</td>\n",
        "      <td> 0</td>\n",
        "      <td> 0</td>\n",
        "      <td> 1</td>\n",
        "      <td> 0</td>\n",
        "      <td> 1</td>\n",
        "      <td> 0</td>\n",
        "      <td> 0</td>\n",
        "      <td> 1</td>\n",
        "      <td> 0</td>\n",
        "    </tr>\n",
        "    <tr>\n",
        "      <th>4</th>\n",
        "      <td> 56</td>\n",
        "      <td> 1</td>\n",
        "      <td> 999</td>\n",
        "      <td> 0</td>\n",
        "      <td> 1.1</td>\n",
        "      <td> 93.994</td>\n",
        "      <td>-36.4</td>\n",
        "      <td> 4.857</td>\n",
        "      <td> 5191</td>\n",
        "      <td> 0</td>\n",
        "      <td>...</td>\n",
        "      <td> 0</td>\n",
        "      <td> 0</td>\n",
        "      <td> 0</td>\n",
        "      <td> 0</td>\n",
        "      <td> 1</td>\n",
        "      <td> 1</td>\n",
        "      <td> 0</td>\n",
        "      <td> 0</td>\n",
        "      <td> 1</td>\n",
        "      <td> 0</td>\n",
        "    </tr>\n",
        "  </tbody>\n",
        "</table>\n",
        "<p>5 rows \u00d7 54 columns</p>\n",
        "</div>"
       ],
       "metadata": {},
       "output_type": "pyout",
       "prompt_number": 6,
       "text": [
        "   age  campaign  pdays  previous  emp_var_rate  cons_price_idx  \\\n",
        "0   56         1    999         0           1.1          93.994   \n",
        "1   57         1    999         0           1.1          93.994   \n",
        "2   37         1    999         0           1.1          93.994   \n",
        "3   40         1    999         0           1.1          93.994   \n",
        "4   56         1    999         0           1.1          93.994   \n",
        "\n",
        "   cons_conf_idx  euribor3m  nr_employed  y     ...      ed_illiterate  \\\n",
        "0          -36.4      4.857         5191  0     ...                  0   \n",
        "1          -36.4      4.857         5191  0     ...                  0   \n",
        "2          -36.4      4.857         5191  0     ...                  0   \n",
        "3          -36.4      4.857         5191  0     ...                  0   \n",
        "4          -36.4      4.857         5191  0     ...                  0   \n",
        "\n",
        "   ed_professional.course  ed_university.degree  loan_no  loan_yes  def_no  \\\n",
        "0                       0                     0        1         0       1   \n",
        "1                       0                     0        1         0       0   \n",
        "2                       0                     0        1         0       1   \n",
        "3                       0                     0        1         0       1   \n",
        "4                       0                     0        0         1       1   \n",
        "\n",
        "   def_yes  mar_divorced  mar_married  mar_single  \n",
        "0        0             0            1           0  \n",
        "1        0             0            1           0  \n",
        "2        0             0            1           0  \n",
        "3        0             0            1           0  \n",
        "4        0             0            1           0  \n",
        "\n",
        "[5 rows x 54 columns]"
       ]
      }
     ],
     "prompt_number": 6
    },
    {
     "cell_type": "heading",
     "level": 1,
     "metadata": {
      "internals": {
       "frag_helper": "fragment_end",
       "frag_number": 17,
       "slide_type": "subslide"
      },
      "slideshow": {
       "slide_type": "slide"
      }
     },
     "source": [
      "Phase 2: model building and evaluation"
     ]
    },
    {
     "cell_type": "heading",
     "level": 2,
     "metadata": {
      "internals": {
       "frag_helper": "fragment_end",
       "frag_number": 19
      },
      "slideshow": {
       "slide_type": "fragment"
      }
     },
     "source": [
      "Shared settings and initializations"
     ]
    },
    {
     "cell_type": "code",
     "collapsed": false,
     "input": [
      "%matplotlib inline\n",
      "import sys\n",
      "from sklearn.cross_validation import cross_val_score, KFold\n",
      "from sklearn.metrics import roc_auc_score\n",
      "from sklearn import preprocessing\n",
      "from matplotlib import pyplot as plt\n",
      "from math import log10\n",
      "from time import sleep\n",
      "\n",
      "X_values = bankDF2.copy()\n",
      "X_values.drop('y', axis=1, inplace=True)\n",
      "y_values = bankDF2['y']\n",
      "\n",
      "# Scale the X values\n",
      "X_values_scaled = preprocessing.scale(X_values.astype(float))\n",
      "\n",
      "scorerType = 'roc_auc'\n",
      "\n",
      "nrCrossValidationFolds=10\n",
      "# We MUST shuffle, because the data seem to be somehow ordered by date,\n",
      "# resulting in grouped rows of similar socio-economic value combinations!!!\n",
      "cvGenerator = KFold(len(X_values), n_folds=nrCrossValidationFolds, shuffle=True)  \n",
      "\n",
      "bestLogCValue = None\n",
      "bestKValue = None\n",
      "bestNrEst = None\n",
      "bestMaxFeat = None\n",
      "\n",
      "print X_values_scaled[0:3]"
     ],
     "language": "python",
     "metadata": {
      "internals": {
       "frag_helper": "fragment_end",
       "frag_number": 20
      },
      "slideshow": {
       "slide_type": "fragment"
      }
     },
     "outputs": [
      {
       "output_type": "stream",
       "stream": "stdout",
       "text": [
        "[[ 1.53303429 -0.56592197  0.1954139  -0.34949428  0.64809227  0.72272247\n",
        "   0.88644656  0.71245988  0.33167991 -0.58202282 -0.53831699 -0.19143021\n",
        "   6.15277204 -0.2764353  -0.2087573  -0.18903213 -0.3265564  -0.1473267\n",
        "  -0.44244927 -0.15887166 -1.31826996 -0.3392905  -0.1857      1.95899952\n",
        "  -0.51458089 -0.49439422 -0.4960667  -0.26127446 -0.42007603 -0.06662113\n",
        "  -0.45925282 -0.38504233 -0.11590677  1.41115463 -0.33253245 -0.13319736\n",
        "  -0.11846175  1.10081447 -1.04887691  2.97708361 -0.24274754 -0.41474269\n",
        "  -0.54809999 -0.0209096  -0.38191849 -0.64753149  0.46173139 -0.42287213\n",
        "   0.51371278 -0.00853476 -0.35509663  0.80763764 -0.62493754]\n",
        " [ 1.62899323 -0.56592197  0.1954139  -0.34949428  0.64809227  0.72272247\n",
        "   0.88644656  0.71245988  0.33167991 -0.58202282 -0.53831699 -0.19143021\n",
        "  -0.16252837 -0.2764353  -0.2087573  -0.18903213  3.06225816 -0.1473267\n",
        "  -0.44244927 -0.15887166 -1.31826996 -0.3392905  -0.1857      1.95899952\n",
        "  -0.51458089 -0.49439422 -0.4960667  -0.26127446 -0.42007603 -0.06662113\n",
        "  -0.45925282 -0.38504233 -0.11590677  1.41115463 -0.33253245 -0.13319736\n",
        "  -0.11846175  1.10081447 -1.04887691 -0.3358992  -0.24274754 -0.41474269\n",
        "   1.82448461 -0.0209096  -0.38191849 -0.64753149  0.46173139 -0.42287213\n",
        "  -1.94661304 -0.00853476 -0.35509663  0.80763764 -0.62493754]\n",
        " [-0.29018564 -0.56592197  0.1954139  -0.34949428  0.64809227  0.72272247\n",
        "   0.88644656  0.71245988  0.33167991 -0.58202282 -0.53831699 -0.19143021\n",
        "  -0.16252837 -0.2764353  -0.2087573  -0.18903213  3.06225816 -0.1473267\n",
        "  -0.44244927 -0.15887166 -1.31826996 -0.3392905  -0.1857      1.95899952\n",
        "  -0.51458089 -0.49439422 -0.4960667  -0.26127446 -0.42007603 -0.06662113\n",
        "  -0.45925282 -0.38504233 -0.11590677  1.41115463 -0.33253245 -0.13319736\n",
        "  -0.11846175 -0.90841829  0.95340072 -0.3358992  -0.24274754 -0.41474269\n",
        "   1.82448461 -0.0209096  -0.38191849 -0.64753149  0.46173139 -0.42287213\n",
        "   0.51371278 -0.00853476 -0.35509663  0.80763764 -0.62493754]]\n"
       ]
      }
     ],
     "prompt_number": 10
    },
    {
     "cell_type": "heading",
     "level": 2,
     "metadata": {
      "internals": {
       "frag_helper": "fragment_end",
       "frag_number": 20
      },
      "slideshow": {
       "slide_type": "skip"
      }
     },
     "source": [
      "Logistic regression"
     ]
    },
    {
     "cell_type": "code",
     "collapsed": false,
     "input": [
      "from sklearn.linear_model import LogisticRegression\n",
      "\n",
      "cValues = [pow(10,(x-10)) for x in range(20)]\n",
      "#print \"cValues = \", cValues \n",
      "\n",
      "# selects weights inversely proportional to class frequencies in the training set\n",
      "# See http://scikit-learn.org/stable/modules/generated/sklearn.linear_model.LogisticRegression.html\n",
      "#classWeight = 'auto'\n",
      "classWeight = None\n",
      "\n",
      "estimators = []\n",
      "scoreList = []\n",
      "for i in range(len(cValues)):\n",
      "    c = cValues[i]\n",
      "    print >> sys.stderr, \"(%d/%d) Building logres model for C value %1.15f ...\" % (i+1,len(cValues),c),\n",
      "    estimator = LogisticRegression(C=c,class_weight=classWeight)\n",
      "    print >> sys.stderr, \"applying it ...\",\n",
      "    scores = cross_val_score(estimator, X_values_scaled, y=y_values, scoring=scorerType, cv=cvGenerator, n_jobs=1)\n",
      "    estimators.append(estimator)\n",
      "    scoreList.append((scores.mean(),scores.std()))\n",
      "    print >> sys.stderr, \"done\"\n",
      "sleep(1)\n",
      "\n",
      "print \"scoreList = \", scoreList\n",
      "meanScores = [x[0] for x in scoreList]\n",
      "\n",
      "bestModelIndex = meanScores.index(max(meanScores))\n",
      "print \"best logres model has:\"\n",
      "print \"%s score: %2.2f%% (+/- %2.2f%%)\" % (scorerType, scoreList[bestModelIndex][0] * 100, scoreList[bestModelIndex][1] * 100)\n",
      "bestCValue = cValues[bestModelIndex]\n",
      "bestLogCValue = log10(bestCValue)\n",
      "print \"C value: \", bestCValue\n",
      "print \"log10(C) value: \", bestLogCValue\n",
      "\n",
      "fig = plt.figure()\n",
      "plt.plot([log10(c) for c in cValues],[x[0] for x in scoreList], 'o-'\u001c",
      ", color='g', label='mean')\n",
      "plt.fill_between([log10(c) for c in cValues], [x[0]-x[1] for x in scoreList],\n",
      "                 [x[0]+x[1] for x in scoreList], alpha=0.1,\n",
      "                 color=\"g\", label='standard deviation')\n",
      "plt.title(\"Classification score on subscription prediction\\nwith logres model using various C values\")\n",
      "plt.xlabel(\"log10(C)\")\n",
      "plt.ylabel(scorerType)\n",
      "plt.legend(loc='best')\n",
      "plt.show()"
     ],
     "language": "python",
     "metadata": {
      "internals": {
       "frag_helper": "fragment_end",
       "frag_number": 20
      },
      "slideshow": {
       "slide_type": "skip"
      }
     },
     "outputs": [
      {
       "output_type": "stream",
       "stream": "stderr",
       "text": [
        "(1/20) Building logres model for C value 0.000000000100000 ... applying it ... "
       ]
      },
      {
       "output_type": "stream",
       "stream": "stderr",
       "text": [
        "done\n",
        "(2/20) Building logres model for C value 0.000000001000000 ... applying it ... "
       ]
      },
      {
       "output_type": "stream",
       "stream": "stderr",
       "text": [
        "done\n",
        "(3/20) Building logres model for C value 0.000000010000000 ... applying it ... "
       ]
      },
      {
       "output_type": "stream",
       "stream": "stderr",
       "text": [
        "done\n",
        "(4/20) Building logres model for C value 0.000000100000000 ... applying it ... "
       ]
      },
      {
       "output_type": "stream",
       "stream": "stderr",
       "text": [
        "done\n",
        "(5/20) Building logres model for C value 0.000001000000000 ... applying it ... "
       ]
      },
      {
       "output_type": "stream",
       "stream": "stderr",
       "text": [
        "done\n",
        "(6/20) Building logres model for C value 0.000010000000000 ... applying it ... "
       ]
      },
      {
       "output_type": "stream",
       "stream": "stderr",
       "text": [
        "done\n",
        "(7/20) Building logres model for C value 0.000100000000000 ... applying it ... "
       ]
      },
      {
       "output_type": "stream",
       "stream": "stderr",
       "text": [
        "done\n",
        "(8/20) Building logres model for C value 0.001000000000000 ... applying it ... "
       ]
      },
      {
       "output_type": "stream",
       "stream": "stderr",
       "text": [
        "done\n",
        "(9/20) Building logres model for C value 0.010000000000000 ... applying it ... "
       ]
      },
      {
       "output_type": "stream",
       "stream": "stderr",
       "text": [
        "done\n",
        "(10/20) Building logres model for C value 0.100000000000000 ... applying it ... "
       ]
      },
      {
       "output_type": "stream",
       "stream": "stderr",
       "text": [
        "done\n",
        "(11/20) Building logres model for C value 1.000000000000000 ... applying it ... "
       ]
      },
      {
       "output_type": "stream",
       "stream": "stderr",
       "text": [
        "done\n",
        "(12/20) Building logres model for C value 10.000000000000000 ... applying it ... "
       ]
      },
      {
       "output_type": "stream",
       "stream": "stderr",
       "text": [
        "done\n",
        "(13/20) Building logres model for C value 100.000000000000000 ... applying it ... "
       ]
      },
      {
       "output_type": "stream",
       "stream": "stderr",
       "text": [
        "done\n",
        "(14/20) Building logres model for C value 1000.000000000000000 ... applying it ... "
       ]
      },
      {
       "output_type": "stream",
       "stream": "stderr",
       "text": [
        "done\n",
        "(15/20) Building logres model for C value 10000.000000000000000 ... applying it ... "
       ]
      },
      {
       "output_type": "stream",
       "stream": "stderr",
       "text": [
        "done\n",
        "(16/20) Building logres model for C value 100000.000000000000000 ... applying it ... "
       ]
      },
      {
       "output_type": "stream",
       "stream": "stderr",
       "text": [
        "done\n",
        "(17/20) Building logres model for C value 1000000.000000000000000 ... applying it ... "
       ]
      },
      {
       "output_type": "stream",
       "stream": "stderr",
       "text": [
        "done\n",
        "(18/20) Building logres model for C value 10000000.000000000000000 ... applying it ... "
       ]
      },
      {
       "output_type": "stream",
       "stream": "stderr",
       "text": [
        "done\n",
        "(19/20) Building logres model for C value 100000000.000000000000000 ... applying it ... "
       ]
      },
      {
       "output_type": "stream",
       "stream": "stderr",
       "text": [
        "done\n",
        "(20/20) Building logres model for C value 1000000000.000000000000000 ... applying it ... "
       ]
      },
      {
       "output_type": "stream",
       "stream": "stdout",
       "text": [
        "scoreList =  [(0.76852571340135201, 0.016463698449512152), (0.77555574459894383, 0.017061109431462957), (0.77555610632183902, 0.017065624707790623), (0.77559732642829915, 0.01706547966110734), (0.77597622548078626, 0.017069806522444511), (0.7786691093726047, 0.017036379287597259), (0.78583117260986424, 0.01711158786349817), (0.78987643548311071, 0.01685217367900127), (0.79051523036065141, 0.016962987811507728), (0.79166500385400185, 0.017292779904744631), (0.79135430059022993, 0.017505072559269128), (0.7912842310188487, 0.017524008065868173), (0.79127626374589888, 0.017529354360457623), (0.79127599556336015, 0.017529210755019137), (0.79127671197608807, 0.017529150341335106), (0.79127612474980757, 0.017529090324544132), (0.79127633803373587, 0.017528895425720833), (0.79127643477927667, 0.017528981082963406), (0.79127602533914365, 0.01752923660087486), (0.79127588400279947, 0.017529221900152311)]\n",
        "best logres model has:\n",
        "roc_auc score: 79.17% (+/- 1.73%)\n",
        "C value:  0.1\n",
        "log10(C) value:  -1.0\n"
       ]
      },
      {
       "output_type": "stream",
       "stream": "stderr",
       "text": [
        "done\n"
       ]
      },
      {
       "metadata": {},
       "output_type": "display_data",
       "png": "[encoded data removed]",
       "text": [
        "<matplotlib.figure.Figure at 0x10cc14f10>"
       ]
      }
     ],
     "prompt_number": 7
    },
    {
     "cell_type": "heading",
     "level": 2,
     "metadata": {
      "internals": {
       "frag_helper": "fragment_end",
       "frag_number": 20
      },
      "slideshow": {
       "slide_type": "skip"
      }
     },
     "source": [
      "K Nearest Neighbors"
     ]
    },
    {
     "cell_type": "code",
     "collapsed": false,
     "input": [
      "from sklearn.neighbors import KNeighborsClassifier\n",
      "\n",
      "#kValues = range(1,31)\n",
      "kValues = range(25,31) # In order to gain some processing time\n",
      "\n",
      "estimators = []\n",
      "scoreList = []\n",
      "for i in range(len(kValues)):\n",
      "    k = kValues[i]\n",
      "    print >> sys.stderr, \"(%d/%d) Building %d nearest neighbor model ...\" % (i+1,len(kValues),k),\n",
      "    estimator = KNeighborsClassifier(n_neighbors=k)\n",
      "    print >> sys.stderr, \"applying it ...\",\n",
      "    scores = cross_val_score(estimator, X_values_scaled, y=y_values, scoring=scorerType, cv=cvGenerator, n_jobs=1)\n",
      "    estimators.append(estimator)\n",
      "    scoreList.append((scores.mean(),scores.std()))\n",
      "    print >> sys.stderr, \"done\"\n",
      "sleep(1)\n",
      "\n",
      "print \"scoreList = \", scoreList\n",
      "meanScores = [x[0] for x in scoreList]\n",
      "\n",
      "bestModelIndex = meanScores.index(max(meanScores))\n",
      "print \"best KNN model has:\"\n",
      "print \"%s score: %2.2f%% (+/- %2.2f%%)\" % (scorerType, scoreList[bestModelIndex][0] * 100, scoreList[bestModelIndex][1] * 100)\n",
      "bestKValue = kValues[bestModelIndex]\n",
      "print \"K value: \", bestKValue\n",
      "\n",
      "fig = plt.figure()\n",
      "plt.plot([k for k in kValues],[x[0] for x in scoreList], 'o-'\u001c",
      ", color='g', label='mean')\n",
      "plt.fill_between([k for k in kValues], [x[0]-x[1] for x in scoreList],\n",
      "                 [x[0]+x[1] for x in scoreList], alpha=0.1,\n",
      "                 color=\"g\", label='standard deviation')\n",
      "plt.title(\"Classification score on subscription prediction\\nwith K nearest neighbor model using various K values\")\n",
      "plt.xlabel(\"K\")\n",
      "plt.ylabel(scorerType)\n",
      "plt.legend(loc='best')\n",
      "plt.show()"
     ],
     "language": "python",
     "metadata": {
      "internals": {
       "frag_helper": "fragment_end",
       "frag_number": 20
      },
      "slideshow": {
       "slide_type": "skip"
      }
     },
     "outputs": [
      {
       "output_type": "stream",
       "stream": "stderr",
       "text": [
        "(1/6) Building 25 nearest neighbor model ... applying it ... "
       ]
      },
      {
       "output_type": "stream",
       "stream": "stderr",
       "text": [
        "done\n",
        "(2/6) Building 26 nearest neighbor model ... applying it ... "
       ]
      },
      {
       "output_type": "stream",
       "stream": "stderr",
       "text": [
        "done\n",
        "(3/6) Building 27 nearest neighbor model ... applying it ... "
       ]
      },
      {
       "output_type": "stream",
       "stream": "stderr",
       "text": [
        "done\n",
        "(4/6) Building 28 nearest neighbor model ... applying it ... "
       ]
      },
      {
       "output_type": "stream",
       "stream": "stderr",
       "text": [
        "done\n",
        "(5/6) Building 29 nearest neighbor model ... applying it ... "
       ]
      },
      {
       "output_type": "stream",
       "stream": "stderr",
       "text": [
        "done\n",
        "(6/6) Building 30 nearest neighbor model ... applying it ... "
       ]
      },
      {
       "output_type": "stream",
       "stream": "stdout",
       "text": [
        "scoreList =  [(0.76609182520079488, 0.017061429481383547), (0.76587143240413358, 0.01775989222684619), (0.7663135868986104, 0.017552408550698933), (0.76707292007507977, 0.01716530390755228), (0.76773801717784218, 0.016365780456108418), (0.76878066514501531, 0.016299571914118249)]\n",
        "best KNN model has:\n",
        "roc_auc score: 76.88% (+/- 1.63%)\n",
        "K value:  30\n"
       ]
      },
      {
       "output_type": "stream",
       "stream": "stderr",
       "text": [
        "done\n"
       ]
      },
      {
       "metadata": {},
       "output_type": "display_data",
       "png": "[encoded data removed]",
       "text": [
        "<matplotlib.figure.Figure at 0x10cc0e110>"
       ]
      }
     ],
     "prompt_number": 8
    },
    {
     "cell_type": "heading",
     "level": 2,
     "metadata": {
      "internals": {
       "frag_helper": "fragment_end",
       "frag_number": 20
      },
      "slideshow": {
       "slide_type": "skip"
      }
     },
     "source": [
      "Random forest"
     ]
    },
    {
     "cell_type": "code",
     "collapsed": false,
     "input": [
      "from sklearn.ensemble import RandomForestClassifier\n",
      "import itertools\n",
      "from math import log\n",
      "\n",
      "nrEstimators = [pow(2,x) for x in range(7,9)]\n",
      "maxFeatures = [pow(2,x) for x in range(1,int(log(len(X_values.columns.values.tolist()))+2))]\n",
      "\n",
      "rfConfigurations = list(itertools.product(*[nrEstimators,maxFeatures]))\n",
      "print \"configurations: \", rfConfigurations\n",
      "\n",
      "scoreList = []\n",
      "for i in range(len(rfConfigurations)):\n",
      "    nrEst, maxFeat = rfConfigurations[i]\n",
      "    print >> sys.stderr, \"(%d/%d) Building random forest model with %d estimators and maximum %d features ...\" % (i+1,len(rfConfigurations),nrEst,maxFeat),\n",
      "    estimator = RandomForestClassifier(n_estimators=nrEst, max_features=maxFeat)\n",
      "    print >> sys.stderr, \"applying it ...\",\n",
      "    scores = cross_val_score(estimator, X_values_scaled, y=y_values, scoring=scorerType, cv=cvGenerator, n_jobs=1)\n",
      "    scoreList.append((scores.mean(),scores.std()))\n",
      "    print >> sys.stderr, \"done\"\n",
      "sleep(1)\n",
      "\n",
      "print \"scoreList = \", scoreList\n",
      "meanScores = [x[0] for x in scoreList]\n",
      "\n",
      "bestModelIndex = meanScores.index(max(meanScores))\n",
      "print \"best Random Forest model has:\"\n",
      "print \"%s score: %2.2f%% (+/- %2.2f%%)\" % (scorerType, scoreList[bestModelIndex][0] * 100, scoreList[bestModelIndex][1] * 100)\n",
      "bestNrEst, bestMaxFeat = rfConfigurations[bestModelIndex]\n",
      "print \"n_estimators: \", bestNrEst\n",
      "print \"max_features: \", bestMaxFeat\n",
      "\n",
      "fig = plt.figure()\n",
      "plt.plot([conf for conf in range(1,len(rfConfigurations)+1)],[x[0] for x in scoreList], 'o-'\u001c",
      ", color='g', label='mean')\n",
      "plt.fill_between([conf for conf in range(1,len(rfConfigurations)+1)], [x[0]-x[1] for x in scoreList],\n",
      "                 [x[0]+x[1] for x in scoreList], alpha=0.1,\n",
      "                 color=\"g\", label='standard deviation')\n",
      "plt.title(\"Classification score on subscription prediction\\nwith Random Forest model using various configurations\")\n",
      "plt.xlabel(\"Configuration ID (nr estimators, max features)\")\n",
      "plt.ylabel(scorerType)\n",
      "plt.legend(loc='best')\n",
      "plt.show()"
     ],
     "language": "python",
     "metadata": {
      "internals": {
       "frag_helper": "fragment_end",
       "frag_number": 20,
       "slide_helper": "subslide_end"
      },
      "slide_helper": "slide_end",
      "slideshow": {
       "slide_type": "skip"
      }
     },
     "outputs": [
      {
       "output_type": "stream",
       "stream": "stderr",
       "text": [
        "(1/8) Building random forest model with 128 estimators and maximum 2 features ... applying it ... "
       ]
      },
      {
       "output_type": "stream",
       "stream": "stderr",
       "text": [
        "done\n",
        "(2/8) Building random forest model with 128 estimators and maximum 4 features ... applying it ... "
       ]
      },
      {
       "output_type": "stream",
       "stream": "stderr",
       "text": [
        "done\n",
        "(3/8) Building random forest model with 128 estimators and maximum 8 features ... applying it ... "
       ]
      },
      {
       "output_type": "stream",
       "stream": "stderr",
       "text": [
        "done\n",
        "(4/8) Building random forest model with 128 estimators and maximum 16 features ... applying it ... "
       ]
      },
      {
       "output_type": "stream",
       "stream": "stderr",
       "text": [
        "done\n",
        "(5/8) Building random forest model with 256 estimators and maximum 2 features ... applying it ... "
       ]
      },
      {
       "output_type": "stream",
       "stream": "stderr",
       "text": [
        "done\n",
        "(6/8) Building random forest model with 256 estimators and maximum 4 features ... applying it ... "
       ]
      },
      {
       "output_type": "stream",
       "stream": "stderr",
       "text": [
        "done\n",
        "(7/8) Building random forest model with 256 estimators and maximum 8 features ... applying it ... "
       ]
      },
      {
       "output_type": "stream",
       "stream": "stderr",
       "text": [
        "done\n",
        "(8/8) Building random forest model with 256 estimators and maximum 16 features ... applying it ... "
       ]
      },
      {
       "output_type": "stream",
       "stream": "stdout",
       "text": [
        "configurations:  [(128, 2), (128, 4), (128, 8), (128, 16), (256, 2), (256, 4), (256, 8), (256, 16)]\n",
        "scoreList = "
       ]
      },
      {
       "output_type": "stream",
       "stream": "stdout",
       "text": [
        " [(0.76997220227462715, 0.014862841474480562), (0.76901790165894135, 0.01763319638469453), (0.7755636245333859, 0.017045314620737839), (0.77496211720887886, 0.017170982287412585), (0.77214118357020545, 0.017061306277306246), (0.77465306893555907, 0.015040269098608691), (0.77573031940233084, 0.016516603792283192), (0.77553176411596791, 0.017751031782081039)]\n",
        "best Random Forest model has:\n",
        "roc_auc score: 77.57% (+/- 1.65%)\n",
        "n_estimators:  256\n",
        "max_features:  8\n"
       ]
      },
      {
       "output_type": "stream",
       "stream": "stderr",
       "text": [
        "done\n"
       ]
      },
      {
       "metadata": {},
       "output_type": "display_data",
       "png": "[encoded data removed]",
       "text": [
        "<matplotlib.figure.Figure at 0x1084bf3d0>"
       ]
      }
     ],
     "prompt_number": 9
    },
    {
     "cell_type": "heading",
     "level": 2,
     "metadata": {
      "internals": {
       "frag_helper": "fragment_end",
       "frag_number": 20,
       "slide_type": "subslide"
      },
      "slideshow": {
       "slide_type": "slide"
      }
     },
     "source": [
      "Comparison of best models, using all input features except 'duration'"
     ]
    },
    {
     "cell_type": "code",
     "collapsed": false,
     "input": [
      "from sklearn.linear_model import LogisticRegression\n",
      "from sklearn.neighbors import KNeighborsClassifier\n",
      "from sklearn.ensemble import RandomForestClassifier\n",
      "from sklearn.naive_bayes import GaussianNB\n",
      "\n",
      "# After-the-fact hardcoded optimizations, in case we want to skip the experimentation phase\n",
      "# (e.g. during a presentation)\n",
      "if bestLogCValue == None:\n",
      "    bestLogCValue = -1\n",
      "if bestKValue == None:\n",
      "    bestKValue = 30\n",
      "if bestNrEst == None or bestMaxFeat == None:\n",
      "    bestNrEst = 256\n",
      "    bestMaxFeat = 8\n",
      "\n",
      "models = {}\n",
      "models = {'logres with log10(C)=%d' % bestLogCValue : LogisticRegression(C=pow(10,bestLogCValue)), # Takes about 1 second elapsed time\n",
      "          'knn with K=%d' % bestKValue : KNeighborsClassifier(n_neighbors=bestKValue), # Takes about 12 seconds elapsed time\n",
      "          'gaussianNB': GaussianNB(),\n",
      "#          'randomforest with nrEst=%d and maxFeat=%d' % (bestNrEst,bestMaxFeat): RandomForestClassifier(n_estimators=bestNrEst, max_features=bestMaxFeat) # Takes about 5 seconds elapsed time\n",
      "          }\n",
      "\n",
      "fig = plt.figure(1,(15,10))\n",
      "plt.title(\"%d-fold cross-validation %s scores for various model types\" % (nrCrossValidationFolds, scorerType))\n",
      "plt.xlabel(\"Fold #\")\n",
      "plt.ylabel(scorerType)\n",
      "plt.grid()\n",
      "\n",
      "for modelName, model in models.items():\n",
      "    print >> sys.stderr, \"Building %s model ...\" % modelName,\n",
      "    print >> sys.stderr, \"applying it ...\",\n",
      "    scores = cross_val_score(model, X_values, y=y_values, scoring=scorerType, cv=cvGenerator, n_jobs=1, verbose=20)\n",
      "    print >> sys.stderr, \"done\"\n",
      "    plt.plot(range(1,nrCrossValidationFolds+1), scores, 'o-', label=\"%s (%2.2f%% +/- %2.2f%%)\" % (modelName, scores.mean() * 100, scores.std() * 100))\n",
      "    \n",
      "plt.legend(loc='best')\n",
      "plt.show()"
     ],
     "language": "python",
     "metadata": {
      "internals": {
       "frag_helper": "fragment_end",
       "frag_number": 28,
       "slide_helper": "subslide_end"
      },
      "slide_helper": "slide_end",
      "slideshow": {
       "slide_type": "fragment"
      }
     },
     "outputs": [
      {
       "output_type": "stream",
       "stream": "stdout",
       "text": [
        "[CV] no parameters to be set .........................................\n",
        "[CV] ................ no parameters to be set, score=0.768002 -   3.9s"
       ]
      },
      {
       "output_type": "stream",
       "stream": "stderr",
       "text": [
        "Building knn with K=30 model ... applying it ...[Parallel(n_jobs=1)]: Done   1 jobs       | elapsed:    3.9s\n"
       ]
      },
      {
       "output_type": "stream",
       "stream": "stdout",
       "text": [
        "\n",
        "[CV] no parameters to be set .........................................\n",
        "[CV] ................ no parameters to be set, score=0.761117 -   3.5s"
       ]
      },
      {
       "output_type": "stream",
       "stream": "stdout",
       "text": [
        "\n",
        "[CV] no parameters to be set .........................................\n",
        "[CV] ................ no parameters to be set, score=0.775982 -   3.3s"
       ]
      },
      {
       "output_type": "stream",
       "stream": "stderr",
       "text": [
        "[Parallel(n_jobs=1)]: Done   2 jobs       | elapsed:    7.5s\n",
        "[Parallel(n_jobs=1)]: Done   3 jobs       | elapsed:   10.8s\n"
       ]
      },
      {
       "output_type": "stream",
       "stream": "stdout",
       "text": [
        "\n",
        "[CV] no parameters to be set .........................................\n",
        "[CV] ................ no parameters to be set, score=0.768547 -   3.3s"
       ]
      },
      {
       "output_type": "stream",
       "stream": "stdout",
       "text": [
        "\n",
        "[CV] no parameters to be set .........................................\n",
        "[CV] ................ no parameters to be set, score=0.775456 -   3.5s"
       ]
      },
      {
       "output_type": "stream",
       "stream": "stderr",
       "text": [
        "[Parallel(n_jobs=1)]: Done   4 jobs       | elapsed:   14.1s\n",
        "[Parallel(n_jobs=1)]: Done   5 jobs       | elapsed:   17.6s\n"
       ]
      },
      {
       "output_type": "stream",
       "stream": "stdout",
       "text": [
        "\n",
        "[CV] no parameters to be set .........................................\n",
        "[CV] ................ no parameters to be set, score=0.787904 -   3.6s"
       ]
      },
      {
       "output_type": "stream",
       "stream": "stdout",
       "text": [
        "\n",
        "[CV] no parameters to be set .........................................\n",
        "[CV] ................ no parameters to be set, score=0.784919 -   3.2s"
       ]
      },
      {
       "output_type": "stream",
       "stream": "stderr",
       "text": [
        "[Parallel(n_jobs=1)]: Done   6 jobs       | elapsed:   21.2s\n",
        "[Parallel(n_jobs=1)]: Done   7 jobs       | elapsed:   24.4s\n"
       ]
      },
      {
       "output_type": "stream",
       "stream": "stdout",
       "text": [
        "\n",
        "[CV] no parameters to be set .........................................\n",
        "[CV] ................ no parameters to be set, score=0.763646 -   3.4s"
       ]
      },
      {
       "output_type": "stream",
       "stream": "stdout",
       "text": [
        "\n",
        "[CV] no parameters to be set .........................................\n",
        "[CV] ................ no parameters to be set, score=0.766421 -   3.3s"
       ]
      },
      {
       "output_type": "stream",
       "stream": "stderr",
       "text": [
        "[Parallel(n_jobs=1)]: Done   8 jobs       | elapsed:   27.8s\n",
        "[Parallel(n_jobs=1)]: Done   9 jobs       | elapsed:   31.1s\n"
       ]
      },
      {
       "output_type": "stream",
       "stream": "stdout",
       "text": [
        "\n",
        "[CV] no parameters to be set .........................................\n",
        "[CV] ................ no parameters to be set, score=0.785038 -   3.6s"
       ]
      },
      {
       "output_type": "stream",
       "stream": "stdout",
       "text": [
        "\n",
        "[CV] no parameters to be set .........................................\n",
        "[CV] ................ no parameters to be set, score=0.769022 -   0.0s"
       ]
      },
      {
       "output_type": "stream",
       "stream": "stderr",
       "text": [
        "[Parallel(n_jobs=1)]: Done  10 jobs       | elapsed:   34.7s\n",
        "[Parallel(n_jobs=1)]: Done  10 out of  10 | elapsed:   34.7s finished\n",
        " done\n",
        "Building gaussianNB model ... applying it ...[Parallel(n_jobs=1)]: Done   1 jobs       | elapsed:    0.1s\n"
       ]
      },
      {
       "output_type": "stream",
       "stream": "stdout",
       "text": [
        "\n",
        "[CV] no parameters to be set .........................................\n",
        "[CV] ................ no parameters to be set, score=0.745721 -   0.1s"
       ]
      },
      {
       "output_type": "stream",
       "stream": "stdout",
       "text": [
        "\n",
        "[CV] no parameters to be set .........................................\n",
        "[CV] ................ no parameters to be set, score=0.762048 -   0.0s"
       ]
      },
      {
       "output_type": "stream",
       "stream": "stderr",
       "text": [
        "[Parallel(n_jobs=1)]: Done   2 jobs       | elapsed:    0.1s\n",
        "[Parallel(n_jobs=1)]: Done   3 jobs       | elapsed:    0.2s\n"
       ]
      },
      {
       "output_type": "stream",
       "stream": "stdout",
       "text": [
        "\n",
        "[CV] no parameters to be set .........................................\n",
        "[CV] ................ no parameters to be set, score=0.772741 -   0.0s\n",
        "[CV] no parameters to be set ........................................."
       ]
      },
      {
       "output_type": "stream",
       "stream": "stdout",
       "text": [
        "\n",
        "[CV] ................ no parameters to be set, score=0.788406 -   0.0s\n",
        "[CV] no parameters to be set .........................................\n",
        "[CV] ................ no parameters to be set, score=0.784343 -   0.0s"
       ]
      },
      {
       "output_type": "stream",
       "stream": "stderr",
       "text": [
        "[Parallel(n_jobs=1)]: Done   4 jobs       | elapsed:    0.2s\n",
        "[Parallel(n_jobs=1)]: Done   5 jobs       | elapsed:    0.3s\n",
        "[Parallel(n_jobs=1)]: Done   6 jobs       | elapsed:    0.3s\n"
       ]
      },
      {
       "output_type": "stream",
       "stream": "stdout",
       "text": [
        "\n",
        "[CV] no parameters to be set .........................................\n",
        "[CV] ................ no parameters to be set, score=0.758827 -   0.0s\n",
        "[CV] no parameters to be set .........................................\n",
        "[CV] ................ no parameters to be set, score=0.760654 -   0.0s"
       ]
      },
      {
       "output_type": "stream",
       "stream": "stderr",
       "text": [
        "[Parallel(n_jobs=1)]: Done   7 jobs       | elapsed:    0.3s\n",
        "[Parallel(n_jobs=1)]: Done   8 jobs       | elapsed:    0.4s\n",
        "[Parallel(n_jobs=1)]: Done   9 jobs       | elapsed:    0.4s\n"
       ]
      },
      {
       "output_type": "stream",
       "stream": "stdout",
       "text": [
        "\n",
        "[CV] no parameters to be set .........................................\n",
        "[CV] ................ no parameters to be set, score=0.769147 -   0.0s\n",
        "[CV] no parameters to be set .........................................\n",
        "[CV] ................ no parameters to be set, score=0.771764 -   0.0s"
       ]
      },
      {
       "output_type": "stream",
       "stream": "stdout",
       "text": [
        "\n",
        "[CV] no parameters to be set .........................................\n",
        "[CV] ................ no parameters to be set, score=0.783289 -   0.4s"
       ]
      },
      {
       "output_type": "stream",
       "stream": "stderr",
       "text": [
        "[Parallel(n_jobs=1)]: Done  10 jobs       | elapsed:    0.5s\n",
        "[Parallel(n_jobs=1)]: Done  10 out of  10 | elapsed:    0.5s finished\n",
        " done\n",
        "Building logres with log10(C)=-1 model ... applying it ...[Parallel(n_jobs=1)]: Done   1 jobs       | elapsed:    0.4s\n"
       ]
      },
      {
       "output_type": "stream",
       "stream": "stdout",
       "text": [
        "\n",
        "[CV] no parameters to be set .........................................\n",
        "[CV] ................ no parameters to be set, score=0.755813 -   0.6s"
       ]
      },
      {
       "output_type": "stream",
       "stream": "stdout",
       "text": [
        "\n",
        "[CV] no parameters to be set .........................................\n",
        "[CV] ................ no parameters to be set, score=0.781045 -   0.5s"
       ]
      },
      {
       "output_type": "stream",
       "stream": "stderr",
       "text": [
        "[Parallel(n_jobs=1)]: Done   2 jobs       | elapsed:    1.0s\n",
        "[Parallel(n_jobs=1)]: Done   3 jobs       | elapsed:    1.4s\n"
       ]
      },
      {
       "output_type": "stream",
       "stream": "stdout",
       "text": [
        "\n",
        "[CV] no parameters to be set .........................................\n",
        "[CV] ................ no parameters to be set, score=0.783761 -   0.4s"
       ]
      },
      {
       "output_type": "stream",
       "stream": "stdout",
       "text": [
        "\n",
        "[CV] no parameters to be set .........................................\n",
        "[CV] ................ no parameters to be set, score=0.803424 -   0.6s"
       ]
      },
      {
       "output_type": "stream",
       "stream": "stderr",
       "text": [
        "[Parallel(n_jobs=1)]: Done   4 jobs       | elapsed:    1.8s\n",
        "[Parallel(n_jobs=1)]: Done   5 jobs       | elapsed:    2.4s\n"
       ]
      },
      {
       "output_type": "stream",
       "stream": "stdout",
       "text": [
        "\n",
        "[CV] no parameters to be set .........................................\n",
        "[CV] ................ no parameters to be set, score=0.796018 -   0.4s"
       ]
      },
      {
       "output_type": "stream",
       "stream": "stdout",
       "text": [
        "\n",
        "[CV] no parameters to be set .........................................\n",
        "[CV] ................ no parameters to be set, score=0.768932 -   0.4s"
       ]
      },
      {
       "output_type": "stream",
       "stream": "stderr",
       "text": [
        "[Parallel(n_jobs=1)]: Done   6 jobs       | elapsed:    2.8s\n",
        "[Parallel(n_jobs=1)]: Done   7 jobs       | elapsed:    3.2s\n"
       ]
      },
      {
       "output_type": "stream",
       "stream": "stdout",
       "text": [
        "\n",
        "[CV] no parameters to be set .........................................\n",
        "[CV] ................ no parameters to be set, score=0.785751 -   0.6s"
       ]
      },
      {
       "output_type": "stream",
       "stream": "stdout",
       "text": [
        "\n",
        "[CV] no parameters to be set .........................................\n",
        "[CV] ................ no parameters to be set, score=0.792825 -   0.3s"
       ]
      },
      {
       "output_type": "stream",
       "stream": "stderr",
       "text": [
        "[Parallel(n_jobs=1)]: Done   8 jobs       | elapsed:    3.8s\n",
        "[Parallel(n_jobs=1)]: Done   9 jobs       | elapsed:    4.1s\n"
       ]
      },
      {
       "output_type": "stream",
       "stream": "stdout",
       "text": [
        "\n",
        "[CV] no parameters to be set .........................................\n",
        "[CV] ................ no parameters to be set, score=0.782678 -   0.3s"
       ]
      },
      {
       "output_type": "stream",
       "stream": "stdout",
       "text": [
        "\n"
       ]
      },
      {
       "output_type": "stream",
       "stream": "stderr",
       "text": [
        "[Parallel(n_jobs=1)]: Done  10 jobs       | elapsed:    4.4s\n",
        "[Parallel(n_jobs=1)]: Done  10 out of  10 | elapsed:    4.4s finished\n",
        " done\n"
       ]
      },
      {
       "metadata": {},
       "output_type": "display_data",
       "png": "[encoded data removed]",
       "text": [
        "<matplotlib.figure.Figure at 0x11b8e6650>"
       ]
      }
     ],
     "prompt_number": 11
    },
    {
     "cell_type": "markdown",
     "metadata": {
      "internals": {
       "frag_helper": "fragment_end",
       "frag_number": 28,
       "slide_type": "subslide"
      },
      "slideshow": {
       "slide_type": "slide"
      }
     },
     "source": [
      "Now let's also plot the ROC curves for these models"
     ]
    },
    {
     "cell_type": "code",
     "collapsed": false,
     "input": [
      "from sklearn.cross_validation import train_test_split\n",
      "from sklearn.metrics import roc_curve, roc_auc_score\n",
      "import sys\n",
      "from matplotlib import pyplot as plt\n",
      "\n",
      "# We don't use cross validation here, but will generate a random test set instead\n",
      "X_train, X_test, y_train, y_test = train_test_split(X_values, y_values, test_size=0.1, random_state=0)\n",
      "\n",
      "finalPredictions = {}\n",
      "\n",
      "for modelName, model in models.items():\n",
      "    fittedModel = model.fit(X_train, y_train)\n",
      "    \n",
      "    if hasattr(model, \"predict_proba\"):\n",
      "        print >> sys.stderr, \"Predicting probabilities for %s model ...\" % modelName,\n",
      "        finalPredictions[modelName] = {'train': model.predict_proba(X_train),\n",
      "                                       'test': model.predict_proba(X_test)}\n",
      "        print >> sys.stderr, \"done\"\n",
      "\n",
      "rocCurveFigure, ax = plt.subplots(figsize=(9,9))\n",
      "ax.grid(True, alpha=0.3)\n",
      "for modelName, probs in finalPredictions.iteritems():\n",
      "    y_probs = [x[1] for x in finalPredictions[modelName]['test']]\n",
      "    fpr, tpr, thresholds = roc_curve(y_true=y_test, \n",
      "                                     y_score=y_probs, pos_label=1)\n",
      "    roc_auc = roc_auc_score(y_true=y_test, y_score=y_probs)\n",
      "    plt.plot(fpr, tpr, '-', label=\"%s (AUC = %1.2f%%)\" % (modelName, roc_auc*100))\n",
      "plt.plot(np.linspace(0, 1,len(fpr)),np.linspace(0,1,len(fpr)), '-', label=\"baseline (AUC = 50.00%)\")\n",
      "plt.title(\"ROC curve for prediction of successful term deposit sale\")\n",
      "plt.xlabel(\"False Positive Rate\")\n",
      "plt.ylabel(\"True Positive Rate\")\n",
      "plt.legend(loc=\"best\")\n",
      "plt.show()"
     ],
     "language": "python",
     "metadata": {
      "internals": {
       "frag_helper": "fragment_end",
       "frag_number": 30,
       "slide_helper": "subslide_end"
      },
      "slide_helper": "slide_end",
      "slideshow": {
       "slide_type": "fragment"
      }
     },
     "outputs": [
      {
       "output_type": "stream",
       "stream": "stderr",
       "text": [
        "Predicting probabilities for knn with K=30 model ... "
       ]
      },
      {
       "output_type": "stream",
       "stream": "stderr",
       "text": [
        "done\n",
        "Predicting probabilities for gaussianNB model ... "
       ]
      },
      {
       "output_type": "stream",
       "stream": "stderr",
       "text": [
        "done\n",
        "Predicting probabilities for logres with log10(C)=-1 model ..."
       ]
      },
      {
       "output_type": "stream",
       "stream": "stderr",
       "text": [
        " done\n"
       ]
      },
      {
       "metadata": {},
       "output_type": "display_data",
       "png": "[encoded data removed]",
       "text": [
        "<matplotlib.figure.Figure at 0x11baa2fd0>"
       ]
      }
     ],
     "prompt_number": 12
    },
    {
     "cell_type": "markdown",
     "metadata": {
      "internals": {
       "frag_helper": "fragment_end",
       "frag_number": 30,
       "slide_type": "subslide"
      },
      "slideshow": {
       "slide_type": "slide"
      }
     },
     "source": [
      "and here are the lift curves: "
     ]
    },
    {
     "cell_type": "code",
     "collapsed": false,
     "input": [
      "import numpy as np\n",
      "import mpld3\n",
      "mpld3.enable_notebook()\n",
      "import re\n",
      "from math import log\n",
      "\n",
      "def sortTestSetByProbability(y_test, y_probs):\n",
      "    sortedIndexList = sorted(range(len(y_probs)), key=lambda k: y_probs[k], reverse=True)\n",
      "    return [(y_probs[i], y_test[i]) for i in sortedIndexList]\n",
      "\n",
      "def calculateLift(sortedProbsAndTrueLabels, nrPercentiles=10, posLabel=1):\n",
      "    ''' Input is a list of tuples containing (prob, true label), sorted in descending order per prob\n",
      "        Output is a a list of nrPercentiles tuples containing, for each percentile:\n",
      "        (percentOfTargetPopulationInThisPercentile, percentOfPositivePopulationInThisPercentile)\n",
      "    '''\n",
      "    numberOfTruePositiveInstances = len([x for x in sortedProbsAndTrueLabels if x[1] == posLabel])\n",
      "    percentileSplitOfPositiveInstances = [np_array.tolist() for np_array in np.array_split(np.array([x[1] for x in sortedProbsAndTrueLabels]), nrPercentiles)]\n",
      "#    print \"len(percentileSplitOfPositiveInstances) = \", len(percentileSplitOfPositiveInstances)\n",
      "#    print \"percentileSplitOfPositiveInstances[0:2] = \", percentileSplitOfPositiveInstances[0:2]\n",
      "    result = [(0.0,0.0,0.0,0.0)]\n",
      "    cumulativePercentage = 0.0\n",
      "    cumulativeLift = 0\n",
      "    localLift = 0\n",
      "    for c in range(len(percentileSplitOfPositiveInstances)):\n",
      "        percentile = percentileSplitOfPositiveInstances[c]\n",
      "        nrTruePositivesInPercentile = len([x for x in percentile if x == posLabel])\n",
      "        p = float(c+1)/float(nrPercentiles)\n",
      "        cumulativePercentage += float(nrTruePositivesInPercentile)/float(numberOfTruePositiveInstances)\n",
      "        cumulativeLift = cumulativePercentage/p\n",
      "        localLift = (float(nrTruePositivesInPercentile)/float(numberOfTruePositiveInstances))/(1.0/float(nrPercentiles))\n",
      "        result.append((p,cumulativePercentage,cumulativeLift, localLift))\n",
      "    return result\n",
      "\n",
      "def plotLiftCurve(numberOfPercentiles=10, figSize=5):\n",
      "    # Define some CSS to control our custom labels\n",
      "    css = \"\"\"\n",
      "table {\n",
      "  border-collapse: collapse;\n",
      "}\n",
      "th {\n",
      "  color: #ffffff;\n",
      "  background-color: #000000;\n",
      "}\n",
      "td {\n",
      "  padding: 2px;\n",
      "  background-color: #cccccc;\n",
      "}\n",
      "table, th, td {\n",
      "  font-family:Arial, Helvetica, sans-serif;\n",
      "  border: 1px solid black;\n",
      "  text-align: right;\n",
      "}\n",
      "\"\"\"\n",
      "\n",
      "#    numberOfPercentiles=20\n",
      "    liftCurveFigure, ax = plt.subplots(figsize=(figSize,figSize))\n",
      "    ax.grid(True, alpha=0.3)\n",
      "    ax.set_autoscaley_on(False)\n",
      "    ax.set_ylim([0,100])\n",
      "    for modelName, probs in finalPredictions.iteritems():\n",
      "        modelNameShort = re.split(\"\\s+\", modelName)[0]\n",
      "        y_probs = [x[1] for x in finalPredictions[modelName]['test']]\n",
      "        sortedProbsAndTrueLabels = sortTestSetByProbability(y_test,y_probs)\n",
      "        lifts = calculateLift(sortedProbsAndTrueLabels, nrPercentiles=numberOfPercentiles, posLabel=1)\n",
      "#        print modelName, lifts\n",
      "        xPerc = [x[0]*100 for x in lifts]\n",
      "        yPerc = [x[1]*100 for x in lifts]\n",
      "        points = ax.plot(xPerc, yPerc, 'o-', label=\"%s\" % modelNameShort)\n",
      "        labels = [\"<table><th colspan='2'>%s</th><tr><td>the first</td><td>%2.1f%%</td></tr><tr><td>yields</td><td>%2.1f%%</td></tr><tr><td>cum. lift</td><td>%1.1f</td></tr><tr><td>local lift</td><td>%1.1f</td></tr></table>\" % (modelNameShort, xPerc[i],yPerc[i], lifts[i][2], lifts[i][3]) for i in range(len(yPerc))]\n",
      "        mpld3.plugins.connect(liftCurveFigure, mpld3.plugins.PointHTMLTooltip(points[0],labels=labels, css=css))\n",
      "    baselineValues = [100*x/numberOfPercentiles for x in range(numberOfPercentiles+1)]\n",
      "    points = ax.plot(baselineValues, baselineValues, 'o-', label=\"baseline\")\n",
      "    labels = [\"<table><th colspan='2'>%s</th><tr><td>the first</td><td>%2.1f%%</td></tr><tr><td>yields</td><td>%2.1f%%</td></tr><tr><td>cum. lift</td><td>%1.1f</td></td></tr><tr><td>local lift</td><td>%1.1f</td></tr></table>\"  % (\"baseline\",v,v,1,1) for v in baselineValues]\n",
      "    mpld3.plugins.connect(liftCurveFigure, mpld3.plugins.PointHTMLTooltip(points[0],labels=labels, css=css))\n",
      "    ax.set_title(\"Lift curve for prediction of successful term deposit sale\", y=1.06, fontsize=14 + log(figSize))\n",
      "    ax.set_xlabel(\"Percentage of test instances (decreasing by probability)\", labelpad=15 + log(figSize), fontsize=12 + log(figSize))\n",
      "    ax.set_ylabel(\"Percentage of positive instances targeted\", labelpad=15 + log(figSize), fontsize=12 + log(figSize))\n",
      "    plt.legend(loc=4)\n",
      "    plt.show()\n",
      "    return liftCurveFigure\n",
      "\n",
      "from IPython.html.widgets import interact, fixed\n",
      "\n",
      "mpld3.save_html(plotLiftCurve(numberOfPercentiles=10, figSize=9), \"plotLiftCurveBanking.html\", figid=\"Lift_Curve_Banking\")\n",
      "interact(plotLiftCurve, numberOfPercentiles=(5, 20), figSize=(5,10))"
     ],
     "language": "python",
     "metadata": {
      "internals": {
       "frag_helper": "fragment_end",
       "frag_number": 32,
       "slide_helper": "subslide_end"
      },
      "slide_helper": "slide_end",
      "slideshow": {
       "slide_type": "fragment"
      }
     },
     "outputs": [
      {
       "html": [
        "\n",
        "\n",
        "<style>\n",
        "\n",
        "table {\n",
        "  border-collapse: collapse;\n",
        "}\n",
        "th {\n",
        "  color: #ffffff;\n",
        "  background-color: #000000;\n",
        "}\n",
        "td {\n",
        "  padding: 2px;\n",
        "  background-color: #cccccc;\n",
        "}\n",
        "table, th, td {\n",
        "  font-family:Arial, Helvetica, sans-serif;\n",
        "  border: 1px solid black;\n",
        "  text-align: right;\n",
        "}\n",
        "\n",
        "table {\n",
        "  border-collapse: collapse;\n",
        "}\n",
        "th {\n",
        "  color: #ffffff;\n",
        "  background-color: #000000;\n",
        "}\n",
        "td {\n",
        "  padding: 2px;\n",
        "  background-color: #cccccc;\n",
        "}\n",
        "table, th, td {\n",
        "  font-family:Arial, Helvetica, sans-serif;\n",
        "  border: 1px solid black;\n",
        "  text-align: right;\n",
        "}\n",
        "\n",
        "table {\n",
        "  border-collapse: collapse;\n",
        "}\n",
        "th {\n",
        "  color: #ffffff;\n",
        "  background-color: #000000;\n",
        "}\n",
        "td {\n",
        "  padding: 2px;\n",
        "  background-color: #cccccc;\n",
        "}\n",
        "table, th, td {\n",
        "  font-family:Arial, Helvetica, sans-serif;\n",
        "  border: 1px solid black;\n",
        "  text-align: right;\n",
        "}\n",
        "\n",
        "table {\n",
        "  border-collapse: collapse;\n",
        "}\n",
        "th {\n",
        "  color: #ffffff;\n",
        "  background-color: #000000;\n",
        "}\n",
        "td {\n",
        "  padding: 2px;\n",
        "  background-color: #cccccc;\n",
        "}\n",
        "table, th, td {\n",
        "  font-family:Arial, Helvetica, sans-serif;\n",
        "  border: 1px solid black;\n",
        "  text-align: right;\n",
        "}\n",
        "\n",
        "</style>\n",
        "\n",
        "<div id=\"fig_el123448278964646722488463\"></div>\n",
        "<script>\n",
        "function mpld3_load_lib(url, callback){\n",
        "  var s = document.createElement('script');\n",
        "  s.src = url;\n",
        "  s.async = true;\n",
        "  s.onreadystatechange = s.onload = callback;\n",
        "  s.onerror = function(){console.warn(\"failed to load library \" + url);};\n",
        "  document.getElementsByTagName(\"head\")[0].appendChild(s);\n",
        "}\n",
        "\n",
        "if(typeof(mpld3) !== \"undefined\" && mpld3._mpld3IsLoaded){\n",
        "   // already loaded: just create the figure\n",
        "   !function(mpld3){\n",
        "       \n",
        "    mpld3.register_plugin(\"htmltooltip\", HtmlTooltipPlugin);\n",
        "    HtmlTooltipPlugin.prototype = Object.create(mpld3.Plugin.prototype);\n",
        "    HtmlTooltipPlugin.prototype.constructor = HtmlTooltipPlugin;\n",
        "    HtmlTooltipPlugin.prototype.requiredProps = [\"id\"];\n",
        "    HtmlTooltipPlugin.prototype.defaultProps = {labels:null, hoffset:0, voffset:10};\n",
        "    function HtmlTooltipPlugin(fig, props){\n",
        "        mpld3.Plugin.call(this, fig, props);\n",
        "    };\n",
        "\n",
        "    HtmlTooltipPlugin.prototype.draw = function(){\n",
        "       var obj = mpld3.get_element(this.props.id);\n",
        "       var labels = this.props.labels;\n",
        "       var tooltip = d3.select(\"body\").append(\"div\")\n",
        "                    .attr(\"class\", \"mpld3-tooltip\")\n",
        "                    .style(\"position\", \"absolute\")\n",
        "                    .style(\"z-index\", \"10\")\n",
        "                    .style(\"visibility\", \"hidden\");\n",
        "\n",
        "       obj.elements()\n",
        "           .on(\"mouseover\", function(d, i){\n",
        "                              tooltip.html(labels[i])\n",
        "                                     .style(\"visibility\", \"visible\");})\n",
        "           .on(\"mousemove\", function(d, i){\n",
        "                    tooltip\n",
        "                      .style(\"top\", d3.event.pageY + this.props.voffset + \"px\")\n",
        "                      .style(\"left\",d3.event.pageX + this.props.hoffset + \"px\");\n",
        "                 }.bind(this))\n",
        "           .on(\"mouseout\",  function(d, i){\n",
        "                           tooltip.style(\"visibility\", \"hidden\");});\n",
        "    };\n",
        "    \n",
        "    mpld3.register_plugin(\"htmltooltip\", HtmlTooltipPlugin);\n",
        "    HtmlTooltipPlugin.prototype = Object.create(mpld3.Plugin.prototype);\n",
        "    HtmlTooltipPlugin.prototype.constructor = HtmlTooltipPlugin;\n",
        "    HtmlTooltipPlugin.prototype.requiredProps = [\"id\"];\n",
        "    HtmlTooltipPlugin.prototype.defaultProps = {labels:null, hoffset:0, voffset:10};\n",
        "    function HtmlTooltipPlugin(fig, props){\n",
        "        mpld3.Plugin.call(this, fig, props);\n",
        "    };\n",
        "\n",
        "    HtmlTooltipPlugin.prototype.draw = function(){\n",
        "       var obj = mpld3.get_element(this.props.id);\n",
        "       var labels = this.props.labels;\n",
        "       var tooltip = d3.select(\"body\").append(\"div\")\n",
        "                    .attr(\"class\", \"mpld3-tooltip\")\n",
        "                    .style(\"position\", \"absolute\")\n",
        "                    .style(\"z-index\", \"10\")\n",
        "                    .style(\"visibility\", \"hidden\");\n",
        "\n",
        "       obj.elements()\n",
        "           .on(\"mouseover\", function(d, i){\n",
        "                              tooltip.html(labels[i])\n",
        "                                     .style(\"visibility\", \"visible\");})\n",
        "           .on(\"mousemove\", function(d, i){\n",
        "                    tooltip\n",
        "                      .style(\"top\", d3.event.pageY + this.props.voffset + \"px\")\n",
        "                      .style(\"left\",d3.event.pageX + this.props.hoffset + \"px\");\n",
        "                 }.bind(this))\n",
        "           .on(\"mouseout\",  function(d, i){\n",
        "                           tooltip.style(\"visibility\", \"hidden\");});\n",
        "    };\n",
        "    \n",
        "    mpld3.register_plugin(\"htmltooltip\", HtmlTooltipPlugin);\n",
        "    HtmlTooltipPlugin.prototype = Object.create(mpld3.Plugin.prototype);\n",
        "    HtmlTooltipPlugin.prototype.constructor = HtmlTooltipPlugin;\n",
        "    HtmlTooltipPlugin.prototype.requiredProps = [\"id\"];\n",
        "    HtmlTooltipPlugin.prototype.defaultProps = {labels:null, hoffset:0, voffset:10};\n",
        "    function HtmlTooltipPlugin(fig, props){\n",
        "        mpld3.Plugin.call(this, fig, props);\n",
        "    };\n",
        "\n",
        "    HtmlTooltipPlugin.prototype.draw = function(){\n",
        "       var obj = mpld3.get_element(this.props.id);\n",
        "       var labels = this.props.labels;\n",
        "       var tooltip = d3.select(\"body\").append(\"div\")\n",
        "                    .attr(\"class\", \"mpld3-tooltip\")\n",
        "                    .style(\"position\", \"absolute\")\n",
        "                    .style(\"z-index\", \"10\")\n",
        "                    .style(\"visibility\", \"hidden\");\n",
        "\n",
        "       obj.elements()\n",
        "           .on(\"mouseover\", function(d, i){\n",
        "                              tooltip.html(labels[i])\n",
        "                                     .style(\"visibility\", \"visible\");})\n",
        "           .on(\"mousemove\", function(d, i){\n",
        "                    tooltip\n",
        "                      .style(\"top\", d3.event.pageY + this.props.voffset + \"px\")\n",
        "                      .style(\"left\",d3.event.pageX + this.props.hoffset + \"px\");\n",
        "                 }.bind(this))\n",
        "           .on(\"mouseout\",  function(d, i){\n",
        "                           tooltip.style(\"visibility\", \"hidden\");});\n",
        "    };\n",
        "    \n",
        "    mpld3.register_plugin(\"htmltooltip\", HtmlTooltipPlugin);\n",
        "    HtmlTooltipPlugin.prototype = Object.create(mpld3.Plugin.prototype);\n",
        "    HtmlTooltipPlugin.prototype.constructor = HtmlTooltipPlugin;\n",
        "    HtmlTooltipPlugin.prototype.requiredProps = [\"id\"];\n",
        "    HtmlTooltipPlugin.prototype.defaultProps = {labels:null, hoffset:0, voffset:10};\n",
        "    function HtmlTooltipPlugin(fig, props){\n",
        "        mpld3.Plugin.call(this, fig, props);\n",
        "    };\n",
        "\n",
        "    HtmlTooltipPlugin.prototype.draw = function(){\n",
        "       var obj = mpld3.get_element(this.props.id);\n",
        "       var labels = this.props.labels;\n",
        "       var tooltip = d3.select(\"body\").append(\"div\")\n",
        "                    .attr(\"class\", \"mpld3-tooltip\")\n",
        "                    .style(\"position\", \"absolute\")\n",
        "                    .style(\"z-index\", \"10\")\n",
        "                    .style(\"visibility\", \"hidden\");\n",
        "\n",
        "       obj.elements()\n",
        "           .on(\"mouseover\", function(d, i){\n",
        "                              tooltip.html(labels[i])\n",
        "                                     .style(\"visibility\", \"visible\");})\n",
        "           .on(\"mousemove\", function(d, i){\n",
        "                    tooltip\n",
        "                      .style(\"top\", d3.event.pageY + this.props.voffset + \"px\")\n",
        "                      .style(\"left\",d3.event.pageX + this.props.hoffset + \"px\");\n",
        "                 }.bind(this))\n",
        "           .on(\"mouseout\",  function(d, i){\n",
        "                           tooltip.style(\"visibility\", \"hidden\");});\n",
        "    };\n",
        "    \n",
        "       mpld3.draw_figure(\"fig_el123448278964646722488463\", {\"axes\": [{\"xlim\": [0.0, 100.0], \"yscale\": \"linear\", \"axesbg\": \"#FFFFFF\", \"texts\": [{\"v_baseline\": \"hanging\", \"h_anchor\": \"middle\", \"color\": \"#000000\", \"text\": \"Percentage of test instances (decreasing by probability)\", \"coordinates\": \"axes\", \"zorder\": 3, \"alpha\": 1, \"fontsize\": 13.945910149055313, \"position\": [0.5, -0.076666436633526139], \"rotation\": -0.0, \"id\": \"el12344836523216\"}, {\"v_baseline\": \"auto\", \"h_anchor\": \"middle\", \"color\": \"#000000\", \"text\": \"Percentage of positive instances targeted\", \"coordinates\": \"axes\", \"zorder\": 3, \"alpha\": 1, \"fontsize\": 13.945910149055313, \"position\": [-0.098303821426152863, 0.5], \"rotation\": -90.0, \"id\": \"el12344855315984\"}, {\"v_baseline\": \"auto\", \"h_anchor\": \"middle\", \"color\": \"#000000\", \"text\": \"Lift curve for prediction of successful term deposit sale\", \"coordinates\": \"axes\", \"zorder\": 3, \"alpha\": 1, \"fontsize\": 15.945910149055313, \"position\": [0.5, 1.0728008192524323], \"rotation\": -0.0, \"id\": \"el12344855469904\"}, {\"v_baseline\": \"auto\", \"h_anchor\": \"start\", \"color\": \"#000000\", \"text\": \"None\", \"coordinates\": \"axes\", \"zorder\": 1000003.0, \"alpha\": 1, \"fontsize\": 10.0, \"position\": [-0.16129032258064516, -0.16129032258064516], \"rotation\": -0.0, \"id\": \"el12344836864592\"}, {\"v_baseline\": \"auto\", \"h_anchor\": \"start\", \"color\": \"#000000\", \"text\": \"knn\", \"coordinates\": \"axes\", \"zorder\": 1000003.0, \"alpha\": 1, \"fontsize\": 12.0, \"position\": [0.79521889400921653, 0.17050691244239632], \"rotation\": -0.0, \"id\": \"el12344836714704\"}, {\"v_baseline\": \"auto\", \"h_anchor\": \"start\", \"color\": \"#000000\", \"text\": \"gaussianNB\", \"coordinates\": \"axes\", \"zorder\": 1000003.0, \"alpha\": 1, \"fontsize\": 12.0, \"position\": [0.79521889400921653, 0.12519201228878649], \"rotation\": -0.0, \"id\": \"el12344836823632\"}, {\"v_baseline\": \"auto\", \"h_anchor\": \"start\", \"color\": \"#000000\", \"text\": \"logres\", \"coordinates\": \"axes\", \"zorder\": 1000003.0, \"alpha\": 1, \"fontsize\": 12.0, \"position\": [0.79521889400921653, 0.07987711213517662], \"rotation\": -0.0, \"id\": \"el12344836825936\"}, {\"v_baseline\": \"auto\", \"h_anchor\": \"start\", \"color\": \"#000000\", \"text\": \"baseline\", \"coordinates\": \"axes\", \"zorder\": 1000003.0, \"alpha\": 1, \"fontsize\": 12.0, \"position\": [0.79521889400921653, 0.034562211981566837], \"rotation\": -0.0, \"id\": \"el12344836865168\"}], \"zoomable\": true, \"images\": [], \"xdomain\": [0.0, 100.0], \"ylim\": [0.0, 100.0], \"paths\": [{\"edgecolor\": \"#000000\", \"facecolor\": \"#FFFFFF\", \"edgewidth\": 1.0, \"pathcodes\": [\"M\", \"L\", \"L\", \"L\", \"Z\"], \"yindex\": 1, \"coordinates\": \"axes\", \"dasharray\": \"10,0\", \"zorder\": 1000001.0, \"alpha\": 1.0, \"xindex\": 0, \"data\": \"data04\", \"id\": \"el12344836714256\"}], \"sharey\": [], \"sharex\": [], \"axesbgalpha\": null, \"axes\": [{\"scale\": \"linear\", \"tickformat\": null, \"grid\": {\"color\": \"#000000\", \"alpha\": 0.3, \"dasharray\": \"2,2\", \"gridOn\": true}, \"fontsize\": 10.0, \"position\": \"bottom\", \"nticks\": 6, \"tickvalues\": null}, {\"scale\": \"linear\", \"tickformat\": null, \"grid\": {\"color\": \"#000000\", \"alpha\": 0.3, \"dasharray\": \"2,2\", \"gridOn\": true}, \"fontsize\": 10.0, \"position\": \"left\", \"nticks\": 6, \"tickvalues\": null}], \"lines\": [{\"color\": \"#0000FF\", \"yindex\": 1, \"coordinates\": \"data\", \"dasharray\": \"10,0\", \"zorder\": 2, \"alpha\": 1, \"xindex\": 0, \"linewidth\": 1.0, \"data\": \"data01\", \"id\": \"el12344827896400\"}, {\"color\": \"#007F00\", \"yindex\": 2, \"coordinates\": \"data\", \"dasharray\": \"10,0\", \"zorder\": 2, \"alpha\": 1, \"xindex\": 0, \"linewidth\": 1.0, \"data\": \"data01\", \"id\": \"el12344834850000\"}, {\"color\": \"#FF0000\", \"yindex\": 3, \"coordinates\": \"data\", \"dasharray\": \"10,0\", \"zorder\": 2, \"alpha\": 1, \"xindex\": 0, \"linewidth\": 1.0, \"data\": \"data01\", \"id\": \"el12344834816144\"}, {\"color\": \"#00BFBF\", \"yindex\": 1, \"coordinates\": \"data\", \"dasharray\": \"10,0\", \"zorder\": 2, \"alpha\": 1, \"xindex\": 0, \"linewidth\": 1.0, \"data\": \"data02\", \"id\": \"el12344855314960\"}, {\"color\": \"#0000FF\", \"yindex\": 1, \"coordinates\": \"axes\", \"dasharray\": \"10,0\", \"zorder\": 1000002.0, \"alpha\": 1, \"xindex\": 0, \"linewidth\": 1.0, \"data\": \"data03\", \"id\": \"el12344836715600\"}, {\"color\": \"#007F00\", \"yindex\": 2, \"coordinates\": \"axes\", \"dasharray\": \"10,0\", \"zorder\": 1000002.0, \"alpha\": 1, \"xindex\": 0, \"linewidth\": 1.0, \"data\": \"data03\", \"id\": \"el12344836824464\"}, {\"color\": \"#FF0000\", \"yindex\": 3, \"coordinates\": \"axes\", \"dasharray\": \"10,0\", \"zorder\": 1000002.0, \"alpha\": 1, \"xindex\": 0, \"linewidth\": 1.0, \"data\": \"data03\", \"id\": \"el12344836826768\"}, {\"color\": \"#00BFBF\", \"yindex\": 4, \"coordinates\": \"axes\", \"dasharray\": \"10,0\", \"zorder\": 1000002.0, \"alpha\": 1, \"xindex\": 0, \"linewidth\": 1.0, \"data\": \"data03\", \"id\": \"el12344836866000\"}], \"markers\": [{\"edgecolor\": \"#000000\", \"facecolor\": \"#0000FF\", \"edgewidth\": 0.5, \"yindex\": 1, \"coordinates\": \"data\", \"zorder\": 2, \"markerpath\": [[[0.0, 3.0], [0.7956093000000001, 3.0], [1.5587396123545605, 2.683901074764725], [2.121320343559643, 2.121320343559643], [2.683901074764725, 1.5587396123545605], [3.0, 0.7956093000000001], [3.0, 0.0], [3.0, -0.7956093000000001], [2.683901074764725, -1.5587396123545605], [2.121320343559643, -2.121320343559643], [1.5587396123545605, -2.683901074764725], [0.7956093000000001, -3.0], [0.0, -3.0], [-0.7956093000000001, -3.0], [-1.5587396123545605, -2.683901074764725], [-2.121320343559643, -2.121320343559643], [-2.683901074764725, -1.5587396123545605], [-3.0, -0.7956093000000001], [-3.0, 0.0], [-3.0, 0.7956093000000001], [-2.683901074764725, 1.5587396123545605], [-2.121320343559643, 2.121320343559643], [-1.5587396123545605, 2.683901074764725], [-0.7956093000000001, 3.0], [0.0, 3.0]], [\"M\", \"C\", \"C\", \"C\", \"C\", \"C\", \"C\", \"C\", \"C\", \"Z\"]], \"alpha\": 1, \"xindex\": 0, \"data\": \"data01\", \"id\": \"el12344827896400pts\"}, {\"edgecolor\": \"#000000\", \"facecolor\": \"#007F00\", \"edgewidth\": 0.5, \"yindex\": 2, \"coordinates\": \"data\", \"zorder\": 2, \"markerpath\": [[[0.0, 3.0], [0.7956093000000001, 3.0], [1.5587396123545605, 2.683901074764725], [2.121320343559643, 2.121320343559643], [2.683901074764725, 1.5587396123545605], [3.0, 0.7956093000000001], [3.0, 0.0], [3.0, -0.7956093000000001], [2.683901074764725, -1.5587396123545605], [2.121320343559643, -2.121320343559643], [1.5587396123545605, -2.683901074764725], [0.7956093000000001, -3.0], [0.0, -3.0], [-0.7956093000000001, -3.0], [-1.5587396123545605, -2.683901074764725], [-2.121320343559643, -2.121320343559643], [-2.683901074764725, -1.5587396123545605], [-3.0, -0.7956093000000001], [-3.0, 0.0], [-3.0, 0.7956093000000001], [-2.683901074764725, 1.5587396123545605], [-2.121320343559643, 2.121320343559643], [-1.5587396123545605, 2.683901074764725], [-0.7956093000000001, 3.0], [0.0, 3.0]], [\"M\", \"C\", \"C\", \"C\", \"C\", \"C\", \"C\", \"C\", \"C\", \"Z\"]], \"alpha\": 1, \"xindex\": 0, \"data\": \"data01\", \"id\": \"el12344834850000pts\"}, {\"edgecolor\": \"#000000\", \"facecolor\": \"#FF0000\", \"edgewidth\": 0.5, \"yindex\": 3, \"coordinates\": \"data\", \"zorder\": 2, \"markerpath\": [[[0.0, 3.0], [0.7956093000000001, 3.0], [1.5587396123545605, 2.683901074764725], [2.121320343559643, 2.121320343559643], [2.683901074764725, 1.5587396123545605], [3.0, 0.7956093000000001], [3.0, 0.0], [3.0, -0.7956093000000001], [2.683901074764725, -1.5587396123545605], [2.121320343559643, -2.121320343559643], [1.5587396123545605, -2.683901074764725], [0.7956093000000001, -3.0], [0.0, -3.0], [-0.7956093000000001, -3.0], [-1.5587396123545605, -2.683901074764725], [-2.121320343559643, -2.121320343559643], [-2.683901074764725, -1.5587396123545605], [-3.0, -0.7956093000000001], [-3.0, 0.0], [-3.0, 0.7956093000000001], [-2.683901074764725, 1.5587396123545605], [-2.121320343559643, 2.121320343559643], [-1.5587396123545605, 2.683901074764725], [-0.7956093000000001, 3.0], [0.0, 3.0]], [\"M\", \"C\", \"C\", \"C\", \"C\", \"C\", \"C\", \"C\", \"C\", \"Z\"]], \"alpha\": 1, \"xindex\": 0, \"data\": \"data01\", \"id\": \"el12344834816144pts\"}, {\"edgecolor\": \"#000000\", \"facecolor\": \"#00BFBF\", \"edgewidth\": 0.5, \"yindex\": 0, \"coordinates\": \"data\", \"zorder\": 2, \"markerpath\": [[[0.0, 3.0], [0.7956093000000001, 3.0], [1.5587396123545605, 2.683901074764725], [2.121320343559643, 2.121320343559643], [2.683901074764725, 1.5587396123545605], [3.0, 0.7956093000000001], [3.0, 0.0], [3.0, -0.7956093000000001], [2.683901074764725, -1.5587396123545605], [2.121320343559643, -2.121320343559643], [1.5587396123545605, -2.683901074764725], [0.7956093000000001, -3.0], [0.0, -3.0], [-0.7956093000000001, -3.0], [-1.5587396123545605, -2.683901074764725], [-2.121320343559643, -2.121320343559643], [-2.683901074764725, -1.5587396123545605], [-3.0, -0.7956093000000001], [-3.0, 0.0], [-3.0, 0.7956093000000001], [-2.683901074764725, 1.5587396123545605], [-2.121320343559643, 2.121320343559643], [-1.5587396123545605, 2.683901074764725], [-0.7956093000000001, 3.0], [0.0, 3.0]], [\"M\", \"C\", \"C\", \"C\", \"C\", \"C\", \"C\", \"C\", \"C\", \"Z\"]], \"alpha\": 1, \"xindex\": 0, \"data\": \"data02\", \"id\": \"el12344855314960pts\"}, {\"edgecolor\": \"#000000\", \"facecolor\": \"#0000FF\", \"edgewidth\": 0.5, \"yindex\": 1, \"coordinates\": \"axes\", \"zorder\": 1000002.0, \"markerpath\": [[[0.0, 3.0], [0.7956093000000001, 3.0], [1.5587396123545605, 2.683901074764725], [2.121320343559643, 2.121320343559643], [2.683901074764725, 1.5587396123545605], [3.0, 0.7956093000000001], [3.0, 0.0], [3.0, -0.7956093000000001], [2.683901074764725, -1.5587396123545605], [2.121320343559643, -2.121320343559643], [1.5587396123545605, -2.683901074764725], [0.7956093000000001, -3.0], [0.0, -3.0], [-0.7956093000000001, -3.0], [-1.5587396123545605, -2.683901074764725], [-2.121320343559643, -2.121320343559643], [-2.683901074764725, -1.5587396123545605], [-3.0, -0.7956093000000001], [-3.0, 0.0], [-3.0, 0.7956093000000001], [-2.683901074764725, 1.5587396123545605], [-2.121320343559643, 2.121320343559643], [-1.5587396123545605, 2.683901074764725], [-0.7956093000000001, 3.0], [0.0, 3.0]], [\"M\", \"C\", \"C\", \"C\", \"C\", \"C\", \"C\", \"C\", \"C\", \"Z\"]], \"alpha\": 1, \"xindex\": 0, \"data\": \"data03\", \"id\": \"el12344836716176pts\"}, {\"edgecolor\": \"#000000\", \"facecolor\": \"#007F00\", \"edgewidth\": 0.5, \"yindex\": 2, \"coordinates\": \"axes\", \"zorder\": 1000002.0, \"markerpath\": [[[0.0, 3.0], [0.7956093000000001, 3.0], [1.5587396123545605, 2.683901074764725], [2.121320343559643, 2.121320343559643], [2.683901074764725, 1.5587396123545605], [3.0, 0.7956093000000001], [3.0, 0.0], [3.0, -0.7956093000000001], [2.683901074764725, -1.5587396123545605], [2.121320343559643, -2.121320343559643], [1.5587396123545605, -2.683901074764725], [0.7956093000000001, -3.0], [0.0, -3.0], [-0.7956093000000001, -3.0], [-1.5587396123545605, -2.683901074764725], [-2.121320343559643, -2.121320343559643], [-2.683901074764725, -1.5587396123545605], [-3.0, -0.7956093000000001], [-3.0, 0.0], [-3.0, 0.7956093000000001], [-2.683901074764725, 1.5587396123545605], [-2.121320343559643, 2.121320343559643], [-1.5587396123545605, 2.683901074764725], [-0.7956093000000001, 3.0], [0.0, 3.0]], [\"M\", \"C\", \"C\", \"C\", \"C\", \"C\", \"C\", \"C\", \"C\", \"Z\"]], \"alpha\": 1, \"xindex\": 0, \"data\": \"data03\", \"id\": \"el12344836825040pts\"}, {\"edgecolor\": \"#000000\", \"facecolor\": \"#FF0000\", \"edgewidth\": 0.5, \"yindex\": 3, \"coordinates\": \"axes\", \"zorder\": 1000002.0, \"markerpath\": [[[0.0, 3.0], [0.7956093000000001, 3.0], [1.5587396123545605, 2.683901074764725], [2.121320343559643, 2.121320343559643], [2.683901074764725, 1.5587396123545605], [3.0, 0.7956093000000001], [3.0, 0.0], [3.0, -0.7956093000000001], [2.683901074764725, -1.5587396123545605], [2.121320343559643, -2.121320343559643], [1.5587396123545605, -2.683901074764725], [0.7956093000000001, -3.0], [0.0, -3.0], [-0.7956093000000001, -3.0], [-1.5587396123545605, -2.683901074764725], [-2.121320343559643, -2.121320343559643], [-2.683901074764725, -1.5587396123545605], [-3.0, -0.7956093000000001], [-3.0, 0.0], [-3.0, 0.7956093000000001], [-2.683901074764725, 1.5587396123545605], [-2.121320343559643, 2.121320343559643], [-1.5587396123545605, 2.683901074764725], [-0.7956093000000001, 3.0], [0.0, 3.0]], [\"M\", \"C\", \"C\", \"C\", \"C\", \"C\", \"C\", \"C\", \"C\", \"Z\"]], \"alpha\": 1, \"xindex\": 0, \"data\": \"data03\", \"id\": \"el12344836864272pts\"}, {\"edgecolor\": \"#000000\", \"facecolor\": \"#00BFBF\", \"edgewidth\": 0.5, \"yindex\": 4, \"coordinates\": \"axes\", \"zorder\": 1000002.0, \"markerpath\": [[[0.0, 3.0], [0.7956093000000001, 3.0], [1.5587396123545605, 2.683901074764725], [2.121320343559643, 2.121320343559643], [2.683901074764725, 1.5587396123545605], [3.0, 0.7956093000000001], [3.0, 0.0], [3.0, -0.7956093000000001], [2.683901074764725, -1.5587396123545605], [2.121320343559643, -2.121320343559643], [1.5587396123545605, -2.683901074764725], [0.7956093000000001, -3.0], [0.0, -3.0], [-0.7956093000000001, -3.0], [-1.5587396123545605, -2.683901074764725], [-2.121320343559643, -2.121320343559643], [-2.683901074764725, -1.5587396123545605], [-3.0, -0.7956093000000001], [-3.0, 0.0], [-3.0, 0.7956093000000001], [-2.683901074764725, 1.5587396123545605], [-2.121320343559643, 2.121320343559643], [-1.5587396123545605, 2.683901074764725], [-0.7956093000000001, 3.0], [0.0, 3.0]], [\"M\", \"C\", \"C\", \"C\", \"C\", \"C\", \"C\", \"C\", \"C\", \"Z\"]], \"alpha\": 1, \"xindex\": 0, \"data\": \"data03\", \"id\": \"el12344836826832pts\"}], \"id\": \"el12344855171792\", \"ydomain\": [0.0, 100.0], \"collections\": [], \"xscale\": \"linear\", \"bbox\": [0.125, 0.125, 0.77500000000000002, 0.77500000000000002]}], \"height\": 560.0, \"width\": 560.0, \"plugins\": [{\"type\": \"reset\"}, {\"enabled\": false, \"button\": true, \"type\": \"zoom\"}, {\"enabled\": false, \"button\": true, \"type\": \"boxzoom\"}, {\"voffset\": 10, \"labels\": [\"<table><th colspan='2'>knn</th><tr><td>the first</td><td>0.0%</td></tr><tr><td>yields</td><td>0.0%</td></tr><tr><td>cum. lift</td><td>0.0</td></tr><tr><td>local lift</td><td>0.0</td></tr></table>\", \"<table><th colspan='2'>knn</th><tr><td>the first</td><td>5.3%</td></tr><tr><td>yields</td><td>26.9%</td></tr><tr><td>cum. lift</td><td>5.1</td></tr><tr><td>local lift</td><td>5.1</td></tr></table>\", \"<table><th colspan='2'>knn</th><tr><td>the first</td><td>10.5%</td></tr><tr><td>yields</td><td>44.7%</td></tr><tr><td>cum. lift</td><td>4.2</td></tr><tr><td>local lift</td><td>3.4</td></tr></table>\", \"<table><th colspan='2'>knn</th><tr><td>the first</td><td>15.8%</td></tr><tr><td>yields</td><td>58.8%</td></tr><tr><td>cum. lift</td><td>3.7</td></tr><tr><td>local lift</td><td>2.7</td></tr></table>\", \"<table><th colspan='2'>knn</th><tr><td>the first</td><td>21.1%</td></tr><tr><td>yields</td><td>63.9%</td></tr><tr><td>cum. lift</td><td>3.0</td></tr><tr><td>local lift</td><td>1.0</td></tr></table>\", \"<table><th colspan='2'>knn</th><tr><td>the first</td><td>26.3%</td></tr><tr><td>yields</td><td>67.4%</td></tr><tr><td>cum. lift</td><td>2.6</td></tr><tr><td>local lift</td><td>0.7</td></tr></table>\", \"<table><th colspan='2'>knn</th><tr><td>the first</td><td>31.6%</td></tr><tr><td>yields</td><td>71.8%</td></tr><tr><td>cum. lift</td><td>2.3</td></tr><tr><td>local lift</td><td>0.8</td></tr></table>\", \"<table><th colspan='2'>knn</th><tr><td>the first</td><td>36.8%</td></tr><tr><td>yields</td><td>75.1%</td></tr><tr><td>cum. lift</td><td>2.0</td></tr><tr><td>local lift</td><td>0.6</td></tr></table>\", \"<table><th colspan='2'>knn</th><tr><td>the first</td><td>42.1%</td></tr><tr><td>yields</td><td>78.0%</td></tr><tr><td>cum. lift</td><td>1.9</td></tr><tr><td>local lift</td><td>0.5</td></tr></table>\", \"<table><th colspan='2'>knn</th><tr><td>the first</td><td>47.4%</td></tr><tr><td>yields</td><td>79.7%</td></tr><tr><td>cum. lift</td><td>1.7</td></tr><tr><td>local lift</td><td>0.3</td></tr></table>\", \"<table><th colspan='2'>knn</th><tr><td>the first</td><td>52.6%</td></tr><tr><td>yields</td><td>83.3%</td></tr><tr><td>cum. lift</td><td>1.6</td></tr><tr><td>local lift</td><td>0.7</td></tr></table>\", \"<table><th colspan='2'>knn</th><tr><td>the first</td><td>57.9%</td></tr><tr><td>yields</td><td>84.6%</td></tr><tr><td>cum. lift</td><td>1.5</td></tr><tr><td>local lift</td><td>0.3</td></tr></table>\", \"<table><th colspan='2'>knn</th><tr><td>the first</td><td>63.2%</td></tr><tr><td>yields</td><td>87.9%</td></tr><tr><td>cum. lift</td><td>1.4</td></tr><tr><td>local lift</td><td>0.6</td></tr></table>\", \"<table><th colspan='2'>knn</th><tr><td>the first</td><td>68.4%</td></tr><tr><td>yields</td><td>88.8%</td></tr><tr><td>cum. lift</td><td>1.3</td></tr><tr><td>local lift</td><td>0.2</td></tr></table>\", \"<table><th colspan='2'>knn</th><tr><td>the first</td><td>73.7%</td></tr><tr><td>yields</td><td>90.5%</td></tr><tr><td>cum. lift</td><td>1.2</td></tr><tr><td>local lift</td><td>0.3</td></tr></table>\", \"<table><th colspan='2'>knn</th><tr><td>the first</td><td>78.9%</td></tr><tr><td>yields</td><td>92.1%</td></tr><tr><td>cum. lift</td><td>1.2</td></tr><tr><td>local lift</td><td>0.3</td></tr></table>\", \"<table><th colspan='2'>knn</th><tr><td>the first</td><td>84.2%</td></tr><tr><td>yields</td><td>94.5%</td></tr><tr><td>cum. lift</td><td>1.1</td></tr><tr><td>local lift</td><td>0.5</td></tr></table>\", \"<table><th colspan='2'>knn</th><tr><td>the first</td><td>89.5%</td></tr><tr><td>yields</td><td>96.5%</td></tr><tr><td>cum. lift</td><td>1.1</td></tr><tr><td>local lift</td><td>0.4</td></tr></table>\", \"<table><th colspan='2'>knn</th><tr><td>the first</td><td>94.7%</td></tr><tr><td>yields</td><td>98.0%</td></tr><tr><td>cum. lift</td><td>1.0</td></tr><tr><td>local lift</td><td>0.3</td></tr></table>\", \"<table><th colspan='2'>knn</th><tr><td>the first</td><td>100.0%</td></tr><tr><td>yields</td><td>100.0%</td></tr><tr><td>cum. lift</td><td>1.0</td></tr><tr><td>local lift</td><td>0.4</td></tr></table>\"], \"type\": \"htmltooltip\", \"id\": \"el12344827896400pts\", \"hoffset\": 0}, {\"voffset\": 10, \"labels\": [\"<table><th colspan='2'>gaussianNB</th><tr><td>the first</td><td>0.0%</td></tr><tr><td>yields</td><td>0.0%</td></tr><tr><td>cum. lift</td><td>0.0</td></tr><tr><td>local lift</td><td>0.0</td></tr></table>\", \"<table><th colspan='2'>gaussianNB</th><tr><td>the first</td><td>5.3%</td></tr><tr><td>yields</td><td>24.4%</td></tr><tr><td>cum. lift</td><td>4.6</td></tr><tr><td>local lift</td><td>4.6</td></tr></table>\", \"<table><th colspan='2'>gaussianNB</th><tr><td>the first</td><td>10.5%</td></tr><tr><td>yields</td><td>43.4%</td></tr><tr><td>cum. lift</td><td>4.1</td></tr><tr><td>local lift</td><td>3.6</td></tr></table>\", \"<table><th colspan='2'>gaussianNB</th><tr><td>the first</td><td>15.8%</td></tr><tr><td>yields</td><td>52.4%</td></tr><tr><td>cum. lift</td><td>3.3</td></tr><tr><td>local lift</td><td>1.7</td></tr></table>\", \"<table><th colspan='2'>gaussianNB</th><tr><td>the first</td><td>21.1%</td></tr><tr><td>yields</td><td>59.0%</td></tr><tr><td>cum. lift</td><td>2.8</td></tr><tr><td>local lift</td><td>1.3</td></tr></table>\", \"<table><th colspan='2'>gaussianNB</th><tr><td>the first</td><td>26.3%</td></tr><tr><td>yields</td><td>64.1%</td></tr><tr><td>cum. lift</td><td>2.4</td></tr><tr><td>local lift</td><td>1.0</td></tr></table>\", \"<table><th colspan='2'>gaussianNB</th><tr><td>the first</td><td>31.6%</td></tr><tr><td>yields</td><td>69.2%</td></tr><tr><td>cum. lift</td><td>2.2</td></tr><tr><td>local lift</td><td>1.0</td></tr></table>\", \"<table><th colspan='2'>gaussianNB</th><tr><td>the first</td><td>36.8%</td></tr><tr><td>yields</td><td>72.2%</td></tr><tr><td>cum. lift</td><td>2.0</td></tr><tr><td>local lift</td><td>0.6</td></tr></table>\", \"<table><th colspan='2'>gaussianNB</th><tr><td>the first</td><td>42.1%</td></tr><tr><td>yields</td><td>74.7%</td></tr><tr><td>cum. lift</td><td>1.8</td></tr><tr><td>local lift</td><td>0.5</td></tr></table>\", \"<table><th colspan='2'>gaussianNB</th><tr><td>the first</td><td>47.4%</td></tr><tr><td>yields</td><td>79.1%</td></tr><tr><td>cum. lift</td><td>1.7</td></tr><tr><td>local lift</td><td>0.8</td></tr></table>\", \"<table><th colspan='2'>gaussianNB</th><tr><td>the first</td><td>52.6%</td></tr><tr><td>yields</td><td>81.9%</td></tr><tr><td>cum. lift</td><td>1.6</td></tr><tr><td>local lift</td><td>0.5</td></tr></table>\", \"<table><th colspan='2'>gaussianNB</th><tr><td>the first</td><td>57.9%</td></tr><tr><td>yields</td><td>83.7%</td></tr><tr><td>cum. lift</td><td>1.4</td></tr><tr><td>local lift</td><td>0.3</td></tr></table>\", \"<table><th colspan='2'>gaussianNB</th><tr><td>the first</td><td>63.2%</td></tr><tr><td>yields</td><td>85.5%</td></tr><tr><td>cum. lift</td><td>1.4</td></tr><tr><td>local lift</td><td>0.3</td></tr></table>\", \"<table><th colspan='2'>gaussianNB</th><tr><td>the first</td><td>68.4%</td></tr><tr><td>yields</td><td>88.3%</td></tr><tr><td>cum. lift</td><td>1.3</td></tr><tr><td>local lift</td><td>0.5</td></tr></table>\", \"<table><th colspan='2'>gaussianNB</th><tr><td>the first</td><td>73.7%</td></tr><tr><td>yields</td><td>90.3%</td></tr><tr><td>cum. lift</td><td>1.2</td></tr><tr><td>local lift</td><td>0.4</td></tr></table>\", \"<table><th colspan='2'>gaussianNB</th><tr><td>the first</td><td>78.9%</td></tr><tr><td>yields</td><td>92.3%</td></tr><tr><td>cum. lift</td><td>1.2</td></tr><tr><td>local lift</td><td>0.4</td></tr></table>\", \"<table><th colspan='2'>gaussianNB</th><tr><td>the first</td><td>84.2%</td></tr><tr><td>yields</td><td>94.5%</td></tr><tr><td>cum. lift</td><td>1.1</td></tr><tr><td>local lift</td><td>0.4</td></tr></table>\", \"<table><th colspan='2'>gaussianNB</th><tr><td>the first</td><td>89.5%</td></tr><tr><td>yields</td><td>96.7%</td></tr><tr><td>cum. lift</td><td>1.1</td></tr><tr><td>local lift</td><td>0.4</td></tr></table>\", \"<table><th colspan='2'>gaussianNB</th><tr><td>the first</td><td>94.7%</td></tr><tr><td>yields</td><td>98.5%</td></tr><tr><td>cum. lift</td><td>1.0</td></tr><tr><td>local lift</td><td>0.3</td></tr></table>\", \"<table><th colspan='2'>gaussianNB</th><tr><td>the first</td><td>100.0%</td></tr><tr><td>yields</td><td>100.0%</td></tr><tr><td>cum. lift</td><td>1.0</td></tr><tr><td>local lift</td><td>0.3</td></tr></table>\"], \"type\": \"htmltooltip\", \"id\": \"el12344834850000pts\", \"hoffset\": 0}, {\"voffset\": 10, \"labels\": [\"<table><th colspan='2'>logres</th><tr><td>the first</td><td>0.0%</td></tr><tr><td>yields</td><td>0.0%</td></tr><tr><td>cum. lift</td><td>0.0</td></tr><tr><td>local lift</td><td>0.0</td></tr></table>\", \"<table><th colspan='2'>logres</th><tr><td>the first</td><td>5.3%</td></tr><tr><td>yields</td><td>28.4%</td></tr><tr><td>cum. lift</td><td>5.4</td></tr><tr><td>local lift</td><td>5.4</td></tr></table>\", \"<table><th colspan='2'>logres</th><tr><td>the first</td><td>10.5%</td></tr><tr><td>yields</td><td>46.3%</td></tr><tr><td>cum. lift</td><td>4.4</td></tr><tr><td>local lift</td><td>3.4</td></tr></table>\", \"<table><th colspan='2'>logres</th><tr><td>the first</td><td>15.8%</td></tr><tr><td>yields</td><td>57.0%</td></tr><tr><td>cum. lift</td><td>3.6</td></tr><tr><td>local lift</td><td>2.1</td></tr></table>\", \"<table><th colspan='2'>logres</th><tr><td>the first</td><td>21.1%</td></tr><tr><td>yields</td><td>62.3%</td></tr><tr><td>cum. lift</td><td>3.0</td></tr><tr><td>local lift</td><td>1.0</td></tr></table>\", \"<table><th colspan='2'>logres</th><tr><td>the first</td><td>26.3%</td></tr><tr><td>yields</td><td>66.1%</td></tr><tr><td>cum. lift</td><td>2.5</td></tr><tr><td>local lift</td><td>0.7</td></tr></table>\", \"<table><th colspan='2'>logres</th><tr><td>the first</td><td>31.6%</td></tr><tr><td>yields</td><td>70.5%</td></tr><tr><td>cum. lift</td><td>2.2</td></tr><tr><td>local lift</td><td>0.8</td></tr></table>\", \"<table><th colspan='2'>logres</th><tr><td>the first</td><td>36.8%</td></tr><tr><td>yields</td><td>74.9%</td></tr><tr><td>cum. lift</td><td>2.0</td></tr><tr><td>local lift</td><td>0.8</td></tr></table>\", \"<table><th colspan='2'>logres</th><tr><td>the first</td><td>42.1%</td></tr><tr><td>yields</td><td>77.1%</td></tr><tr><td>cum. lift</td><td>1.8</td></tr><tr><td>local lift</td><td>0.4</td></tr></table>\", \"<table><th colspan='2'>logres</th><tr><td>the first</td><td>47.4%</td></tr><tr><td>yields</td><td>80.0%</td></tr><tr><td>cum. lift</td><td>1.7</td></tr><tr><td>local lift</td><td>0.5</td></tr></table>\", \"<table><th colspan='2'>logres</th><tr><td>the first</td><td>52.6%</td></tr><tr><td>yields</td><td>82.2%</td></tr><tr><td>cum. lift</td><td>1.6</td></tr><tr><td>local lift</td><td>0.4</td></tr></table>\", \"<table><th colspan='2'>logres</th><tr><td>the first</td><td>57.9%</td></tr><tr><td>yields</td><td>85.0%</td></tr><tr><td>cum. lift</td><td>1.5</td></tr><tr><td>local lift</td><td>0.5</td></tr></table>\", \"<table><th colspan='2'>logres</th><tr><td>the first</td><td>63.2%</td></tr><tr><td>yields</td><td>88.1%</td></tr><tr><td>cum. lift</td><td>1.4</td></tr><tr><td>local lift</td><td>0.6</td></tr></table>\", \"<table><th colspan='2'>logres</th><tr><td>the first</td><td>68.4%</td></tr><tr><td>yields</td><td>90.5%</td></tr><tr><td>cum. lift</td><td>1.3</td></tr><tr><td>local lift</td><td>0.5</td></tr></table>\", \"<table><th colspan='2'>logres</th><tr><td>the first</td><td>73.7%</td></tr><tr><td>yields</td><td>92.3%</td></tr><tr><td>cum. lift</td><td>1.3</td></tr><tr><td>local lift</td><td>0.3</td></tr></table>\", \"<table><th colspan='2'>logres</th><tr><td>the first</td><td>78.9%</td></tr><tr><td>yields</td><td>94.7%</td></tr><tr><td>cum. lift</td><td>1.2</td></tr><tr><td>local lift</td><td>0.5</td></tr></table>\", \"<table><th colspan='2'>logres</th><tr><td>the first</td><td>84.2%</td></tr><tr><td>yields</td><td>96.5%</td></tr><tr><td>cum. lift</td><td>1.1</td></tr><tr><td>local lift</td><td>0.3</td></tr></table>\", \"<table><th colspan='2'>logres</th><tr><td>the first</td><td>89.5%</td></tr><tr><td>yields</td><td>97.4%</td></tr><tr><td>cum. lift</td><td>1.1</td></tr><tr><td>local lift</td><td>0.2</td></tr></table>\", \"<table><th colspan='2'>logres</th><tr><td>the first</td><td>94.7%</td></tr><tr><td>yields</td><td>98.7%</td></tr><tr><td>cum. lift</td><td>1.0</td></tr><tr><td>local lift</td><td>0.3</td></tr></table>\", \"<table><th colspan='2'>logres</th><tr><td>the first</td><td>100.0%</td></tr><tr><td>yields</td><td>100.0%</td></tr><tr><td>cum. lift</td><td>1.0</td></tr><tr><td>local lift</td><td>0.3</td></tr></table>\"], \"type\": \"htmltooltip\", \"id\": \"el12344834816144pts\", \"hoffset\": 0}, {\"voffset\": 10, \"labels\": [\"<table><th colspan='2'>baseline</th><tr><td>the first</td><td>0.0%</td></tr><tr><td>yields</td><td>0.0%</td></tr><tr><td>cum. lift</td><td>1.0</td></td></tr><tr><td>local lift</td><td>1.0</td></tr></table>\", \"<table><th colspan='2'>baseline</th><tr><td>the first</td><td>5.0%</td></tr><tr><td>yields</td><td>5.0%</td></tr><tr><td>cum. lift</td><td>1.0</td></td></tr><tr><td>local lift</td><td>1.0</td></tr></table>\", \"<table><th colspan='2'>baseline</th><tr><td>the first</td><td>10.0%</td></tr><tr><td>yields</td><td>10.0%</td></tr><tr><td>cum. lift</td><td>1.0</td></td></tr><tr><td>local lift</td><td>1.0</td></tr></table>\", \"<table><th colspan='2'>baseline</th><tr><td>the first</td><td>15.0%</td></tr><tr><td>yields</td><td>15.0%</td></tr><tr><td>cum. lift</td><td>1.0</td></td></tr><tr><td>local lift</td><td>1.0</td></tr></table>\", \"<table><th colspan='2'>baseline</th><tr><td>the first</td><td>21.0%</td></tr><tr><td>yields</td><td>21.0%</td></tr><tr><td>cum. lift</td><td>1.0</td></td></tr><tr><td>local lift</td><td>1.0</td></tr></table>\", \"<table><th colspan='2'>baseline</th><tr><td>the first</td><td>26.0%</td></tr><tr><td>yields</td><td>26.0%</td></tr><tr><td>cum. lift</td><td>1.0</td></td></tr><tr><td>local lift</td><td>1.0</td></tr></table>\", \"<table><th colspan='2'>baseline</th><tr><td>the first</td><td>31.0%</td></tr><tr><td>yields</td><td>31.0%</td></tr><tr><td>cum. lift</td><td>1.0</td></td></tr><tr><td>local lift</td><td>1.0</td></tr></table>\", \"<table><th colspan='2'>baseline</th><tr><td>the first</td><td>36.0%</td></tr><tr><td>yields</td><td>36.0%</td></tr><tr><td>cum. lift</td><td>1.0</td></td></tr><tr><td>local lift</td><td>1.0</td></tr></table>\", \"<table><th colspan='2'>baseline</th><tr><td>the first</td><td>42.0%</td></tr><tr><td>yields</td><td>42.0%</td></tr><tr><td>cum. lift</td><td>1.0</td></td></tr><tr><td>local lift</td><td>1.0</td></tr></table>\", \"<table><th colspan='2'>baseline</th><tr><td>the first</td><td>47.0%</td></tr><tr><td>yields</td><td>47.0%</td></tr><tr><td>cum. lift</td><td>1.0</td></td></tr><tr><td>local lift</td><td>1.0</td></tr></table>\", \"<table><th colspan='2'>baseline</th><tr><td>the first</td><td>52.0%</td></tr><tr><td>yields</td><td>52.0%</td></tr><tr><td>cum. lift</td><td>1.0</td></td></tr><tr><td>local lift</td><td>1.0</td></tr></table>\", \"<table><th colspan='2'>baseline</th><tr><td>the first</td><td>57.0%</td></tr><tr><td>yields</td><td>57.0%</td></tr><tr><td>cum. lift</td><td>1.0</td></td></tr><tr><td>local lift</td><td>1.0</td></tr></table>\", \"<table><th colspan='2'>baseline</th><tr><td>the first</td><td>63.0%</td></tr><tr><td>yields</td><td>63.0%</td></tr><tr><td>cum. lift</td><td>1.0</td></td></tr><tr><td>local lift</td><td>1.0</td></tr></table>\", \"<table><th colspan='2'>baseline</th><tr><td>the first</td><td>68.0%</td></tr><tr><td>yields</td><td>68.0%</td></tr><tr><td>cum. lift</td><td>1.0</td></td></tr><tr><td>local lift</td><td>1.0</td></tr></table>\", \"<table><th colspan='2'>baseline</th><tr><td>the first</td><td>73.0%</td></tr><tr><td>yields</td><td>73.0%</td></tr><tr><td>cum. lift</td><td>1.0</td></td></tr><tr><td>local lift</td><td>1.0</td></tr></table>\", \"<table><th colspan='2'>baseline</th><tr><td>the first</td><td>78.0%</td></tr><tr><td>yields</td><td>78.0%</td></tr><tr><td>cum. lift</td><td>1.0</td></td></tr><tr><td>local lift</td><td>1.0</td></tr></table>\", \"<table><th colspan='2'>baseline</th><tr><td>the first</td><td>84.0%</td></tr><tr><td>yields</td><td>84.0%</td></tr><tr><td>cum. lift</td><td>1.0</td></td></tr><tr><td>local lift</td><td>1.0</td></tr></table>\", \"<table><th colspan='2'>baseline</th><tr><td>the first</td><td>89.0%</td></tr><tr><td>yields</td><td>89.0%</td></tr><tr><td>cum. lift</td><td>1.0</td></td></tr><tr><td>local lift</td><td>1.0</td></tr></table>\", \"<table><th colspan='2'>baseline</th><tr><td>the first</td><td>94.0%</td></tr><tr><td>yields</td><td>94.0%</td></tr><tr><td>cum. lift</td><td>1.0</td></td></tr><tr><td>local lift</td><td>1.0</td></tr></table>\", \"<table><th colspan='2'>baseline</th><tr><td>the first</td><td>100.0%</td></tr><tr><td>yields</td><td>100.0%</td></tr><tr><td>cum. lift</td><td>1.0</td></td></tr><tr><td>local lift</td><td>1.0</td></tr></table>\"], \"type\": \"htmltooltip\", \"id\": \"el12344855314960pts\", \"hoffset\": 0}], \"data\": {\"data04\": [[0.6969086021505376, 0.015360983102918613], [0.9846390168970814, 0.015360983102918613], [0.9846390168970814, 0.2058371735791091], [0.6969086021505376, 0.2058371735791091]], \"data02\": [[0.0, 0.0], [5.0, 5.0], [10.0, 10.0], [15.0, 15.0], [21.0, 21.0], [26.0, 26.0], [31.0, 31.0], [36.0, 36.0], [42.0, 42.0], [47.0, 47.0], [52.0, 52.0], [57.0, 57.0], [63.0, 63.0], [68.0, 68.0], [73.0, 73.0], [78.0, 78.0], [84.0, 84.0], [89.0, 89.0], [94.0, 94.0], [100.0, 100.0]], \"data03\": [[0.7184139784946235, 0.18125960061443933, 0.1359447004608295, 0.09062980030721962, 0.045314900153609845], [0.7614247311827956, 0.18125960061443933, 0.1359447004608295, 0.09062980030721962, 0.045314900153609845]], \"data01\": [[0.0, 0.0, 0.0, 0.0], [5.263157894736842, 26.87224669603524, 24.44933920704846, 28.41409691629956], [10.526315789473683, 44.713656387665196, 43.3920704845815, 46.25550660792951], [15.789473684210526, 58.81057268722467, 52.422907488986795, 57.048458149779734], [21.052631578947366, 63.87665198237885, 59.03083700440529, 62.33480176211453], [26.31578947368421, 67.40088105726872, 64.09691629955947, 66.07929515418502], [31.57894736842105, 71.80616740088107, 69.16299559471365, 70.48458149779735], [36.84210526315789, 75.11013215859032, 72.24669603524228, 74.88986784140968], [42.10526315789473, 77.97356828193833, 74.66960352422906, 77.09251101321584], [47.368421052631575, 79.73568281938327, 79.0748898678414, 79.95594713656386], [52.63157894736842, 83.25991189427315, 81.93832599118942, 82.15859030837002], [57.89473684210527, 84.58149779735685, 83.70044052863436, 85.02202643171805], [63.1578947368421, 87.8854625550661, 85.46255506607929, 88.10572687224668], [68.42105263157895, 88.76651982378856, 88.32599118942731, 90.52863436123346], [73.68421052631578, 90.5286343612335, 90.30837004405286, 92.2907488986784], [78.94736842105263, 92.07048458149781, 92.29074889867842, 94.71365638766518], [84.21052631578947, 94.49339207048459, 94.49339207048459, 96.47577092511011], [89.47368421052632, 96.47577092511015, 96.69603524229075, 97.35682819383258], [94.73684210526315, 98.01762114537446, 98.45814977973568, 98.67841409691628], [100.0, 100.00000000000003, 100.0, 99.99999999999997]]}, \"id\": \"el12344827896464\"});\n",
        "   }(mpld3);\n",
        "}else if(typeof define === \"function\" && define.amd){\n",
        "   // require.js is available: use it to load d3/mpld3\n",
        "   require.config({paths: {d3: \"https://mpld3.github.io/js/d3.v3.min\"}});\n",
        "   require([\"d3\"], function(d3){\n",
        "      window.d3 = d3;\n",
        "      mpld3_load_lib(\"https://mpld3.github.io/js/mpld3.v0.2.js\", function(){\n",
        "         \n",
        "    mpld3.register_plugin(\"htmltooltip\", HtmlTooltipPlugin);\n",
        "    HtmlTooltipPlugin.prototype = Object.create(mpld3.Plugin.prototype);\n",
        "    HtmlTooltipPlugin.prototype.constructor = HtmlTooltipPlugin;\n",
        "    HtmlTooltipPlugin.prototype.requiredProps = [\"id\"];\n",
        "    HtmlTooltipPlugin.prototype.defaultProps = {labels:null, hoffset:0, voffset:10};\n",
        "    function HtmlTooltipPlugin(fig, props){\n",
        "        mpld3.Plugin.call(this, fig, props);\n",
        "    };\n",
        "\n",
        "    HtmlTooltipPlugin.prototype.draw = function(){\n",
        "       var obj = mpld3.get_element(this.props.id);\n",
        "       var labels = this.props.labels;\n",
        "       var tooltip = d3.select(\"body\").append(\"div\")\n",
        "                    .attr(\"class\", \"mpld3-tooltip\")\n",
        "                    .style(\"position\", \"absolute\")\n",
        "                    .style(\"z-index\", \"10\")\n",
        "                    .style(\"visibility\", \"hidden\");\n",
        "\n",
        "       obj.elements()\n",
        "           .on(\"mouseover\", function(d, i){\n",
        "                              tooltip.html(labels[i])\n",
        "                                     .style(\"visibility\", \"visible\");})\n",
        "           .on(\"mousemove\", function(d, i){\n",
        "                    tooltip\n",
        "                      .style(\"top\", d3.event.pageY + this.props.voffset + \"px\")\n",
        "                      .style(\"left\",d3.event.pageX + this.props.hoffset + \"px\");\n",
        "                 }.bind(this))\n",
        "           .on(\"mouseout\",  function(d, i){\n",
        "                           tooltip.style(\"visibility\", \"hidden\");});\n",
        "    };\n",
        "    \n",
        "    mpld3.register_plugin(\"htmltooltip\", HtmlTooltipPlugin);\n",
        "    HtmlTooltipPlugin.prototype = Object.create(mpld3.Plugin.prototype);\n",
        "    HtmlTooltipPlugin.prototype.constructor = HtmlTooltipPlugin;\n",
        "    HtmlTooltipPlugin.prototype.requiredProps = [\"id\"];\n",
        "    HtmlTooltipPlugin.prototype.defaultProps = {labels:null, hoffset:0, voffset:10};\n",
        "    function HtmlTooltipPlugin(fig, props){\n",
        "        mpld3.Plugin.call(this, fig, props);\n",
        "    };\n",
        "\n",
        "    HtmlTooltipPlugin.prototype.draw = function(){\n",
        "       var obj = mpld3.get_element(this.props.id);\n",
        "       var labels = this.props.labels;\n",
        "       var tooltip = d3.select(\"body\").append(\"div\")\n",
        "                    .attr(\"class\", \"mpld3-tooltip\")\n",
        "                    .style(\"position\", \"absolute\")\n",
        "                    .style(\"z-index\", \"10\")\n",
        "                    .style(\"visibility\", \"hidden\");\n",
        "\n",
        "       obj.elements()\n",
        "           .on(\"mouseover\", function(d, i){\n",
        "                              tooltip.html(labels[i])\n",
        "                                     .style(\"visibility\", \"visible\");})\n",
        "           .on(\"mousemove\", function(d, i){\n",
        "                    tooltip\n",
        "                      .style(\"top\", d3.event.pageY + this.props.voffset + \"px\")\n",
        "                      .style(\"left\",d3.event.pageX + this.props.hoffset + \"px\");\n",
        "                 }.bind(this))\n",
        "           .on(\"mouseout\",  function(d, i){\n",
        "                           tooltip.style(\"visibility\", \"hidden\");});\n",
        "    };\n",
        "    \n",
        "    mpld3.register_plugin(\"htmltooltip\", HtmlTooltipPlugin);\n",
        "    HtmlTooltipPlugin.prototype = Object.create(mpld3.Plugin.prototype);\n",
        "    HtmlTooltipPlugin.prototype.constructor = HtmlTooltipPlugin;\n",
        "    HtmlTooltipPlugin.prototype.requiredProps = [\"id\"];\n",
        "    HtmlTooltipPlugin.prototype.defaultProps = {labels:null, hoffset:0, voffset:10};\n",
        "    function HtmlTooltipPlugin(fig, props){\n",
        "        mpld3.Plugin.call(this, fig, props);\n",
        "    };\n",
        "\n",
        "    HtmlTooltipPlugin.prototype.draw = function(){\n",
        "       var obj = mpld3.get_element(this.props.id);\n",
        "       var labels = this.props.labels;\n",
        "       var tooltip = d3.select(\"body\").append(\"div\")\n",
        "                    .attr(\"class\", \"mpld3-tooltip\")\n",
        "                    .style(\"position\", \"absolute\")\n",
        "                    .style(\"z-index\", \"10\")\n",
        "                    .style(\"visibility\", \"hidden\");\n",
        "\n",
        "       obj.elements()\n",
        "           .on(\"mouseover\", function(d, i){\n",
        "                              tooltip.html(labels[i])\n",
        "                                     .style(\"visibility\", \"visible\");})\n",
        "           .on(\"mousemove\", function(d, i){\n",
        "                    tooltip\n",
        "                      .style(\"top\", d3.event.pageY + this.props.voffset + \"px\")\n",
        "                      .style(\"left\",d3.event.pageX + this.props.hoffset + \"px\");\n",
        "                 }.bind(this))\n",
        "           .on(\"mouseout\",  function(d, i){\n",
        "                           tooltip.style(\"visibility\", \"hidden\");});\n",
        "    };\n",
        "    \n",
        "    mpld3.register_plugin(\"htmltooltip\", HtmlTooltipPlugin);\n",
        "    HtmlTooltipPlugin.prototype = Object.create(mpld3.Plugin.prototype);\n",
        "    HtmlTooltipPlugin.prototype.constructor = HtmlTooltipPlugin;\n",
        "    HtmlTooltipPlugin.prototype.requiredProps = [\"id\"];\n",
        "    HtmlTooltipPlugin.prototype.defaultProps = {labels:null, hoffset:0, voffset:10};\n",
        "    function HtmlTooltipPlugin(fig, props){\n",
        "        mpld3.Plugin.call(this, fig, props);\n",
        "    };\n",
        "\n",
        "    HtmlTooltipPlugin.prototype.draw = function(){\n",
        "       var obj = mpld3.get_element(this.props.id);\n",
        "       var labels = this.props.labels;\n",
        "       var tooltip = d3.select(\"body\").append(\"div\")\n",
        "                    .attr(\"class\", \"mpld3-tooltip\")\n",
        "                    .style(\"position\", \"absolute\")\n",
        "                    .style(\"z-index\", \"10\")\n",
        "                    .style(\"visibility\", \"hidden\");\n",
        "\n",
        "       obj.elements()\n",
        "           .on(\"mouseover\", function(d, i){\n",
        "                              tooltip.html(labels[i])\n",
        "                                     .style(\"visibility\", \"visible\");})\n",
        "           .on(\"mousemove\", function(d, i){\n",
        "                    tooltip\n",
        "                      .style(\"top\", d3.event.pageY + this.props.voffset + \"px\")\n",
        "                      .style(\"left\",d3.event.pageX + this.props.hoffset + \"px\");\n",
        "                 }.bind(this))\n",
        "           .on(\"mouseout\",  function(d, i){\n",
        "                           tooltip.style(\"visibility\", \"hidden\");});\n",
        "    };\n",
        "    \n",
        "         mpld3.draw_figure(\"fig_el123448278964646722488463\", {\"axes\": [{\"xlim\": [0.0, 100.0], \"yscale\": \"linear\", \"axesbg\": \"#FFFFFF\", \"texts\": [{\"v_baseline\": \"hanging\", \"h_anchor\": \"middle\", \"color\": \"#000000\", \"text\": \"Percentage of test instances (decreasing by probability)\", \"coordinates\": \"axes\", \"zorder\": 3, \"alpha\": 1, \"fontsize\": 13.945910149055313, \"position\": [0.5, -0.076666436633526139], \"rotation\": -0.0, \"id\": \"el12344836523216\"}, {\"v_baseline\": \"auto\", \"h_anchor\": \"middle\", \"color\": \"#000000\", \"text\": \"Percentage of positive instances targeted\", \"coordinates\": \"axes\", \"zorder\": 3, \"alpha\": 1, \"fontsize\": 13.945910149055313, \"position\": [-0.098303821426152863, 0.5], \"rotation\": -90.0, \"id\": \"el12344855315984\"}, {\"v_baseline\": \"auto\", \"h_anchor\": \"middle\", \"color\": \"#000000\", \"text\": \"Lift curve for prediction of successful term deposit sale\", \"coordinates\": \"axes\", \"zorder\": 3, \"alpha\": 1, \"fontsize\": 15.945910149055313, \"position\": [0.5, 1.0728008192524323], \"rotation\": -0.0, \"id\": \"el12344855469904\"}, {\"v_baseline\": \"auto\", \"h_anchor\": \"start\", \"color\": \"#000000\", \"text\": \"None\", \"coordinates\": \"axes\", \"zorder\": 1000003.0, \"alpha\": 1, \"fontsize\": 10.0, \"position\": [-0.16129032258064516, -0.16129032258064516], \"rotation\": -0.0, \"id\": \"el12344836864592\"}, {\"v_baseline\": \"auto\", \"h_anchor\": \"start\", \"color\": \"#000000\", \"text\": \"knn\", \"coordinates\": \"axes\", \"zorder\": 1000003.0, \"alpha\": 1, \"fontsize\": 12.0, \"position\": [0.79521889400921653, 0.17050691244239632], \"rotation\": -0.0, \"id\": \"el12344836714704\"}, {\"v_baseline\": \"auto\", \"h_anchor\": \"start\", \"color\": \"#000000\", \"text\": \"gaussianNB\", \"coordinates\": \"axes\", \"zorder\": 1000003.0, \"alpha\": 1, \"fontsize\": 12.0, \"position\": [0.79521889400921653, 0.12519201228878649], \"rotation\": -0.0, \"id\": \"el12344836823632\"}, {\"v_baseline\": \"auto\", \"h_anchor\": \"start\", \"color\": \"#000000\", \"text\": \"logres\", \"coordinates\": \"axes\", \"zorder\": 1000003.0, \"alpha\": 1, \"fontsize\": 12.0, \"position\": [0.79521889400921653, 0.07987711213517662], \"rotation\": -0.0, \"id\": \"el12344836825936\"}, {\"v_baseline\": \"auto\", \"h_anchor\": \"start\", \"color\": \"#000000\", \"text\": \"baseline\", \"coordinates\": \"axes\", \"zorder\": 1000003.0, \"alpha\": 1, \"fontsize\": 12.0, \"position\": [0.79521889400921653, 0.034562211981566837], \"rotation\": -0.0, \"id\": \"el12344836865168\"}], \"zoomable\": true, \"images\": [], \"xdomain\": [0.0, 100.0], \"ylim\": [0.0, 100.0], \"paths\": [{\"edgecolor\": \"#000000\", \"facecolor\": \"#FFFFFF\", \"edgewidth\": 1.0, \"pathcodes\": [\"M\", \"L\", \"L\", \"L\", \"Z\"], \"yindex\": 1, \"coordinates\": \"axes\", \"dasharray\": \"10,0\", \"zorder\": 1000001.0, \"alpha\": 1.0, \"xindex\": 0, \"data\": \"data04\", \"id\": \"el12344836714256\"}], \"sharey\": [], \"sharex\": [], \"axesbgalpha\": null, \"axes\": [{\"scale\": \"linear\", \"tickformat\": null, \"grid\": {\"color\": \"#000000\", \"alpha\": 0.3, \"dasharray\": \"2,2\", \"gridOn\": true}, \"fontsize\": 10.0, \"position\": \"bottom\", \"nticks\": 6, \"tickvalues\": null}, {\"scale\": \"linear\", \"tickformat\": null, \"grid\": {\"color\": \"#000000\", \"alpha\": 0.3, \"dasharray\": \"2,2\", \"gridOn\": true}, \"fontsize\": 10.0, \"position\": \"left\", \"nticks\": 6, \"tickvalues\": null}], \"lines\": [{\"color\": \"#0000FF\", \"yindex\": 1, \"coordinates\": \"data\", \"dasharray\": \"10,0\", \"zorder\": 2, \"alpha\": 1, \"xindex\": 0, \"linewidth\": 1.0, \"data\": \"data01\", \"id\": \"el12344827896400\"}, {\"color\": \"#007F00\", \"yindex\": 2, \"coordinates\": \"data\", \"dasharray\": \"10,0\", \"zorder\": 2, \"alpha\": 1, \"xindex\": 0, \"linewidth\": 1.0, \"data\": \"data01\", \"id\": \"el12344834850000\"}, {\"color\": \"#FF0000\", \"yindex\": 3, \"coordinates\": \"data\", \"dasharray\": \"10,0\", \"zorder\": 2, \"alpha\": 1, \"xindex\": 0, \"linewidth\": 1.0, \"data\": \"data01\", \"id\": \"el12344834816144\"}, {\"color\": \"#00BFBF\", \"yindex\": 1, \"coordinates\": \"data\", \"dasharray\": \"10,0\", \"zorder\": 2, \"alpha\": 1, \"xindex\": 0, \"linewidth\": 1.0, \"data\": \"data02\", \"id\": \"el12344855314960\"}, {\"color\": \"#0000FF\", \"yindex\": 1, \"coordinates\": \"axes\", \"dasharray\": \"10,0\", \"zorder\": 1000002.0, \"alpha\": 1, \"xindex\": 0, \"linewidth\": 1.0, \"data\": \"data03\", \"id\": \"el12344836715600\"}, {\"color\": \"#007F00\", \"yindex\": 2, \"coordinates\": \"axes\", \"dasharray\": \"10,0\", \"zorder\": 1000002.0, \"alpha\": 1, \"xindex\": 0, \"linewidth\": 1.0, \"data\": \"data03\", \"id\": \"el12344836824464\"}, {\"color\": \"#FF0000\", \"yindex\": 3, \"coordinates\": \"axes\", \"dasharray\": \"10,0\", \"zorder\": 1000002.0, \"alpha\": 1, \"xindex\": 0, \"linewidth\": 1.0, \"data\": \"data03\", \"id\": \"el12344836826768\"}, {\"color\": \"#00BFBF\", \"yindex\": 4, \"coordinates\": \"axes\", \"dasharray\": \"10,0\", \"zorder\": 1000002.0, \"alpha\": 1, \"xindex\": 0, \"linewidth\": 1.0, \"data\": \"data03\", \"id\": \"el12344836866000\"}], \"markers\": [{\"edgecolor\": \"#000000\", \"facecolor\": \"#0000FF\", \"edgewidth\": 0.5, \"yindex\": 1, \"coordinates\": \"data\", \"zorder\": 2, \"markerpath\": [[[0.0, 3.0], [0.7956093000000001, 3.0], [1.5587396123545605, 2.683901074764725], [2.121320343559643, 2.121320343559643], [2.683901074764725, 1.5587396123545605], [3.0, 0.7956093000000001], [3.0, 0.0], [3.0, -0.7956093000000001], [2.683901074764725, -1.5587396123545605], [2.121320343559643, -2.121320343559643], [1.5587396123545605, -2.683901074764725], [0.7956093000000001, -3.0], [0.0, -3.0], [-0.7956093000000001, -3.0], [-1.5587396123545605, -2.683901074764725], [-2.121320343559643, -2.121320343559643], [-2.683901074764725, -1.5587396123545605], [-3.0, -0.7956093000000001], [-3.0, 0.0], [-3.0, 0.7956093000000001], [-2.683901074764725, 1.5587396123545605], [-2.121320343559643, 2.121320343559643], [-1.5587396123545605, 2.683901074764725], [-0.7956093000000001, 3.0], [0.0, 3.0]], [\"M\", \"C\", \"C\", \"C\", \"C\", \"C\", \"C\", \"C\", \"C\", \"Z\"]], \"alpha\": 1, \"xindex\": 0, \"data\": \"data01\", \"id\": \"el12344827896400pts\"}, {\"edgecolor\": \"#000000\", \"facecolor\": \"#007F00\", \"edgewidth\": 0.5, \"yindex\": 2, \"coordinates\": \"data\", \"zorder\": 2, \"markerpath\": [[[0.0, 3.0], [0.7956093000000001, 3.0], [1.5587396123545605, 2.683901074764725], [2.121320343559643, 2.121320343559643], [2.683901074764725, 1.5587396123545605], [3.0, 0.7956093000000001], [3.0, 0.0], [3.0, -0.7956093000000001], [2.683901074764725, -1.5587396123545605], [2.121320343559643, -2.121320343559643], [1.5587396123545605, -2.683901074764725], [0.7956093000000001, -3.0], [0.0, -3.0], [-0.7956093000000001, -3.0], [-1.5587396123545605, -2.683901074764725], [-2.121320343559643, -2.121320343559643], [-2.683901074764725, -1.5587396123545605], [-3.0, -0.7956093000000001], [-3.0, 0.0], [-3.0, 0.7956093000000001], [-2.683901074764725, 1.5587396123545605], [-2.121320343559643, 2.121320343559643], [-1.5587396123545605, 2.683901074764725], [-0.7956093000000001, 3.0], [0.0, 3.0]], [\"M\", \"C\", \"C\", \"C\", \"C\", \"C\", \"C\", \"C\", \"C\", \"Z\"]], \"alpha\": 1, \"xindex\": 0, \"data\": \"data01\", \"id\": \"el12344834850000pts\"}, {\"edgecolor\": \"#000000\", \"facecolor\": \"#FF0000\", \"edgewidth\": 0.5, \"yindex\": 3, \"coordinates\": \"data\", \"zorder\": 2, \"markerpath\": [[[0.0, 3.0], [0.7956093000000001, 3.0], [1.5587396123545605, 2.683901074764725], [2.121320343559643, 2.121320343559643], [2.683901074764725, 1.5587396123545605], [3.0, 0.7956093000000001], [3.0, 0.0], [3.0, -0.7956093000000001], [2.683901074764725, -1.5587396123545605], [2.121320343559643, -2.121320343559643], [1.5587396123545605, -2.683901074764725], [0.7956093000000001, -3.0], [0.0, -3.0], [-0.7956093000000001, -3.0], [-1.5587396123545605, -2.683901074764725], [-2.121320343559643, -2.121320343559643], [-2.683901074764725, -1.5587396123545605], [-3.0, -0.7956093000000001], [-3.0, 0.0], [-3.0, 0.7956093000000001], [-2.683901074764725, 1.5587396123545605], [-2.121320343559643, 2.121320343559643], [-1.5587396123545605, 2.683901074764725], [-0.7956093000000001, 3.0], [0.0, 3.0]], [\"M\", \"C\", \"C\", \"C\", \"C\", \"C\", \"C\", \"C\", \"C\", \"Z\"]], \"alpha\": 1, \"xindex\": 0, \"data\": \"data01\", \"id\": \"el12344834816144pts\"}, {\"edgecolor\": \"#000000\", \"facecolor\": \"#00BFBF\", \"edgewidth\": 0.5, \"yindex\": 0, \"coordinates\": \"data\", \"zorder\": 2, \"markerpath\": [[[0.0, 3.0], [0.7956093000000001, 3.0], [1.5587396123545605, 2.683901074764725], [2.121320343559643, 2.121320343559643], [2.683901074764725, 1.5587396123545605], [3.0, 0.7956093000000001], [3.0, 0.0], [3.0, -0.7956093000000001], [2.683901074764725, -1.5587396123545605], [2.121320343559643, -2.121320343559643], [1.5587396123545605, -2.683901074764725], [0.7956093000000001, -3.0], [0.0, -3.0], [-0.7956093000000001, -3.0], [-1.5587396123545605, -2.683901074764725], [-2.121320343559643, -2.121320343559643], [-2.683901074764725, -1.5587396123545605], [-3.0, -0.7956093000000001], [-3.0, 0.0], [-3.0, 0.7956093000000001], [-2.683901074764725, 1.5587396123545605], [-2.121320343559643, 2.121320343559643], [-1.5587396123545605, 2.683901074764725], [-0.7956093000000001, 3.0], [0.0, 3.0]], [\"M\", \"C\", \"C\", \"C\", \"C\", \"C\", \"C\", \"C\", \"C\", \"Z\"]], \"alpha\": 1, \"xindex\": 0, \"data\": \"data02\", \"id\": \"el12344855314960pts\"}, {\"edgecolor\": \"#000000\", \"facecolor\": \"#0000FF\", \"edgewidth\": 0.5, \"yindex\": 1, \"coordinates\": \"axes\", \"zorder\": 1000002.0, \"markerpath\": [[[0.0, 3.0], [0.7956093000000001, 3.0], [1.5587396123545605, 2.683901074764725], [2.121320343559643, 2.121320343559643], [2.683901074764725, 1.5587396123545605], [3.0, 0.7956093000000001], [3.0, 0.0], [3.0, -0.7956093000000001], [2.683901074764725, -1.5587396123545605], [2.121320343559643, -2.121320343559643], [1.5587396123545605, -2.683901074764725], [0.7956093000000001, -3.0], [0.0, -3.0], [-0.7956093000000001, -3.0], [-1.5587396123545605, -2.683901074764725], [-2.121320343559643, -2.121320343559643], [-2.683901074764725, -1.5587396123545605], [-3.0, -0.7956093000000001], [-3.0, 0.0], [-3.0, 0.7956093000000001], [-2.683901074764725, 1.5587396123545605], [-2.121320343559643, 2.121320343559643], [-1.5587396123545605, 2.683901074764725], [-0.7956093000000001, 3.0], [0.0, 3.0]], [\"M\", \"C\", \"C\", \"C\", \"C\", \"C\", \"C\", \"C\", \"C\", \"Z\"]], \"alpha\": 1, \"xindex\": 0, \"data\": \"data03\", \"id\": \"el12344836716176pts\"}, {\"edgecolor\": \"#000000\", \"facecolor\": \"#007F00\", \"edgewidth\": 0.5, \"yindex\": 2, \"coordinates\": \"axes\", \"zorder\": 1000002.0, \"markerpath\": [[[0.0, 3.0], [0.7956093000000001, 3.0], [1.5587396123545605, 2.683901074764725], [2.121320343559643, 2.121320343559643], [2.683901074764725, 1.5587396123545605], [3.0, 0.7956093000000001], [3.0, 0.0], [3.0, -0.7956093000000001], [2.683901074764725, -1.5587396123545605], [2.121320343559643, -2.121320343559643], [1.5587396123545605, -2.683901074764725], [0.7956093000000001, -3.0], [0.0, -3.0], [-0.7956093000000001, -3.0], [-1.5587396123545605, -2.683901074764725], [-2.121320343559643, -2.121320343559643], [-2.683901074764725, -1.5587396123545605], [-3.0, -0.7956093000000001], [-3.0, 0.0], [-3.0, 0.7956093000000001], [-2.683901074764725, 1.5587396123545605], [-2.121320343559643, 2.121320343559643], [-1.5587396123545605, 2.683901074764725], [-0.7956093000000001, 3.0], [0.0, 3.0]], [\"M\", \"C\", \"C\", \"C\", \"C\", \"C\", \"C\", \"C\", \"C\", \"Z\"]], \"alpha\": 1, \"xindex\": 0, \"data\": \"data03\", \"id\": \"el12344836825040pts\"}, {\"edgecolor\": \"#000000\", \"facecolor\": \"#FF0000\", \"edgewidth\": 0.5, \"yindex\": 3, \"coordinates\": \"axes\", \"zorder\": 1000002.0, \"markerpath\": [[[0.0, 3.0], [0.7956093000000001, 3.0], [1.5587396123545605, 2.683901074764725], [2.121320343559643, 2.121320343559643], [2.683901074764725, 1.5587396123545605], [3.0, 0.7956093000000001], [3.0, 0.0], [3.0, -0.7956093000000001], [2.683901074764725, -1.5587396123545605], [2.121320343559643, -2.121320343559643], [1.5587396123545605, -2.683901074764725], [0.7956093000000001, -3.0], [0.0, -3.0], [-0.7956093000000001, -3.0], [-1.5587396123545605, -2.683901074764725], [-2.121320343559643, -2.121320343559643], [-2.683901074764725, -1.5587396123545605], [-3.0, -0.7956093000000001], [-3.0, 0.0], [-3.0, 0.7956093000000001], [-2.683901074764725, 1.5587396123545605], [-2.121320343559643, 2.121320343559643], [-1.5587396123545605, 2.683901074764725], [-0.7956093000000001, 3.0], [0.0, 3.0]], [\"M\", \"C\", \"C\", \"C\", \"C\", \"C\", \"C\", \"C\", \"C\", \"Z\"]], \"alpha\": 1, \"xindex\": 0, \"data\": \"data03\", \"id\": \"el12344836864272pts\"}, {\"edgecolor\": \"#000000\", \"facecolor\": \"#00BFBF\", \"edgewidth\": 0.5, \"yindex\": 4, \"coordinates\": \"axes\", \"zorder\": 1000002.0, \"markerpath\": [[[0.0, 3.0], [0.7956093000000001, 3.0], [1.5587396123545605, 2.683901074764725], [2.121320343559643, 2.121320343559643], [2.683901074764725, 1.5587396123545605], [3.0, 0.7956093000000001], [3.0, 0.0], [3.0, -0.7956093000000001], [2.683901074764725, -1.5587396123545605], [2.121320343559643, -2.121320343559643], [1.5587396123545605, -2.683901074764725], [0.7956093000000001, -3.0], [0.0, -3.0], [-0.7956093000000001, -3.0], [-1.5587396123545605, -2.683901074764725], [-2.121320343559643, -2.121320343559643], [-2.683901074764725, -1.5587396123545605], [-3.0, -0.7956093000000001], [-3.0, 0.0], [-3.0, 0.7956093000000001], [-2.683901074764725, 1.5587396123545605], [-2.121320343559643, 2.121320343559643], [-1.5587396123545605, 2.683901074764725], [-0.7956093000000001, 3.0], [0.0, 3.0]], [\"M\", \"C\", \"C\", \"C\", \"C\", \"C\", \"C\", \"C\", \"C\", \"Z\"]], \"alpha\": 1, \"xindex\": 0, \"data\": \"data03\", \"id\": \"el12344836826832pts\"}], \"id\": \"el12344855171792\", \"ydomain\": [0.0, 100.0], \"collections\": [], \"xscale\": \"linear\", \"bbox\": [0.125, 0.125, 0.77500000000000002, 0.77500000000000002]}], \"height\": 560.0, \"width\": 560.0, \"plugins\": [{\"type\": \"reset\"}, {\"enabled\": false, \"button\": true, \"type\": \"zoom\"}, {\"enabled\": false, \"button\": true, \"type\": \"boxzoom\"}, {\"voffset\": 10, \"labels\": [\"<table><th colspan='2'>knn</th><tr><td>the first</td><td>0.0%</td></tr><tr><td>yields</td><td>0.0%</td></tr><tr><td>cum. lift</td><td>0.0</td></tr><tr><td>local lift</td><td>0.0</td></tr></table>\", \"<table><th colspan='2'>knn</th><tr><td>the first</td><td>5.3%</td></tr><tr><td>yields</td><td>26.9%</td></tr><tr><td>cum. lift</td><td>5.1</td></tr><tr><td>local lift</td><td>5.1</td></tr></table>\", \"<table><th colspan='2'>knn</th><tr><td>the first</td><td>10.5%</td></tr><tr><td>yields</td><td>44.7%</td></tr><tr><td>cum. lift</td><td>4.2</td></tr><tr><td>local lift</td><td>3.4</td></tr></table>\", \"<table><th colspan='2'>knn</th><tr><td>the first</td><td>15.8%</td></tr><tr><td>yields</td><td>58.8%</td></tr><tr><td>cum. lift</td><td>3.7</td></tr><tr><td>local lift</td><td>2.7</td></tr></table>\", \"<table><th colspan='2'>knn</th><tr><td>the first</td><td>21.1%</td></tr><tr><td>yields</td><td>63.9%</td></tr><tr><td>cum. lift</td><td>3.0</td></tr><tr><td>local lift</td><td>1.0</td></tr></table>\", \"<table><th colspan='2'>knn</th><tr><td>the first</td><td>26.3%</td></tr><tr><td>yields</td><td>67.4%</td></tr><tr><td>cum. lift</td><td>2.6</td></tr><tr><td>local lift</td><td>0.7</td></tr></table>\", \"<table><th colspan='2'>knn</th><tr><td>the first</td><td>31.6%</td></tr><tr><td>yields</td><td>71.8%</td></tr><tr><td>cum. lift</td><td>2.3</td></tr><tr><td>local lift</td><td>0.8</td></tr></table>\", \"<table><th colspan='2'>knn</th><tr><td>the first</td><td>36.8%</td></tr><tr><td>yields</td><td>75.1%</td></tr><tr><td>cum. lift</td><td>2.0</td></tr><tr><td>local lift</td><td>0.6</td></tr></table>\", \"<table><th colspan='2'>knn</th><tr><td>the first</td><td>42.1%</td></tr><tr><td>yields</td><td>78.0%</td></tr><tr><td>cum. lift</td><td>1.9</td></tr><tr><td>local lift</td><td>0.5</td></tr></table>\", \"<table><th colspan='2'>knn</th><tr><td>the first</td><td>47.4%</td></tr><tr><td>yields</td><td>79.7%</td></tr><tr><td>cum. lift</td><td>1.7</td></tr><tr><td>local lift</td><td>0.3</td></tr></table>\", \"<table><th colspan='2'>knn</th><tr><td>the first</td><td>52.6%</td></tr><tr><td>yields</td><td>83.3%</td></tr><tr><td>cum. lift</td><td>1.6</td></tr><tr><td>local lift</td><td>0.7</td></tr></table>\", \"<table><th colspan='2'>knn</th><tr><td>the first</td><td>57.9%</td></tr><tr><td>yields</td><td>84.6%</td></tr><tr><td>cum. lift</td><td>1.5</td></tr><tr><td>local lift</td><td>0.3</td></tr></table>\", \"<table><th colspan='2'>knn</th><tr><td>the first</td><td>63.2%</td></tr><tr><td>yields</td><td>87.9%</td></tr><tr><td>cum. lift</td><td>1.4</td></tr><tr><td>local lift</td><td>0.6</td></tr></table>\", \"<table><th colspan='2'>knn</th><tr><td>the first</td><td>68.4%</td></tr><tr><td>yields</td><td>88.8%</td></tr><tr><td>cum. lift</td><td>1.3</td></tr><tr><td>local lift</td><td>0.2</td></tr></table>\", \"<table><th colspan='2'>knn</th><tr><td>the first</td><td>73.7%</td></tr><tr><td>yields</td><td>90.5%</td></tr><tr><td>cum. lift</td><td>1.2</td></tr><tr><td>local lift</td><td>0.3</td></tr></table>\", \"<table><th colspan='2'>knn</th><tr><td>the first</td><td>78.9%</td></tr><tr><td>yields</td><td>92.1%</td></tr><tr><td>cum. lift</td><td>1.2</td></tr><tr><td>local lift</td><td>0.3</td></tr></table>\", \"<table><th colspan='2'>knn</th><tr><td>the first</td><td>84.2%</td></tr><tr><td>yields</td><td>94.5%</td></tr><tr><td>cum. lift</td><td>1.1</td></tr><tr><td>local lift</td><td>0.5</td></tr></table>\", \"<table><th colspan='2'>knn</th><tr><td>the first</td><td>89.5%</td></tr><tr><td>yields</td><td>96.5%</td></tr><tr><td>cum. lift</td><td>1.1</td></tr><tr><td>local lift</td><td>0.4</td></tr></table>\", \"<table><th colspan='2'>knn</th><tr><td>the first</td><td>94.7%</td></tr><tr><td>yields</td><td>98.0%</td></tr><tr><td>cum. lift</td><td>1.0</td></tr><tr><td>local lift</td><td>0.3</td></tr></table>\", \"<table><th colspan='2'>knn</th><tr><td>the first</td><td>100.0%</td></tr><tr><td>yields</td><td>100.0%</td></tr><tr><td>cum. lift</td><td>1.0</td></tr><tr><td>local lift</td><td>0.4</td></tr></table>\"], \"type\": \"htmltooltip\", \"id\": \"el12344827896400pts\", \"hoffset\": 0}, {\"voffset\": 10, \"labels\": [\"<table><th colspan='2'>gaussianNB</th><tr><td>the first</td><td>0.0%</td></tr><tr><td>yields</td><td>0.0%</td></tr><tr><td>cum. lift</td><td>0.0</td></tr><tr><td>local lift</td><td>0.0</td></tr></table>\", \"<table><th colspan='2'>gaussianNB</th><tr><td>the first</td><td>5.3%</td></tr><tr><td>yields</td><td>24.4%</td></tr><tr><td>cum. lift</td><td>4.6</td></tr><tr><td>local lift</td><td>4.6</td></tr></table>\", \"<table><th colspan='2'>gaussianNB</th><tr><td>the first</td><td>10.5%</td></tr><tr><td>yields</td><td>43.4%</td></tr><tr><td>cum. lift</td><td>4.1</td></tr><tr><td>local lift</td><td>3.6</td></tr></table>\", \"<table><th colspan='2'>gaussianNB</th><tr><td>the first</td><td>15.8%</td></tr><tr><td>yields</td><td>52.4%</td></tr><tr><td>cum. lift</td><td>3.3</td></tr><tr><td>local lift</td><td>1.7</td></tr></table>\", \"<table><th colspan='2'>gaussianNB</th><tr><td>the first</td><td>21.1%</td></tr><tr><td>yields</td><td>59.0%</td></tr><tr><td>cum. lift</td><td>2.8</td></tr><tr><td>local lift</td><td>1.3</td></tr></table>\", \"<table><th colspan='2'>gaussianNB</th><tr><td>the first</td><td>26.3%</td></tr><tr><td>yields</td><td>64.1%</td></tr><tr><td>cum. lift</td><td>2.4</td></tr><tr><td>local lift</td><td>1.0</td></tr></table>\", \"<table><th colspan='2'>gaussianNB</th><tr><td>the first</td><td>31.6%</td></tr><tr><td>yields</td><td>69.2%</td></tr><tr><td>cum. lift</td><td>2.2</td></tr><tr><td>local lift</td><td>1.0</td></tr></table>\", \"<table><th colspan='2'>gaussianNB</th><tr><td>the first</td><td>36.8%</td></tr><tr><td>yields</td><td>72.2%</td></tr><tr><td>cum. lift</td><td>2.0</td></tr><tr><td>local lift</td><td>0.6</td></tr></table>\", \"<table><th colspan='2'>gaussianNB</th><tr><td>the first</td><td>42.1%</td></tr><tr><td>yields</td><td>74.7%</td></tr><tr><td>cum. lift</td><td>1.8</td></tr><tr><td>local lift</td><td>0.5</td></tr></table>\", \"<table><th colspan='2'>gaussianNB</th><tr><td>the first</td><td>47.4%</td></tr><tr><td>yields</td><td>79.1%</td></tr><tr><td>cum. lift</td><td>1.7</td></tr><tr><td>local lift</td><td>0.8</td></tr></table>\", \"<table><th colspan='2'>gaussianNB</th><tr><td>the first</td><td>52.6%</td></tr><tr><td>yields</td><td>81.9%</td></tr><tr><td>cum. lift</td><td>1.6</td></tr><tr><td>local lift</td><td>0.5</td></tr></table>\", \"<table><th colspan='2'>gaussianNB</th><tr><td>the first</td><td>57.9%</td></tr><tr><td>yields</td><td>83.7%</td></tr><tr><td>cum. lift</td><td>1.4</td></tr><tr><td>local lift</td><td>0.3</td></tr></table>\", \"<table><th colspan='2'>gaussianNB</th><tr><td>the first</td><td>63.2%</td></tr><tr><td>yields</td><td>85.5%</td></tr><tr><td>cum. lift</td><td>1.4</td></tr><tr><td>local lift</td><td>0.3</td></tr></table>\", \"<table><th colspan='2'>gaussianNB</th><tr><td>the first</td><td>68.4%</td></tr><tr><td>yields</td><td>88.3%</td></tr><tr><td>cum. lift</td><td>1.3</td></tr><tr><td>local lift</td><td>0.5</td></tr></table>\", \"<table><th colspan='2'>gaussianNB</th><tr><td>the first</td><td>73.7%</td></tr><tr><td>yields</td><td>90.3%</td></tr><tr><td>cum. lift</td><td>1.2</td></tr><tr><td>local lift</td><td>0.4</td></tr></table>\", \"<table><th colspan='2'>gaussianNB</th><tr><td>the first</td><td>78.9%</td></tr><tr><td>yields</td><td>92.3%</td></tr><tr><td>cum. lift</td><td>1.2</td></tr><tr><td>local lift</td><td>0.4</td></tr></table>\", \"<table><th colspan='2'>gaussianNB</th><tr><td>the first</td><td>84.2%</td></tr><tr><td>yields</td><td>94.5%</td></tr><tr><td>cum. lift</td><td>1.1</td></tr><tr><td>local lift</td><td>0.4</td></tr></table>\", \"<table><th colspan='2'>gaussianNB</th><tr><td>the first</td><td>89.5%</td></tr><tr><td>yields</td><td>96.7%</td></tr><tr><td>cum. lift</td><td>1.1</td></tr><tr><td>local lift</td><td>0.4</td></tr></table>\", \"<table><th colspan='2'>gaussianNB</th><tr><td>the first</td><td>94.7%</td></tr><tr><td>yields</td><td>98.5%</td></tr><tr><td>cum. lift</td><td>1.0</td></tr><tr><td>local lift</td><td>0.3</td></tr></table>\", \"<table><th colspan='2'>gaussianNB</th><tr><td>the first</td><td>100.0%</td></tr><tr><td>yields</td><td>100.0%</td></tr><tr><td>cum. lift</td><td>1.0</td></tr><tr><td>local lift</td><td>0.3</td></tr></table>\"], \"type\": \"htmltooltip\", \"id\": \"el12344834850000pts\", \"hoffset\": 0}, {\"voffset\": 10, \"labels\": [\"<table><th colspan='2'>logres</th><tr><td>the first</td><td>0.0%</td></tr><tr><td>yields</td><td>0.0%</td></tr><tr><td>cum. lift</td><td>0.0</td></tr><tr><td>local lift</td><td>0.0</td></tr></table>\", \"<table><th colspan='2'>logres</th><tr><td>the first</td><td>5.3%</td></tr><tr><td>yields</td><td>28.4%</td></tr><tr><td>cum. lift</td><td>5.4</td></tr><tr><td>local lift</td><td>5.4</td></tr></table>\", \"<table><th colspan='2'>logres</th><tr><td>the first</td><td>10.5%</td></tr><tr><td>yields</td><td>46.3%</td></tr><tr><td>cum. lift</td><td>4.4</td></tr><tr><td>local lift</td><td>3.4</td></tr></table>\", \"<table><th colspan='2'>logres</th><tr><td>the first</td><td>15.8%</td></tr><tr><td>yields</td><td>57.0%</td></tr><tr><td>cum. lift</td><td>3.6</td></tr><tr><td>local lift</td><td>2.1</td></tr></table>\", \"<table><th colspan='2'>logres</th><tr><td>the first</td><td>21.1%</td></tr><tr><td>yields</td><td>62.3%</td></tr><tr><td>cum. lift</td><td>3.0</td></tr><tr><td>local lift</td><td>1.0</td></tr></table>\", \"<table><th colspan='2'>logres</th><tr><td>the first</td><td>26.3%</td></tr><tr><td>yields</td><td>66.1%</td></tr><tr><td>cum. lift</td><td>2.5</td></tr><tr><td>local lift</td><td>0.7</td></tr></table>\", \"<table><th colspan='2'>logres</th><tr><td>the first</td><td>31.6%</td></tr><tr><td>yields</td><td>70.5%</td></tr><tr><td>cum. lift</td><td>2.2</td></tr><tr><td>local lift</td><td>0.8</td></tr></table>\", \"<table><th colspan='2'>logres</th><tr><td>the first</td><td>36.8%</td></tr><tr><td>yields</td><td>74.9%</td></tr><tr><td>cum. lift</td><td>2.0</td></tr><tr><td>local lift</td><td>0.8</td></tr></table>\", \"<table><th colspan='2'>logres</th><tr><td>the first</td><td>42.1%</td></tr><tr><td>yields</td><td>77.1%</td></tr><tr><td>cum. lift</td><td>1.8</td></tr><tr><td>local lift</td><td>0.4</td></tr></table>\", \"<table><th colspan='2'>logres</th><tr><td>the first</td><td>47.4%</td></tr><tr><td>yields</td><td>80.0%</td></tr><tr><td>cum. lift</td><td>1.7</td></tr><tr><td>local lift</td><td>0.5</td></tr></table>\", \"<table><th colspan='2'>logres</th><tr><td>the first</td><td>52.6%</td></tr><tr><td>yields</td><td>82.2%</td></tr><tr><td>cum. lift</td><td>1.6</td></tr><tr><td>local lift</td><td>0.4</td></tr></table>\", \"<table><th colspan='2'>logres</th><tr><td>the first</td><td>57.9%</td></tr><tr><td>yields</td><td>85.0%</td></tr><tr><td>cum. lift</td><td>1.5</td></tr><tr><td>local lift</td><td>0.5</td></tr></table>\", \"<table><th colspan='2'>logres</th><tr><td>the first</td><td>63.2%</td></tr><tr><td>yields</td><td>88.1%</td></tr><tr><td>cum. lift</td><td>1.4</td></tr><tr><td>local lift</td><td>0.6</td></tr></table>\", \"<table><th colspan='2'>logres</th><tr><td>the first</td><td>68.4%</td></tr><tr><td>yields</td><td>90.5%</td></tr><tr><td>cum. lift</td><td>1.3</td></tr><tr><td>local lift</td><td>0.5</td></tr></table>\", \"<table><th colspan='2'>logres</th><tr><td>the first</td><td>73.7%</td></tr><tr><td>yields</td><td>92.3%</td></tr><tr><td>cum. lift</td><td>1.3</td></tr><tr><td>local lift</td><td>0.3</td></tr></table>\", \"<table><th colspan='2'>logres</th><tr><td>the first</td><td>78.9%</td></tr><tr><td>yields</td><td>94.7%</td></tr><tr><td>cum. lift</td><td>1.2</td></tr><tr><td>local lift</td><td>0.5</td></tr></table>\", \"<table><th colspan='2'>logres</th><tr><td>the first</td><td>84.2%</td></tr><tr><td>yields</td><td>96.5%</td></tr><tr><td>cum. lift</td><td>1.1</td></tr><tr><td>local lift</td><td>0.3</td></tr></table>\", \"<table><th colspan='2'>logres</th><tr><td>the first</td><td>89.5%</td></tr><tr><td>yields</td><td>97.4%</td></tr><tr><td>cum. lift</td><td>1.1</td></tr><tr><td>local lift</td><td>0.2</td></tr></table>\", \"<table><th colspan='2'>logres</th><tr><td>the first</td><td>94.7%</td></tr><tr><td>yields</td><td>98.7%</td></tr><tr><td>cum. lift</td><td>1.0</td></tr><tr><td>local lift</td><td>0.3</td></tr></table>\", \"<table><th colspan='2'>logres</th><tr><td>the first</td><td>100.0%</td></tr><tr><td>yields</td><td>100.0%</td></tr><tr><td>cum. lift</td><td>1.0</td></tr><tr><td>local lift</td><td>0.3</td></tr></table>\"], \"type\": \"htmltooltip\", \"id\": \"el12344834816144pts\", \"hoffset\": 0}, {\"voffset\": 10, \"labels\": [\"<table><th colspan='2'>baseline</th><tr><td>the first</td><td>0.0%</td></tr><tr><td>yields</td><td>0.0%</td></tr><tr><td>cum. lift</td><td>1.0</td></td></tr><tr><td>local lift</td><td>1.0</td></tr></table>\", \"<table><th colspan='2'>baseline</th><tr><td>the first</td><td>5.0%</td></tr><tr><td>yields</td><td>5.0%</td></tr><tr><td>cum. lift</td><td>1.0</td></td></tr><tr><td>local lift</td><td>1.0</td></tr></table>\", \"<table><th colspan='2'>baseline</th><tr><td>the first</td><td>10.0%</td></tr><tr><td>yields</td><td>10.0%</td></tr><tr><td>cum. lift</td><td>1.0</td></td></tr><tr><td>local lift</td><td>1.0</td></tr></table>\", \"<table><th colspan='2'>baseline</th><tr><td>the first</td><td>15.0%</td></tr><tr><td>yields</td><td>15.0%</td></tr><tr><td>cum. lift</td><td>1.0</td></td></tr><tr><td>local lift</td><td>1.0</td></tr></table>\", \"<table><th colspan='2'>baseline</th><tr><td>the first</td><td>21.0%</td></tr><tr><td>yields</td><td>21.0%</td></tr><tr><td>cum. lift</td><td>1.0</td></td></tr><tr><td>local lift</td><td>1.0</td></tr></table>\", \"<table><th colspan='2'>baseline</th><tr><td>the first</td><td>26.0%</td></tr><tr><td>yields</td><td>26.0%</td></tr><tr><td>cum. lift</td><td>1.0</td></td></tr><tr><td>local lift</td><td>1.0</td></tr></table>\", \"<table><th colspan='2'>baseline</th><tr><td>the first</td><td>31.0%</td></tr><tr><td>yields</td><td>31.0%</td></tr><tr><td>cum. lift</td><td>1.0</td></td></tr><tr><td>local lift</td><td>1.0</td></tr></table>\", \"<table><th colspan='2'>baseline</th><tr><td>the first</td><td>36.0%</td></tr><tr><td>yields</td><td>36.0%</td></tr><tr><td>cum. lift</td><td>1.0</td></td></tr><tr><td>local lift</td><td>1.0</td></tr></table>\", \"<table><th colspan='2'>baseline</th><tr><td>the first</td><td>42.0%</td></tr><tr><td>yields</td><td>42.0%</td></tr><tr><td>cum. lift</td><td>1.0</td></td></tr><tr><td>local lift</td><td>1.0</td></tr></table>\", \"<table><th colspan='2'>baseline</th><tr><td>the first</td><td>47.0%</td></tr><tr><td>yields</td><td>47.0%</td></tr><tr><td>cum. lift</td><td>1.0</td></td></tr><tr><td>local lift</td><td>1.0</td></tr></table>\", \"<table><th colspan='2'>baseline</th><tr><td>the first</td><td>52.0%</td></tr><tr><td>yields</td><td>52.0%</td></tr><tr><td>cum. lift</td><td>1.0</td></td></tr><tr><td>local lift</td><td>1.0</td></tr></table>\", \"<table><th colspan='2'>baseline</th><tr><td>the first</td><td>57.0%</td></tr><tr><td>yields</td><td>57.0%</td></tr><tr><td>cum. lift</td><td>1.0</td></td></tr><tr><td>local lift</td><td>1.0</td></tr></table>\", \"<table><th colspan='2'>baseline</th><tr><td>the first</td><td>63.0%</td></tr><tr><td>yields</td><td>63.0%</td></tr><tr><td>cum. lift</td><td>1.0</td></td></tr><tr><td>local lift</td><td>1.0</td></tr></table>\", \"<table><th colspan='2'>baseline</th><tr><td>the first</td><td>68.0%</td></tr><tr><td>yields</td><td>68.0%</td></tr><tr><td>cum. lift</td><td>1.0</td></td></tr><tr><td>local lift</td><td>1.0</td></tr></table>\", \"<table><th colspan='2'>baseline</th><tr><td>the first</td><td>73.0%</td></tr><tr><td>yields</td><td>73.0%</td></tr><tr><td>cum. lift</td><td>1.0</td></td></tr><tr><td>local lift</td><td>1.0</td></tr></table>\", \"<table><th colspan='2'>baseline</th><tr><td>the first</td><td>78.0%</td></tr><tr><td>yields</td><td>78.0%</td></tr><tr><td>cum. lift</td><td>1.0</td></td></tr><tr><td>local lift</td><td>1.0</td></tr></table>\", \"<table><th colspan='2'>baseline</th><tr><td>the first</td><td>84.0%</td></tr><tr><td>yields</td><td>84.0%</td></tr><tr><td>cum. lift</td><td>1.0</td></td></tr><tr><td>local lift</td><td>1.0</td></tr></table>\", \"<table><th colspan='2'>baseline</th><tr><td>the first</td><td>89.0%</td></tr><tr><td>yields</td><td>89.0%</td></tr><tr><td>cum. lift</td><td>1.0</td></td></tr><tr><td>local lift</td><td>1.0</td></tr></table>\", \"<table><th colspan='2'>baseline</th><tr><td>the first</td><td>94.0%</td></tr><tr><td>yields</td><td>94.0%</td></tr><tr><td>cum. lift</td><td>1.0</td></td></tr><tr><td>local lift</td><td>1.0</td></tr></table>\", \"<table><th colspan='2'>baseline</th><tr><td>the first</td><td>100.0%</td></tr><tr><td>yields</td><td>100.0%</td></tr><tr><td>cum. lift</td><td>1.0</td></td></tr><tr><td>local lift</td><td>1.0</td></tr></table>\"], \"type\": \"htmltooltip\", \"id\": \"el12344855314960pts\", \"hoffset\": 0}], \"data\": {\"data04\": [[0.6969086021505376, 0.015360983102918613], [0.9846390168970814, 0.015360983102918613], [0.9846390168970814, 0.2058371735791091], [0.6969086021505376, 0.2058371735791091]], \"data02\": [[0.0, 0.0], [5.0, 5.0], [10.0, 10.0], [15.0, 15.0], [21.0, 21.0], [26.0, 26.0], [31.0, 31.0], [36.0, 36.0], [42.0, 42.0], [47.0, 47.0], [52.0, 52.0], [57.0, 57.0], [63.0, 63.0], [68.0, 68.0], [73.0, 73.0], [78.0, 78.0], [84.0, 84.0], [89.0, 89.0], [94.0, 94.0], [100.0, 100.0]], \"data03\": [[0.7184139784946235, 0.18125960061443933, 0.1359447004608295, 0.09062980030721962, 0.045314900153609845], [0.7614247311827956, 0.18125960061443933, 0.1359447004608295, 0.09062980030721962, 0.045314900153609845]], \"data01\": [[0.0, 0.0, 0.0, 0.0], [5.263157894736842, 26.87224669603524, 24.44933920704846, 28.41409691629956], [10.526315789473683, 44.713656387665196, 43.3920704845815, 46.25550660792951], [15.789473684210526, 58.81057268722467, 52.422907488986795, 57.048458149779734], [21.052631578947366, 63.87665198237885, 59.03083700440529, 62.33480176211453], [26.31578947368421, 67.40088105726872, 64.09691629955947, 66.07929515418502], [31.57894736842105, 71.80616740088107, 69.16299559471365, 70.48458149779735], [36.84210526315789, 75.11013215859032, 72.24669603524228, 74.88986784140968], [42.10526315789473, 77.97356828193833, 74.66960352422906, 77.09251101321584], [47.368421052631575, 79.73568281938327, 79.0748898678414, 79.95594713656386], [52.63157894736842, 83.25991189427315, 81.93832599118942, 82.15859030837002], [57.89473684210527, 84.58149779735685, 83.70044052863436, 85.02202643171805], [63.1578947368421, 87.8854625550661, 85.46255506607929, 88.10572687224668], [68.42105263157895, 88.76651982378856, 88.32599118942731, 90.52863436123346], [73.68421052631578, 90.5286343612335, 90.30837004405286, 92.2907488986784], [78.94736842105263, 92.07048458149781, 92.29074889867842, 94.71365638766518], [84.21052631578947, 94.49339207048459, 94.49339207048459, 96.47577092511011], [89.47368421052632, 96.47577092511015, 96.69603524229075, 97.35682819383258], [94.73684210526315, 98.01762114537446, 98.45814977973568, 98.67841409691628], [100.0, 100.00000000000003, 100.0, 99.99999999999997]]}, \"id\": \"el12344827896464\"});\n",
        "      });\n",
        "    });\n",
        "}else{\n",
        "    // require.js not available: dynamically load d3 & mpld3\n",
        "    mpld3_load_lib(\"https://mpld3.github.io/js/d3.v3.min.js\", function(){\n",
        "         mpld3_load_lib(\"https://mpld3.github.io/js/mpld3.v0.2.js\", function(){\n",
        "                 \n",
        "    mpld3.register_plugin(\"htmltooltip\", HtmlTooltipPlugin);\n",
        "    HtmlTooltipPlugin.prototype = Object.create(mpld3.Plugin.prototype);\n",
        "    HtmlTooltipPlugin.prototype.constructor = HtmlTooltipPlugin;\n",
        "    HtmlTooltipPlugin.prototype.requiredProps = [\"id\"];\n",
        "    HtmlTooltipPlugin.prototype.defaultProps = {labels:null, hoffset:0, voffset:10};\n",
        "    function HtmlTooltipPlugin(fig, props){\n",
        "        mpld3.Plugin.call(this, fig, props);\n",
        "    };\n",
        "\n",
        "    HtmlTooltipPlugin.prototype.draw = function(){\n",
        "       var obj = mpld3.get_element(this.props.id);\n",
        "       var labels = this.props.labels;\n",
        "       var tooltip = d3.select(\"body\").append(\"div\")\n",
        "                    .attr(\"class\", \"mpld3-tooltip\")\n",
        "                    .style(\"position\", \"absolute\")\n",
        "                    .style(\"z-index\", \"10\")\n",
        "                    .style(\"visibility\", \"hidden\");\n",
        "\n",
        "       obj.elements()\n",
        "           .on(\"mouseover\", function(d, i){\n",
        "                              tooltip.html(labels[i])\n",
        "                                     .style(\"visibility\", \"visible\");})\n",
        "           .on(\"mousemove\", function(d, i){\n",
        "                    tooltip\n",
        "                      .style(\"top\", d3.event.pageY + this.props.voffset + \"px\")\n",
        "                      .style(\"left\",d3.event.pageX + this.props.hoffset + \"px\");\n",
        "                 }.bind(this))\n",
        "           .on(\"mouseout\",  function(d, i){\n",
        "                           tooltip.style(\"visibility\", \"hidden\");});\n",
        "    };\n",
        "    \n",
        "    mpld3.register_plugin(\"htmltooltip\", HtmlTooltipPlugin);\n",
        "    HtmlTooltipPlugin.prototype = Object.create(mpld3.Plugin.prototype);\n",
        "    HtmlTooltipPlugin.prototype.constructor = HtmlTooltipPlugin;\n",
        "    HtmlTooltipPlugin.prototype.requiredProps = [\"id\"];\n",
        "    HtmlTooltipPlugin.prototype.defaultProps = {labels:null, hoffset:0, voffset:10};\n",
        "    function HtmlTooltipPlugin(fig, props){\n",
        "        mpld3.Plugin.call(this, fig, props);\n",
        "    };\n",
        "\n",
        "    HtmlTooltipPlugin.prototype.draw = function(){\n",
        "       var obj = mpld3.get_element(this.props.id);\n",
        "       var labels = this.props.labels;\n",
        "       var tooltip = d3.select(\"body\").append(\"div\")\n",
        "                    .attr(\"class\", \"mpld3-tooltip\")\n",
        "                    .style(\"position\", \"absolute\")\n",
        "                    .style(\"z-index\", \"10\")\n",
        "                    .style(\"visibility\", \"hidden\");\n",
        "\n",
        "       obj.elements()\n",
        "           .on(\"mouseover\", function(d, i){\n",
        "                              tooltip.html(labels[i])\n",
        "                                     .style(\"visibility\", \"visible\");})\n",
        "           .on(\"mousemove\", function(d, i){\n",
        "                    tooltip\n",
        "                      .style(\"top\", d3.event.pageY + this.props.voffset + \"px\")\n",
        "                      .style(\"left\",d3.event.pageX + this.props.hoffset + \"px\");\n",
        "                 }.bind(this))\n",
        "           .on(\"mouseout\",  function(d, i){\n",
        "                           tooltip.style(\"visibility\", \"hidden\");});\n",
        "    };\n",
        "    \n",
        "    mpld3.register_plugin(\"htmltooltip\", HtmlTooltipPlugin);\n",
        "    HtmlTooltipPlugin.prototype = Object.create(mpld3.Plugin.prototype);\n",
        "    HtmlTooltipPlugin.prototype.constructor = HtmlTooltipPlugin;\n",
        "    HtmlTooltipPlugin.prototype.requiredProps = [\"id\"];\n",
        "    HtmlTooltipPlugin.prototype.defaultProps = {labels:null, hoffset:0, voffset:10};\n",
        "    function HtmlTooltipPlugin(fig, props){\n",
        "        mpld3.Plugin.call(this, fig, props);\n",
        "    };\n",
        "\n",
        "    HtmlTooltipPlugin.prototype.draw = function(){\n",
        "       var obj = mpld3.get_element(this.props.id);\n",
        "       var labels = this.props.labels;\n",
        "       var tooltip = d3.select(\"body\").append(\"div\")\n",
        "                    .attr(\"class\", \"mpld3-tooltip\")\n",
        "                    .style(\"position\", \"absolute\")\n",
        "                    .style(\"z-index\", \"10\")\n",
        "                    .style(\"visibility\", \"hidden\");\n",
        "\n",
        "       obj.elements()\n",
        "           .on(\"mouseover\", function(d, i){\n",
        "                              tooltip.html(labels[i])\n",
        "                                     .style(\"visibility\", \"visible\");})\n",
        "           .on(\"mousemove\", function(d, i){\n",
        "                    tooltip\n",
        "                      .style(\"top\", d3.event.pageY + this.props.voffset + \"px\")\n",
        "                      .style(\"left\",d3.event.pageX + this.props.hoffset + \"px\");\n",
        "                 }.bind(this))\n",
        "           .on(\"mouseout\",  function(d, i){\n",
        "                           tooltip.style(\"visibility\", \"hidden\");});\n",
        "    };\n",
        "    \n",
        "    mpld3.register_plugin(\"htmltooltip\", HtmlTooltipPlugin);\n",
        "    HtmlTooltipPlugin.prototype = Object.create(mpld3.Plugin.prototype);\n",
        "    HtmlTooltipPlugin.prototype.constructor = HtmlTooltipPlugin;\n",
        "    HtmlTooltipPlugin.prototype.requiredProps = [\"id\"];\n",
        "    HtmlTooltipPlugin.prototype.defaultProps = {labels:null, hoffset:0, voffset:10};\n",
        "    function HtmlTooltipPlugin(fig, props){\n",
        "        mpld3.Plugin.call(this, fig, props);\n",
        "    };\n",
        "\n",
        "    HtmlTooltipPlugin.prototype.draw = function(){\n",
        "       var obj = mpld3.get_element(this.props.id);\n",
        "       var labels = this.props.labels;\n",
        "       var tooltip = d3.select(\"body\").append(\"div\")\n",
        "                    .attr(\"class\", \"mpld3-tooltip\")\n",
        "                    .style(\"position\", \"absolute\")\n",
        "                    .style(\"z-index\", \"10\")\n",
        "                    .style(\"visibility\", \"hidden\");\n",
        "\n",
        "       obj.elements()\n",
        "           .on(\"mouseover\", function(d, i){\n",
        "                              tooltip.html(labels[i])\n",
        "                                     .style(\"visibility\", \"visible\");})\n",
        "           .on(\"mousemove\", function(d, i){\n",
        "                    tooltip\n",
        "                      .style(\"top\", d3.event.pageY + this.props.voffset + \"px\")\n",
        "                      .style(\"left\",d3.event.pageX + this.props.hoffset + \"px\");\n",
        "                 }.bind(this))\n",
        "           .on(\"mouseout\",  function(d, i){\n",
        "                           tooltip.style(\"visibility\", \"hidden\");});\n",
        "    };\n",
        "    \n",
        "                 mpld3.draw_figure(\"fig_el123448278964646722488463\", {\"axes\": [{\"xlim\": [0.0, 100.0], \"yscale\": \"linear\", \"axesbg\": \"#FFFFFF\", \"texts\": [{\"v_baseline\": \"hanging\", \"h_anchor\": \"middle\", \"color\": \"#000000\", \"text\": \"Percentage of test instances (decreasing by probability)\", \"coordinates\": \"axes\", \"zorder\": 3, \"alpha\": 1, \"fontsize\": 13.945910149055313, \"position\": [0.5, -0.076666436633526139], \"rotation\": -0.0, \"id\": \"el12344836523216\"}, {\"v_baseline\": \"auto\", \"h_anchor\": \"middle\", \"color\": \"#000000\", \"text\": \"Percentage of positive instances targeted\", \"coordinates\": \"axes\", \"zorder\": 3, \"alpha\": 1, \"fontsize\": 13.945910149055313, \"position\": [-0.098303821426152863, 0.5], \"rotation\": -90.0, \"id\": \"el12344855315984\"}, {\"v_baseline\": \"auto\", \"h_anchor\": \"middle\", \"color\": \"#000000\", \"text\": \"Lift curve for prediction of successful term deposit sale\", \"coordinates\": \"axes\", \"zorder\": 3, \"alpha\": 1, \"fontsize\": 15.945910149055313, \"position\": [0.5, 1.0728008192524323], \"rotation\": -0.0, \"id\": \"el12344855469904\"}, {\"v_baseline\": \"auto\", \"h_anchor\": \"start\", \"color\": \"#000000\", \"text\": \"None\", \"coordinates\": \"axes\", \"zorder\": 1000003.0, \"alpha\": 1, \"fontsize\": 10.0, \"position\": [-0.16129032258064516, -0.16129032258064516], \"rotation\": -0.0, \"id\": \"el12344836864592\"}, {\"v_baseline\": \"auto\", \"h_anchor\": \"start\", \"color\": \"#000000\", \"text\": \"knn\", \"coordinates\": \"axes\", \"zorder\": 1000003.0, \"alpha\": 1, \"fontsize\": 12.0, \"position\": [0.79521889400921653, 0.17050691244239632], \"rotation\": -0.0, \"id\": \"el12344836714704\"}, {\"v_baseline\": \"auto\", \"h_anchor\": \"start\", \"color\": \"#000000\", \"text\": \"gaussianNB\", \"coordinates\": \"axes\", \"zorder\": 1000003.0, \"alpha\": 1, \"fontsize\": 12.0, \"position\": [0.79521889400921653, 0.12519201228878649], \"rotation\": -0.0, \"id\": \"el12344836823632\"}, {\"v_baseline\": \"auto\", \"h_anchor\": \"start\", \"color\": \"#000000\", \"text\": \"logres\", \"coordinates\": \"axes\", \"zorder\": 1000003.0, \"alpha\": 1, \"fontsize\": 12.0, \"position\": [0.79521889400921653, 0.07987711213517662], \"rotation\": -0.0, \"id\": \"el12344836825936\"}, {\"v_baseline\": \"auto\", \"h_anchor\": \"start\", \"color\": \"#000000\", \"text\": \"baseline\", \"coordinates\": \"axes\", \"zorder\": 1000003.0, \"alpha\": 1, \"fontsize\": 12.0, \"position\": [0.79521889400921653, 0.034562211981566837], \"rotation\": -0.0, \"id\": \"el12344836865168\"}], \"zoomable\": true, \"images\": [], \"xdomain\": [0.0, 100.0], \"ylim\": [0.0, 100.0], \"paths\": [{\"edgecolor\": \"#000000\", \"facecolor\": \"#FFFFFF\", \"edgewidth\": 1.0, \"pathcodes\": [\"M\", \"L\", \"L\", \"L\", \"Z\"], \"yindex\": 1, \"coordinates\": \"axes\", \"dasharray\": \"10,0\", \"zorder\": 1000001.0, \"alpha\": 1.0, \"xindex\": 0, \"data\": \"data04\", \"id\": \"el12344836714256\"}], \"sharey\": [], \"sharex\": [], \"axesbgalpha\": null, \"axes\": [{\"scale\": \"linear\", \"tickformat\": null, \"grid\": {\"color\": \"#000000\", \"alpha\": 0.3, \"dasharray\": \"2,2\", \"gridOn\": true}, \"fontsize\": 10.0, \"position\": \"bottom\", \"nticks\": 6, \"tickvalues\": null}, {\"scale\": \"linear\", \"tickformat\": null, \"grid\": {\"color\": \"#000000\", \"alpha\": 0.3, \"dasharray\": \"2,2\", \"gridOn\": true}, \"fontsize\": 10.0, \"position\": \"left\", \"nticks\": 6, \"tickvalues\": null}], \"lines\": [{\"color\": \"#0000FF\", \"yindex\": 1, \"coordinates\": \"data\", \"dasharray\": \"10,0\", \"zorder\": 2, \"alpha\": 1, \"xindex\": 0, \"linewidth\": 1.0, \"data\": \"data01\", \"id\": \"el12344827896400\"}, {\"color\": \"#007F00\", \"yindex\": 2, \"coordinates\": \"data\", \"dasharray\": \"10,0\", \"zorder\": 2, \"alpha\": 1, \"xindex\": 0, \"linewidth\": 1.0, \"data\": \"data01\", \"id\": \"el12344834850000\"}, {\"color\": \"#FF0000\", \"yindex\": 3, \"coordinates\": \"data\", \"dasharray\": \"10,0\", \"zorder\": 2, \"alpha\": 1, \"xindex\": 0, \"linewidth\": 1.0, \"data\": \"data01\", \"id\": \"el12344834816144\"}, {\"color\": \"#00BFBF\", \"yindex\": 1, \"coordinates\": \"data\", \"dasharray\": \"10,0\", \"zorder\": 2, \"alpha\": 1, \"xindex\": 0, \"linewidth\": 1.0, \"data\": \"data02\", \"id\": \"el12344855314960\"}, {\"color\": \"#0000FF\", \"yindex\": 1, \"coordinates\": \"axes\", \"dasharray\": \"10,0\", \"zorder\": 1000002.0, \"alpha\": 1, \"xindex\": 0, \"linewidth\": 1.0, \"data\": \"data03\", \"id\": \"el12344836715600\"}, {\"color\": \"#007F00\", \"yindex\": 2, \"coordinates\": \"axes\", \"dasharray\": \"10,0\", \"zorder\": 1000002.0, \"alpha\": 1, \"xindex\": 0, \"linewidth\": 1.0, \"data\": \"data03\", \"id\": \"el12344836824464\"}, {\"color\": \"#FF0000\", \"yindex\": 3, \"coordinates\": \"axes\", \"dasharray\": \"10,0\", \"zorder\": 1000002.0, \"alpha\": 1, \"xindex\": 0, \"linewidth\": 1.0, \"data\": \"data03\", \"id\": \"el12344836826768\"}, {\"color\": \"#00BFBF\", \"yindex\": 4, \"coordinates\": \"axes\", \"dasharray\": \"10,0\", \"zorder\": 1000002.0, \"alpha\": 1, \"xindex\": 0, \"linewidth\": 1.0, \"data\": \"data03\", \"id\": \"el12344836866000\"}], \"markers\": [{\"edgecolor\": \"#000000\", \"facecolor\": \"#0000FF\", \"edgewidth\": 0.5, \"yindex\": 1, \"coordinates\": \"data\", \"zorder\": 2, \"markerpath\": [[[0.0, 3.0], [0.7956093000000001, 3.0], [1.5587396123545605, 2.683901074764725], [2.121320343559643, 2.121320343559643], [2.683901074764725, 1.5587396123545605], [3.0, 0.7956093000000001], [3.0, 0.0], [3.0, -0.7956093000000001], [2.683901074764725, -1.5587396123545605], [2.121320343559643, -2.121320343559643], [1.5587396123545605, -2.683901074764725], [0.7956093000000001, -3.0], [0.0, -3.0], [-0.7956093000000001, -3.0], [-1.5587396123545605, -2.683901074764725], [-2.121320343559643, -2.121320343559643], [-2.683901074764725, -1.5587396123545605], [-3.0, -0.7956093000000001], [-3.0, 0.0], [-3.0, 0.7956093000000001], [-2.683901074764725, 1.5587396123545605], [-2.121320343559643, 2.121320343559643], [-1.5587396123545605, 2.683901074764725], [-0.7956093000000001, 3.0], [0.0, 3.0]], [\"M\", \"C\", \"C\", \"C\", \"C\", \"C\", \"C\", \"C\", \"C\", \"Z\"]], \"alpha\": 1, \"xindex\": 0, \"data\": \"data01\", \"id\": \"el12344827896400pts\"}, {\"edgecolor\": \"#000000\", \"facecolor\": \"#007F00\", \"edgewidth\": 0.5, \"yindex\": 2, \"coordinates\": \"data\", \"zorder\": 2, \"markerpath\": [[[0.0, 3.0], [0.7956093000000001, 3.0], [1.5587396123545605, 2.683901074764725], [2.121320343559643, 2.121320343559643], [2.683901074764725, 1.5587396123545605], [3.0, 0.7956093000000001], [3.0, 0.0], [3.0, -0.7956093000000001], [2.683901074764725, -1.5587396123545605], [2.121320343559643, -2.121320343559643], [1.5587396123545605, -2.683901074764725], [0.7956093000000001, -3.0], [0.0, -3.0], [-0.7956093000000001, -3.0], [-1.5587396123545605, -2.683901074764725], [-2.121320343559643, -2.121320343559643], [-2.683901074764725, -1.5587396123545605], [-3.0, -0.7956093000000001], [-3.0, 0.0], [-3.0, 0.7956093000000001], [-2.683901074764725, 1.5587396123545605], [-2.121320343559643, 2.121320343559643], [-1.5587396123545605, 2.683901074764725], [-0.7956093000000001, 3.0], [0.0, 3.0]], [\"M\", \"C\", \"C\", \"C\", \"C\", \"C\", \"C\", \"C\", \"C\", \"Z\"]], \"alpha\": 1, \"xindex\": 0, \"data\": \"data01\", \"id\": \"el12344834850000pts\"}, {\"edgecolor\": \"#000000\", \"facecolor\": \"#FF0000\", \"edgewidth\": 0.5, \"yindex\": 3, \"coordinates\": \"data\", \"zorder\": 2, \"markerpath\": [[[0.0, 3.0], [0.7956093000000001, 3.0], [1.5587396123545605, 2.683901074764725], [2.121320343559643, 2.121320343559643], [2.683901074764725, 1.5587396123545605], [3.0, 0.7956093000000001], [3.0, 0.0], [3.0, -0.7956093000000001], [2.683901074764725, -1.5587396123545605], [2.121320343559643, -2.121320343559643], [1.5587396123545605, -2.683901074764725], [0.7956093000000001, -3.0], [0.0, -3.0], [-0.7956093000000001, -3.0], [-1.5587396123545605, -2.683901074764725], [-2.121320343559643, -2.121320343559643], [-2.683901074764725, -1.5587396123545605], [-3.0, -0.7956093000000001], [-3.0, 0.0], [-3.0, 0.7956093000000001], [-2.683901074764725, 1.5587396123545605], [-2.121320343559643, 2.121320343559643], [-1.5587396123545605, 2.683901074764725], [-0.7956093000000001, 3.0], [0.0, 3.0]], [\"M\", \"C\", \"C\", \"C\", \"C\", \"C\", \"C\", \"C\", \"C\", \"Z\"]], \"alpha\": 1, \"xindex\": 0, \"data\": \"data01\", \"id\": \"el12344834816144pts\"}, {\"edgecolor\": \"#000000\", \"facecolor\": \"#00BFBF\", \"edgewidth\": 0.5, \"yindex\": 0, \"coordinates\": \"data\", \"zorder\": 2, \"markerpath\": [[[0.0, 3.0], [0.7956093000000001, 3.0], [1.5587396123545605, 2.683901074764725], [2.121320343559643, 2.121320343559643], [2.683901074764725, 1.5587396123545605], [3.0, 0.7956093000000001], [3.0, 0.0], [3.0, -0.7956093000000001], [2.683901074764725, -1.5587396123545605], [2.121320343559643, -2.121320343559643], [1.5587396123545605, -2.683901074764725], [0.7956093000000001, -3.0], [0.0, -3.0], [-0.7956093000000001, -3.0], [-1.5587396123545605, -2.683901074764725], [-2.121320343559643, -2.121320343559643], [-2.683901074764725, -1.5587396123545605], [-3.0, -0.7956093000000001], [-3.0, 0.0], [-3.0, 0.7956093000000001], [-2.683901074764725, 1.5587396123545605], [-2.121320343559643, 2.121320343559643], [-1.5587396123545605, 2.683901074764725], [-0.7956093000000001, 3.0], [0.0, 3.0]], [\"M\", \"C\", \"C\", \"C\", \"C\", \"C\", \"C\", \"C\", \"C\", \"Z\"]], \"alpha\": 1, \"xindex\": 0, \"data\": \"data02\", \"id\": \"el12344855314960pts\"}, {\"edgecolor\": \"#000000\", \"facecolor\": \"#0000FF\", \"edgewidth\": 0.5, \"yindex\": 1, \"coordinates\": \"axes\", \"zorder\": 1000002.0, \"markerpath\": [[[0.0, 3.0], [0.7956093000000001, 3.0], [1.5587396123545605, 2.683901074764725], [2.121320343559643, 2.121320343559643], [2.683901074764725, 1.5587396123545605], [3.0, 0.7956093000000001], [3.0, 0.0], [3.0, -0.7956093000000001], [2.683901074764725, -1.5587396123545605], [2.121320343559643, -2.121320343559643], [1.5587396123545605, -2.683901074764725], [0.7956093000000001, -3.0], [0.0, -3.0], [-0.7956093000000001, -3.0], [-1.5587396123545605, -2.683901074764725], [-2.121320343559643, -2.121320343559643], [-2.683901074764725, -1.5587396123545605], [-3.0, -0.7956093000000001], [-3.0, 0.0], [-3.0, 0.7956093000000001], [-2.683901074764725, 1.5587396123545605], [-2.121320343559643, 2.121320343559643], [-1.5587396123545605, 2.683901074764725], [-0.7956093000000001, 3.0], [0.0, 3.0]], [\"M\", \"C\", \"C\", \"C\", \"C\", \"C\", \"C\", \"C\", \"C\", \"Z\"]], \"alpha\": 1, \"xindex\": 0, \"data\": \"data03\", \"id\": \"el12344836716176pts\"}, {\"edgecolor\": \"#000000\", \"facecolor\": \"#007F00\", \"edgewidth\": 0.5, \"yindex\": 2, \"coordinates\": \"axes\", \"zorder\": 1000002.0, \"markerpath\": [[[0.0, 3.0], [0.7956093000000001, 3.0], [1.5587396123545605, 2.683901074764725], [2.121320343559643, 2.121320343559643], [2.683901074764725, 1.5587396123545605], [3.0, 0.7956093000000001], [3.0, 0.0], [3.0, -0.7956093000000001], [2.683901074764725, -1.5587396123545605], [2.121320343559643, -2.121320343559643], [1.5587396123545605, -2.683901074764725], [0.7956093000000001, -3.0], [0.0, -3.0], [-0.7956093000000001, -3.0], [-1.5587396123545605, -2.683901074764725], [-2.121320343559643, -2.121320343559643], [-2.683901074764725, -1.5587396123545605], [-3.0, -0.7956093000000001], [-3.0, 0.0], [-3.0, 0.7956093000000001], [-2.683901074764725, 1.5587396123545605], [-2.121320343559643, 2.121320343559643], [-1.5587396123545605, 2.683901074764725], [-0.7956093000000001, 3.0], [0.0, 3.0]], [\"M\", \"C\", \"C\", \"C\", \"C\", \"C\", \"C\", \"C\", \"C\", \"Z\"]], \"alpha\": 1, \"xindex\": 0, \"data\": \"data03\", \"id\": \"el12344836825040pts\"}, {\"edgecolor\": \"#000000\", \"facecolor\": \"#FF0000\", \"edgewidth\": 0.5, \"yindex\": 3, \"coordinates\": \"axes\", \"zorder\": 1000002.0, \"markerpath\": [[[0.0, 3.0], [0.7956093000000001, 3.0], [1.5587396123545605, 2.683901074764725], [2.121320343559643, 2.121320343559643], [2.683901074764725, 1.5587396123545605], [3.0, 0.7956093000000001], [3.0, 0.0], [3.0, -0.7956093000000001], [2.683901074764725, -1.5587396123545605], [2.121320343559643, -2.121320343559643], [1.5587396123545605, -2.683901074764725], [0.7956093000000001, -3.0], [0.0, -3.0], [-0.7956093000000001, -3.0], [-1.5587396123545605, -2.683901074764725], [-2.121320343559643, -2.121320343559643], [-2.683901074764725, -1.5587396123545605], [-3.0, -0.7956093000000001], [-3.0, 0.0], [-3.0, 0.7956093000000001], [-2.683901074764725, 1.5587396123545605], [-2.121320343559643, 2.121320343559643], [-1.5587396123545605, 2.683901074764725], [-0.7956093000000001, 3.0], [0.0, 3.0]], [\"M\", \"C\", \"C\", \"C\", \"C\", \"C\", \"C\", \"C\", \"C\", \"Z\"]], \"alpha\": 1, \"xindex\": 0, \"data\": \"data03\", \"id\": \"el12344836864272pts\"}, {\"edgecolor\": \"#000000\", \"facecolor\": \"#00BFBF\", \"edgewidth\": 0.5, \"yindex\": 4, \"coordinates\": \"axes\", \"zorder\": 1000002.0, \"markerpath\": [[[0.0, 3.0], [0.7956093000000001, 3.0], [1.5587396123545605, 2.683901074764725], [2.121320343559643, 2.121320343559643], [2.683901074764725, 1.5587396123545605], [3.0, 0.7956093000000001], [3.0, 0.0], [3.0, -0.7956093000000001], [2.683901074764725, -1.5587396123545605], [2.121320343559643, -2.121320343559643], [1.5587396123545605, -2.683901074764725], [0.7956093000000001, -3.0], [0.0, -3.0], [-0.7956093000000001, -3.0], [-1.5587396123545605, -2.683901074764725], [-2.121320343559643, -2.121320343559643], [-2.683901074764725, -1.5587396123545605], [-3.0, -0.7956093000000001], [-3.0, 0.0], [-3.0, 0.7956093000000001], [-2.683901074764725, 1.5587396123545605], [-2.121320343559643, 2.121320343559643], [-1.5587396123545605, 2.683901074764725], [-0.7956093000000001, 3.0], [0.0, 3.0]], [\"M\", \"C\", \"C\", \"C\", \"C\", \"C\", \"C\", \"C\", \"C\", \"Z\"]], \"alpha\": 1, \"xindex\": 0, \"data\": \"data03\", \"id\": \"el12344836826832pts\"}], \"id\": \"el12344855171792\", \"ydomain\": [0.0, 100.0], \"collections\": [], \"xscale\": \"linear\", \"bbox\": [0.125, 0.125, 0.77500000000000002, 0.77500000000000002]}], \"height\": 560.0, \"width\": 560.0, \"plugins\": [{\"type\": \"reset\"}, {\"enabled\": false, \"button\": true, \"type\": \"zoom\"}, {\"enabled\": false, \"button\": true, \"type\": \"boxzoom\"}, {\"voffset\": 10, \"labels\": [\"<table><th colspan='2'>knn</th><tr><td>the first</td><td>0.0%</td></tr><tr><td>yields</td><td>0.0%</td></tr><tr><td>cum. lift</td><td>0.0</td></tr><tr><td>local lift</td><td>0.0</td></tr></table>\", \"<table><th colspan='2'>knn</th><tr><td>the first</td><td>5.3%</td></tr><tr><td>yields</td><td>26.9%</td></tr><tr><td>cum. lift</td><td>5.1</td></tr><tr><td>local lift</td><td>5.1</td></tr></table>\", \"<table><th colspan='2'>knn</th><tr><td>the first</td><td>10.5%</td></tr><tr><td>yields</td><td>44.7%</td></tr><tr><td>cum. lift</td><td>4.2</td></tr><tr><td>local lift</td><td>3.4</td></tr></table>\", \"<table><th colspan='2'>knn</th><tr><td>the first</td><td>15.8%</td></tr><tr><td>yields</td><td>58.8%</td></tr><tr><td>cum. lift</td><td>3.7</td></tr><tr><td>local lift</td><td>2.7</td></tr></table>\", \"<table><th colspan='2'>knn</th><tr><td>the first</td><td>21.1%</td></tr><tr><td>yields</td><td>63.9%</td></tr><tr><td>cum. lift</td><td>3.0</td></tr><tr><td>local lift</td><td>1.0</td></tr></table>\", \"<table><th colspan='2'>knn</th><tr><td>the first</td><td>26.3%</td></tr><tr><td>yields</td><td>67.4%</td></tr><tr><td>cum. lift</td><td>2.6</td></tr><tr><td>local lift</td><td>0.7</td></tr></table>\", \"<table><th colspan='2'>knn</th><tr><td>the first</td><td>31.6%</td></tr><tr><td>yields</td><td>71.8%</td></tr><tr><td>cum. lift</td><td>2.3</td></tr><tr><td>local lift</td><td>0.8</td></tr></table>\", \"<table><th colspan='2'>knn</th><tr><td>the first</td><td>36.8%</td></tr><tr><td>yields</td><td>75.1%</td></tr><tr><td>cum. lift</td><td>2.0</td></tr><tr><td>local lift</td><td>0.6</td></tr></table>\", \"<table><th colspan='2'>knn</th><tr><td>the first</td><td>42.1%</td></tr><tr><td>yields</td><td>78.0%</td></tr><tr><td>cum. lift</td><td>1.9</td></tr><tr><td>local lift</td><td>0.5</td></tr></table>\", \"<table><th colspan='2'>knn</th><tr><td>the first</td><td>47.4%</td></tr><tr><td>yields</td><td>79.7%</td></tr><tr><td>cum. lift</td><td>1.7</td></tr><tr><td>local lift</td><td>0.3</td></tr></table>\", \"<table><th colspan='2'>knn</th><tr><td>the first</td><td>52.6%</td></tr><tr><td>yields</td><td>83.3%</td></tr><tr><td>cum. lift</td><td>1.6</td></tr><tr><td>local lift</td><td>0.7</td></tr></table>\", \"<table><th colspan='2'>knn</th><tr><td>the first</td><td>57.9%</td></tr><tr><td>yields</td><td>84.6%</td></tr><tr><td>cum. lift</td><td>1.5</td></tr><tr><td>local lift</td><td>0.3</td></tr></table>\", \"<table><th colspan='2'>knn</th><tr><td>the first</td><td>63.2%</td></tr><tr><td>yields</td><td>87.9%</td></tr><tr><td>cum. lift</td><td>1.4</td></tr><tr><td>local lift</td><td>0.6</td></tr></table>\", \"<table><th colspan='2'>knn</th><tr><td>the first</td><td>68.4%</td></tr><tr><td>yields</td><td>88.8%</td></tr><tr><td>cum. lift</td><td>1.3</td></tr><tr><td>local lift</td><td>0.2</td></tr></table>\", \"<table><th colspan='2'>knn</th><tr><td>the first</td><td>73.7%</td></tr><tr><td>yields</td><td>90.5%</td></tr><tr><td>cum. lift</td><td>1.2</td></tr><tr><td>local lift</td><td>0.3</td></tr></table>\", \"<table><th colspan='2'>knn</th><tr><td>the first</td><td>78.9%</td></tr><tr><td>yields</td><td>92.1%</td></tr><tr><td>cum. lift</td><td>1.2</td></tr><tr><td>local lift</td><td>0.3</td></tr></table>\", \"<table><th colspan='2'>knn</th><tr><td>the first</td><td>84.2%</td></tr><tr><td>yields</td><td>94.5%</td></tr><tr><td>cum. lift</td><td>1.1</td></tr><tr><td>local lift</td><td>0.5</td></tr></table>\", \"<table><th colspan='2'>knn</th><tr><td>the first</td><td>89.5%</td></tr><tr><td>yields</td><td>96.5%</td></tr><tr><td>cum. lift</td><td>1.1</td></tr><tr><td>local lift</td><td>0.4</td></tr></table>\", \"<table><th colspan='2'>knn</th><tr><td>the first</td><td>94.7%</td></tr><tr><td>yields</td><td>98.0%</td></tr><tr><td>cum. lift</td><td>1.0</td></tr><tr><td>local lift</td><td>0.3</td></tr></table>\", \"<table><th colspan='2'>knn</th><tr><td>the first</td><td>100.0%</td></tr><tr><td>yields</td><td>100.0%</td></tr><tr><td>cum. lift</td><td>1.0</td></tr><tr><td>local lift</td><td>0.4</td></tr></table>\"], \"type\": \"htmltooltip\", \"id\": \"el12344827896400pts\", \"hoffset\": 0}, {\"voffset\": 10, \"labels\": [\"<table><th colspan='2'>gaussianNB</th><tr><td>the first</td><td>0.0%</td></tr><tr><td>yields</td><td>0.0%</td></tr><tr><td>cum. lift</td><td>0.0</td></tr><tr><td>local lift</td><td>0.0</td></tr></table>\", \"<table><th colspan='2'>gaussianNB</th><tr><td>the first</td><td>5.3%</td></tr><tr><td>yields</td><td>24.4%</td></tr><tr><td>cum. lift</td><td>4.6</td></tr><tr><td>local lift</td><td>4.6</td></tr></table>\", \"<table><th colspan='2'>gaussianNB</th><tr><td>the first</td><td>10.5%</td></tr><tr><td>yields</td><td>43.4%</td></tr><tr><td>cum. lift</td><td>4.1</td></tr><tr><td>local lift</td><td>3.6</td></tr></table>\", \"<table><th colspan='2'>gaussianNB</th><tr><td>the first</td><td>15.8%</td></tr><tr><td>yields</td><td>52.4%</td></tr><tr><td>cum. lift</td><td>3.3</td></tr><tr><td>local lift</td><td>1.7</td></tr></table>\", \"<table><th colspan='2'>gaussianNB</th><tr><td>the first</td><td>21.1%</td></tr><tr><td>yields</td><td>59.0%</td></tr><tr><td>cum. lift</td><td>2.8</td></tr><tr><td>local lift</td><td>1.3</td></tr></table>\", \"<table><th colspan='2'>gaussianNB</th><tr><td>the first</td><td>26.3%</td></tr><tr><td>yields</td><td>64.1%</td></tr><tr><td>cum. lift</td><td>2.4</td></tr><tr><td>local lift</td><td>1.0</td></tr></table>\", \"<table><th colspan='2'>gaussianNB</th><tr><td>the first</td><td>31.6%</td></tr><tr><td>yields</td><td>69.2%</td></tr><tr><td>cum. lift</td><td>2.2</td></tr><tr><td>local lift</td><td>1.0</td></tr></table>\", \"<table><th colspan='2'>gaussianNB</th><tr><td>the first</td><td>36.8%</td></tr><tr><td>yields</td><td>72.2%</td></tr><tr><td>cum. lift</td><td>2.0</td></tr><tr><td>local lift</td><td>0.6</td></tr></table>\", \"<table><th colspan='2'>gaussianNB</th><tr><td>the first</td><td>42.1%</td></tr><tr><td>yields</td><td>74.7%</td></tr><tr><td>cum. lift</td><td>1.8</td></tr><tr><td>local lift</td><td>0.5</td></tr></table>\", \"<table><th colspan='2'>gaussianNB</th><tr><td>the first</td><td>47.4%</td></tr><tr><td>yields</td><td>79.1%</td></tr><tr><td>cum. lift</td><td>1.7</td></tr><tr><td>local lift</td><td>0.8</td></tr></table>\", \"<table><th colspan='2'>gaussianNB</th><tr><td>the first</td><td>52.6%</td></tr><tr><td>yields</td><td>81.9%</td></tr><tr><td>cum. lift</td><td>1.6</td></tr><tr><td>local lift</td><td>0.5</td></tr></table>\", \"<table><th colspan='2'>gaussianNB</th><tr><td>the first</td><td>57.9%</td></tr><tr><td>yields</td><td>83.7%</td></tr><tr><td>cum. lift</td><td>1.4</td></tr><tr><td>local lift</td><td>0.3</td></tr></table>\", \"<table><th colspan='2'>gaussianNB</th><tr><td>the first</td><td>63.2%</td></tr><tr><td>yields</td><td>85.5%</td></tr><tr><td>cum. lift</td><td>1.4</td></tr><tr><td>local lift</td><td>0.3</td></tr></table>\", \"<table><th colspan='2'>gaussianNB</th><tr><td>the first</td><td>68.4%</td></tr><tr><td>yields</td><td>88.3%</td></tr><tr><td>cum. lift</td><td>1.3</td></tr><tr><td>local lift</td><td>0.5</td></tr></table>\", \"<table><th colspan='2'>gaussianNB</th><tr><td>the first</td><td>73.7%</td></tr><tr><td>yields</td><td>90.3%</td></tr><tr><td>cum. lift</td><td>1.2</td></tr><tr><td>local lift</td><td>0.4</td></tr></table>\", \"<table><th colspan='2'>gaussianNB</th><tr><td>the first</td><td>78.9%</td></tr><tr><td>yields</td><td>92.3%</td></tr><tr><td>cum. lift</td><td>1.2</td></tr><tr><td>local lift</td><td>0.4</td></tr></table>\", \"<table><th colspan='2'>gaussianNB</th><tr><td>the first</td><td>84.2%</td></tr><tr><td>yields</td><td>94.5%</td></tr><tr><td>cum. lift</td><td>1.1</td></tr><tr><td>local lift</td><td>0.4</td></tr></table>\", \"<table><th colspan='2'>gaussianNB</th><tr><td>the first</td><td>89.5%</td></tr><tr><td>yields</td><td>96.7%</td></tr><tr><td>cum. lift</td><td>1.1</td></tr><tr><td>local lift</td><td>0.4</td></tr></table>\", \"<table><th colspan='2'>gaussianNB</th><tr><td>the first</td><td>94.7%</td></tr><tr><td>yields</td><td>98.5%</td></tr><tr><td>cum. lift</td><td>1.0</td></tr><tr><td>local lift</td><td>0.3</td></tr></table>\", \"<table><th colspan='2'>gaussianNB</th><tr><td>the first</td><td>100.0%</td></tr><tr><td>yields</td><td>100.0%</td></tr><tr><td>cum. lift</td><td>1.0</td></tr><tr><td>local lift</td><td>0.3</td></tr></table>\"], \"type\": \"htmltooltip\", \"id\": \"el12344834850000pts\", \"hoffset\": 0}, {\"voffset\": 10, \"labels\": [\"<table><th colspan='2'>logres</th><tr><td>the first</td><td>0.0%</td></tr><tr><td>yields</td><td>0.0%</td></tr><tr><td>cum. lift</td><td>0.0</td></tr><tr><td>local lift</td><td>0.0</td></tr></table>\", \"<table><th colspan='2'>logres</th><tr><td>the first</td><td>5.3%</td></tr><tr><td>yields</td><td>28.4%</td></tr><tr><td>cum. lift</td><td>5.4</td></tr><tr><td>local lift</td><td>5.4</td></tr></table>\", \"<table><th colspan='2'>logres</th><tr><td>the first</td><td>10.5%</td></tr><tr><td>yields</td><td>46.3%</td></tr><tr><td>cum. lift</td><td>4.4</td></tr><tr><td>local lift</td><td>3.4</td></tr></table>\", \"<table><th colspan='2'>logres</th><tr><td>the first</td><td>15.8%</td></tr><tr><td>yields</td><td>57.0%</td></tr><tr><td>cum. lift</td><td>3.6</td></tr><tr><td>local lift</td><td>2.1</td></tr></table>\", \"<table><th colspan='2'>logres</th><tr><td>the first</td><td>21.1%</td></tr><tr><td>yields</td><td>62.3%</td></tr><tr><td>cum. lift</td><td>3.0</td></tr><tr><td>local lift</td><td>1.0</td></tr></table>\", \"<table><th colspan='2'>logres</th><tr><td>the first</td><td>26.3%</td></tr><tr><td>yields</td><td>66.1%</td></tr><tr><td>cum. lift</td><td>2.5</td></tr><tr><td>local lift</td><td>0.7</td></tr></table>\", \"<table><th colspan='2'>logres</th><tr><td>the first</td><td>31.6%</td></tr><tr><td>yields</td><td>70.5%</td></tr><tr><td>cum. lift</td><td>2.2</td></tr><tr><td>local lift</td><td>0.8</td></tr></table>\", \"<table><th colspan='2'>logres</th><tr><td>the first</td><td>36.8%</td></tr><tr><td>yields</td><td>74.9%</td></tr><tr><td>cum. lift</td><td>2.0</td></tr><tr><td>local lift</td><td>0.8</td></tr></table>\", \"<table><th colspan='2'>logres</th><tr><td>the first</td><td>42.1%</td></tr><tr><td>yields</td><td>77.1%</td></tr><tr><td>cum. lift</td><td>1.8</td></tr><tr><td>local lift</td><td>0.4</td></tr></table>\", \"<table><th colspan='2'>logres</th><tr><td>the first</td><td>47.4%</td></tr><tr><td>yields</td><td>80.0%</td></tr><tr><td>cum. lift</td><td>1.7</td></tr><tr><td>local lift</td><td>0.5</td></tr></table>\", \"<table><th colspan='2'>logres</th><tr><td>the first</td><td>52.6%</td></tr><tr><td>yields</td><td>82.2%</td></tr><tr><td>cum. lift</td><td>1.6</td></tr><tr><td>local lift</td><td>0.4</td></tr></table>\", \"<table><th colspan='2'>logres</th><tr><td>the first</td><td>57.9%</td></tr><tr><td>yields</td><td>85.0%</td></tr><tr><td>cum. lift</td><td>1.5</td></tr><tr><td>local lift</td><td>0.5</td></tr></table>\", \"<table><th colspan='2'>logres</th><tr><td>the first</td><td>63.2%</td></tr><tr><td>yields</td><td>88.1%</td></tr><tr><td>cum. lift</td><td>1.4</td></tr><tr><td>local lift</td><td>0.6</td></tr></table>\", \"<table><th colspan='2'>logres</th><tr><td>the first</td><td>68.4%</td></tr><tr><td>yields</td><td>90.5%</td></tr><tr><td>cum. lift</td><td>1.3</td></tr><tr><td>local lift</td><td>0.5</td></tr></table>\", \"<table><th colspan='2'>logres</th><tr><td>the first</td><td>73.7%</td></tr><tr><td>yields</td><td>92.3%</td></tr><tr><td>cum. lift</td><td>1.3</td></tr><tr><td>local lift</td><td>0.3</td></tr></table>\", \"<table><th colspan='2'>logres</th><tr><td>the first</td><td>78.9%</td></tr><tr><td>yields</td><td>94.7%</td></tr><tr><td>cum. lift</td><td>1.2</td></tr><tr><td>local lift</td><td>0.5</td></tr></table>\", \"<table><th colspan='2'>logres</th><tr><td>the first</td><td>84.2%</td></tr><tr><td>yields</td><td>96.5%</td></tr><tr><td>cum. lift</td><td>1.1</td></tr><tr><td>local lift</td><td>0.3</td></tr></table>\", \"<table><th colspan='2'>logres</th><tr><td>the first</td><td>89.5%</td></tr><tr><td>yields</td><td>97.4%</td></tr><tr><td>cum. lift</td><td>1.1</td></tr><tr><td>local lift</td><td>0.2</td></tr></table>\", \"<table><th colspan='2'>logres</th><tr><td>the first</td><td>94.7%</td></tr><tr><td>yields</td><td>98.7%</td></tr><tr><td>cum. lift</td><td>1.0</td></tr><tr><td>local lift</td><td>0.3</td></tr></table>\", \"<table><th colspan='2'>logres</th><tr><td>the first</td><td>100.0%</td></tr><tr><td>yields</td><td>100.0%</td></tr><tr><td>cum. lift</td><td>1.0</td></tr><tr><td>local lift</td><td>0.3</td></tr></table>\"], \"type\": \"htmltooltip\", \"id\": \"el12344834816144pts\", \"hoffset\": 0}, {\"voffset\": 10, \"labels\": [\"<table><th colspan='2'>baseline</th><tr><td>the first</td><td>0.0%</td></tr><tr><td>yields</td><td>0.0%</td></tr><tr><td>cum. lift</td><td>1.0</td></td></tr><tr><td>local lift</td><td>1.0</td></tr></table>\", \"<table><th colspan='2'>baseline</th><tr><td>the first</td><td>5.0%</td></tr><tr><td>yields</td><td>5.0%</td></tr><tr><td>cum. lift</td><td>1.0</td></td></tr><tr><td>local lift</td><td>1.0</td></tr></table>\", \"<table><th colspan='2'>baseline</th><tr><td>the first</td><td>10.0%</td></tr><tr><td>yields</td><td>10.0%</td></tr><tr><td>cum. lift</td><td>1.0</td></td></tr><tr><td>local lift</td><td>1.0</td></tr></table>\", \"<table><th colspan='2'>baseline</th><tr><td>the first</td><td>15.0%</td></tr><tr><td>yields</td><td>15.0%</td></tr><tr><td>cum. lift</td><td>1.0</td></td></tr><tr><td>local lift</td><td>1.0</td></tr></table>\", \"<table><th colspan='2'>baseline</th><tr><td>the first</td><td>21.0%</td></tr><tr><td>yields</td><td>21.0%</td></tr><tr><td>cum. lift</td><td>1.0</td></td></tr><tr><td>local lift</td><td>1.0</td></tr></table>\", \"<table><th colspan='2'>baseline</th><tr><td>the first</td><td>26.0%</td></tr><tr><td>yields</td><td>26.0%</td></tr><tr><td>cum. lift</td><td>1.0</td></td></tr><tr><td>local lift</td><td>1.0</td></tr></table>\", \"<table><th colspan='2'>baseline</th><tr><td>the first</td><td>31.0%</td></tr><tr><td>yields</td><td>31.0%</td></tr><tr><td>cum. lift</td><td>1.0</td></td></tr><tr><td>local lift</td><td>1.0</td></tr></table>\", \"<table><th colspan='2'>baseline</th><tr><td>the first</td><td>36.0%</td></tr><tr><td>yields</td><td>36.0%</td></tr><tr><td>cum. lift</td><td>1.0</td></td></tr><tr><td>local lift</td><td>1.0</td></tr></table>\", \"<table><th colspan='2'>baseline</th><tr><td>the first</td><td>42.0%</td></tr><tr><td>yields</td><td>42.0%</td></tr><tr><td>cum. lift</td><td>1.0</td></td></tr><tr><td>local lift</td><td>1.0</td></tr></table>\", \"<table><th colspan='2'>baseline</th><tr><td>the first</td><td>47.0%</td></tr><tr><td>yields</td><td>47.0%</td></tr><tr><td>cum. lift</td><td>1.0</td></td></tr><tr><td>local lift</td><td>1.0</td></tr></table>\", \"<table><th colspan='2'>baseline</th><tr><td>the first</td><td>52.0%</td></tr><tr><td>yields</td><td>52.0%</td></tr><tr><td>cum. lift</td><td>1.0</td></td></tr><tr><td>local lift</td><td>1.0</td></tr></table>\", \"<table><th colspan='2'>baseline</th><tr><td>the first</td><td>57.0%</td></tr><tr><td>yields</td><td>57.0%</td></tr><tr><td>cum. lift</td><td>1.0</td></td></tr><tr><td>local lift</td><td>1.0</td></tr></table>\", \"<table><th colspan='2'>baseline</th><tr><td>the first</td><td>63.0%</td></tr><tr><td>yields</td><td>63.0%</td></tr><tr><td>cum. lift</td><td>1.0</td></td></tr><tr><td>local lift</td><td>1.0</td></tr></table>\", \"<table><th colspan='2'>baseline</th><tr><td>the first</td><td>68.0%</td></tr><tr><td>yields</td><td>68.0%</td></tr><tr><td>cum. lift</td><td>1.0</td></td></tr><tr><td>local lift</td><td>1.0</td></tr></table>\", \"<table><th colspan='2'>baseline</th><tr><td>the first</td><td>73.0%</td></tr><tr><td>yields</td><td>73.0%</td></tr><tr><td>cum. lift</td><td>1.0</td></td></tr><tr><td>local lift</td><td>1.0</td></tr></table>\", \"<table><th colspan='2'>baseline</th><tr><td>the first</td><td>78.0%</td></tr><tr><td>yields</td><td>78.0%</td></tr><tr><td>cum. lift</td><td>1.0</td></td></tr><tr><td>local lift</td><td>1.0</td></tr></table>\", \"<table><th colspan='2'>baseline</th><tr><td>the first</td><td>84.0%</td></tr><tr><td>yields</td><td>84.0%</td></tr><tr><td>cum. lift</td><td>1.0</td></td></tr><tr><td>local lift</td><td>1.0</td></tr></table>\", \"<table><th colspan='2'>baseline</th><tr><td>the first</td><td>89.0%</td></tr><tr><td>yields</td><td>89.0%</td></tr><tr><td>cum. lift</td><td>1.0</td></td></tr><tr><td>local lift</td><td>1.0</td></tr></table>\", \"<table><th colspan='2'>baseline</th><tr><td>the first</td><td>94.0%</td></tr><tr><td>yields</td><td>94.0%</td></tr><tr><td>cum. lift</td><td>1.0</td></td></tr><tr><td>local lift</td><td>1.0</td></tr></table>\", \"<table><th colspan='2'>baseline</th><tr><td>the first</td><td>100.0%</td></tr><tr><td>yields</td><td>100.0%</td></tr><tr><td>cum. lift</td><td>1.0</td></td></tr><tr><td>local lift</td><td>1.0</td></tr></table>\"], \"type\": \"htmltooltip\", \"id\": \"el12344855314960pts\", \"hoffset\": 0}], \"data\": {\"data04\": [[0.6969086021505376, 0.015360983102918613], [0.9846390168970814, 0.015360983102918613], [0.9846390168970814, 0.2058371735791091], [0.6969086021505376, 0.2058371735791091]], \"data02\": [[0.0, 0.0], [5.0, 5.0], [10.0, 10.0], [15.0, 15.0], [21.0, 21.0], [26.0, 26.0], [31.0, 31.0], [36.0, 36.0], [42.0, 42.0], [47.0, 47.0], [52.0, 52.0], [57.0, 57.0], [63.0, 63.0], [68.0, 68.0], [73.0, 73.0], [78.0, 78.0], [84.0, 84.0], [89.0, 89.0], [94.0, 94.0], [100.0, 100.0]], \"data03\": [[0.7184139784946235, 0.18125960061443933, 0.1359447004608295, 0.09062980030721962, 0.045314900153609845], [0.7614247311827956, 0.18125960061443933, 0.1359447004608295, 0.09062980030721962, 0.045314900153609845]], \"data01\": [[0.0, 0.0, 0.0, 0.0], [5.263157894736842, 26.87224669603524, 24.44933920704846, 28.41409691629956], [10.526315789473683, 44.713656387665196, 43.3920704845815, 46.25550660792951], [15.789473684210526, 58.81057268722467, 52.422907488986795, 57.048458149779734], [21.052631578947366, 63.87665198237885, 59.03083700440529, 62.33480176211453], [26.31578947368421, 67.40088105726872, 64.09691629955947, 66.07929515418502], [31.57894736842105, 71.80616740088107, 69.16299559471365, 70.48458149779735], [36.84210526315789, 75.11013215859032, 72.24669603524228, 74.88986784140968], [42.10526315789473, 77.97356828193833, 74.66960352422906, 77.09251101321584], [47.368421052631575, 79.73568281938327, 79.0748898678414, 79.95594713656386], [52.63157894736842, 83.25991189427315, 81.93832599118942, 82.15859030837002], [57.89473684210527, 84.58149779735685, 83.70044052863436, 85.02202643171805], [63.1578947368421, 87.8854625550661, 85.46255506607929, 88.10572687224668], [68.42105263157895, 88.76651982378856, 88.32599118942731, 90.52863436123346], [73.68421052631578, 90.5286343612335, 90.30837004405286, 92.2907488986784], [78.94736842105263, 92.07048458149781, 92.29074889867842, 94.71365638766518], [84.21052631578947, 94.49339207048459, 94.49339207048459, 96.47577092511011], [89.47368421052632, 96.47577092511015, 96.69603524229075, 97.35682819383258], [94.73684210526315, 98.01762114537446, 98.45814977973568, 98.67841409691628], [100.0, 100.00000000000003, 100.0, 99.99999999999997]]}, \"id\": \"el12344827896464\"});\n",
        "            })\n",
        "         });\n",
        "}\n",
        "</script>"
       ],
       "metadata": {},
       "output_type": "display_data",
       "png": "[encoded data removed]",
       "text": [
        "<matplotlib.figure.Figure at 0x11fc3da90>"
       ]
      }
     ],
     "prompt_number": 34
    }
   ],
   "metadata": {}
  }
 ]
}